{
 "cells": [
  {
   "cell_type": "code",
   "execution_count": 20,
   "metadata": {},
   "outputs": [],
   "source": [
    "import numpy as np\n",
    "import pandas as pd\n",
    "import matplotlib.pyplot as plt\n",
    "import seaborn as sns\n",
    "import math"
   ]
  },
  {
   "cell_type": "code",
   "execution_count": 12,
   "metadata": {},
   "outputs": [
    {
     "data": {
      "text/html": [
       "<div>\n",
       "<style scoped>\n",
       "    .dataframe tbody tr th:only-of-type {\n",
       "        vertical-align: middle;\n",
       "    }\n",
       "\n",
       "    .dataframe tbody tr th {\n",
       "        vertical-align: top;\n",
       "    }\n",
       "\n",
       "    .dataframe thead th {\n",
       "        text-align: right;\n",
       "    }\n",
       "</style>\n",
       "<table border=\"1\" class=\"dataframe\">\n",
       "  <thead>\n",
       "    <tr style=\"text-align: right;\">\n",
       "      <th></th>\n",
       "      <th>x1</th>\n",
       "      <th>x2</th>\n",
       "      <th>class</th>\n",
       "    </tr>\n",
       "  </thead>\n",
       "  <tbody>\n",
       "    <tr>\n",
       "      <th>0</th>\n",
       "      <td>1.20</td>\n",
       "      <td>10.20</td>\n",
       "      <td>1</td>\n",
       "    </tr>\n",
       "    <tr>\n",
       "      <th>1</th>\n",
       "      <td>3.40</td>\n",
       "      <td>20.30</td>\n",
       "      <td>1</td>\n",
       "    </tr>\n",
       "    <tr>\n",
       "      <th>2</th>\n",
       "      <td>5.60</td>\n",
       "      <td>15.60</td>\n",
       "      <td>0</td>\n",
       "    </tr>\n",
       "    <tr>\n",
       "      <th>3</th>\n",
       "      <td>0.89</td>\n",
       "      <td>5.60</td>\n",
       "      <td>0</td>\n",
       "    </tr>\n",
       "    <tr>\n",
       "      <th>4</th>\n",
       "      <td>0.65</td>\n",
       "      <td>7.40</td>\n",
       "      <td>1</td>\n",
       "    </tr>\n",
       "    <tr>\n",
       "      <th>5</th>\n",
       "      <td>7.50</td>\n",
       "      <td>8.12</td>\n",
       "      <td>0</td>\n",
       "    </tr>\n",
       "    <tr>\n",
       "      <th>6</th>\n",
       "      <td>1.25</td>\n",
       "      <td>3.00</td>\n",
       "      <td>1</td>\n",
       "    </tr>\n",
       "    <tr>\n",
       "      <th>7</th>\n",
       "      <td>1.54</td>\n",
       "      <td>4.30</td>\n",
       "      <td>0</td>\n",
       "    </tr>\n",
       "    <tr>\n",
       "      <th>8</th>\n",
       "      <td>2.73</td>\n",
       "      <td>22.50</td>\n",
       "      <td>0</td>\n",
       "    </tr>\n",
       "    <tr>\n",
       "      <th>9</th>\n",
       "      <td>3.30</td>\n",
       "      <td>26.90</td>\n",
       "      <td>0</td>\n",
       "    </tr>\n",
       "  </tbody>\n",
       "</table>\n",
       "</div>"
      ],
      "text/plain": [
       "     x1     x2  class\n",
       "0  1.20  10.20      1\n",
       "1  3.40  20.30      1\n",
       "2  5.60  15.60      0\n",
       "3  0.89   5.60      0\n",
       "4  0.65   7.40      1\n",
       "5  7.50   8.12      0\n",
       "6  1.25   3.00      1\n",
       "7  1.54   4.30      0\n",
       "8  2.73  22.50      0\n",
       "9  3.30  26.90      0"
      ]
     },
     "execution_count": 12,
     "metadata": {},
     "output_type": "execute_result"
    }
   ],
   "source": [
    "df = pd.DataFrame({'x1': [1.2, 3.4, 5.6, 0.89, 0.65, 7.5, 1.25, 1.54, 2.73, 3.3],\n",
    "                   'x2': [10.2, 20.3, 15.6, 5.6, 7.4, 8.12, 3.0, 4.3, 22.5, 26.9],\n",
    "                   'class':[1,1,0,0,1,0,1,0,0,0]\n",
    "                  })\n",
    "df"
   ]
  },
  {
   "cell_type": "code",
   "execution_count": 3,
   "metadata": {},
   "outputs": [
    {
     "data": {
      "text/plain": [
       "x1       float64\n",
       "x2       float64\n",
       "class      int64\n",
       "dtype: object"
      ]
     },
     "execution_count": 3,
     "metadata": {},
     "output_type": "execute_result"
    }
   ],
   "source": [
    "df.dtypes"
   ]
  },
  {
   "cell_type": "code",
   "execution_count": 5,
   "metadata": {},
   "outputs": [
    {
     "data": {
      "text/plain": [
       "<seaborn.axisgrid.PairGrid at 0x1a27605750>"
      ]
     },
     "execution_count": 5,
     "metadata": {},
     "output_type": "execute_result"
    },
    {
     "data": {
      "image/png": "[encoded data removed]",
      "text/plain": [
       "<Figure size 540x540 with 12 Axes>"
      ]
     },
     "metadata": {
      "needs_background": "light"
     },
     "output_type": "display_data"
    }
   ],
   "source": [
    "sns.pairplot(df)"
   ]
  },
  {
   "cell_type": "code",
   "execution_count": 28,
   "metadata": {},
   "outputs": [
    {
     "name": "stdout",
     "output_type": "stream",
     "text": [
      "2.3\n",
      "4.5\n",
      "3.2449999999999997\n",
      "0.77\n",
      "4.075\n",
      "4.375\n",
      "1.395\n",
      "2.135\n",
      "3.0149999999999997\n",
      "3    0.77\n",
      "Name: average, dtype: float64\n",
      "15.25\n",
      "17.95\n",
      "10.6\n",
      "6.5\n",
      "7.76\n",
      "5.56\n",
      "3.65\n",
      "13.4\n",
      "24.7\n",
      "3    0.77\n",
      "Name: average, dtype: float64\n"
     ]
    }
   ],
   "source": [
    "def find_gini_impurity(root, left, right):\n",
    "    class_1 = len(root[root['class']==1])\n",
    "    class_0 = len(root[root['class']==0])\n",
    "    root_p1 = class_1/len(df)\n",
    "    root_p2 = class_0/len(df)\n",
    "    left_p1 = len(left[left['class']==1])/len(left)\n",
    "    right_p1 = len(right[right['class']==1])/len(right)\n",
    "    left_p2 = len(left[left['class']==0])/len(left)\n",
    "    right_p2 = len(right[right['class']==0])/len(right)\n",
    "    gi_left = 1- math.pow(left_p1, 2) - math.pow(left_p2,2)\n",
    "    gi_right = 1-math.pow(right_p1, 2) - math.pow(right_p2, 2)\n",
    "    total_gi = root_p2 * gi_left + root_p1 * gi_right\n",
    "    return total_gi\n",
    "def calculate_the_average_classification (df, feature):\n",
    "    f = df[feature]\n",
    "    gi_average = []\n",
    "    for i,val in enumerate(f):\n",
    "        if i!= len(f)-1:\n",
    "            average = (val+f[i+1])/2\n",
    "            print(average)\n",
    "            class_less_than_average = df[df[feature]<=average]\n",
    "            class_greater_than_average = df[df[feature]>average]\n",
    "            gi = find_gini_impurity(df,class_less_than_average, class_greater_than_average)\n",
    "            gi_average.append({'average': average, 'gi':gi})\n",
    "    return gi_average\n",
    "            \n",
    "        \n",
    "gi_average_x1 = pd.DataFrame(calculate_the_average_classification(df, feature='x1'))\n",
    "\n",
    "x1_best_split = gi_average[gi_average['gi'] == gi_average['gi'].min()]['average']\n",
    "print(x1_best_split)\n",
    "\n",
    "    \n",
    "gi_average_x2 = pd.DataFrame(calculate_the_average_classification(df, feature='x2'))\n",
    "\n",
    "x2_best_split = gi_average[gi_average['gi'] == gi_average['gi'].min()]['average']\n",
    "print(x2_best_split)"
   ]
  },
  {
   "cell_type": "code",
   "execution_count": null,
   "metadata": {},
   "outputs": [],
   "source": []
  }
 ],
 "metadata": {
  "kernelspec": {
   "display_name": "Python 3",
   "language": "python",
   "name": "python3"
  },
  "language_info": {
   "codemirror_mode": {
    "name": "ipython",
    "version": 3
   },
   "file_extension": ".py",
   "mimetype": "text/x-python",
   "name": "python",
   "nbconvert_exporter": "python",
   "pygments_lexer": "ipython3",
   "version": "3.7.9"
  }
 },
 "nbformat": 4,
 "nbformat_minor": 4
}
