{
 "cells": [
  {
   "cell_type": "code",
   "execution_count": 22,
   "metadata": {},
   "outputs": [],
   "source": [
    "import warnings\n",
    "warnings.filterwarnings('ignore')\n",
    "import pandas as pd\n",
    "import numpy as np\n",
    "import matplotlib.pyplot as plt\n",
    "import seaborn as sns\n",
    "from sklearn.preprocessing import StandardScaler\n",
    "from sklearn.cluster import KMeans\n",
    "from scipy.spatial.distance import cdist\n",
    "from sklearn.mixture import GaussianMixture"
   ]
  },
  {
   "cell_type": "code",
   "execution_count": 23,
   "metadata": {},
   "outputs": [
    {
     "data": {
      "text/html": [
       "<div>\n",
       "<style scoped>\n",
       "    .dataframe tbody tr th:only-of-type {\n",
       "        vertical-align: middle;\n",
       "    }\n",
       "\n",
       "    .dataframe tbody tr th {\n",
       "        vertical-align: top;\n",
       "    }\n",
       "\n",
       "    .dataframe thead th {\n",
       "        text-align: right;\n",
       "    }\n",
       "</style>\n",
       "<table border=\"1\" class=\"dataframe\">\n",
       "  <thead>\n",
       "    <tr style=\"text-align: right;\">\n",
       "      <th></th>\n",
       "      <th>id</th>\n",
       "      <th>simplicity</th>\n",
       "      <th>fatalism</th>\n",
       "      <th>depression</th>\n",
       "      <th>adjsimp</th>\n",
       "      <th>adjfatal</th>\n",
       "      <th>adjdep</th>\n",
       "    </tr>\n",
       "  </thead>\n",
       "  <tbody>\n",
       "    <tr>\n",
       "      <th>0</th>\n",
       "      <td>1</td>\n",
       "      <td>0.92983</td>\n",
       "      <td>0.35589</td>\n",
       "      <td>0.59870</td>\n",
       "      <td>0.75934</td>\n",
       "      <td>0.10673</td>\n",
       "      <td>0.41865</td>\n",
       "    </tr>\n",
       "    <tr>\n",
       "      <th>1</th>\n",
       "      <td>2</td>\n",
       "      <td>0.91097</td>\n",
       "      <td>1.18439</td>\n",
       "      <td>0.72787</td>\n",
       "      <td>0.72717</td>\n",
       "      <td>0.99915</td>\n",
       "      <td>0.51688</td>\n",
       "    </tr>\n",
       "    <tr>\n",
       "      <th>2</th>\n",
       "      <td>3</td>\n",
       "      <td>0.53366</td>\n",
       "      <td>-0.05837</td>\n",
       "      <td>0.53411</td>\n",
       "      <td>0.62176</td>\n",
       "      <td>0.03811</td>\n",
       "      <td>0.70699</td>\n",
       "    </tr>\n",
       "    <tr>\n",
       "      <th>3</th>\n",
       "      <td>4</td>\n",
       "      <td>0.74118</td>\n",
       "      <td>0.35589</td>\n",
       "      <td>0.56641</td>\n",
       "      <td>0.83522</td>\n",
       "      <td>0.42218</td>\n",
       "      <td>0.65639</td>\n",
       "    </tr>\n",
       "    <tr>\n",
       "      <th>4</th>\n",
       "      <td>5</td>\n",
       "      <td>0.53366</td>\n",
       "      <td>0.77014</td>\n",
       "      <td>0.50182</td>\n",
       "      <td>0.47697</td>\n",
       "      <td>0.81423</td>\n",
       "      <td>0.53518</td>\n",
       "    </tr>\n",
       "  </tbody>\n",
       "</table>\n",
       "</div>"
      ],
      "text/plain": [
       "   id  simplicity  fatalism  depression  adjsimp  adjfatal   adjdep\n",
       "0   1     0.92983   0.35589     0.59870  0.75934   0.10673  0.41865\n",
       "1   2     0.91097   1.18439     0.72787  0.72717   0.99915  0.51688\n",
       "2   3     0.53366  -0.05837     0.53411  0.62176   0.03811  0.70699\n",
       "3   4     0.74118   0.35589     0.56641  0.83522   0.42218  0.65639\n",
       "4   5     0.53366   0.77014     0.50182  0.47697   0.81423  0.53518"
      ]
     },
     "execution_count": 23,
     "metadata": {},
     "output_type": "execute_result"
    }
   ],
   "source": [
    "depression_data = pd.read_csv('Depression.csv')\n",
    "depression_data.head()"
   ]
  },
  {
   "cell_type": "code",
   "execution_count": 24,
   "metadata": {},
   "outputs": [
    {
     "data": {
      "text/plain": [
       "id              int64\n",
       "simplicity    float64\n",
       "fatalism      float64\n",
       "depression    float64\n",
       "adjsimp       float64\n",
       "adjfatal      float64\n",
       "adjdep        float64\n",
       "dtype: object"
      ]
     },
     "execution_count": 24,
     "metadata": {},
     "output_type": "execute_result"
    }
   ],
   "source": [
    "depression_data.dtypes"
   ]
  },
  {
   "cell_type": "code",
   "execution_count": 25,
   "metadata": {},
   "outputs": [
    {
     "data": {
      "text/plain": [
       "id            0\n",
       "simplicity    0\n",
       "fatalism      0\n",
       "depression    0\n",
       "adjsimp       0\n",
       "adjfatal      0\n",
       "adjdep        0\n",
       "dtype: int64"
      ]
     },
     "execution_count": 25,
     "metadata": {},
     "output_type": "execute_result"
    }
   ],
   "source": [
    "depression_data.isnull().sum()"
   ]
  },
  {
   "cell_type": "code",
   "execution_count": 26,
   "metadata": {},
   "outputs": [
    {
     "data": {
      "text/html": [
       "<div>\n",
       "<style scoped>\n",
       "    .dataframe tbody tr th:only-of-type {\n",
       "        vertical-align: middle;\n",
       "    }\n",
       "\n",
       "    .dataframe tbody tr th {\n",
       "        vertical-align: top;\n",
       "    }\n",
       "\n",
       "    .dataframe thead th {\n",
       "        text-align: right;\n",
       "    }\n",
       "</style>\n",
       "<table border=\"1\" class=\"dataframe\">\n",
       "  <thead>\n",
       "    <tr style=\"text-align: right;\">\n",
       "      <th></th>\n",
       "      <th>count</th>\n",
       "      <th>mean</th>\n",
       "      <th>std</th>\n",
       "      <th>min</th>\n",
       "      <th>25%</th>\n",
       "      <th>50%</th>\n",
       "      <th>75%</th>\n",
       "      <th>max</th>\n",
       "    </tr>\n",
       "  </thead>\n",
       "  <tbody>\n",
       "    <tr>\n",
       "      <th>id</th>\n",
       "      <td>82.0</td>\n",
       "      <td>41.500000</td>\n",
       "      <td>23.815261</td>\n",
       "      <td>1.00000</td>\n",
       "      <td>21.250000</td>\n",
       "      <td>41.500000</td>\n",
       "      <td>61.75000</td>\n",
       "      <td>82.00000</td>\n",
       "    </tr>\n",
       "    <tr>\n",
       "      <th>simplicity</th>\n",
       "      <td>82.0</td>\n",
       "      <td>1.000000</td>\n",
       "      <td>0.500000</td>\n",
       "      <td>0.25068</td>\n",
       "      <td>0.656282</td>\n",
       "      <td>0.882665</td>\n",
       "      <td>1.26940</td>\n",
       "      <td>2.85408</td>\n",
       "    </tr>\n",
       "    <tr>\n",
       "      <th>fatalism</th>\n",
       "      <td>82.0</td>\n",
       "      <td>1.000000</td>\n",
       "      <td>0.500001</td>\n",
       "      <td>-0.05837</td>\n",
       "      <td>0.563010</td>\n",
       "      <td>0.977270</td>\n",
       "      <td>1.39152</td>\n",
       "      <td>2.22003</td>\n",
       "    </tr>\n",
       "    <tr>\n",
       "      <th>depression</th>\n",
       "      <td>82.0</td>\n",
       "      <td>1.000001</td>\n",
       "      <td>0.500000</td>\n",
       "      <td>0.46953</td>\n",
       "      <td>0.566410</td>\n",
       "      <td>0.824750</td>\n",
       "      <td>1.37373</td>\n",
       "      <td>2.24565</td>\n",
       "    </tr>\n",
       "    <tr>\n",
       "      <th>adjsimp</th>\n",
       "      <td>82.0</td>\n",
       "      <td>1.000000</td>\n",
       "      <td>0.499999</td>\n",
       "      <td>0.23569</td>\n",
       "      <td>0.697958</td>\n",
       "      <td>0.968490</td>\n",
       "      <td>1.20179</td>\n",
       "      <td>2.94977</td>\n",
       "    </tr>\n",
       "    <tr>\n",
       "      <th>adjfatal</th>\n",
       "      <td>82.0</td>\n",
       "      <td>1.000000</td>\n",
       "      <td>0.500000</td>\n",
       "      <td>0.03012</td>\n",
       "      <td>0.731598</td>\n",
       "      <td>0.924290</td>\n",
       "      <td>1.29912</td>\n",
       "      <td>2.24931</td>\n",
       "    </tr>\n",
       "    <tr>\n",
       "      <th>adjdep</th>\n",
       "      <td>82.0</td>\n",
       "      <td>1.000000</td>\n",
       "      <td>0.500000</td>\n",
       "      <td>0.23454</td>\n",
       "      <td>0.596565</td>\n",
       "      <td>0.967845</td>\n",
       "      <td>1.26175</td>\n",
       "      <td>2.78763</td>\n",
       "    </tr>\n",
       "  </tbody>\n",
       "</table>\n",
       "</div>"
      ],
      "text/plain": [
       "            count       mean        std      min        25%        50%  \\\n",
       "id           82.0  41.500000  23.815261  1.00000  21.250000  41.500000   \n",
       "simplicity   82.0   1.000000   0.500000  0.25068   0.656282   0.882665   \n",
       "fatalism     82.0   1.000000   0.500001 -0.05837   0.563010   0.977270   \n",
       "depression   82.0   1.000001   0.500000  0.46953   0.566410   0.824750   \n",
       "adjsimp      82.0   1.000000   0.499999  0.23569   0.697958   0.968490   \n",
       "adjfatal     82.0   1.000000   0.500000  0.03012   0.731598   0.924290   \n",
       "adjdep       82.0   1.000000   0.500000  0.23454   0.596565   0.967845   \n",
       "\n",
       "                 75%       max  \n",
       "id          61.75000  82.00000  \n",
       "simplicity   1.26940   2.85408  \n",
       "fatalism     1.39152   2.22003  \n",
       "depression   1.37373   2.24565  \n",
       "adjsimp      1.20179   2.94977  \n",
       "adjfatal     1.29912   2.24931  \n",
       "adjdep       1.26175   2.78763  "
      ]
     },
     "execution_count": 26,
     "metadata": {},
     "output_type": "execute_result"
    }
   ],
   "source": [
    "depression_data.describe().transpose()"
   ]
  },
  {
   "cell_type": "code",
   "execution_count": 27,
   "metadata": {},
   "outputs": [],
   "source": [
    "depression_data.drop('id', axis=1, inplace=True)"
   ]
  },
  {
   "cell_type": "code",
   "execution_count": 28,
   "metadata": {},
   "outputs": [],
   "source": [
    "depression_data.drop(['simplicity', 'fatalism', 'depression'], axis=1, inplace=True)"
   ]
  },
  {
   "cell_type": "code",
   "execution_count": 29,
   "metadata": {},
   "outputs": [
    {
     "data": {
      "text/plain": [
       "<seaborn.axisgrid.PairGrid at 0x1a244e40d0>"
      ]
     },
     "execution_count": 29,
     "metadata": {},
     "output_type": "execute_result"
    },
    {
     "data": {
      "image/png": "[encoded data removed]",
      "text/plain": [
       "<Figure size 540x540 with 12 Axes>"
      ]
     },
     "metadata": {
      "needs_background": "light"
     },
     "output_type": "display_data"
    }
   ],
   "source": [
    "sns.pairplot(depression_data, diag_kind='kde')"
   ]
  },
  {
   "cell_type": "markdown",
   "metadata": {},
   "source": [
    "#### depression has 2 gaussians, we need atleast 2 clusters"
   ]
  },
  {
   "cell_type": "code",
   "execution_count": 30,
   "metadata": {},
   "outputs": [
    {
     "data": {
      "image/png": "[encoded data removed]",
      "text/plain": [
       "<Figure size 720x504 with 2 Axes>"
      ]
     },
     "metadata": {
      "needs_background": "light"
     },
     "output_type": "display_data"
    }
   ],
   "source": [
    "plt.figure(figsize=(10,7))\n",
    "sns.heatmap(depression_data.corr(), annot=True)\n",
    "plt.show()"
   ]
  },
  {
   "cell_type": "code",
   "execution_count": 35,
   "metadata": {},
   "outputs": [
    {
     "data": {
      "text/html": [
       "<div>\n",
       "<style scoped>\n",
       "    .dataframe tbody tr th:only-of-type {\n",
       "        vertical-align: middle;\n",
       "    }\n",
       "\n",
       "    .dataframe tbody tr th {\n",
       "        vertical-align: top;\n",
       "    }\n",
       "\n",
       "    .dataframe thead th {\n",
       "        text-align: right;\n",
       "    }\n",
       "</style>\n",
       "<table border=\"1\" class=\"dataframe\">\n",
       "  <thead>\n",
       "    <tr style=\"text-align: right;\">\n",
       "      <th></th>\n",
       "      <th>adjsimp</th>\n",
       "      <th>adjfatal</th>\n",
       "      <th>adjdep</th>\n",
       "      <th>label</th>\n",
       "    </tr>\n",
       "  </thead>\n",
       "  <tbody>\n",
       "    <tr>\n",
       "      <th>0</th>\n",
       "      <td>-0.484282</td>\n",
       "      <td>-1.797534</td>\n",
       "      <td>-1.169856</td>\n",
       "      <td>1.130388</td>\n",
       "    </tr>\n",
       "    <tr>\n",
       "      <th>1</th>\n",
       "      <td>-0.549018</td>\n",
       "      <td>-0.001710</td>\n",
       "      <td>-0.972187</td>\n",
       "      <td>-0.884652</td>\n",
       "    </tr>\n",
       "    <tr>\n",
       "      <th>2</th>\n",
       "      <td>-0.761136</td>\n",
       "      <td>-1.935619</td>\n",
       "      <td>-0.589627</td>\n",
       "      <td>1.130388</td>\n",
       "    </tr>\n",
       "    <tr>\n",
       "      <th>3</th>\n",
       "      <td>-0.331588</td>\n",
       "      <td>-1.162751</td>\n",
       "      <td>-0.691450</td>\n",
       "      <td>1.130388</td>\n",
       "    </tr>\n",
       "    <tr>\n",
       "      <th>4</th>\n",
       "      <td>-1.052499</td>\n",
       "      <td>-0.373826</td>\n",
       "      <td>-0.935361</td>\n",
       "      <td>-0.884652</td>\n",
       "    </tr>\n",
       "    <tr>\n",
       "      <th>...</th>\n",
       "      <td>...</td>\n",
       "      <td>...</td>\n",
       "      <td>...</td>\n",
       "      <td>...</td>\n",
       "    </tr>\n",
       "    <tr>\n",
       "      <th>77</th>\n",
       "      <td>-0.561092</td>\n",
       "      <td>1.006939</td>\n",
       "      <td>0.300095</td>\n",
       "      <td>-0.212972</td>\n",
       "    </tr>\n",
       "    <tr>\n",
       "      <th>78</th>\n",
       "      <td>1.202396</td>\n",
       "      <td>2.113246</td>\n",
       "      <td>0.330884</td>\n",
       "      <td>-1.556332</td>\n",
       "    </tr>\n",
       "    <tr>\n",
       "      <th>79</th>\n",
       "      <td>2.807475</td>\n",
       "      <td>-0.223164</td>\n",
       "      <td>2.504358</td>\n",
       "      <td>1.802068</td>\n",
       "    </tr>\n",
       "    <tr>\n",
       "      <th>80</th>\n",
       "      <td>0.633737</td>\n",
       "      <td>0.081660</td>\n",
       "      <td>0.747633</td>\n",
       "      <td>-0.212972</td>\n",
       "    </tr>\n",
       "    <tr>\n",
       "      <th>81</th>\n",
       "      <td>-0.042198</td>\n",
       "      <td>0.482411</td>\n",
       "      <td>1.321825</td>\n",
       "      <td>-0.212972</td>\n",
       "    </tr>\n",
       "  </tbody>\n",
       "</table>\n",
       "<p>82 rows × 4 columns</p>\n",
       "</div>"
      ],
      "text/plain": [
       "     adjsimp  adjfatal    adjdep     label\n",
       "0  -0.484282 -1.797534 -1.169856  1.130388\n",
       "1  -0.549018 -0.001710 -0.972187 -0.884652\n",
       "2  -0.761136 -1.935619 -0.589627  1.130388\n",
       "3  -0.331588 -1.162751 -0.691450  1.130388\n",
       "4  -1.052499 -0.373826 -0.935361 -0.884652\n",
       "..       ...       ...       ...       ...\n",
       "77 -0.561092  1.006939  0.300095 -0.212972\n",
       "78  1.202396  2.113246  0.330884 -1.556332\n",
       "79  2.807475 -0.223164  2.504358  1.802068\n",
       "80  0.633737  0.081660  0.747633 -0.212972\n",
       "81 -0.042198  0.482411  1.321825 -0.212972\n",
       "\n",
       "[82 rows x 4 columns]"
      ]
     },
     "execution_count": 35,
     "metadata": {},
     "output_type": "execute_result"
    }
   ],
   "source": [
    "scaler = StandardScaler()\n",
    "scaled_df = pd.DataFrame(scaler.fit_transform(depression_data), columns=depression_data.columns)\n",
    "scaled_df"
   ]
  },
  {
   "cell_type": "code",
   "execution_count": 36,
   "metadata": {},
   "outputs": [
    {
     "data": {
      "text/plain": [
       "Text(0.5, 1.0, 'Selecting k with the Elbow Method')"
      ]
     },
     "execution_count": 36,
     "metadata": {},
     "output_type": "execute_result"
    },
    {
     "data": {
      "image/png": "[encoded data removed]",
      "text/plain": [
       "<Figure size 720x504 with 1 Axes>"
      ]
     },
     "metadata": {
      "needs_background": "light"
     },
     "output_type": "display_data"
    }
   ],
   "source": [
    "clusters=range(1,10)\n",
    "meanDistortions=[]\n",
    "\n",
    "for k in clusters:\n",
    "    model = KMeans(n_clusters=k, random_state=7)\n",
    "    model.fit(scaled_df)\n",
    "    prediction = model.predict(scaled_df)\n",
    "    meanDistortions.append(sum(np.min(cdist(scaled_df, model.cluster_centers_, 'euclidean'), axis=1))/ len(scaled_df))\n",
    "    \n",
    "    # cdist(support_df_scaled, model.cluster_centers_) - distance b/w each point and the model cluster centroid\n",
    "    # np.min(cdist(support_df_scaled, model.cluster_centers_) - take the minimum distance\n",
    "    # sum(np.min(cdist(support_df_scaled, model.cluster_centers_)))/ len(support_df_scaled) - calculate the mean\n",
    "plt.figure(figsize=(10,7))    \n",
    "plt.plot(clusters, meanDistortions, 'bx-')\n",
    "plt.xlabel('k')\n",
    "plt.ylabel('Average distortion')\n",
    "plt.title('Selecting k with the Elbow Method')"
   ]
  },
  {
   "cell_type": "code",
   "execution_count": 37,
   "metadata": {},
   "outputs": [
    {
     "data": {
      "text/plain": [
       "array([0, 2, 5, 4, 1, 3], dtype=int32)"
      ]
     },
     "execution_count": 37,
     "metadata": {},
     "output_type": "execute_result"
    }
   ],
   "source": [
    "kmm = KMeans(n_clusters=6, random_state=7)\n",
    "kmm.fit(scaled_df)\n",
    "prediction = kmm.predict(scaled_df)\n",
    "depression_data['label'] = prediction\n",
    "depression_data['label'].unique()"
   ]
  },
  {
   "cell_type": "code",
   "execution_count": 33,
   "metadata": {},
   "outputs": [
    {
     "data": {
      "text/html": [
       "<div>\n",
       "<style scoped>\n",
       "    .dataframe tbody tr th:only-of-type {\n",
       "        vertical-align: middle;\n",
       "    }\n",
       "\n",
       "    .dataframe tbody tr th {\n",
       "        vertical-align: top;\n",
       "    }\n",
       "\n",
       "    .dataframe thead th {\n",
       "        text-align: right;\n",
       "    }\n",
       "</style>\n",
       "<table border=\"1\" class=\"dataframe\">\n",
       "  <thead>\n",
       "    <tr style=\"text-align: right;\">\n",
       "      <th></th>\n",
       "      <th>adjsimp</th>\n",
       "      <th>adjfatal</th>\n",
       "      <th>adjdep</th>\n",
       "      <th>label</th>\n",
       "    </tr>\n",
       "  </thead>\n",
       "  <tbody>\n",
       "    <tr>\n",
       "      <th>0</th>\n",
       "      <td>0.75934</td>\n",
       "      <td>0.10673</td>\n",
       "      <td>0.41865</td>\n",
       "      <td>4</td>\n",
       "    </tr>\n",
       "    <tr>\n",
       "      <th>1</th>\n",
       "      <td>0.72717</td>\n",
       "      <td>0.99915</td>\n",
       "      <td>0.51688</td>\n",
       "      <td>1</td>\n",
       "    </tr>\n",
       "    <tr>\n",
       "      <th>2</th>\n",
       "      <td>0.62176</td>\n",
       "      <td>0.03811</td>\n",
       "      <td>0.70699</td>\n",
       "      <td>4</td>\n",
       "    </tr>\n",
       "    <tr>\n",
       "      <th>3</th>\n",
       "      <td>0.83522</td>\n",
       "      <td>0.42218</td>\n",
       "      <td>0.65639</td>\n",
       "      <td>4</td>\n",
       "    </tr>\n",
       "    <tr>\n",
       "      <th>4</th>\n",
       "      <td>0.47697</td>\n",
       "      <td>0.81423</td>\n",
       "      <td>0.53518</td>\n",
       "      <td>1</td>\n",
       "    </tr>\n",
       "    <tr>\n",
       "      <th>5</th>\n",
       "      <td>0.40664</td>\n",
       "      <td>1.23261</td>\n",
       "      <td>0.34042</td>\n",
       "      <td>1</td>\n",
       "    </tr>\n",
       "    <tr>\n",
       "      <th>6</th>\n",
       "      <td>0.84556</td>\n",
       "      <td>0.29789</td>\n",
       "      <td>0.42168</td>\n",
       "      <td>4</td>\n",
       "    </tr>\n",
       "    <tr>\n",
       "      <th>7</th>\n",
       "      <td>1.49961</td>\n",
       "      <td>1.20366</td>\n",
       "      <td>1.08127</td>\n",
       "      <td>0</td>\n",
       "    </tr>\n",
       "    <tr>\n",
       "      <th>8</th>\n",
       "      <td>0.31082</td>\n",
       "      <td>0.65651</td>\n",
       "      <td>0.36337</td>\n",
       "      <td>1</td>\n",
       "    </tr>\n",
       "    <tr>\n",
       "      <th>9</th>\n",
       "      <td>1.40836</td>\n",
       "      <td>0.85391</td>\n",
       "      <td>0.91711</td>\n",
       "      <td>3</td>\n",
       "    </tr>\n",
       "  </tbody>\n",
       "</table>\n",
       "</div>"
      ],
      "text/plain": [
       "   adjsimp  adjfatal   adjdep  label\n",
       "0  0.75934   0.10673  0.41865      4\n",
       "1  0.72717   0.99915  0.51688      1\n",
       "2  0.62176   0.03811  0.70699      4\n",
       "3  0.83522   0.42218  0.65639      4\n",
       "4  0.47697   0.81423  0.53518      1\n",
       "5  0.40664   1.23261  0.34042      1\n",
       "6  0.84556   0.29789  0.42168      4\n",
       "7  1.49961   1.20366  1.08127      0\n",
       "8  0.31082   0.65651  0.36337      1\n",
       "9  1.40836   0.85391  0.91711      3"
      ]
     },
     "execution_count": 33,
     "metadata": {},
     "output_type": "execute_result"
    }
   ],
   "source": [
    "depression_data.head(10)"
   ]
  },
  {
   "cell_type": "code",
   "execution_count": null,
   "metadata": {},
   "outputs": [],
   "source": []
  }
 ],
 "metadata": {
  "kernelspec": {
   "display_name": "Python 3",
   "language": "python",
   "name": "python3"
  },
  "language_info": {
   "codemirror_mode": {
    "name": "ipython",
    "version": 3
   },
   "file_extension": ".py",
   "mimetype": "text/x-python",
   "name": "python",
   "nbconvert_exporter": "python",
   "pygments_lexer": "ipython3",
   "version": "3.7.9"
  }
 },
 "nbformat": 4,
 "nbformat_minor": 4
}
