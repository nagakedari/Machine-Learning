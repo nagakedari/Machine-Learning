{
 "cells": [
  {
   "cell_type": "code",
   "execution_count": 1,
   "metadata": {},
   "outputs": [],
   "source": [
    "import numpy as np\n",
    "from sklearn.datasets import fetch_openml\n",
    "from sklearn.model_selection import train_test_split\n",
    "import random"
   ]
  },
  {
   "cell_type": "code",
   "execution_count": 2,
   "metadata": {},
   "outputs": [],
   "source": [
    "def sigmoid(z):\n",
    "    return 1.0/(1.0 + np.exp(-z))\n",
    "\n",
    "def sigmoid_prime(z):\n",
    "    return sigmoid(z)*(1-sigmoid(z))\n",
    "\n",
    "def vectorized_result(j):\n",
    "    e = np.zeros((10, 1))\n",
    "    e[j] = 1.0\n",
    "    return e\n",
    "\n",
    "class NeuralNetwork:\n",
    "    \n",
    "    def __init__(self, layers):\n",
    "        self.h_biases = np.random.randn(layers[1],1)\n",
    "        self.o_biases = np.random.randn(layers[2],1)\n",
    "        \n",
    "        self.h_weights = np.random.randn(layers[1],layers[0])\n",
    "        self.o_weights = np.random.randn(layers[2],layers[1])\n",
    "    \n",
    "    def forward_propagation(self, x):\n",
    "        a = sigmoid(np.dot(self.h_weights, x) + self.h_biases)\n",
    "        \n",
    "        output = sigmoid(np.dot(self.o_weights, a) + self.o_biases)\n",
    "        \n",
    "        return output\n",
    "    \n",
    "    def update_mini_batch(self, batch, l_rate):\n",
    "        o_b = np.zeros(self.o_biases.shape)\n",
    "        h_b = np.zeros(self.h_biases.shape)\n",
    "        \n",
    "        o_w = np.zeros(self.o_weights.shape)\n",
    "        h_w = np.zeros(self.h_weights.shape)\n",
    "        \n",
    "        for x, y in batch:\n",
    "            o_del_b, h_del_b, o_del_w, h_del_w = self.backprop(x,y)\n",
    "            \n",
    "            o_b = o_b + o_del_b\n",
    "            h_b = h_b + h_del_b\n",
    "            o_w = o_w + o_del_w\n",
    "            h_w = h_w + h_del_w\n",
    "            \n",
    "        self.o_weights = self.o_weights - (l_rate/len(batch))*o_w\n",
    "        self.h_weights = self.h_weights - (l_rate/len(batch))*h_w\n",
    "        self.o_biases = self.o_biases - (l_rate/len(batch))*o_b\n",
    "        self.h_biases = self.h_biases - (l_rate/len(batch))*h_b\n",
    "    \n",
    "    def backprop(self, x, y):\n",
    "        z_h = np.dot(self.h_weights, x) + self.h_biases\n",
    "        a_h = sigmoid(z_h)\n",
    "        \n",
    "        z_o = np.dot(self.o_weights, a_h) + self.o_biases\n",
    "        predicted = sigmoid(z_o)\n",
    "        \n",
    "        delta = (predicted - y) * sigmoid_prime(z_o)\n",
    "        \n",
    "        o_del_b = delta\n",
    "        o_del_w = np.dot(delta, a_h.transpose())\n",
    "        \n",
    "        delta = np.dot(self.o_weights.transpose(), delta) * sigmoid_prime(z_h)\n",
    "        \n",
    "        h_del_b = delta\n",
    "        h_del_w = np.dot(delta, x.transpose())\n",
    "        \n",
    "        return (o_del_b, h_del_b, o_del_w, h_del_w)\n",
    "        \n",
    "    def fit(self, train_data, epochs, mini_batch_size, learning_rate):\n",
    "        n = len(train_data)\n",
    "        for i in range(epochs):\n",
    "            random.shuffle(train_data)\n",
    "            batches = [train_data[j:j+mini_batch_size] for j in range(0,n, mini_batch_size)]\n",
    "            for batch in batches:\n",
    "                self.update_mini_batch(batch, learning_rate)\n",
    "            print(\"epoch {} completed\".format(i))\n",
    "    \n",
    "    def accuracy(self, test_data):\n",
    "        test_results = [(np.argmax(self.forward_propagation(x)), y)\n",
    "                        for (x, y) in test_data]\n",
    "        return sum(int(x == y) for (x, y) in test_results)\n",
    "            "
   ]
  },
  {
   "cell_type": "code",
   "execution_count": 3,
   "metadata": {},
   "outputs": [],
   "source": [
    "X, y = fetch_openml('mnist_784', return_X_y=True)\n",
    "y = y.astype(int)\n",
    "X = (X/255).astype('float32')\n",
    "X = [np.reshape(x, (784, 1)) for x in X]"
   ]
  },
  {
   "cell_type": "code",
   "execution_count": 4,
   "metadata": {},
   "outputs": [],
   "source": [
    "X_train, X_test, y_train, y_test = train_test_split(X,y, test_size=0.2, random_state=7)"
   ]
  },
  {
   "cell_type": "code",
   "execution_count": 5,
   "metadata": {},
   "outputs": [],
   "source": [
    "y_train = [vectorized_result(i) for i in y_train]"
   ]
  },
  {
   "cell_type": "code",
   "execution_count": 8,
   "metadata": {},
   "outputs": [
    {
     "name": "stdout",
     "output_type": "stream",
     "text": [
      "epoch 0 completed\n",
      "epoch 1 completed\n",
      "epoch 2 completed\n",
      "epoch 3 completed\n",
      "epoch 4 completed\n",
      "epoch 5 completed\n",
      "epoch 6 completed\n",
      "epoch 7 completed\n",
      "epoch 8 completed\n",
      "epoch 9 completed\n",
      "epoch 10 completed\n",
      "epoch 11 completed\n",
      "epoch 12 completed\n",
      "epoch 13 completed\n",
      "epoch 14 completed\n",
      "epoch 15 completed\n",
      "epoch 16 completed\n",
      "epoch 17 completed\n",
      "epoch 18 completed\n",
      "epoch 19 completed\n",
      "epoch 20 completed\n",
      "epoch 21 completed\n",
      "epoch 22 completed\n",
      "epoch 23 completed\n",
      "epoch 24 completed\n",
      "epoch 25 completed\n",
      "epoch 26 completed\n",
      "epoch 27 completed\n",
      "epoch 28 completed\n",
      "epoch 29 completed\n"
     ]
    }
   ],
   "source": [
    "network = NeuralNetwork([784, 100, 10])\n",
    "train_data = list(zip(X_train, y_train))\n",
    "network.fit(train_data, 30, 10, 3.0)"
   ]
  },
  {
   "cell_type": "code",
   "execution_count": 9,
   "metadata": {},
   "outputs": [
    {
     "name": "stdout",
     "output_type": "stream",
     "text": [
      "Accuracy: 96.59285714285714 %\n"
     ]
    }
   ],
   "source": [
    "test_data = list(zip(X_test, y_test))\n",
    "print('Accuracy: {} %'.format((network.accuracy(test_data)/len(test_data))*100))"
   ]
  },
  {
   "cell_type": "code",
   "execution_count": null,
   "metadata": {},
   "outputs": [],
   "source": []
  }
 ],
 "metadata": {
  "kernelspec": {
   "display_name": "Python 3",
   "language": "python",
   "name": "python3"
  },
  "language_info": {
   "codemirror_mode": {
    "name": "ipython",
    "version": 3
   },
   "file_extension": ".py",
   "mimetype": "text/x-python",
   "name": "python",
   "nbconvert_exporter": "python",
   "pygments_lexer": "ipython3",
   "version": "3.7.9"
  }
 },
 "nbformat": 4,
 "nbformat_minor": 4
}
