{
 "cells": [
  {
   "cell_type": "markdown",
   "metadata": {
    "colab_type": "text",
    "id": "-TicGJ6rGhVT"
   },
   "source": [
    "# Case Study: Decision Tree Regressor \n",
    "- To predict the Pay Rate of Employees."
   ]
  },
  {
   "cell_type": "markdown",
   "metadata": {
    "colab_type": "text",
    "id": "FSiQDyviGtE-"
   },
   "source": [
    "# 1. Import Libraries and load dataset"
   ]
  },
  {
   "cell_type": "code",
   "execution_count": 105,
   "metadata": {
    "colab": {},
    "colab_type": "code",
    "id": "5lkZxNXgGu3s"
   },
   "outputs": [],
   "source": [
    "import warnings\n",
    "warnings.filterwarnings('ignore')\n",
    "import numpy as np\n",
    "import pandas as pd\n",
    "import matplotlib.pyplot as plt\n",
    "import seaborn as sns\n",
    "from sklearn.model_selection import train_test_split\n",
    "from sklearn.metrics import mean_squared_error, r2_score\n",
    "from sklearn.tree import DecisionTreeRegressor\n",
    "from IPython.display import display, Image\n",
    "import graphviz as graph\n",
    "from sklearn.preprocessing import FunctionTransformer"
   ]
  },
  {
   "cell_type": "markdown",
   "metadata": {
    "colab_type": "text",
    "id": "Fnm_PvkbGzzF"
   },
   "source": [
    "# 2. Print 10 samples from the dataset"
   ]
  },
  {
   "cell_type": "code",
   "execution_count": 2,
   "metadata": {},
   "outputs": [
    {
     "name": "stdout",
     "output_type": "stream",
     "text": [
      "Collecting xlrd\n",
      "  Using cached xlrd-2.0.1-py2.py3-none-any.whl (96 kB)\n",
      "Installing collected packages: xlrd\n",
      "  Attempting uninstall: xlrd\n",
      "    Found existing installation: xlrd 2.0.1\n",
      "    Uninstalling xlrd-2.0.1:\n",
      "      Successfully uninstalled xlrd-2.0.1\n",
      "Successfully installed xlrd-2.0.1\n"
     ]
    }
   ],
   "source": [
    "import sys\n",
    "\n",
    "!{sys.executable} -m pip install --upgrade --force-reinstall xlrd"
   ]
  },
  {
   "cell_type": "code",
   "execution_count": 10,
   "metadata": {},
   "outputs": [
    {
     "name": "stdout",
     "output_type": "stream",
     "text": [
      "Collecting openpyxl\n",
      "  Downloading openpyxl-3.0.6-py2.py3-none-any.whl (242 kB)\n",
      "\u001b[K     |████████████████████████████████| 242 kB 3.7 MB/s eta 0:00:01\n",
      "\u001b[?25hCollecting et-xmlfile\n",
      "  Downloading et_xmlfile-1.0.1.tar.gz (8.4 kB)\n",
      "Collecting jdcal\n",
      "  Downloading jdcal-1.4.1-py2.py3-none-any.whl (9.5 kB)\n",
      "Building wheels for collected packages: et-xmlfile\n",
      "  Building wheel for et-xmlfile (setup.py) ... \u001b[?25ldone\n",
      "\u001b[?25h  Created wheel for et-xmlfile: filename=et_xmlfile-1.0.1-py3-none-any.whl size=8917 sha256=6f89dc8f55c699e4e08961617e4a6604fbd6c0d050ae45cc1d5f92faf955768c\n",
      "  Stored in directory: /Users/manjusri/Library/Caches/pip/wheels/e2/bd/55/048b4fd505716c4c298f42ee02dffd9496bb6d212b266c7f31\n",
      "Successfully built et-xmlfile\n",
      "Installing collected packages: et-xmlfile, jdcal, openpyxl\n",
      "Successfully installed et-xmlfile-1.0.1 jdcal-1.4.1 openpyxl-3.0.6\n"
     ]
    }
   ],
   "source": [
    "!{sys.executable} -m pip install openpyxl "
   ]
  },
  {
   "cell_type": "code",
   "execution_count": 71,
   "metadata": {
    "colab": {},
    "colab_type": "code",
    "id": "CM5_QuOaG3LT"
   },
   "outputs": [
    {
     "data": {
      "text/html": [
       "<div>\n",
       "<style scoped>\n",
       "    .dataframe tbody tr th:only-of-type {\n",
       "        vertical-align: middle;\n",
       "    }\n",
       "\n",
       "    .dataframe tbody tr th {\n",
       "        vertical-align: top;\n",
       "    }\n",
       "\n",
       "    .dataframe thead th {\n",
       "        text-align: right;\n",
       "    }\n",
       "</style>\n",
       "<table border=\"1\" class=\"dataframe\">\n",
       "  <thead>\n",
       "    <tr style=\"text-align: right;\">\n",
       "      <th></th>\n",
       "      <th>Employee_Name</th>\n",
       "      <th>EmpID</th>\n",
       "      <th>MarriedID</th>\n",
       "      <th>MaritalStatusID</th>\n",
       "      <th>GenderID</th>\n",
       "      <th>EmpStatusID</th>\n",
       "      <th>DeptID</th>\n",
       "      <th>PerfScoreID</th>\n",
       "      <th>FromDiversityJobFairID</th>\n",
       "      <th>PayRate</th>\n",
       "      <th>...</th>\n",
       "      <th>Department</th>\n",
       "      <th>ManagerName</th>\n",
       "      <th>ManagerID</th>\n",
       "      <th>RecruitmentSource</th>\n",
       "      <th>PerformanceScore</th>\n",
       "      <th>EngagementSurvey</th>\n",
       "      <th>EmpSatisfaction</th>\n",
       "      <th>SpecialProjectsCount</th>\n",
       "      <th>LastPerformanceReview_Date</th>\n",
       "      <th>DaysLateLast30</th>\n",
       "    </tr>\n",
       "  </thead>\n",
       "  <tbody>\n",
       "    <tr>\n",
       "      <th>0</th>\n",
       "      <td>Brown, Mia</td>\n",
       "      <td>1103024456</td>\n",
       "      <td>1</td>\n",
       "      <td>1</td>\n",
       "      <td>0</td>\n",
       "      <td>1</td>\n",
       "      <td>1</td>\n",
       "      <td>3</td>\n",
       "      <td>1</td>\n",
       "      <td>28.50</td>\n",
       "      <td>...</td>\n",
       "      <td>Admin Offices</td>\n",
       "      <td>Brandon R. LeBlanc</td>\n",
       "      <td>1</td>\n",
       "      <td>Diversity Job Fair</td>\n",
       "      <td>Fully Meets</td>\n",
       "      <td>2.04</td>\n",
       "      <td>2</td>\n",
       "      <td>6</td>\n",
       "      <td>2019-01-15</td>\n",
       "      <td>0.0</td>\n",
       "    </tr>\n",
       "    <tr>\n",
       "      <th>1</th>\n",
       "      <td>LaRotonda, William</td>\n",
       "      <td>1106026572</td>\n",
       "      <td>0</td>\n",
       "      <td>2</td>\n",
       "      <td>1</td>\n",
       "      <td>1</td>\n",
       "      <td>1</td>\n",
       "      <td>3</td>\n",
       "      <td>0</td>\n",
       "      <td>23.00</td>\n",
       "      <td>...</td>\n",
       "      <td>Admin Offices</td>\n",
       "      <td>Brandon R. LeBlanc</td>\n",
       "      <td>1</td>\n",
       "      <td>Website Banner Ads</td>\n",
       "      <td>Fully Meets</td>\n",
       "      <td>5.00</td>\n",
       "      <td>4</td>\n",
       "      <td>4</td>\n",
       "      <td>2019-01-17</td>\n",
       "      <td>0.0</td>\n",
       "    </tr>\n",
       "    <tr>\n",
       "      <th>2</th>\n",
       "      <td>Steans, Tyrone</td>\n",
       "      <td>1302053333</td>\n",
       "      <td>0</td>\n",
       "      <td>0</td>\n",
       "      <td>1</td>\n",
       "      <td>1</td>\n",
       "      <td>1</td>\n",
       "      <td>3</td>\n",
       "      <td>0</td>\n",
       "      <td>29.00</td>\n",
       "      <td>...</td>\n",
       "      <td>Admin Offices</td>\n",
       "      <td>Brandon R. LeBlanc</td>\n",
       "      <td>1</td>\n",
       "      <td>Internet Search</td>\n",
       "      <td>Fully Meets</td>\n",
       "      <td>3.90</td>\n",
       "      <td>5</td>\n",
       "      <td>5</td>\n",
       "      <td>2019-01-18</td>\n",
       "      <td>0.0</td>\n",
       "    </tr>\n",
       "    <tr>\n",
       "      <th>3</th>\n",
       "      <td>Howard, Estelle</td>\n",
       "      <td>1211050782</td>\n",
       "      <td>1</td>\n",
       "      <td>1</td>\n",
       "      <td>0</td>\n",
       "      <td>1</td>\n",
       "      <td>1</td>\n",
       "      <td>3</td>\n",
       "      <td>0</td>\n",
       "      <td>21.50</td>\n",
       "      <td>...</td>\n",
       "      <td>Admin Offices</td>\n",
       "      <td>Brandon R. LeBlanc</td>\n",
       "      <td>1</td>\n",
       "      <td>Pay Per Click - Google</td>\n",
       "      <td>Fully Meets</td>\n",
       "      <td>3.24</td>\n",
       "      <td>3</td>\n",
       "      <td>4</td>\n",
       "      <td>NaT</td>\n",
       "      <td>NaN</td>\n",
       "    </tr>\n",
       "    <tr>\n",
       "      <th>4</th>\n",
       "      <td>Singh, Nan</td>\n",
       "      <td>1307059817</td>\n",
       "      <td>0</td>\n",
       "      <td>0</td>\n",
       "      <td>0</td>\n",
       "      <td>1</td>\n",
       "      <td>1</td>\n",
       "      <td>3</td>\n",
       "      <td>0</td>\n",
       "      <td>16.56</td>\n",
       "      <td>...</td>\n",
       "      <td>Admin Offices</td>\n",
       "      <td>Brandon R. LeBlanc</td>\n",
       "      <td>1</td>\n",
       "      <td>Website Banner Ads</td>\n",
       "      <td>Fully Meets</td>\n",
       "      <td>5.00</td>\n",
       "      <td>3</td>\n",
       "      <td>5</td>\n",
       "      <td>2019-01-15</td>\n",
       "      <td>0.0</td>\n",
       "    </tr>\n",
       "  </tbody>\n",
       "</table>\n",
       "<p>5 rows × 35 columns</p>\n",
       "</div>"
      ],
      "text/plain": [
       "          Employee_Name       EmpID  MarriedID  MaritalStatusID  GenderID  \\\n",
       "0            Brown, Mia  1103024456          1                1         0   \n",
       "1  LaRotonda, William    1106026572          0                2         1   \n",
       "2      Steans, Tyrone    1302053333          0                0         1   \n",
       "3       Howard, Estelle  1211050782          1                1         0   \n",
       "4           Singh, Nan   1307059817          0                0         0   \n",
       "\n",
       "   EmpStatusID  DeptID  PerfScoreID  FromDiversityJobFairID  PayRate  ...  \\\n",
       "0            1       1            3                       1    28.50  ...   \n",
       "1            1       1            3                       0    23.00  ...   \n",
       "2            1       1            3                       0    29.00  ...   \n",
       "3            1       1            3                       0    21.50  ...   \n",
       "4            1       1            3                       0    16.56  ...   \n",
       "\n",
       "      Department         ManagerName ManagerID       RecruitmentSource  \\\n",
       "0  Admin Offices  Brandon R. LeBlanc         1      Diversity Job Fair   \n",
       "1  Admin Offices  Brandon R. LeBlanc         1      Website Banner Ads   \n",
       "2  Admin Offices  Brandon R. LeBlanc         1         Internet Search   \n",
       "3  Admin Offices  Brandon R. LeBlanc         1  Pay Per Click - Google   \n",
       "4  Admin Offices  Brandon R. LeBlanc         1      Website Banner Ads   \n",
       "\n",
       "   PerformanceScore EngagementSurvey EmpSatisfaction SpecialProjectsCount  \\\n",
       "0       Fully Meets             2.04               2                    6   \n",
       "1       Fully Meets             5.00               4                    4   \n",
       "2       Fully Meets             3.90               5                    5   \n",
       "3       Fully Meets             3.24               3                    4   \n",
       "4       Fully Meets             5.00               3                    5   \n",
       "\n",
       "  LastPerformanceReview_Date DaysLateLast30  \n",
       "0                 2019-01-15            0.0  \n",
       "1                 2019-01-17            0.0  \n",
       "2                 2019-01-18            0.0  \n",
       "3                        NaT            NaN  \n",
       "4                 2019-01-15            0.0  \n",
       "\n",
       "[5 rows x 35 columns]"
      ]
     },
     "execution_count": 71,
     "metadata": {},
     "output_type": "execute_result"
    }
   ],
   "source": [
    "emp_data = pd.read_excel('HRDataset_v13.xlsx', engine='openpyxl')\n",
    "emp_data.head()"
   ]
  },
  {
   "cell_type": "markdown",
   "metadata": {
    "colab_type": "text",
    "id": "e-7jNOxTGhVi"
   },
   "source": [
    "# 3. Data Description, Shape of data, name of columns, check for null values, check the number of values corresponding to genders."
   ]
  },
  {
   "cell_type": "code",
   "execution_count": 72,
   "metadata": {
    "colab": {},
    "colab_type": "code",
    "id": "_VrybXxMHJcL"
   },
   "outputs": [
    {
     "data": {
      "text/html": [
       "<div>\n",
       "<style scoped>\n",
       "    .dataframe tbody tr th:only-of-type {\n",
       "        vertical-align: middle;\n",
       "    }\n",
       "\n",
       "    .dataframe tbody tr th {\n",
       "        vertical-align: top;\n",
       "    }\n",
       "\n",
       "    .dataframe thead th {\n",
       "        text-align: right;\n",
       "    }\n",
       "</style>\n",
       "<table border=\"1\" class=\"dataframe\">\n",
       "  <thead>\n",
       "    <tr style=\"text-align: right;\">\n",
       "      <th></th>\n",
       "      <th>count</th>\n",
       "      <th>mean</th>\n",
       "      <th>std</th>\n",
       "      <th>min</th>\n",
       "      <th>25%</th>\n",
       "      <th>50%</th>\n",
       "      <th>75%</th>\n",
       "      <th>max</th>\n",
       "    </tr>\n",
       "  </thead>\n",
       "  <tbody>\n",
       "    <tr>\n",
       "      <th>EmpID</th>\n",
       "      <td>310.0</td>\n",
       "      <td>1.199745e+09</td>\n",
       "      <td>1.829600e+08</td>\n",
       "      <td>6.020003e+08</td>\n",
       "      <td>1.101024e+09</td>\n",
       "      <td>1.203032e+09</td>\n",
       "      <td>1.378814e+09</td>\n",
       "      <td>1.988300e+09</td>\n",
       "    </tr>\n",
       "    <tr>\n",
       "      <th>MarriedID</th>\n",
       "      <td>310.0</td>\n",
       "      <td>3.967742e-01</td>\n",
       "      <td>4.900194e-01</td>\n",
       "      <td>0.000000e+00</td>\n",
       "      <td>0.000000e+00</td>\n",
       "      <td>0.000000e+00</td>\n",
       "      <td>1.000000e+00</td>\n",
       "      <td>1.000000e+00</td>\n",
       "    </tr>\n",
       "    <tr>\n",
       "      <th>MaritalStatusID</th>\n",
       "      <td>310.0</td>\n",
       "      <td>8.096774e-01</td>\n",
       "      <td>9.447024e-01</td>\n",
       "      <td>0.000000e+00</td>\n",
       "      <td>0.000000e+00</td>\n",
       "      <td>1.000000e+00</td>\n",
       "      <td>1.000000e+00</td>\n",
       "      <td>4.000000e+00</td>\n",
       "    </tr>\n",
       "    <tr>\n",
       "      <th>GenderID</th>\n",
       "      <td>310.0</td>\n",
       "      <td>4.290323e-01</td>\n",
       "      <td>4.957382e-01</td>\n",
       "      <td>0.000000e+00</td>\n",
       "      <td>0.000000e+00</td>\n",
       "      <td>0.000000e+00</td>\n",
       "      <td>1.000000e+00</td>\n",
       "      <td>1.000000e+00</td>\n",
       "    </tr>\n",
       "    <tr>\n",
       "      <th>EmpStatusID</th>\n",
       "      <td>310.0</td>\n",
       "      <td>2.396774e+00</td>\n",
       "      <td>1.795533e+00</td>\n",
       "      <td>1.000000e+00</td>\n",
       "      <td>1.000000e+00</td>\n",
       "      <td>1.000000e+00</td>\n",
       "      <td>5.000000e+00</td>\n",
       "      <td>5.000000e+00</td>\n",
       "    </tr>\n",
       "    <tr>\n",
       "      <th>DeptID</th>\n",
       "      <td>310.0</td>\n",
       "      <td>4.606452e+00</td>\n",
       "      <td>1.082349e+00</td>\n",
       "      <td>1.000000e+00</td>\n",
       "      <td>5.000000e+00</td>\n",
       "      <td>5.000000e+00</td>\n",
       "      <td>5.000000e+00</td>\n",
       "      <td>6.000000e+00</td>\n",
       "    </tr>\n",
       "    <tr>\n",
       "      <th>PerfScoreID</th>\n",
       "      <td>310.0</td>\n",
       "      <td>2.983871e+00</td>\n",
       "      <td>5.771242e-01</td>\n",
       "      <td>1.000000e+00</td>\n",
       "      <td>3.000000e+00</td>\n",
       "      <td>3.000000e+00</td>\n",
       "      <td>3.000000e+00</td>\n",
       "      <td>4.000000e+00</td>\n",
       "    </tr>\n",
       "    <tr>\n",
       "      <th>FromDiversityJobFairID</th>\n",
       "      <td>310.0</td>\n",
       "      <td>9.354839e-02</td>\n",
       "      <td>2.916702e-01</td>\n",
       "      <td>0.000000e+00</td>\n",
       "      <td>0.000000e+00</td>\n",
       "      <td>0.000000e+00</td>\n",
       "      <td>0.000000e+00</td>\n",
       "      <td>1.000000e+00</td>\n",
       "    </tr>\n",
       "    <tr>\n",
       "      <th>PayRate</th>\n",
       "      <td>310.0</td>\n",
       "      <td>3.128481e+01</td>\n",
       "      <td>1.538362e+01</td>\n",
       "      <td>1.400000e+01</td>\n",
       "      <td>2.000000e+01</td>\n",
       "      <td>2.400000e+01</td>\n",
       "      <td>4.531500e+01</td>\n",
       "      <td>8.000000e+01</td>\n",
       "    </tr>\n",
       "    <tr>\n",
       "      <th>Termd</th>\n",
       "      <td>310.0</td>\n",
       "      <td>3.322581e-01</td>\n",
       "      <td>4.717845e-01</td>\n",
       "      <td>0.000000e+00</td>\n",
       "      <td>0.000000e+00</td>\n",
       "      <td>0.000000e+00</td>\n",
       "      <td>1.000000e+00</td>\n",
       "      <td>1.000000e+00</td>\n",
       "    </tr>\n",
       "    <tr>\n",
       "      <th>PositionID</th>\n",
       "      <td>310.0</td>\n",
       "      <td>1.683871e+01</td>\n",
       "      <td>6.232272e+00</td>\n",
       "      <td>1.000000e+00</td>\n",
       "      <td>1.800000e+01</td>\n",
       "      <td>1.900000e+01</td>\n",
       "      <td>2.000000e+01</td>\n",
       "      <td>3.000000e+01</td>\n",
       "    </tr>\n",
       "    <tr>\n",
       "      <th>Zip</th>\n",
       "      <td>310.0</td>\n",
       "      <td>6.569732e+03</td>\n",
       "      <td>1.693386e+04</td>\n",
       "      <td>1.013000e+03</td>\n",
       "      <td>1.901250e+03</td>\n",
       "      <td>2.132000e+03</td>\n",
       "      <td>2.357000e+03</td>\n",
       "      <td>9.805200e+04</td>\n",
       "    </tr>\n",
       "    <tr>\n",
       "      <th>ManagerID</th>\n",
       "      <td>310.0</td>\n",
       "      <td>1.520968e+01</td>\n",
       "      <td>8.876968e+00</td>\n",
       "      <td>1.000000e+00</td>\n",
       "      <td>1.000000e+01</td>\n",
       "      <td>1.600000e+01</td>\n",
       "      <td>1.975000e+01</td>\n",
       "      <td>3.900000e+01</td>\n",
       "    </tr>\n",
       "    <tr>\n",
       "      <th>EngagementSurvey</th>\n",
       "      <td>310.0</td>\n",
       "      <td>3.332097e+00</td>\n",
       "      <td>1.290590e+00</td>\n",
       "      <td>1.030000e+00</td>\n",
       "      <td>2.082500e+00</td>\n",
       "      <td>3.470000e+00</td>\n",
       "      <td>4.520000e+00</td>\n",
       "      <td>5.000000e+00</td>\n",
       "    </tr>\n",
       "    <tr>\n",
       "      <th>EmpSatisfaction</th>\n",
       "      <td>310.0</td>\n",
       "      <td>3.890323e+00</td>\n",
       "      <td>9.106898e-01</td>\n",
       "      <td>1.000000e+00</td>\n",
       "      <td>3.000000e+00</td>\n",
       "      <td>4.000000e+00</td>\n",
       "      <td>5.000000e+00</td>\n",
       "      <td>5.000000e+00</td>\n",
       "    </tr>\n",
       "    <tr>\n",
       "      <th>SpecialProjectsCount</th>\n",
       "      <td>310.0</td>\n",
       "      <td>1.209677e+00</td>\n",
       "      <td>2.352009e+00</td>\n",
       "      <td>0.000000e+00</td>\n",
       "      <td>0.000000e+00</td>\n",
       "      <td>0.000000e+00</td>\n",
       "      <td>0.000000e+00</td>\n",
       "      <td>8.000000e+00</td>\n",
       "    </tr>\n",
       "    <tr>\n",
       "      <th>DaysLateLast30</th>\n",
       "      <td>207.0</td>\n",
       "      <td>0.000000e+00</td>\n",
       "      <td>0.000000e+00</td>\n",
       "      <td>0.000000e+00</td>\n",
       "      <td>0.000000e+00</td>\n",
       "      <td>0.000000e+00</td>\n",
       "      <td>0.000000e+00</td>\n",
       "      <td>0.000000e+00</td>\n",
       "    </tr>\n",
       "  </tbody>\n",
       "</table>\n",
       "</div>"
      ],
      "text/plain": [
       "                        count          mean           std           min  \\\n",
       "EmpID                   310.0  1.199745e+09  1.829600e+08  6.020003e+08   \n",
       "MarriedID               310.0  3.967742e-01  4.900194e-01  0.000000e+00   \n",
       "MaritalStatusID         310.0  8.096774e-01  9.447024e-01  0.000000e+00   \n",
       "GenderID                310.0  4.290323e-01  4.957382e-01  0.000000e+00   \n",
       "EmpStatusID             310.0  2.396774e+00  1.795533e+00  1.000000e+00   \n",
       "DeptID                  310.0  4.606452e+00  1.082349e+00  1.000000e+00   \n",
       "PerfScoreID             310.0  2.983871e+00  5.771242e-01  1.000000e+00   \n",
       "FromDiversityJobFairID  310.0  9.354839e-02  2.916702e-01  0.000000e+00   \n",
       "PayRate                 310.0  3.128481e+01  1.538362e+01  1.400000e+01   \n",
       "Termd                   310.0  3.322581e-01  4.717845e-01  0.000000e+00   \n",
       "PositionID              310.0  1.683871e+01  6.232272e+00  1.000000e+00   \n",
       "Zip                     310.0  6.569732e+03  1.693386e+04  1.013000e+03   \n",
       "ManagerID               310.0  1.520968e+01  8.876968e+00  1.000000e+00   \n",
       "EngagementSurvey        310.0  3.332097e+00  1.290590e+00  1.030000e+00   \n",
       "EmpSatisfaction         310.0  3.890323e+00  9.106898e-01  1.000000e+00   \n",
       "SpecialProjectsCount    310.0  1.209677e+00  2.352009e+00  0.000000e+00   \n",
       "DaysLateLast30          207.0  0.000000e+00  0.000000e+00  0.000000e+00   \n",
       "\n",
       "                                 25%           50%           75%           max  \n",
       "EmpID                   1.101024e+09  1.203032e+09  1.378814e+09  1.988300e+09  \n",
       "MarriedID               0.000000e+00  0.000000e+00  1.000000e+00  1.000000e+00  \n",
       "MaritalStatusID         0.000000e+00  1.000000e+00  1.000000e+00  4.000000e+00  \n",
       "GenderID                0.000000e+00  0.000000e+00  1.000000e+00  1.000000e+00  \n",
       "EmpStatusID             1.000000e+00  1.000000e+00  5.000000e+00  5.000000e+00  \n",
       "DeptID                  5.000000e+00  5.000000e+00  5.000000e+00  6.000000e+00  \n",
       "PerfScoreID             3.000000e+00  3.000000e+00  3.000000e+00  4.000000e+00  \n",
       "FromDiversityJobFairID  0.000000e+00  0.000000e+00  0.000000e+00  1.000000e+00  \n",
       "PayRate                 2.000000e+01  2.400000e+01  4.531500e+01  8.000000e+01  \n",
       "Termd                   0.000000e+00  0.000000e+00  1.000000e+00  1.000000e+00  \n",
       "PositionID              1.800000e+01  1.900000e+01  2.000000e+01  3.000000e+01  \n",
       "Zip                     1.901250e+03  2.132000e+03  2.357000e+03  9.805200e+04  \n",
       "ManagerID               1.000000e+01  1.600000e+01  1.975000e+01  3.900000e+01  \n",
       "EngagementSurvey        2.082500e+00  3.470000e+00  4.520000e+00  5.000000e+00  \n",
       "EmpSatisfaction         3.000000e+00  4.000000e+00  5.000000e+00  5.000000e+00  \n",
       "SpecialProjectsCount    0.000000e+00  0.000000e+00  0.000000e+00  8.000000e+00  \n",
       "DaysLateLast30          0.000000e+00  0.000000e+00  0.000000e+00  0.000000e+00  "
      ]
     },
     "execution_count": 72,
     "metadata": {},
     "output_type": "execute_result"
    }
   ],
   "source": [
    "emp_data.describe().transpose()"
   ]
  },
  {
   "cell_type": "code",
   "execution_count": 73,
   "metadata": {},
   "outputs": [
    {
     "data": {
      "text/plain": [
       "(310, 35)"
      ]
     },
     "execution_count": 73,
     "metadata": {},
     "output_type": "execute_result"
    }
   ],
   "source": [
    "emp_data.shape"
   ]
  },
  {
   "cell_type": "code",
   "execution_count": 74,
   "metadata": {},
   "outputs": [
    {
     "data": {
      "text/plain": [
       "Employee_Name                         object\n",
       "EmpID                                  int64\n",
       "MarriedID                              int64\n",
       "MaritalStatusID                        int64\n",
       "GenderID                               int64\n",
       "EmpStatusID                            int64\n",
       "DeptID                                 int64\n",
       "PerfScoreID                            int64\n",
       "FromDiversityJobFairID                 int64\n",
       "PayRate                              float64\n",
       "Termd                                  int64\n",
       "PositionID                             int64\n",
       "Position                              object\n",
       "State                                 object\n",
       "Zip                                    int64\n",
       "DOB                           datetime64[ns]\n",
       "Sex                                   object\n",
       "MaritalDesc                           object\n",
       "CitizenDesc                           object\n",
       "HispanicLatino                        object\n",
       "RaceDesc                              object\n",
       "DateofHire                    datetime64[ns]\n",
       "DateofTermination             datetime64[ns]\n",
       "TermReason                            object\n",
       "EmploymentStatus                      object\n",
       "Department                            object\n",
       "ManagerName                           object\n",
       "ManagerID                              int64\n",
       "RecruitmentSource                     object\n",
       "PerformanceScore                      object\n",
       "EngagementSurvey                     float64\n",
       "EmpSatisfaction                        int64\n",
       "SpecialProjectsCount                   int64\n",
       "LastPerformanceReview_Date    datetime64[ns]\n",
       "DaysLateLast30                       float64\n",
       "dtype: object"
      ]
     },
     "execution_count": 74,
     "metadata": {},
     "output_type": "execute_result"
    }
   ],
   "source": [
    "emp_data.dtypes"
   ]
  },
  {
   "cell_type": "code",
   "execution_count": 75,
   "metadata": {},
   "outputs": [
    {
     "data": {
      "text/plain": [
       "Employee_Name                   0\n",
       "EmpID                           0\n",
       "MarriedID                       0\n",
       "MaritalStatusID                 0\n",
       "GenderID                        0\n",
       "EmpStatusID                     0\n",
       "DeptID                          0\n",
       "PerfScoreID                     0\n",
       "FromDiversityJobFairID          0\n",
       "PayRate                         0\n",
       "Termd                           0\n",
       "PositionID                      0\n",
       "Position                        0\n",
       "State                           0\n",
       "Zip                             0\n",
       "DOB                             0\n",
       "Sex                             0\n",
       "MaritalDesc                     0\n",
       "CitizenDesc                     0\n",
       "HispanicLatino                  0\n",
       "RaceDesc                        0\n",
       "DateofHire                      0\n",
       "DateofTermination             207\n",
       "TermReason                      0\n",
       "EmploymentStatus                0\n",
       "Department                      0\n",
       "ManagerName                     0\n",
       "ManagerID                       0\n",
       "RecruitmentSource               0\n",
       "PerformanceScore                0\n",
       "EngagementSurvey                0\n",
       "EmpSatisfaction                 0\n",
       "SpecialProjectsCount            0\n",
       "LastPerformanceReview_Date    103\n",
       "DaysLateLast30                103\n",
       "dtype: int64"
      ]
     },
     "execution_count": 75,
     "metadata": {},
     "output_type": "execute_result"
    }
   ],
   "source": [
    "emp_data.isnull().sum() "
   ]
  },
  {
   "cell_type": "code",
   "execution_count": 76,
   "metadata": {},
   "outputs": [
    {
     "data": {
      "text/plain": [
       "<AxesSubplot:>"
      ]
     },
     "execution_count": 76,
     "metadata": {},
     "output_type": "execute_result"
    },
    {
     "data": {
      "image/png": "[encoded data removed]",
      "text/plain": [
       "<Figure size 432x288 with 1 Axes>"
      ]
     },
     "metadata": {
      "needs_background": "light"
     },
     "output_type": "display_data"
    }
   ],
   "source": [
    "emp_data['Sex'].value_counts().plot(kind='bar')"
   ]
  },
  {
   "cell_type": "code",
   "execution_count": 77,
   "metadata": {},
   "outputs": [
    {
     "data": {
      "image/png": "[encoded data removed]",
      "text/plain": [
       "<Figure size 720x504 with 1 Axes>"
      ]
     },
     "metadata": {
      "needs_background": "light"
     },
     "output_type": "display_data"
    }
   ],
   "source": [
    "plt.figure(figsize=(10,7))\n",
    "sns.countplot(emp_data['Department'], hue=emp_data['Sex'])\n",
    "plt.xticks(rotation=45)\n",
    "plt.show()"
   ]
  },
  {
   "cell_type": "markdown",
   "metadata": {},
   "source": [
    "`No gender equality in production department, No Males in Executive Office`"
   ]
  },
  {
   "cell_type": "code",
   "execution_count": 78,
   "metadata": {},
   "outputs": [
    {
     "data": {
      "text/plain": [
       "<AxesSubplot:ylabel='RaceDesc'>"
      ]
     },
     "execution_count": 78,
     "metadata": {},
     "output_type": "execute_result"
    },
    {
     "data": {
      "image/png": "[encoded data removed]",
      "text/plain": [
       "<Figure size 720x504 with 1 Axes>"
      ]
     },
     "metadata": {},
     "output_type": "display_data"
    }
   ],
   "source": [
    "plt.figure(figsize=(10,7))\n",
    "emp_data['RaceDesc'].value_counts().plot(kind='pie',autopct='%1.0f%%')"
   ]
  },
  {
   "cell_type": "code",
   "execution_count": 79,
   "metadata": {},
   "outputs": [
    {
     "data": {
      "text/plain": [
       "0     1987-11-24\n",
       "1     1984-04-26\n",
       "2     1986-09-01\n",
       "3     1985-09-16\n",
       "4     1988-05-19\n",
       "         ...    \n",
       "305   1952-01-18\n",
       "306   1986-04-23\n",
       "307   1983-02-09\n",
       "308   1965-09-09\n",
       "309   1978-05-02\n",
       "Name: DOB, Length: 310, dtype: datetime64[ns]"
      ]
     },
     "execution_count": 79,
     "metadata": {},
     "output_type": "execute_result"
    }
   ],
   "source": [
    "emp_data['DOB']"
   ]
  },
  {
   "cell_type": "code",
   "execution_count": 80,
   "metadata": {},
   "outputs": [
    {
     "data": {
      "text/plain": [
       "Timestamp('2021-01-23 08:08:26.328174')"
      ]
     },
     "execution_count": 80,
     "metadata": {},
     "output_type": "execute_result"
    }
   ],
   "source": [
    "today = pd.to_datetime('today')\n",
    "today"
   ]
  },
  {
   "cell_type": "code",
   "execution_count": 81,
   "metadata": {},
   "outputs": [
    {
     "data": {
      "text/plain": [
       "0      34\n",
       "1      37\n",
       "2      35\n",
       "3      36\n",
       "4      33\n",
       "       ..\n",
       "305    69\n",
       "306    35\n",
       "307    38\n",
       "308    56\n",
       "309    43\n",
       "Name: age, Length: 310, dtype: int64"
      ]
     },
     "execution_count": 81,
     "metadata": {},
     "output_type": "execute_result"
    }
   ],
   "source": [
    "emp_data['age'] = today.year - emp_data['DOB'].dt.year\n",
    "emp_data['age']"
   ]
  },
  {
   "cell_type": "code",
   "execution_count": 82,
   "metadata": {},
   "outputs": [
    {
     "data": {
      "text/plain": [
       "0      13\n",
       "1       7\n",
       "2       7\n",
       "3       6\n",
       "4       6\n",
       "       ..\n",
       "305     7\n",
       "306     7\n",
       "307     5\n",
       "308     7\n",
       "309     6\n",
       "Name: exp_with_company, Length: 310, dtype: int64"
      ]
     },
     "execution_count": 82,
     "metadata": {},
     "output_type": "execute_result"
    }
   ],
   "source": [
    "emp_data['exp_with_company'] = today.year - emp_data['DateofHire'].dt.year\n",
    "emp_data['exp_with_company']"
   ]
  },
  {
   "cell_type": "code",
   "execution_count": 83,
   "metadata": {},
   "outputs": [
    {
     "data": {
      "text/plain": [
       "0"
      ]
     },
     "execution_count": 83,
     "metadata": {},
     "output_type": "execute_result"
    }
   ],
   "source": [
    "emp_data['DateofTermination'] = (today.year - emp_data['DateofTermination'].dt.year)\n",
    "emp_data['DateofTermination'].fillna(0, inplace=True)\n",
    "emp_data['DateofTermination'].isnull().sum()"
   ]
  },
  {
   "cell_type": "code",
   "execution_count": 84,
   "metadata": {},
   "outputs": [],
   "source": [
    "emp_data.drop(['DOB', 'DateofHire'], axis=1, inplace=True)"
   ]
  },
  {
   "cell_type": "code",
   "execution_count": 85,
   "metadata": {},
   "outputs": [
    {
     "data": {
      "text/plain": [
       "<AxesSubplot:xlabel='CitizenDesc', ylabel='count'>"
      ]
     },
     "execution_count": 85,
     "metadata": {},
     "output_type": "execute_result"
    },
    {
     "data": {
      "image/png": "[encoded data removed]",
      "text/plain": [
       "<Figure size 432x288 with 1 Axes>"
      ]
     },
     "metadata": {
      "needs_background": "light"
     },
     "output_type": "display_data"
    }
   ],
   "source": [
    "sns.countplot(emp_data['CitizenDesc'])"
   ]
  },
  {
   "cell_type": "code",
   "execution_count": 86,
   "metadata": {},
   "outputs": [
    {
     "data": {
      "text/plain": [
       "<AxesSubplot:xlabel='PayRate', ylabel='EmpSatisfaction'>"
      ]
     },
     "execution_count": 86,
     "metadata": {},
     "output_type": "execute_result"
    },
    {
     "data": {
      "image/png": "[encoded data removed]",
      "text/plain": [
       "<Figure size 432x288 with 1 Axes>"
      ]
     },
     "metadata": {
      "needs_background": "light"
     },
     "output_type": "display_data"
    }
   ],
   "source": [
    "sns.scatterplot(emp_data['PayRate'], emp_data['EmpSatisfaction'])"
   ]
  },
  {
   "cell_type": "code",
   "execution_count": 87,
   "metadata": {},
   "outputs": [
    {
     "data": {
      "text/plain": [
       "(0       1\n",
       " 1       1\n",
       " 2       1\n",
       " 3       2\n",
       " 4       2\n",
       "        ..\n",
       " 305    28\n",
       " 306    28\n",
       " 307    28\n",
       " 308    28\n",
       " 309    28\n",
       " Name: PositionID, Length: 310, dtype: int64,\n",
       " 0                  Accountant I\n",
       " 1                  Accountant I\n",
       " 2                  Accountant I\n",
       " 3      Administrative Assistant\n",
       " 4      Administrative Assistant\n",
       "                  ...           \n",
       " 305        Sr. Network Engineer\n",
       " 306        Sr. Network Engineer\n",
       " 307        Sr. Network Engineer\n",
       " 308        Sr. Network Engineer\n",
       " 309        Sr. Network Engineer\n",
       " Name: Position, Length: 310, dtype: object)"
      ]
     },
     "execution_count": 87,
     "metadata": {},
     "output_type": "execute_result"
    }
   ],
   "source": [
    "emp_data['PositionID'], emp_data['Position']"
   ]
  },
  {
   "cell_type": "code",
   "execution_count": 88,
   "metadata": {},
   "outputs": [],
   "source": [
    "emp_data.drop('PositionID', axis=1, inplace=True)"
   ]
  },
  {
   "cell_type": "code",
   "execution_count": 89,
   "metadata": {},
   "outputs": [],
   "source": [
    "emp_data['DeptID'], emp_data['Department']\n",
    "emp_data.drop('DeptID', axis=1, inplace=True)"
   ]
  },
  {
   "cell_type": "code",
   "execution_count": 90,
   "metadata": {},
   "outputs": [
    {
     "data": {
      "text/plain": [
       "array(['Admin Offices', 'Sales', 'IT/IS', 'Production       ',\n",
       "       'Executive Office', 'Software Engineering'], dtype=object)"
      ]
     },
     "execution_count": 90,
     "metadata": {},
     "output_type": "execute_result"
    }
   ],
   "source": [
    "emp_data['Department'].unique()"
   ]
  },
  {
   "cell_type": "code",
   "execution_count": 91,
   "metadata": {},
   "outputs": [
    {
     "data": {
      "text/plain": [
       "(0      1\n",
       " 1      0\n",
       " 2      0\n",
       " 3      1\n",
       " 4      0\n",
       "       ..\n",
       " 305    1\n",
       " 306    1\n",
       " 307    1\n",
       " 308    0\n",
       " 309    0\n",
       " Name: MarriedID, Length: 310, dtype: int64,\n",
       " 0      Admin Offices\n",
       " 1      Admin Offices\n",
       " 2      Admin Offices\n",
       " 3      Admin Offices\n",
       " 4      Admin Offices\n",
       "            ...      \n",
       " 305            IT/IS\n",
       " 306            IT/IS\n",
       " 307            IT/IS\n",
       " 308            IT/IS\n",
       " 309            IT/IS\n",
       " Name: Department, Length: 310, dtype: object)"
      ]
     },
     "execution_count": 91,
     "metadata": {},
     "output_type": "execute_result"
    }
   ],
   "source": [
    "emp_data['MarriedID'], emp_data['Department']"
   ]
  },
  {
   "cell_type": "markdown",
   "metadata": {
    "colab_type": "text",
    "id": "bhStpalPHd69"
   },
   "source": [
    "# 4. Visualization using matplotlib and Seaborn"
   ]
  },
  {
   "cell_type": "code",
   "execution_count": 92,
   "metadata": {
    "colab": {},
    "colab_type": "code",
    "id": "SKWM122aH-_9"
   },
   "outputs": [
    {
     "data": {
      "text/plain": [
       "<seaborn.axisgrid.FacetGrid at 0x1a29343690>"
      ]
     },
     "execution_count": 92,
     "metadata": {},
     "output_type": "execute_result"
    },
    {
     "data": {
      "image/png": "[encoded data removed]",
      "text/plain": [
       "<Figure size 360x360 with 1 Axes>"
      ]
     },
     "metadata": {
      "needs_background": "light"
     },
     "output_type": "display_data"
    }
   ],
   "source": [
    "sns.displot(emp_data['PayRate'], kind='kde')"
   ]
  },
  {
   "cell_type": "markdown",
   "metadata": {
    "colab_type": "text",
    "id": "7i2H0Ib2GhW3"
   },
   "source": [
    "# 5. Which department pays more?"
   ]
  },
  {
   "cell_type": "code",
   "execution_count": 93,
   "metadata": {
    "colab": {},
    "colab_type": "code",
    "id": "VvT2rpAUIA77"
   },
   "outputs": [
    {
     "data": {
      "image/png": "[encoded data removed]",
      "text/plain": [
       "<Figure size 1800x648 with 1 Axes>"
      ]
     },
     "metadata": {
      "needs_background": "light"
     },
     "output_type": "display_data"
    }
   ],
   "source": [
    "plt.figure(figsize=(25, 9))\n",
    "emp_data.groupby('Department')['PayRate'].sum()\n",
    "emp_data.groupby('Department')['PayRate'].sum().plot(kind = 'bar')\n",
    "plt.xticks(rotation = 45)\n",
    "plt.show()"
   ]
  },
  {
   "cell_type": "markdown",
   "metadata": {
    "colab_type": "text",
    "id": "6vCrPdu3IDA8"
   },
   "source": [
    "# 6. Which position is having the highest pay?"
   ]
  },
  {
   "cell_type": "code",
   "execution_count": 94,
   "metadata": {
    "colab": {},
    "colab_type": "code",
    "id": "h2FQRMraIMZU"
   },
   "outputs": [
    {
     "data": {
      "image/png": "[encoded data removed]",
      "text/plain": [
       "<Figure size 1800x648 with 1 Axes>"
      ]
     },
     "metadata": {
      "needs_background": "light"
     },
     "output_type": "display_data"
    }
   ],
   "source": [
    "plt.figure(figsize=(25, 9))\n",
    "emp_data.groupby('Position')['PayRate'].sum().plot(kind='bar')\n",
    "plt.xticks(rotation = 45)\n",
    "plt.show()"
   ]
  },
  {
   "cell_type": "markdown",
   "metadata": {
    "colab_type": "text",
    "id": "N7OpabxEIbe7"
   },
   "source": [
    "# 7. Drop the columns which are not relevant for model building."
   ]
  },
  {
   "cell_type": "code",
   "execution_count": 95,
   "metadata": {
    "colab": {},
    "colab_type": "code",
    "id": "0T586VOiIrNV"
   },
   "outputs": [
    {
     "data": {
      "text/plain": [
       "Employee_Name                 310\n",
       "EmpID                         310\n",
       "MarriedID                       2\n",
       "MaritalStatusID                 5\n",
       "GenderID                        2\n",
       "EmpStatusID                     5\n",
       "PerfScoreID                     4\n",
       "FromDiversityJobFairID          2\n",
       "PayRate                        94\n",
       "Termd                           2\n",
       "Position                       32\n",
       "State                          28\n",
       "Zip                           158\n",
       "Sex                             2\n",
       "MaritalDesc                     5\n",
       "CitizenDesc                     3\n",
       "HispanicLatino                  4\n",
       "RaceDesc                        6\n",
       "DateofTermination               8\n",
       "TermReason                     17\n",
       "EmploymentStatus                5\n",
       "Department                      6\n",
       "ManagerName                    21\n",
       "ManagerID                      23\n",
       "RecruitmentSource              23\n",
       "PerformanceScore                4\n",
       "EngagementSurvey              188\n",
       "EmpSatisfaction                 5\n",
       "SpecialProjectsCount            8\n",
       "LastPerformanceReview_Date     42\n",
       "DaysLateLast30                  1\n",
       "age                            38\n",
       "exp_with_company               12\n",
       "dtype: int64"
      ]
     },
     "execution_count": 95,
     "metadata": {},
     "output_type": "execute_result"
    }
   ],
   "source": [
    "emp_data.nunique()"
   ]
  },
  {
   "cell_type": "code",
   "execution_count": 96,
   "metadata": {},
   "outputs": [],
   "source": [
    "emp_data.drop(['Employee_Name', 'EmpID', 'Zip', 'MarriedID', 'MaritalStatusID', 'GenderID', 'EmpStatusID', 'ManagerID',\n",
    "              'LastPerformanceReview_Date', 'DaysLateLast30'], axis=1, inplace=True)"
   ]
  },
  {
   "cell_type": "code",
   "execution_count": 97,
   "metadata": {},
   "outputs": [
    {
     "data": {
      "text/plain": [
       "(310, 23)"
      ]
     },
     "execution_count": 97,
     "metadata": {},
     "output_type": "execute_result"
    }
   ],
   "source": [
    "emp_data.shape"
   ]
  },
  {
   "cell_type": "code",
   "execution_count": 98,
   "metadata": {},
   "outputs": [
    {
     "data": {
      "text/plain": [
       "array([0, 1])"
      ]
     },
     "execution_count": 98,
     "metadata": {},
     "output_type": "execute_result"
    }
   ],
   "source": [
    "emp_data['HispanicLatino'].unique()\n",
    "replaceStructure = {'No': 0, 'Yes': 1, 'yes':1, 'no':0}\n",
    "emp_data['HispanicLatino'] = emp_data['HispanicLatino'].replace(replaceStructure)\n",
    "emp_data['HispanicLatino'].unique()"
   ]
  },
  {
   "cell_type": "markdown",
   "metadata": {
    "colab_type": "text",
    "id": "z7uDzTklIsVt"
   },
   "source": [
    "# 8. Conversion of categorical values:"
   ]
  },
  {
   "cell_type": "code",
   "execution_count": 99,
   "metadata": {
    "colab": {},
    "colab_type": "code",
    "id": "SC6E1-HvI7Nk"
   },
   "outputs": [],
   "source": [
    "emp_data = pd.get_dummies(emp_data, drop_first=True)"
   ]
  },
  {
   "cell_type": "code",
   "execution_count": 100,
   "metadata": {},
   "outputs": [
    {
     "name": "stdout",
     "output_type": "stream",
     "text": [
      "<class 'pandas.core.frame.DataFrame'>\n",
      "RangeIndex: 310 entries, 0 to 309\n",
      "Columns: 151 entries, PerfScoreID to PerformanceScore_PIP\n",
      "dtypes: float64(3), int64(8), uint8(140)\n",
      "memory usage: 69.1 KB\n"
     ]
    }
   ],
   "source": [
    "emp_data.info()"
   ]
  },
  {
   "cell_type": "markdown",
   "metadata": {
    "colab_type": "text",
    "id": "qx7tvtmOI6wS"
   },
   "source": [
    "# 9. Split the dataset in training and testing set in the ratio 75:25"
   ]
  },
  {
   "cell_type": "code",
   "execution_count": 101,
   "metadata": {
    "colab": {},
    "colab_type": "code",
    "id": "nRBm1zq8JFVT"
   },
   "outputs": [],
   "source": [
    "X = emp_data.drop('PayRate', axis=1)\n",
    "y = emp_data['PayRate']\n",
    "X_train, X_test, y_train, y_test = train_test_split(X,y, test_size=0.25, random_state=1)"
   ]
  },
  {
   "cell_type": "markdown",
   "metadata": {
    "colab_type": "text",
    "id": "kLJPIbILJKaL"
   },
   "source": [
    "# 10. Use Decision Tree Regressor from sklearn library to train model."
   ]
  },
  {
   "cell_type": "code",
   "execution_count": 102,
   "metadata": {
    "colab": {},
    "colab_type": "code",
    "id": "MuS3xuYwJI3j"
   },
   "outputs": [
    {
     "data": {
      "text/plain": [
       "DecisionTreeRegressor(random_state=1)"
      ]
     },
     "execution_count": 102,
     "metadata": {},
     "output_type": "execute_result"
    }
   ],
   "source": [
    "dTree_reg = DecisionTreeRegressor(criterion='mse', random_state=1)\n",
    "dTree_reg.fit(X_train, y_train)"
   ]
  },
  {
   "cell_type": "markdown",
   "metadata": {
    "colab_type": "text",
    "id": "MlIYIFRxJUQE"
   },
   "source": [
    "# 11. Evaluate the model and use suitable metric to see how good the model is."
   ]
  },
  {
   "cell_type": "code",
   "execution_count": 106,
   "metadata": {
    "colab": {},
    "colab_type": "code",
    "id": "ZwPL_GFiJeDS"
   },
   "outputs": [
    {
     "name": "stdout",
     "output_type": "stream",
     "text": [
      "1.0\n",
      "0.7448633151646304\n",
      "mean squared error: 72.81792948717947\n",
      "r2_score: 0.7448633151646304\n"
     ]
    }
   ],
   "source": [
    "print(dTree_reg.score(X_train, y_train))\n",
    "print(dTree_reg.score(X_test, y_test))\n",
    "y_predict = dTree_reg.predict(X_test)\n",
    "print('mean squared error: {}'.format(mean_squared_error(y_test, y_predict)))\n",
    "print('r2_score: {}'.format(r2_score(y_test, y_predict)))"
   ]
  },
  {
   "cell_type": "markdown",
   "metadata": {
    "colab_type": "text",
    "id": "DrgRuBMzJjSF"
   },
   "source": [
    "# 12. Plot the Ground Truth vs the Predicted values."
   ]
  },
  {
   "cell_type": "code",
   "execution_count": 113,
   "metadata": {
    "colab": {},
    "colab_type": "code",
    "id": "d2E062idJtU7"
   },
   "outputs": [
    {
     "data": {
      "image/png": "[encoded data removed]",
      "text/plain": [
       "<Figure size 432x288 with 1 Axes>"
      ]
     },
     "metadata": {
      "needs_background": "light"
     },
     "output_type": "display_data"
    }
   ],
   "source": [
    "fig, ax = plt.subplots()\n",
    "# ax.scatter(y_test, y_predict, edgecolors=(0,0,0))\n",
    "# ax.plot([y_test.min(), y_test.max()], [y_test.min(), y_test.max()], 'k--', lw=4)\n",
    "sns.regplot(y_test, y_predict)\n",
    "ax.set_xlabel('Actual')\n",
    "ax.set_ylabel('Predicted')\n",
    "ax.set_title(\"Ground Truth vs Predicted\")\n",
    "plt.show()"
   ]
  },
  {
   "cell_type": "markdown",
   "metadata": {
    "colab_type": "text",
    "id": "EIt8GLO8JuyK"
   },
   "source": [
    "# 13. Write conclusion"
   ]
  },
  {
   "cell_type": "code",
   "execution_count": 14,
   "metadata": {
    "colab": {},
    "colab_type": "code",
    "id": "hyI3SyHVJ1Pc"
   },
   "outputs": [],
   "source": [
    "# write here"
   ]
  }
 ],
 "metadata": {
  "colab": {
   "collapsed_sections": [],
   "name": "DecisionTreeRegressor_Questions.ipynb",
   "provenance": []
  },
  "kernelspec": {
   "display_name": "Python 3",
   "language": "python",
   "name": "python3"
  },
  "language_info": {
   "codemirror_mode": {
    "name": "ipython",
    "version": 3
   },
   "file_extension": ".py",
   "mimetype": "text/x-python",
   "name": "python",
   "nbconvert_exporter": "python",
   "pygments_lexer": "ipython3",
   "version": "3.7.9"
  }
 },
 "nbformat": 4,
 "nbformat_minor": 1
}
