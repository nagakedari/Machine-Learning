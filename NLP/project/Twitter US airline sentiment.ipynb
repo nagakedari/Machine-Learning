{
 "cells": [
  {
   "cell_type": "markdown",
   "metadata": {},
   "source": [
    "# Importing Libraries"
   ]
  },
  {
   "cell_type": "code",
   "execution_count": 124,
   "metadata": {},
   "outputs": [
    {
     "name": "stderr",
     "output_type": "stream",
     "text": [
      "[nltk_data] Downloading package punkt to /Users/manjusri/nltk_data...\n",
      "[nltk_data]   Package punkt is already up-to-date!\n",
      "[nltk_data] Downloading package stopwords to\n",
      "[nltk_data]     /Users/manjusri/nltk_data...\n",
      "[nltk_data]   Package stopwords is already up-to-date!\n",
      "[nltk_data] Downloading package wordnet to\n",
      "[nltk_data]     /Users/manjusri/nltk_data...\n",
      "[nltk_data]   Package wordnet is already up-to-date!\n"
     ]
    }
   ],
   "source": [
    "# importing required libraries\n",
    "import warnings\n",
    "warnings.filterwarnings('ignore')\n",
    "import time\n",
    "import numpy as np\n",
    "import pandas as pd\n",
    "import matplotlib.pyplot as plt\n",
    "import seaborn as sns\n",
    "from sklearn.feature_extraction.text import CountVectorizer, TfidfVectorizer\n",
    "import nltk\n",
    "from nltk import ToktokTokenizer\n",
    "nltk.download('punkt')\n",
    "nltk.download('stopwords')\n",
    "nltk.download('wordnet')\n",
    "from bs4 import BeautifulSoup\n",
    "import unicodedata\n",
    "import re\n",
    "import contractions\n",
    "from sklearn.preprocessing import LabelEncoder\n",
    "from sklearn.model_selection import train_test_split, KFold, cross_val_score\n",
    "from sklearn.linear_model import LogisticRegression\n",
    "from sklearn.tree import DecisionTreeClassifier\n",
    "from sklearn.ensemble import RandomForestClassifier, GradientBoostingClassifier\n",
    "from sklearn.metrics import accuracy_score, confusion_matrix, classification_report"
   ]
  },
  {
   "cell_type": "markdown",
   "metadata": {},
   "source": [
    "# Load Dataset"
   ]
  },
  {
   "cell_type": "code",
   "execution_count": 125,
   "metadata": {},
   "outputs": [
    {
     "data": {
      "text/html": [
       "<div>\n",
       "<style scoped>\n",
       "    .dataframe tbody tr th:only-of-type {\n",
       "        vertical-align: middle;\n",
       "    }\n",
       "\n",
       "    .dataframe tbody tr th {\n",
       "        vertical-align: top;\n",
       "    }\n",
       "\n",
       "    .dataframe thead th {\n",
       "        text-align: right;\n",
       "    }\n",
       "</style>\n",
       "<table border=\"1\" class=\"dataframe\">\n",
       "  <thead>\n",
       "    <tr style=\"text-align: right;\">\n",
       "      <th></th>\n",
       "      <th>tweet_id</th>\n",
       "      <th>airline_sentiment</th>\n",
       "      <th>airline_sentiment_confidence</th>\n",
       "      <th>negativereason</th>\n",
       "      <th>negativereason_confidence</th>\n",
       "      <th>airline</th>\n",
       "      <th>airline_sentiment_gold</th>\n",
       "      <th>name</th>\n",
       "      <th>negativereason_gold</th>\n",
       "      <th>retweet_count</th>\n",
       "      <th>text</th>\n",
       "      <th>tweet_coord</th>\n",
       "      <th>tweet_created</th>\n",
       "      <th>tweet_location</th>\n",
       "      <th>user_timezone</th>\n",
       "    </tr>\n",
       "  </thead>\n",
       "  <tbody>\n",
       "    <tr>\n",
       "      <th>0</th>\n",
       "      <td>570306133677760513</td>\n",
       "      <td>neutral</td>\n",
       "      <td>1.0000</td>\n",
       "      <td>NaN</td>\n",
       "      <td>NaN</td>\n",
       "      <td>Virgin America</td>\n",
       "      <td>NaN</td>\n",
       "      <td>cairdin</td>\n",
       "      <td>NaN</td>\n",
       "      <td>0</td>\n",
       "      <td>@VirginAmerica What @dhepburn said.</td>\n",
       "      <td>NaN</td>\n",
       "      <td>2015-02-24 11:35:52 -0800</td>\n",
       "      <td>NaN</td>\n",
       "      <td>Eastern Time (US &amp; Canada)</td>\n",
       "    </tr>\n",
       "    <tr>\n",
       "      <th>1</th>\n",
       "      <td>570301130888122368</td>\n",
       "      <td>positive</td>\n",
       "      <td>0.3486</td>\n",
       "      <td>NaN</td>\n",
       "      <td>0.0000</td>\n",
       "      <td>Virgin America</td>\n",
       "      <td>NaN</td>\n",
       "      <td>jnardino</td>\n",
       "      <td>NaN</td>\n",
       "      <td>0</td>\n",
       "      <td>@VirginAmerica plus you've added commercials to the experience... tacky.</td>\n",
       "      <td>NaN</td>\n",
       "      <td>2015-02-24 11:15:59 -0800</td>\n",
       "      <td>NaN</td>\n",
       "      <td>Pacific Time (US &amp; Canada)</td>\n",
       "    </tr>\n",
       "    <tr>\n",
       "      <th>2</th>\n",
       "      <td>570301083672813571</td>\n",
       "      <td>neutral</td>\n",
       "      <td>0.6837</td>\n",
       "      <td>NaN</td>\n",
       "      <td>NaN</td>\n",
       "      <td>Virgin America</td>\n",
       "      <td>NaN</td>\n",
       "      <td>yvonnalynn</td>\n",
       "      <td>NaN</td>\n",
       "      <td>0</td>\n",
       "      <td>@VirginAmerica I didn't today... Must mean I need to take another trip!</td>\n",
       "      <td>NaN</td>\n",
       "      <td>2015-02-24 11:15:48 -0800</td>\n",
       "      <td>Lets Play</td>\n",
       "      <td>Central Time (US &amp; Canada)</td>\n",
       "    </tr>\n",
       "    <tr>\n",
       "      <th>3</th>\n",
       "      <td>570301031407624196</td>\n",
       "      <td>negative</td>\n",
       "      <td>1.0000</td>\n",
       "      <td>Bad Flight</td>\n",
       "      <td>0.7033</td>\n",
       "      <td>Virgin America</td>\n",
       "      <td>NaN</td>\n",
       "      <td>jnardino</td>\n",
       "      <td>NaN</td>\n",
       "      <td>0</td>\n",
       "      <td>@VirginAmerica it's really aggressive to blast obnoxious \"entertainment\" in your guests' faces &amp;amp; they have little recourse</td>\n",
       "      <td>NaN</td>\n",
       "      <td>2015-02-24 11:15:36 -0800</td>\n",
       "      <td>NaN</td>\n",
       "      <td>Pacific Time (US &amp; Canada)</td>\n",
       "    </tr>\n",
       "    <tr>\n",
       "      <th>4</th>\n",
       "      <td>570300817074462722</td>\n",
       "      <td>negative</td>\n",
       "      <td>1.0000</td>\n",
       "      <td>Can't Tell</td>\n",
       "      <td>1.0000</td>\n",
       "      <td>Virgin America</td>\n",
       "      <td>NaN</td>\n",
       "      <td>jnardino</td>\n",
       "      <td>NaN</td>\n",
       "      <td>0</td>\n",
       "      <td>@VirginAmerica and it's a really big bad thing about it</td>\n",
       "      <td>NaN</td>\n",
       "      <td>2015-02-24 11:14:45 -0800</td>\n",
       "      <td>NaN</td>\n",
       "      <td>Pacific Time (US &amp; Canada)</td>\n",
       "    </tr>\n",
       "  </tbody>\n",
       "</table>\n",
       "</div>"
      ],
      "text/plain": [
       "             tweet_id airline_sentiment  airline_sentiment_confidence  \\\n",
       "0  570306133677760513           neutral                        1.0000   \n",
       "1  570301130888122368          positive                        0.3486   \n",
       "2  570301083672813571           neutral                        0.6837   \n",
       "3  570301031407624196          negative                        1.0000   \n",
       "4  570300817074462722          negative                        1.0000   \n",
       "\n",
       "  negativereason  negativereason_confidence         airline  \\\n",
       "0            NaN                        NaN  Virgin America   \n",
       "1            NaN                     0.0000  Virgin America   \n",
       "2            NaN                        NaN  Virgin America   \n",
       "3     Bad Flight                     0.7033  Virgin America   \n",
       "4     Can't Tell                     1.0000  Virgin America   \n",
       "\n",
       "  airline_sentiment_gold        name negativereason_gold  retweet_count  \\\n",
       "0                    NaN     cairdin                 NaN              0   \n",
       "1                    NaN    jnardino                 NaN              0   \n",
       "2                    NaN  yvonnalynn                 NaN              0   \n",
       "3                    NaN    jnardino                 NaN              0   \n",
       "4                    NaN    jnardino                 NaN              0   \n",
       "\n",
       "                                                                                                                             text  \\\n",
       "0                                                                                             @VirginAmerica What @dhepburn said.   \n",
       "1                                                        @VirginAmerica plus you've added commercials to the experience... tacky.   \n",
       "2                                                         @VirginAmerica I didn't today... Must mean I need to take another trip!   \n",
       "3  @VirginAmerica it's really aggressive to blast obnoxious \"entertainment\" in your guests' faces &amp; they have little recourse   \n",
       "4                                                                         @VirginAmerica and it's a really big bad thing about it   \n",
       "\n",
       "  tweet_coord              tweet_created tweet_location  \\\n",
       "0         NaN  2015-02-24 11:35:52 -0800            NaN   \n",
       "1         NaN  2015-02-24 11:15:59 -0800            NaN   \n",
       "2         NaN  2015-02-24 11:15:48 -0800      Lets Play   \n",
       "3         NaN  2015-02-24 11:15:36 -0800            NaN   \n",
       "4         NaN  2015-02-24 11:14:45 -0800            NaN   \n",
       "\n",
       "                user_timezone  \n",
       "0  Eastern Time (US & Canada)  \n",
       "1  Pacific Time (US & Canada)  \n",
       "2  Central Time (US & Canada)  \n",
       "3  Pacific Time (US & Canada)  \n",
       "4  Pacific Time (US & Canada)  "
      ]
     },
     "execution_count": 125,
     "metadata": {},
     "output_type": "execute_result"
    }
   ],
   "source": [
    "# Load the Tweets.csv\n",
    "tweets = pd.read_csv('Tweets.csv')\n",
    "# Set max_colwidth so we can see the entire text\n",
    "pd.set_option('display.max_colwidth', None)\n",
    "# Displaying 5 rows\n",
    "tweets.head()"
   ]
  },
  {
   "cell_type": "markdown",
   "metadata": {},
   "source": [
    "### Insigths:\n",
    "\n",
    "`The dataset has several columns. Some of the columns has NaN values. It seems we don't need all these columns to do\n",
    "the sentiment analysis, for example tweet_created time, tweet_location doesn't impact the sentiment`"
   ]
  },
  {
   "cell_type": "code",
   "execution_count": 126,
   "metadata": {},
   "outputs": [
    {
     "name": "stdout",
     "output_type": "stream",
     "text": [
      "(14640, 15)\n"
     ]
    }
   ],
   "source": [
    "# Displaying the dataset shape\n",
    "print(tweets.shape)"
   ]
  },
  {
   "cell_type": "markdown",
   "metadata": {},
   "source": [
    "### Insigths:\n",
    "\n",
    "`The dataset has 14640 tweets with 15 columns`"
   ]
  },
  {
   "cell_type": "code",
   "execution_count": 127,
   "metadata": {},
   "outputs": [
    {
     "data": {
      "text/html": [
       "<div>\n",
       "<style scoped>\n",
       "    .dataframe tbody tr th:only-of-type {\n",
       "        vertical-align: middle;\n",
       "    }\n",
       "\n",
       "    .dataframe tbody tr th {\n",
       "        vertical-align: top;\n",
       "    }\n",
       "\n",
       "    .dataframe thead th {\n",
       "        text-align: right;\n",
       "    }\n",
       "</style>\n",
       "<table border=\"1\" class=\"dataframe\">\n",
       "  <thead>\n",
       "    <tr style=\"text-align: right;\">\n",
       "      <th></th>\n",
       "      <th>tweet_id</th>\n",
       "      <th>airline_sentiment_confidence</th>\n",
       "      <th>negativereason_confidence</th>\n",
       "      <th>retweet_count</th>\n",
       "    </tr>\n",
       "  </thead>\n",
       "  <tbody>\n",
       "    <tr>\n",
       "      <th>count</th>\n",
       "      <td>14640.00000</td>\n",
       "      <td>14640.00000</td>\n",
       "      <td>10522.00000</td>\n",
       "      <td>14640.00000</td>\n",
       "    </tr>\n",
       "    <tr>\n",
       "      <th>mean</th>\n",
       "      <td>569218351767499200.00000</td>\n",
       "      <td>0.90017</td>\n",
       "      <td>0.63830</td>\n",
       "      <td>0.08265</td>\n",
       "    </tr>\n",
       "    <tr>\n",
       "      <th>std</th>\n",
       "      <td>779111158481835.87500</td>\n",
       "      <td>0.16283</td>\n",
       "      <td>0.33044</td>\n",
       "      <td>0.74578</td>\n",
       "    </tr>\n",
       "    <tr>\n",
       "      <th>min</th>\n",
       "      <td>567588278875213824.00000</td>\n",
       "      <td>0.33500</td>\n",
       "      <td>0.00000</td>\n",
       "      <td>0.00000</td>\n",
       "    </tr>\n",
       "    <tr>\n",
       "      <th>25%</th>\n",
       "      <td>568559178101439488.00000</td>\n",
       "      <td>0.69230</td>\n",
       "      <td>0.36060</td>\n",
       "      <td>0.00000</td>\n",
       "    </tr>\n",
       "    <tr>\n",
       "      <th>50%</th>\n",
       "      <td>569477857923110912.00000</td>\n",
       "      <td>1.00000</td>\n",
       "      <td>0.67060</td>\n",
       "      <td>0.00000</td>\n",
       "    </tr>\n",
       "    <tr>\n",
       "      <th>75%</th>\n",
       "      <td>569890473289000960.00000</td>\n",
       "      <td>1.00000</td>\n",
       "      <td>1.00000</td>\n",
       "      <td>0.00000</td>\n",
       "    </tr>\n",
       "    <tr>\n",
       "      <th>max</th>\n",
       "      <td>570310600460525568.00000</td>\n",
       "      <td>1.00000</td>\n",
       "      <td>1.00000</td>\n",
       "      <td>44.00000</td>\n",
       "    </tr>\n",
       "  </tbody>\n",
       "</table>\n",
       "</div>"
      ],
      "text/plain": [
       "                       tweet_id airline_sentiment_confidence  \\\n",
       "count               14640.00000                  14640.00000   \n",
       "mean   569218351767499200.00000                      0.90017   \n",
       "std       779111158481835.87500                      0.16283   \n",
       "min    567588278875213824.00000                      0.33500   \n",
       "25%    568559178101439488.00000                      0.69230   \n",
       "50%    569477857923110912.00000                      1.00000   \n",
       "75%    569890473289000960.00000                      1.00000   \n",
       "max    570310600460525568.00000                      1.00000   \n",
       "\n",
       "      negativereason_confidence retweet_count  \n",
       "count               10522.00000   14640.00000  \n",
       "mean                    0.63830       0.08265  \n",
       "std                     0.33044       0.74578  \n",
       "min                     0.00000       0.00000  \n",
       "25%                     0.36060       0.00000  \n",
       "50%                     0.67060       0.00000  \n",
       "75%                     1.00000       0.00000  \n",
       "max                     1.00000      44.00000  "
      ]
     },
     "execution_count": 127,
     "metadata": {},
     "output_type": "execute_result"
    }
   ],
   "source": [
    "# data description\n",
    "tweets.describe().apply(lambda s: s.apply('{0:.5f}'.format))"
   ]
  },
  {
   "cell_type": "markdown",
   "metadata": {},
   "source": [
    "# Understand of data columns"
   ]
  },
  {
   "cell_type": "code",
   "execution_count": 128,
   "metadata": {},
   "outputs": [
    {
     "data": {
      "text/plain": [
       "Index(['tweet_id', 'airline_sentiment', 'airline_sentiment_confidence',\n",
       "       'negativereason', 'negativereason_confidence', 'airline',\n",
       "       'airline_sentiment_gold', 'name', 'negativereason_gold',\n",
       "       'retweet_count', 'text', 'tweet_coord', 'tweet_created',\n",
       "       'tweet_location', 'user_timezone'],\n",
       "      dtype='object')"
      ]
     },
     "execution_count": 128,
     "metadata": {},
     "output_type": "execute_result"
    }
   ],
   "source": [
    "# Displaying the columns in the dataset\n",
    "tweets.columns"
   ]
  },
  {
   "cell_type": "code",
   "execution_count": 129,
   "metadata": {},
   "outputs": [
    {
     "data": {
      "text/plain": [
       "(14640, 2)"
      ]
     },
     "execution_count": 129,
     "metadata": {},
     "output_type": "execute_result"
    }
   ],
   "source": [
    "# Dropping all the columns except 'text' and 'airline_sentiment' and updating the tweets dataset using inplace=True\n",
    "tweets.drop(tweets.columns.difference(['text', 'airline_sentiment']), axis=1, inplace=True)\n",
    "# Displaying the shape of the dataset after removing other columns\n",
    "tweets.shape"
   ]
  },
  {
   "cell_type": "markdown",
   "metadata": {},
   "source": [
    "### Insigths:\n",
    "\n",
    "`The dataset now has 14640 tweets with 2 columns`"
   ]
  },
  {
   "cell_type": "code",
   "execution_count": 130,
   "metadata": {},
   "outputs": [
    {
     "data": {
      "text/html": [
       "<div>\n",
       "<style scoped>\n",
       "    .dataframe tbody tr th:only-of-type {\n",
       "        vertical-align: middle;\n",
       "    }\n",
       "\n",
       "    .dataframe tbody tr th {\n",
       "        vertical-align: top;\n",
       "    }\n",
       "\n",
       "    .dataframe thead th {\n",
       "        text-align: right;\n",
       "    }\n",
       "</style>\n",
       "<table border=\"1\" class=\"dataframe\">\n",
       "  <thead>\n",
       "    <tr style=\"text-align: right;\">\n",
       "      <th></th>\n",
       "      <th>airline_sentiment</th>\n",
       "      <th>text</th>\n",
       "    </tr>\n",
       "  </thead>\n",
       "  <tbody>\n",
       "    <tr>\n",
       "      <th>0</th>\n",
       "      <td>neutral</td>\n",
       "      <td>@VirginAmerica What @dhepburn said.</td>\n",
       "    </tr>\n",
       "    <tr>\n",
       "      <th>1</th>\n",
       "      <td>positive</td>\n",
       "      <td>@VirginAmerica plus you've added commercials to the experience... tacky.</td>\n",
       "    </tr>\n",
       "    <tr>\n",
       "      <th>2</th>\n",
       "      <td>neutral</td>\n",
       "      <td>@VirginAmerica I didn't today... Must mean I need to take another trip!</td>\n",
       "    </tr>\n",
       "    <tr>\n",
       "      <th>3</th>\n",
       "      <td>negative</td>\n",
       "      <td>@VirginAmerica it's really aggressive to blast obnoxious \"entertainment\" in your guests' faces &amp;amp; they have little recourse</td>\n",
       "    </tr>\n",
       "    <tr>\n",
       "      <th>4</th>\n",
       "      <td>negative</td>\n",
       "      <td>@VirginAmerica and it's a really big bad thing about it</td>\n",
       "    </tr>\n",
       "  </tbody>\n",
       "</table>\n",
       "</div>"
      ],
      "text/plain": [
       "  airline_sentiment  \\\n",
       "0           neutral   \n",
       "1          positive   \n",
       "2           neutral   \n",
       "3          negative   \n",
       "4          negative   \n",
       "\n",
       "                                                                                                                             text  \n",
       "0                                                                                             @VirginAmerica What @dhepburn said.  \n",
       "1                                                        @VirginAmerica plus you've added commercials to the experience... tacky.  \n",
       "2                                                         @VirginAmerica I didn't today... Must mean I need to take another trip!  \n",
       "3  @VirginAmerica it's really aggressive to blast obnoxious \"entertainment\" in your guests' faces &amp; they have little recourse  \n",
       "4                                                                         @VirginAmerica and it's a really big bad thing about it  "
      ]
     },
     "execution_count": 130,
     "metadata": {},
     "output_type": "execute_result"
    }
   ],
   "source": [
    "# Displaying the 5 rows after removing the other columns data\n",
    "tweets.head()"
   ]
  },
  {
   "cell_type": "markdown",
   "metadata": {},
   "source": [
    "### Insights:\n",
    "\n",
    "`airline_sentiment column has the classes like negative, neutral and positive hence its our target column`\n",
    "\n",
    "`The text column has text with special characters, html codes.. etc. we need to clean the text`"
   ]
  },
  {
   "cell_type": "code",
   "execution_count": 131,
   "metadata": {},
   "outputs": [
    {
     "data": {
      "image/png": "[encoded data removed]",
      "text/plain": [
       "<Figure size 1080x504 with 1 Axes>"
      ]
     },
     "metadata": {
      "needs_background": "light"
     },
     "output_type": "display_data"
    }
   ],
   "source": [
    "# Plotting count plot of airline_sentiment\n",
    "plt.figure(figsize=(15,7))\n",
    "sns.countplot(tweets['airline_sentiment'])\n",
    "plt.show()"
   ]
  },
  {
   "cell_type": "markdown",
   "metadata": {},
   "source": [
    "### Insights:\n",
    "\n",
    "`The dataset has tweets with negative sentiment more`"
   ]
  },
  {
   "cell_type": "markdown",
   "metadata": {},
   "source": [
    "# Text Pre-Processing"
   ]
  },
  {
   "cell_type": "code",
   "execution_count": 132,
   "metadata": {},
   "outputs": [
    {
     "data": {
      "text/plain": [
       "'@VirginAmerica it\\'s really aggressive to blast obnoxious \"entertainment\" in your guests\\' faces &amp; they have little recourse'"
      ]
     },
     "execution_count": 132,
     "metadata": {},
     "output_type": "execute_result"
    }
   ],
   "source": [
    "# Reading a sample tweet from the dataset so that we can verify the output of each preprocessing function\n",
    "sample_tweet= tweets['text'][3]\n",
    "sample_tweet"
   ]
  },
  {
   "cell_type": "markdown",
   "metadata": {},
   "source": [
    "### Insigths:\n",
    "\n",
    "`The text has special characters like @, \" and has contractions (It's, guests'). It also has html code &amp;`"
   ]
  },
  {
   "cell_type": "code",
   "execution_count": 133,
   "metadata": {},
   "outputs": [],
   "source": [
    "# Function to remove html tags in the text.\n",
    "# The function uses BeautifulSoup to remove the html tags\n",
    "def remove_html_tags(text):\n",
    "    soup = BeautifulSoup(text, 'html.parser')\n",
    "    return soup.get_text()"
   ]
  },
  {
   "cell_type": "code",
   "execution_count": 134,
   "metadata": {},
   "outputs": [
    {
     "data": {
      "text/plain": [
       "'@VirginAmerica it\\'s really aggressive to blast obnoxious \"entertainment\" in your guests\\' faces & they have little recourse'"
      ]
     },
     "execution_count": 134,
     "metadata": {},
     "output_type": "execute_result"
    }
   ],
   "source": [
    "# Removing html tags from the sample tweet and updating it\n",
    "sample_tweet = remove_html_tags(sample_tweet)\n",
    "sample_tweet"
   ]
  },
  {
   "cell_type": "markdown",
   "metadata": {},
   "source": [
    "### Insigths:\n",
    "\n",
    "`remove_html_tags removed the html code &amp; from sample tweet text`"
   ]
  },
  {
   "cell_type": "code",
   "execution_count": 135,
   "metadata": {},
   "outputs": [],
   "source": [
    "# Function to create tokens from a given text. Uses ToktokTokenizer from nltk library\n",
    "def tokenize(text):\n",
    "    toktok = ToktokTokenizer()\n",
    "    # Overridding toktok instance fields as the default one is converting & to amp. \n",
    "    # The following code overrides that behaviour\n",
    "    toktok.AMPERCENT = re.compile('& '), '& '\n",
    "    toktok.TOKTOK_REGEXES = [(regex, sub) if sub != '&amp; ' else (re.compile('& '), '& ') for (regex, sub) in\n",
    "                            ToktokTokenizer.TOKTOK_REGEXES]\n",
    "\n",
    "    tokens = toktok.tokenize(text)\n",
    "    return [token.strip() for token in tokens]"
   ]
  },
  {
   "cell_type": "code",
   "execution_count": 136,
   "metadata": {
    "scrolled": true
   },
   "outputs": [
    {
     "name": "stdout",
     "output_type": "stream",
     "text": [
      "['@VirginAmerica', 'it', \"'\", 's', 'really', 'aggressive', 'to', 'blast', 'obnoxious', '\"', 'entertainment', '\"', 'in', 'your', 'guests', \"'\", 'faces', '&', 'they', 'have', 'little', 'recourse']\n"
     ]
    }
   ],
   "source": [
    "# Tokenizing sample tweet and creating sample_tweet_tokens list\n",
    "sample_tweet_tokens = tokenize(sample_tweet)\n",
    "print(sample_tweet_tokens)"
   ]
  },
  {
   "cell_type": "markdown",
   "metadata": {},
   "source": [
    "## Insigths:\n",
    "\n",
    "`We can see it tokenized the entire sentense in to a list of words`"
   ]
  },
  {
   "cell_type": "code",
   "execution_count": 137,
   "metadata": {},
   "outputs": [],
   "source": [
    "# Function to remove numbers, uses regular expression to replace numbers with empty string\n",
    "def remove_numbers(tokens):\n",
    "    return [re.sub(r'\\d+', '', token) for token in tokens]"
   ]
  },
  {
   "cell_type": "code",
   "execution_count": 138,
   "metadata": {},
   "outputs": [
    {
     "name": "stdout",
     "output_type": "stream",
     "text": [
      "['@VirginAmerica', 'it', \"'\", 's', 'really', 'aggressive', 'to', 'blast', 'obnoxious', '\"', 'entertainment', '\"', 'in', 'your', 'guests', \"'\", 'faces', '&', 'they', 'have', 'little', 'recourse']\n"
     ]
    }
   ],
   "source": [
    "# Removing numbers if present in the sample tweet tokens\n",
    "sample_tweet_tokens = remove_numbers(sample_tweet_tokens)\n",
    "print(sample_tweet_tokens)"
   ]
  },
  {
   "cell_type": "markdown",
   "metadata": {},
   "source": [
    "## Insigths:\n",
    "\n",
    "`There is no change to the tokens list as there are no numbers present in the given list`"
   ]
  },
  {
   "cell_type": "code",
   "execution_count": 139,
   "metadata": {},
   "outputs": [],
   "source": [
    "# Function to transform accented characters if any in to closest english characters\n",
    "def transform_accented_chars(tokens):\n",
    "    return [unicodedata.normalize('NFKD', token).encode('ascii', 'ignore').decode('utf-8', 'ignore') for token in tokens]"
   ]
  },
  {
   "cell_type": "code",
   "execution_count": 140,
   "metadata": {},
   "outputs": [
    {
     "name": "stdout",
     "output_type": "stream",
     "text": [
      "['@VirginAmerica', 'it', \"'\", 's', 'really', 'aggressive', 'to', 'blast', 'obnoxious', '\"', 'entertainment', '\"', 'in', 'your', 'guests', \"'\", 'faces', '&', 'they', 'have', 'little', 'recourse']\n"
     ]
    }
   ],
   "source": [
    "# Transforming accented characters if any in the sample tweet tokens array\n",
    "sample_tweet_tokens = transform_accented_chars(sample_tweet_tokens)\n",
    "print(sample_tweet_tokens)"
   ]
  },
  {
   "cell_type": "markdown",
   "metadata": {},
   "source": [
    "## Insigths:\n",
    "\n",
    "`There is no change to the tokens list as there are no accented characters`"
   ]
  },
  {
   "cell_type": "code",
   "execution_count": 141,
   "metadata": {},
   "outputs": [],
   "source": [
    "# Function to remove special characters, uses regular expression to replace special characters with empty string\n",
    "def remove_special_chars(tokens):\n",
    "    return [re.sub(r'[^a-zA-z\\s]', '', token) for token in tokens]"
   ]
  },
  {
   "cell_type": "code",
   "execution_count": 142,
   "metadata": {},
   "outputs": [
    {
     "name": "stdout",
     "output_type": "stream",
     "text": [
      "['VirginAmerica', 'it', '', 's', 'really', 'aggressive', 'to', 'blast', 'obnoxious', '', 'entertainment', '', 'in', 'your', 'guests', '', 'faces', '', 'they', 'have', 'little', 'recourse']\n"
     ]
    }
   ],
   "source": [
    "# Removing special characters from sample tweet tokens\n",
    "sample_tweet_tokens = remove_special_chars(sample_tweet_tokens)\n",
    "print(sample_tweet_tokens)"
   ]
  },
  {
   "cell_type": "markdown",
   "metadata": {},
   "source": [
    "## Insigths:\n",
    "\n",
    "`It replaced special characters with empty string. For instance @VirginAmerica is converted to VirginAmerica by removing the special character @`"
   ]
  },
  {
   "cell_type": "code",
   "execution_count": 143,
   "metadata": {},
   "outputs": [],
   "source": [
    "# Function to remove punctuations, uses regular expression to remove punctuations \n",
    "def remove_punctuations(tokens):\n",
    "    return [re.sub(r'[^\\w\\s]','', token) for token in tokens]"
   ]
  },
  {
   "cell_type": "code",
   "execution_count": 144,
   "metadata": {},
   "outputs": [
    {
     "name": "stdout",
     "output_type": "stream",
     "text": [
      "['VirginAmerica', 'it', '', 's', 'really', 'aggressive', 'to', 'blast', 'obnoxious', '', 'entertainment', '', 'in', 'your', 'guests', '', 'faces', '', 'they', 'have', 'little', 'recourse']\n"
     ]
    }
   ],
   "source": [
    "# Removing punctuations from sample tweet tokens list\n",
    "sample_tweet_tokens = remove_punctuations(sample_tweet_tokens)\n",
    "print(sample_tweet_tokens)"
   ]
  },
  {
   "cell_type": "markdown",
   "metadata": {},
   "source": [
    "## Insigths:\n",
    "\n",
    "`There is no change to the tokens list as there are no punctuations present in the list`"
   ]
  },
  {
   "cell_type": "code",
   "execution_count": 145,
   "metadata": {},
   "outputs": [],
   "source": [
    "# Function to replace contractions, uses contractions library\n",
    "def replace_contractions(tokens):\n",
    "    return [contractions.fix(token) for token in tokens]"
   ]
  },
  {
   "cell_type": "code",
   "execution_count": 147,
   "metadata": {},
   "outputs": [
    {
     "name": "stdout",
     "output_type": "stream",
     "text": [
      "['VirginAmerica', 'it', '', 's', 'really', 'aggressive', 'to', 'blast', 'obnoxious', '', 'entertainment', '', 'in', 'your', 'guests', '', 'faces', '', 'they', 'have', 'little', 'recourse']\n"
     ]
    }
   ],
   "source": [
    "# Replacing contractions from sample tweet tokens list\n",
    "sample_tweet_tokens = replace_contractions(sample_tweet_tokens)\n",
    "print(sample_tweet_tokens)"
   ]
  },
  {
   "cell_type": "markdown",
   "metadata": {},
   "source": [
    "## Insigths:\n",
    "\n",
    "`There is no change to the tokens list as there are no contractions present in the list`"
   ]
  },
  {
   "cell_type": "code",
   "execution_count": 148,
   "metadata": {},
   "outputs": [],
   "source": [
    "# Function to remove stopwords. \n",
    "def remove_stop_words(tokens):\n",
    "    stop_words = nltk.corpus.stopwords.words('english')\n",
    "    list_of_words_to_keep = ['not', \"couldn't\", 'didn', \"didn't\", 'doesn', \"doesn't\", 'hadn', \"hadn't\", 'hasn',\n",
    "        \"hasn't\", 'haven', \"haven't\", 'isn', \"isn't\", 'ma', 'mightn', \"mightn't\", 'mustn',\n",
    "        \"mustn't\", 'needn', \"needn't\", 'shan', \"shan't\", 'shouldn', \"shouldn't\", 'wasn',\n",
    "        \"wasn't\", 'weren', \"weren't\", 'won', \"won't\", 'wouldn', \"wouldn't\"]\n",
    "    # Removing the above list of words the stop words list so that we can keep these words in the original tokens/text\n",
    "    stop_words = list(set(stop_words) - set(list_of_words_to_keep))\n",
    "    return [token for token in tokens if token not in stop_words]\n"
   ]
  },
  {
   "cell_type": "code",
   "execution_count": 149,
   "metadata": {},
   "outputs": [
    {
     "name": "stdout",
     "output_type": "stream",
     "text": [
      "['VirginAmerica', '', 'really', 'aggressive', 'blast', 'obnoxious', '', 'entertainment', '', 'guests', '', 'faces', '', 'little', 'recourse']\n"
     ]
    }
   ],
   "source": [
    "# Removing stop words from sample tweet tokens list\n",
    "sample_tweet_tokens = remove_stop_words(sample_tweet_tokens)\n",
    "print(sample_tweet_tokens)"
   ]
  },
  {
   "cell_type": "markdown",
   "metadata": {},
   "source": [
    "## Insigths:\n",
    "\n",
    "`The sample_tweet_tokens list is shrinked as we removed the stop words like it, s, to, in, your..etc from the list`"
   ]
  },
  {
   "cell_type": "code",
   "execution_count": 150,
   "metadata": {},
   "outputs": [],
   "source": [
    "# Function to convert the text to lower case\n",
    "def to_lower(tokens):\n",
    "    return [token.lower() for token in tokens]"
   ]
  },
  {
   "cell_type": "code",
   "execution_count": 151,
   "metadata": {},
   "outputs": [
    {
     "name": "stdout",
     "output_type": "stream",
     "text": [
      "['virginamerica', '', 'really', 'aggressive', 'blast', 'obnoxious', '', 'entertainment', '', 'guests', '', 'faces', '', 'little', 'recourse']\n"
     ]
    }
   ],
   "source": [
    "# converting the sample tweet tokens into lower case letters\n",
    "sample_tweet_tokens = to_lower(sample_tweet_tokens)\n",
    "print(sample_tweet_tokens)"
   ]
  },
  {
   "cell_type": "markdown",
   "metadata": {},
   "source": [
    "## Insigths:\n",
    "\n",
    "`The tokens in sample_tweet_tokens list are now lowercase words.`"
   ]
  },
  {
   "cell_type": "code",
   "execution_count": 152,
   "metadata": {},
   "outputs": [],
   "source": [
    "# Function to perform Lemmatization\n",
    "def perform_lemmatization(tokens):\n",
    "    lemmatizer = nltk.stem.WordNetLemmatizer()\n",
    "    return [lemmatizer.lemmatize(token) for token in tokens]"
   ]
  },
  {
   "cell_type": "code",
   "execution_count": 153,
   "metadata": {},
   "outputs": [
    {
     "data": {
      "text/plain": [
       "'virginamerica really aggressive blast obnoxious entertainment guest face little recourse'"
      ]
     },
     "execution_count": 153,
     "metadata": {},
     "output_type": "execute_result"
    }
   ],
   "source": [
    "# Lemmatizing the sample tweet tokens and joining the tokens to form a sentence. \n",
    "# While joining we eliminated tokens that are just spaces using filter function\n",
    "sample_tweet_tokens = perform_lemmatization(sample_tweet_tokens)\n",
    "' '.join(filter(None, sample_tweet_tokens))"
   ]
  },
  {
   "cell_type": "markdown",
   "metadata": {},
   "source": [
    "## Insigths:\n",
    "\n",
    "`Lemmatization converted the tokens into base words. for example guests and faces are converted to guest and face respectively`"
   ]
  },
  {
   "cell_type": "code",
   "execution_count": 154,
   "metadata": {},
   "outputs": [],
   "source": [
    "# A consolidated text preprocessing function which calls all the above pre processing functions for every text in the\n",
    "# tweets dataframe.\n",
    "def preprocess(df):\n",
    "    tweets = df['text']\n",
    "    # create an empty list to hold the pre-processed text\n",
    "    preprocessed_text = []\n",
    "    # loop through every tweet in the dataframe\n",
    "    for tweet in tweets:\n",
    "        # remove html tags from tweet\n",
    "        tweet = remove_html_tags(tweet)\n",
    "        # tokenize the tweet\n",
    "        tokens = tokenize(tweet)\n",
    "        # transform the accented characters\n",
    "        tokens = transform_accented_chars(tokens)\n",
    "        # remove numbers from tokens\n",
    "        tokens = remove_numbers(tokens)\n",
    "        # remove special characters from tokens\n",
    "        tokens = remove_special_chars(tokens)\n",
    "        # remove punctuations from tokens\n",
    "        tokens = remove_punctuations(tokens)\n",
    "        # replace contractions from tokens\n",
    "        tokens = replace_contractions(tokens)\n",
    "        # remove stopwords from tokens\n",
    "        tokens = remove_stop_words(tokens)\n",
    "        # convert tokens to lowercase\n",
    "        tokens = to_lower(tokens)\n",
    "        # perform lemmatization of tokens\n",
    "        tokens = perform_lemmatization(tokens)\n",
    "        # join the tokens to form the sentence back, filter the tokens that are just empty spaces\n",
    "        text = ' '.join(filter(None,tokens))\n",
    "        # add the pre processed or cleansed text to preprocessed_text list\n",
    "        preprocessed_text.append(text)\n",
    "    return preprocessed_text"
   ]
  },
  {
   "cell_type": "code",
   "execution_count": 155,
   "metadata": {},
   "outputs": [
    {
     "data": {
      "text/plain": [
       "['virginamerica what dhepburn said',\n",
       " 'virginamerica plus added commercial experience tacky',\n",
       " 'virginamerica i didn today must mean i need take another trip',\n",
       " 'virginamerica really aggressive blast obnoxious entertainment guest face little recourse',\n",
       " 'virginamerica really big bad thing']"
      ]
     },
     "execution_count": 155,
     "metadata": {},
     "output_type": "execute_result"
    }
   ],
   "source": [
    "# Invoking preprocess function to process all tweets\n",
    "preprocessed_tweets = preprocess(tweets)\n",
    "# Displaying first 5 tweets after pre processing\n",
    "preprocessed_tweets[0:5]"
   ]
  },
  {
   "cell_type": "markdown",
   "metadata": {},
   "source": [
    "##### Original tweet text\n",
    "<p>@VirginAmerica What @dhepburn said.</p>\n",
    "<p>@VirginAmerica plus you've added commercials to the experience... tacky.</p>\n",
    "<p>@VirginAmerica I didn't today... Must mean I need to take another trip!</p>\n",
    "<p>@VirginAmerica it's really aggressive to blast obnoxious \"entertainment\" in your guests' faces &amp; they have little recourse</p>\n",
    "<p>@VirginAmerica and it's a really big bad thing about it</p>\n",
    "\n",
    "##### Pre-processed tweet text\n",
    "<p>virginamerica what dhepburn said</p>\n",
    "<p>virginamerica plus added commercial experience tacky</p>\n",
    "<p>virginamerica i didn today must mean i need take another trip</p>\n",
    "<p>virginamerica really aggressive blast obnoxious entertainment guest face little recourse</p>\n",
    "<p>virginamerica really big bad thing</p>\n",
    "\n",
    "### Insights:\n",
    "<ol>\n",
    "    <li> The preprocessing removed special characters like <b>@, ..., \", \" </b>..etc. It also removed html codes like <b>& amp;</b></li>\n",
    "    <li> The preprocessing removed stop words like <b>It's, you've</b>..etc</li>\n",
    "    <li> Data preprocessing removed punctuations like <b>'!'</b>.</li>\n",
    "    <li> Proceprocessing converted every text into lowercase</li>\n",
    "    <li> The preprocessing converted the words into root form by using lemmatization. For instance,  <b>guests faces </b>got converted to <b>guest face</b></li>\n",
    "</ol>"
   ]
  },
  {
   "cell_type": "markdown",
   "metadata": {},
   "source": [
    "# Vecrtorization"
   ]
  },
  {
   "cell_type": "code",
   "execution_count": 156,
   "metadata": {},
   "outputs": [],
   "source": [
    "# Function to convert the text into numerical values using CountVectorizer\n",
    "def count_vectorize(data):\n",
    "    # instantiate CountVectorizer instance with max_features = 1000\n",
    "    vectorizer = CountVectorizer(max_features=1000)\n",
    "    # fit and transform the data\n",
    "    vectorized_features = vectorizer.fit_transform(data)\n",
    "    # convert the data to an array and return\n",
    "    return vectorized_features.toarray()"
   ]
  },
  {
   "cell_type": "code",
   "execution_count": 157,
   "metadata": {},
   "outputs": [],
   "source": [
    "# Function to convert the text into numerical values using TfidfVectorizer\n",
    "def tfidf_vectorize(data):\n",
    "    # instantiate TfidfVectorizer instance with max_features = 1000\n",
    "    vectorizer = TfidfVectorizer(max_features=1000)\n",
    "    # fit and transform the data\n",
    "    vectorized_features = vectorizer.fit_transform(data)\n",
    "    # convert the data to an array and return\n",
    "    return vectorized_features.toarray()"
   ]
  },
  {
   "cell_type": "code",
   "execution_count": 158,
   "metadata": {},
   "outputs": [
    {
     "data": {
      "text/plain": [
       "array([[0, 0, 0, ..., 0, 0, 0],\n",
       "       [0, 0, 0, ..., 0, 0, 0],\n",
       "       [0, 0, 0, ..., 0, 0, 0],\n",
       "       ...,\n",
       "       [0, 0, 0, ..., 0, 0, 0],\n",
       "       [0, 0, 0, ..., 0, 0, 0],\n",
       "       [0, 0, 0, ..., 0, 0, 0]])"
      ]
     },
     "execution_count": 158,
     "metadata": {},
     "output_type": "execute_result"
    }
   ],
   "source": [
    "# Converting preprocessed tweets into numerical values using CountVectorizer\n",
    "count_vectorized_tweets = count_vectorize(preprocessed_tweets)\n",
    "# Displaying the count vector\n",
    "count_vectorized_tweets"
   ]
  },
  {
   "cell_type": "code",
   "execution_count": 159,
   "metadata": {},
   "outputs": [
    {
     "data": {
      "text/plain": [
       "(14640, 1000)"
      ]
     },
     "execution_count": 159,
     "metadata": {},
     "output_type": "execute_result"
    }
   ],
   "source": [
    "# Displaying the shape after count vectorization\n",
    "count_vectorized_tweets.shape"
   ]
  },
  {
   "cell_type": "markdown",
   "metadata": {},
   "source": [
    "### Insights:\n",
    "\n",
    "`After count vectorization, we have 14640 rows with 1000 features`"
   ]
  },
  {
   "cell_type": "code",
   "execution_count": 160,
   "metadata": {},
   "outputs": [
    {
     "data": {
      "text/plain": [
       "array([0, 0, 0, 0, 0, 0, 0, 0, 0, 0, 0, 0, 0, 0, 0, 0, 0, 0, 0, 0, 0, 0,\n",
       "       0, 0, 0, 0, 0, 0, 0, 0, 0, 0, 0, 0, 0, 0, 0, 0, 0, 0, 0, 0, 0, 0,\n",
       "       0, 0, 0, 0, 0, 0, 0, 0, 0, 0, 0, 0, 0, 0, 0, 0, 0, 0, 0, 0, 0, 0,\n",
       "       0, 0, 0, 0, 0, 0, 0, 0, 0, 0, 0, 0, 0, 0, 0, 0, 0, 0, 0, 0, 0, 0,\n",
       "       0, 0, 0, 0, 0, 0, 0, 0, 0, 0, 0, 0, 0, 0, 0, 0, 0, 0, 0, 0, 0, 0,\n",
       "       0, 0, 0, 0, 0, 0, 0, 0, 0, 0, 0, 0, 0, 0, 0, 0, 0, 0, 0, 0, 0, 0,\n",
       "       0, 0, 0, 0, 0, 0, 0, 0, 0, 0, 0, 0, 0, 0, 0, 0, 0, 0, 0, 0, 0, 0,\n",
       "       0, 0, 0, 0, 0, 0, 0, 0, 0, 0, 0, 0, 0, 0, 0, 0, 0, 0, 0, 0, 0, 0,\n",
       "       0, 0, 0, 0, 0, 0, 0, 0, 0, 0, 0, 0, 0, 0, 0, 0, 0, 0, 0, 0, 0, 0,\n",
       "       0, 0, 0, 0, 0, 0, 0, 0, 0, 0, 0, 0, 0, 0, 0, 0, 0, 0, 0, 0, 0, 0,\n",
       "       0, 0, 0, 0, 0, 0, 0, 0, 0, 0, 0, 0, 0, 0, 0, 0, 0, 0, 0, 0, 0, 0,\n",
       "       0, 0, 0, 0, 0, 0, 0, 0, 0, 0, 0, 0, 0, 0, 0, 0, 0, 0, 0, 0, 0, 0,\n",
       "       0, 0, 0, 0, 0, 0, 0, 0, 0, 0, 0, 0, 0, 0, 0, 0, 0, 0, 0, 0, 0, 0,\n",
       "       0, 0, 0, 0, 0, 0, 0, 0, 0, 0, 0, 0, 0, 0, 0, 0, 0, 0, 0, 0, 0, 0,\n",
       "       0, 0, 0, 0, 0, 0, 0, 0, 0, 0, 0, 0, 0, 0, 0, 0, 0, 0, 0, 0, 0, 0,\n",
       "       0, 0, 0, 0, 0, 0, 0, 0, 0, 0, 0, 0, 0, 0, 0, 0, 0, 0, 0, 0, 0, 0,\n",
       "       0, 0, 0, 0, 0, 0, 0, 0, 0, 0, 0, 0, 0, 0, 0, 0, 0, 0, 0, 0, 0, 0,\n",
       "       0, 0, 0, 0, 0, 0, 0, 0, 0, 0, 0, 0, 0, 0, 0, 0, 0, 0, 0, 0, 0, 0,\n",
       "       0, 0, 0, 0, 0, 0, 0, 0, 0, 0, 0, 0, 0, 0, 0, 0, 0, 0, 0, 0, 0, 0,\n",
       "       0, 0, 0, 0, 0, 0, 0, 0, 0, 0, 0, 0, 0, 0, 0, 0, 0, 0, 0, 0, 0, 0,\n",
       "       0, 0, 0, 0, 0, 0, 0, 0, 0, 0, 0, 0, 0, 0, 0, 0, 0, 0, 0, 0, 0, 0,\n",
       "       0, 0, 0, 0, 0, 0, 0, 0, 0, 0, 0, 0, 0, 0, 0, 0, 0, 0, 0, 0, 0, 0,\n",
       "       0, 0, 0, 0, 0, 0, 0, 0, 0, 0, 0, 0, 0, 0, 0, 0, 0, 0, 0, 0, 0, 0,\n",
       "       0, 0, 0, 0, 0, 0, 0, 0, 0, 0, 0, 0, 0, 0, 0, 0, 0, 0, 0, 0, 0, 0,\n",
       "       0, 0, 0, 0, 0, 0, 0, 0, 0, 0, 0, 0, 0, 0, 0, 0, 0, 0, 0, 0, 0, 0,\n",
       "       0, 0, 0, 0, 0, 0, 0, 0, 0, 0, 0, 0, 0, 0, 0, 0, 0, 0, 0, 0, 0, 0,\n",
       "       0, 0, 0, 0, 0, 0, 0, 0, 0, 0, 0, 0, 0, 0, 0, 0, 0, 0, 0, 0, 0, 0,\n",
       "       0, 0, 0, 0, 0, 0, 0, 0, 0, 0, 0, 0, 0, 0, 0, 0, 0, 0, 0, 0, 0, 0,\n",
       "       0, 0, 0, 0, 0, 0, 0, 0, 0, 0, 0, 0, 0, 0, 0, 0, 0, 0, 0, 0, 0, 0,\n",
       "       0, 0, 0, 0, 0, 0, 0, 0, 0, 0, 0, 0, 0, 0, 0, 0, 0, 0, 0, 0, 0, 0,\n",
       "       0, 0, 0, 0, 0, 0, 0, 0, 0, 0, 0, 0, 0, 0, 0, 0, 0, 0, 0, 0, 0, 0,\n",
       "       0, 0, 0, 0, 0, 0, 0, 0, 0, 0, 0, 0, 0, 0, 0, 0, 0, 0, 0, 0, 0, 0,\n",
       "       0, 0, 0, 0, 0, 0, 0, 0, 0, 0, 0, 0, 0, 0, 0, 0, 0, 0, 0, 0, 0, 0,\n",
       "       0, 0, 0, 0, 0, 1, 0, 0, 0, 0, 0, 0, 0, 0, 0, 0, 0, 0, 0, 0, 0, 0,\n",
       "       0, 0, 0, 0, 0, 0, 0, 0, 0, 0, 0, 0, 0, 0, 0, 0, 0, 0, 0, 0, 0, 0,\n",
       "       0, 0, 0, 0, 0, 0, 0, 0, 0, 0, 0, 0, 0, 0, 0, 0, 0, 0, 0, 0, 0, 0,\n",
       "       0, 0, 0, 0, 0, 0, 0, 0, 0, 0, 0, 0, 0, 0, 0, 0, 0, 0, 0, 0, 0, 0,\n",
       "       0, 0, 0, 0, 0, 0, 0, 0, 0, 0, 0, 0, 0, 0, 0, 0, 0, 0, 0, 0, 0, 0,\n",
       "       0, 0, 0, 0, 0, 0, 0, 0, 0, 0, 0, 0, 0, 0, 0, 0, 0, 0, 0, 0, 0, 0,\n",
       "       0, 0, 0, 0, 0, 0, 0, 0, 0, 0, 0, 0, 0, 0, 0, 0, 0, 0, 0, 0, 0, 0,\n",
       "       0, 0, 0, 0, 0, 0, 0, 0, 0, 0, 0, 0, 0, 0, 0, 0, 0, 0, 0, 0, 0, 0,\n",
       "       0, 0, 0, 0, 0, 0, 0, 0, 0, 0, 0, 0, 0, 0, 0, 0, 0, 0, 0, 0, 0, 0,\n",
       "       0, 0, 0, 0, 0, 0, 0, 0, 0, 1, 0, 0, 0, 0, 0, 0, 0, 0, 0, 0, 0, 0,\n",
       "       0, 0, 0, 0, 0, 0, 0, 0, 0, 0, 0, 1, 0, 0, 0, 0, 0, 0, 0, 0, 0, 0,\n",
       "       0, 0, 0, 0, 0, 0, 0, 0, 0, 0, 0, 0, 0, 0, 0, 0, 0, 0, 0, 0, 0, 0,\n",
       "       0, 0, 0, 0, 0, 0, 0, 0, 0, 0])"
      ]
     },
     "execution_count": 160,
     "metadata": {},
     "output_type": "execute_result"
    }
   ],
   "source": [
    "# Displaying the first row\n",
    "count_vectorized_tweets[0]"
   ]
  },
  {
   "cell_type": "markdown",
   "metadata": {},
   "source": [
    "### Insights:\n",
    "\n",
    "`The count vector is a matrix of values 0 and 1 depending upon the word occurance`"
   ]
  },
  {
   "cell_type": "code",
   "execution_count": 161,
   "metadata": {},
   "outputs": [
    {
     "data": {
      "text/plain": [
       "array([[0., 0., 0., ..., 0., 0., 0.],\n",
       "       [0., 0., 0., ..., 0., 0., 0.],\n",
       "       [0., 0., 0., ..., 0., 0., 0.],\n",
       "       ...,\n",
       "       [0., 0., 0., ..., 0., 0., 0.],\n",
       "       [0., 0., 0., ..., 0., 0., 0.],\n",
       "       [0., 0., 0., ..., 0., 0., 0.]])"
      ]
     },
     "execution_count": 161,
     "metadata": {},
     "output_type": "execute_result"
    }
   ],
   "source": [
    "# Converting preprocessed tweets in to numerical values using TfidfVectorizer\n",
    "tfidf_vectorized_tweets = tfidf_vectorize(preprocessed_tweets)\n",
    "# Displaying the tfidf vector\n",
    "tfidf_vectorized_tweets"
   ]
  },
  {
   "cell_type": "code",
   "execution_count": 162,
   "metadata": {},
   "outputs": [
    {
     "data": {
      "text/plain": [
       "(14640, 1000)"
      ]
     },
     "execution_count": 162,
     "metadata": {},
     "output_type": "execute_result"
    }
   ],
   "source": [
    "# Displaying the shape after tfidf vectorization\n",
    "tfidf_vectorized_tweets.shape"
   ]
  },
  {
   "cell_type": "markdown",
   "metadata": {},
   "source": [
    "`After tfidf vectorization, we have 14640 rows with 1000 features`"
   ]
  },
  {
   "cell_type": "code",
   "execution_count": 163,
   "metadata": {},
   "outputs": [
    {
     "data": {
      "text/plain": [
       "array([0.        , 0.        , 0.        , 0.        , 0.        ,\n",
       "       0.        , 0.        , 0.        , 0.        , 0.        ,\n",
       "       0.        , 0.        , 0.        , 0.        , 0.        ,\n",
       "       0.        , 0.        , 0.        , 0.        , 0.        ,\n",
       "       0.        , 0.        , 0.        , 0.        , 0.        ,\n",
       "       0.        , 0.        , 0.        , 0.        , 0.        ,\n",
       "       0.        , 0.        , 0.        , 0.        , 0.        ,\n",
       "       0.        , 0.        , 0.        , 0.        , 0.        ,\n",
       "       0.        , 0.        , 0.        , 0.        , 0.        ,\n",
       "       0.        , 0.        , 0.        , 0.        , 0.        ,\n",
       "       0.        , 0.        , 0.        , 0.        , 0.        ,\n",
       "       0.        , 0.        , 0.        , 0.        , 0.        ,\n",
       "       0.        , 0.        , 0.        , 0.        , 0.        ,\n",
       "       0.        , 0.        , 0.        , 0.        , 0.        ,\n",
       "       0.        , 0.        , 0.        , 0.        , 0.        ,\n",
       "       0.        , 0.        , 0.        , 0.        , 0.        ,\n",
       "       0.        , 0.        , 0.        , 0.        , 0.        ,\n",
       "       0.        , 0.        , 0.        , 0.        , 0.        ,\n",
       "       0.        , 0.        , 0.        , 0.        , 0.        ,\n",
       "       0.        , 0.        , 0.        , 0.        , 0.        ,\n",
       "       0.        , 0.        , 0.        , 0.        , 0.        ,\n",
       "       0.        , 0.        , 0.        , 0.        , 0.        ,\n",
       "       0.        , 0.        , 0.        , 0.        , 0.        ,\n",
       "       0.        , 0.        , 0.        , 0.        , 0.        ,\n",
       "       0.        , 0.        , 0.        , 0.        , 0.        ,\n",
       "       0.        , 0.        , 0.        , 0.        , 0.        ,\n",
       "       0.        , 0.        , 0.        , 0.        , 0.        ,\n",
       "       0.        , 0.        , 0.        , 0.        , 0.        ,\n",
       "       0.        , 0.        , 0.        , 0.        , 0.        ,\n",
       "       0.        , 0.        , 0.        , 0.        , 0.        ,\n",
       "       0.        , 0.        , 0.        , 0.        , 0.        ,\n",
       "       0.        , 0.        , 0.        , 0.        , 0.        ,\n",
       "       0.        , 0.        , 0.        , 0.        , 0.        ,\n",
       "       0.        , 0.        , 0.        , 0.        , 0.        ,\n",
       "       0.        , 0.        , 0.        , 0.        , 0.        ,\n",
       "       0.        , 0.        , 0.        , 0.        , 0.        ,\n",
       "       0.        , 0.        , 0.        , 0.        , 0.        ,\n",
       "       0.        , 0.        , 0.        , 0.        , 0.        ,\n",
       "       0.        , 0.        , 0.        , 0.        , 0.        ,\n",
       "       0.        , 0.        , 0.        , 0.        , 0.        ,\n",
       "       0.        , 0.        , 0.        , 0.        , 0.        ,\n",
       "       0.        , 0.        , 0.        , 0.        , 0.        ,\n",
       "       0.        , 0.        , 0.        , 0.        , 0.        ,\n",
       "       0.        , 0.        , 0.        , 0.        , 0.        ,\n",
       "       0.        , 0.        , 0.        , 0.        , 0.        ,\n",
       "       0.        , 0.        , 0.        , 0.        , 0.        ,\n",
       "       0.        , 0.        , 0.        , 0.        , 0.        ,\n",
       "       0.        , 0.        , 0.        , 0.        , 0.        ,\n",
       "       0.        , 0.        , 0.        , 0.        , 0.        ,\n",
       "       0.        , 0.        , 0.        , 0.        , 0.        ,\n",
       "       0.        , 0.        , 0.        , 0.        , 0.        ,\n",
       "       0.        , 0.        , 0.        , 0.        , 0.        ,\n",
       "       0.        , 0.        , 0.        , 0.        , 0.        ,\n",
       "       0.        , 0.        , 0.        , 0.        , 0.        ,\n",
       "       0.        , 0.        , 0.        , 0.        , 0.        ,\n",
       "       0.        , 0.        , 0.        , 0.        , 0.        ,\n",
       "       0.        , 0.        , 0.        , 0.        , 0.        ,\n",
       "       0.        , 0.        , 0.        , 0.        , 0.        ,\n",
       "       0.        , 0.        , 0.        , 0.        , 0.        ,\n",
       "       0.        , 0.        , 0.        , 0.        , 0.        ,\n",
       "       0.        , 0.        , 0.        , 0.        , 0.        ,\n",
       "       0.        , 0.        , 0.        , 0.        , 0.        ,\n",
       "       0.        , 0.        , 0.        , 0.        , 0.        ,\n",
       "       0.        , 0.        , 0.        , 0.        , 0.        ,\n",
       "       0.        , 0.        , 0.        , 0.        , 0.        ,\n",
       "       0.        , 0.        , 0.        , 0.        , 0.        ,\n",
       "       0.        , 0.        , 0.        , 0.        , 0.        ,\n",
       "       0.        , 0.        , 0.        , 0.        , 0.        ,\n",
       "       0.        , 0.        , 0.        , 0.        , 0.        ,\n",
       "       0.        , 0.        , 0.        , 0.        , 0.        ,\n",
       "       0.        , 0.        , 0.        , 0.        , 0.        ,\n",
       "       0.        , 0.        , 0.        , 0.        , 0.        ,\n",
       "       0.        , 0.        , 0.        , 0.        , 0.        ,\n",
       "       0.        , 0.        , 0.        , 0.        , 0.        ,\n",
       "       0.        , 0.        , 0.        , 0.        , 0.        ,\n",
       "       0.        , 0.        , 0.        , 0.        , 0.        ,\n",
       "       0.        , 0.        , 0.        , 0.        , 0.        ,\n",
       "       0.        , 0.        , 0.        , 0.        , 0.        ,\n",
       "       0.        , 0.        , 0.        , 0.        , 0.        ,\n",
       "       0.        , 0.        , 0.        , 0.        , 0.        ,\n",
       "       0.        , 0.        , 0.        , 0.        , 0.        ,\n",
       "       0.        , 0.        , 0.        , 0.        , 0.        ,\n",
       "       0.        , 0.        , 0.        , 0.        , 0.        ,\n",
       "       0.        , 0.        , 0.        , 0.        , 0.        ,\n",
       "       0.        , 0.        , 0.        , 0.        , 0.        ,\n",
       "       0.        , 0.        , 0.        , 0.        , 0.        ,\n",
       "       0.        , 0.        , 0.        , 0.        , 0.        ,\n",
       "       0.        , 0.        , 0.        , 0.        , 0.        ,\n",
       "       0.        , 0.        , 0.        , 0.        , 0.        ,\n",
       "       0.        , 0.        , 0.        , 0.        , 0.        ,\n",
       "       0.        , 0.        , 0.        , 0.        , 0.        ,\n",
       "       0.        , 0.        , 0.        , 0.        , 0.        ,\n",
       "       0.        , 0.        , 0.        , 0.        , 0.        ,\n",
       "       0.        , 0.        , 0.        , 0.        , 0.        ,\n",
       "       0.        , 0.        , 0.        , 0.        , 0.        ,\n",
       "       0.        , 0.        , 0.        , 0.        , 0.        ,\n",
       "       0.        , 0.        , 0.        , 0.        , 0.        ,\n",
       "       0.        , 0.        , 0.        , 0.        , 0.        ,\n",
       "       0.        , 0.        , 0.        , 0.        , 0.        ,\n",
       "       0.        , 0.        , 0.        , 0.        , 0.        ,\n",
       "       0.        , 0.        , 0.        , 0.        , 0.        ,\n",
       "       0.        , 0.        , 0.        , 0.        , 0.        ,\n",
       "       0.        , 0.        , 0.        , 0.        , 0.        ,\n",
       "       0.        , 0.        , 0.        , 0.        , 0.        ,\n",
       "       0.        , 0.        , 0.        , 0.        , 0.        ,\n",
       "       0.        , 0.        , 0.        , 0.        , 0.        ,\n",
       "       0.        , 0.        , 0.        , 0.        , 0.        ,\n",
       "       0.        , 0.        , 0.        , 0.        , 0.        ,\n",
       "       0.        , 0.        , 0.        , 0.        , 0.        ,\n",
       "       0.        , 0.        , 0.        , 0.        , 0.        ,\n",
       "       0.        , 0.        , 0.        , 0.        , 0.        ,\n",
       "       0.        , 0.        , 0.        , 0.        , 0.        ,\n",
       "       0.        , 0.        , 0.        , 0.        , 0.        ,\n",
       "       0.        , 0.        , 0.        , 0.        , 0.        ,\n",
       "       0.        , 0.        , 0.        , 0.        , 0.        ,\n",
       "       0.        , 0.        , 0.        , 0.        , 0.        ,\n",
       "       0.        , 0.        , 0.        , 0.        , 0.        ,\n",
       "       0.        , 0.        , 0.        , 0.        , 0.        ,\n",
       "       0.        , 0.        , 0.        , 0.        , 0.        ,\n",
       "       0.        , 0.        , 0.        , 0.        , 0.        ,\n",
       "       0.        , 0.        , 0.        , 0.        , 0.        ,\n",
       "       0.        , 0.        , 0.        , 0.        , 0.        ,\n",
       "       0.        , 0.        , 0.        , 0.        , 0.        ,\n",
       "       0.        , 0.        , 0.        , 0.        , 0.        ,\n",
       "       0.        , 0.        , 0.        , 0.        , 0.        ,\n",
       "       0.        , 0.        , 0.        , 0.        , 0.        ,\n",
       "       0.        , 0.        , 0.        , 0.        , 0.        ,\n",
       "       0.        , 0.        , 0.        , 0.        , 0.        ,\n",
       "       0.        , 0.        , 0.        , 0.        , 0.        ,\n",
       "       0.        , 0.        , 0.        , 0.        , 0.        ,\n",
       "       0.        , 0.        , 0.        , 0.        , 0.        ,\n",
       "       0.        , 0.        , 0.        , 0.        , 0.        ,\n",
       "       0.        , 0.        , 0.        , 0.        , 0.        ,\n",
       "       0.        , 0.        , 0.        , 0.        , 0.        ,\n",
       "       0.        , 0.        , 0.        , 0.        , 0.        ,\n",
       "       0.        , 0.        , 0.        , 0.        , 0.        ,\n",
       "       0.        , 0.        , 0.        , 0.        , 0.        ,\n",
       "       0.        , 0.        , 0.        , 0.        , 0.        ,\n",
       "       0.        , 0.        , 0.        , 0.        , 0.        ,\n",
       "       0.        , 0.        , 0.        , 0.        , 0.        ,\n",
       "       0.        , 0.        , 0.        , 0.        , 0.        ,\n",
       "       0.        , 0.        , 0.        , 0.        , 0.        ,\n",
       "       0.        , 0.        , 0.        , 0.        , 0.        ,\n",
       "       0.        , 0.        , 0.        , 0.        , 0.        ,\n",
       "       0.        , 0.        , 0.        , 0.        , 0.        ,\n",
       "       0.        , 0.        , 0.        , 0.        , 0.        ,\n",
       "       0.        , 0.63328694, 0.        , 0.        , 0.        ,\n",
       "       0.        , 0.        , 0.        , 0.        , 0.        ,\n",
       "       0.        , 0.        , 0.        , 0.        , 0.        ,\n",
       "       0.        , 0.        , 0.        , 0.        , 0.        ,\n",
       "       0.        , 0.        , 0.        , 0.        , 0.        ,\n",
       "       0.        , 0.        , 0.        , 0.        , 0.        ,\n",
       "       0.        , 0.        , 0.        , 0.        , 0.        ,\n",
       "       0.        , 0.        , 0.        , 0.        , 0.        ,\n",
       "       0.        , 0.        , 0.        , 0.        , 0.        ,\n",
       "       0.        , 0.        , 0.        , 0.        , 0.        ,\n",
       "       0.        , 0.        , 0.        , 0.        , 0.        ,\n",
       "       0.        , 0.        , 0.        , 0.        , 0.        ,\n",
       "       0.        , 0.        , 0.        , 0.        , 0.        ,\n",
       "       0.        , 0.        , 0.        , 0.        , 0.        ,\n",
       "       0.        , 0.        , 0.        , 0.        , 0.        ,\n",
       "       0.        , 0.        , 0.        , 0.        , 0.        ,\n",
       "       0.        , 0.        , 0.        , 0.        , 0.        ,\n",
       "       0.        , 0.        , 0.        , 0.        , 0.        ,\n",
       "       0.        , 0.        , 0.        , 0.        , 0.        ,\n",
       "       0.        , 0.        , 0.        , 0.        , 0.        ,\n",
       "       0.        , 0.        , 0.        , 0.        , 0.        ,\n",
       "       0.        , 0.        , 0.        , 0.        , 0.        ,\n",
       "       0.        , 0.        , 0.        , 0.        , 0.        ,\n",
       "       0.        , 0.        , 0.        , 0.        , 0.        ,\n",
       "       0.        , 0.        , 0.        , 0.        , 0.        ,\n",
       "       0.        , 0.        , 0.        , 0.        , 0.        ,\n",
       "       0.        , 0.        , 0.        , 0.        , 0.        ,\n",
       "       0.        , 0.        , 0.        , 0.        , 0.        ,\n",
       "       0.        , 0.        , 0.        , 0.        , 0.        ,\n",
       "       0.        , 0.        , 0.        , 0.        , 0.        ,\n",
       "       0.        , 0.        , 0.        , 0.        , 0.        ,\n",
       "       0.        , 0.        , 0.        , 0.        , 0.        ,\n",
       "       0.        , 0.        , 0.        , 0.        , 0.        ,\n",
       "       0.        , 0.        , 0.        , 0.        , 0.        ,\n",
       "       0.        , 0.        , 0.        , 0.        , 0.        ,\n",
       "       0.        , 0.        , 0.        , 0.        , 0.        ,\n",
       "       0.        , 0.        , 0.        , 0.        , 0.        ,\n",
       "       0.        , 0.        , 0.        , 0.        , 0.        ,\n",
       "       0.        , 0.        , 0.        , 0.        , 0.        ,\n",
       "       0.        , 0.        , 0.        , 0.        , 0.        ,\n",
       "       0.        , 0.        , 0.        , 0.50793849, 0.        ,\n",
       "       0.        , 0.        , 0.        , 0.        , 0.        ,\n",
       "       0.        , 0.        , 0.        , 0.        , 0.        ,\n",
       "       0.        , 0.        , 0.        , 0.        , 0.        ,\n",
       "       0.        , 0.        , 0.        , 0.        , 0.        ,\n",
       "       0.        , 0.        , 0.58390593, 0.        , 0.        ,\n",
       "       0.        , 0.        , 0.        , 0.        , 0.        ,\n",
       "       0.        , 0.        , 0.        , 0.        , 0.        ,\n",
       "       0.        , 0.        , 0.        , 0.        , 0.        ,\n",
       "       0.        , 0.        , 0.        , 0.        , 0.        ,\n",
       "       0.        , 0.        , 0.        , 0.        , 0.        ,\n",
       "       0.        , 0.        , 0.        , 0.        , 0.        ,\n",
       "       0.        , 0.        , 0.        , 0.        , 0.        ,\n",
       "       0.        , 0.        , 0.        , 0.        , 0.        ])"
      ]
     },
     "execution_count": 163,
     "metadata": {},
     "output_type": "execute_result"
    }
   ],
   "source": [
    "# Displaying the first row\n",
    "tfidf_vectorized_tweets[0]"
   ]
  },
  {
   "cell_type": "markdown",
   "metadata": {},
   "source": [
    "### Insights:\n",
    "\n",
    "\n",
    "`The tfidf vector is a matrix of values between 0 and 1`"
   ]
  },
  {
   "cell_type": "markdown",
   "metadata": {},
   "source": [
    "# Fit and Evalute Models"
   ]
  },
  {
   "cell_type": "code",
   "execution_count": 168,
   "metadata": {},
   "outputs": [],
   "source": [
    "# Assigning airline_sentiment data to y as dependent variable\n",
    "y = tweets['airline_sentiment']"
   ]
  },
  {
   "cell_type": "code",
   "execution_count": 169,
   "metadata": {},
   "outputs": [
    {
     "data": {
      "text/plain": [
       "array([1, 2, 1, ..., 1, 0, 1])"
      ]
     },
     "execution_count": 169,
     "metadata": {},
     "output_type": "execute_result"
    }
   ],
   "source": [
    "# Converting y from text to numbers using LabelEncoder\n",
    "label_encoder = LabelEncoder()\n",
    "y = label_encoder.fit_transform(y)\n",
    "y"
   ]
  },
  {
   "cell_type": "code",
   "execution_count": 170,
   "metadata": {},
   "outputs": [
    {
     "data": {
      "text/html": [
       "<div>\n",
       "<style scoped>\n",
       "    .dataframe tbody tr th:only-of-type {\n",
       "        vertical-align: middle;\n",
       "    }\n",
       "\n",
       "    .dataframe tbody tr th {\n",
       "        vertical-align: top;\n",
       "    }\n",
       "\n",
       "    .dataframe thead th {\n",
       "        text-align: right;\n",
       "    }\n",
       "</style>\n",
       "<table border=\"1\" class=\"dataframe\">\n",
       "  <thead>\n",
       "    <tr style=\"text-align: right;\">\n",
       "      <th></th>\n",
       "      <th>text</th>\n",
       "      <th>label</th>\n",
       "    </tr>\n",
       "  </thead>\n",
       "  <tbody>\n",
       "    <tr>\n",
       "      <th>0</th>\n",
       "      <td>neutral</td>\n",
       "      <td>1</td>\n",
       "    </tr>\n",
       "    <tr>\n",
       "      <th>1</th>\n",
       "      <td>positive</td>\n",
       "      <td>2</td>\n",
       "    </tr>\n",
       "    <tr>\n",
       "      <th>2</th>\n",
       "      <td>neutral</td>\n",
       "      <td>1</td>\n",
       "    </tr>\n",
       "    <tr>\n",
       "      <th>3</th>\n",
       "      <td>negative</td>\n",
       "      <td>0</td>\n",
       "    </tr>\n",
       "    <tr>\n",
       "      <th>4</th>\n",
       "      <td>negative</td>\n",
       "      <td>0</td>\n",
       "    </tr>\n",
       "  </tbody>\n",
       "</table>\n",
       "</div>"
      ],
      "text/plain": [
       "       text  label\n",
       "0   neutral      1\n",
       "1  positive      2\n",
       "2   neutral      1\n",
       "3  negative      0\n",
       "4  negative      0"
      ]
     },
     "execution_count": 170,
     "metadata": {},
     "output_type": "execute_result"
    }
   ],
   "source": [
    "# Creating a dataframe to display the text sentiment and the corresponding label encoder\n",
    "sentiment_text_vs_label = pd.DataFrame(columns=['text', 'label'])\n",
    "sentiment_text_vs_label['text'] = tweets['airline_sentiment'][0:5]\n",
    "sentiment_text_vs_label['label'] = y[0:5]\n",
    "sentiment_text_vs_label"
   ]
  },
  {
   "cell_type": "markdown",
   "metadata": {},
   "source": [
    "### Insights:\n",
    "\n",
    "`The labelencoder mapped the sentiments as below `\n",
    " <ol>\n",
    "    <li>negative --> 0</li>\n",
    "    <li>neutral --> 1</li>\n",
    "    <li>positive --> 2</li>\n",
    " </ol>\n",
    "    "
   ]
  },
  {
   "cell_type": "code",
   "execution_count": 171,
   "metadata": {},
   "outputs": [],
   "source": [
    "# Function splits the given X and y data into X_train, X_val, X_test, y_train, y_val, y_test and returns them\n",
    "def split(X,y):\n",
    "    X_train, X_test, y_train, y_test = train_test_split(X, y, test_size=0.3, random_state=7)\n",
    "    X_test, X_val, y_test, y_val = train_test_split(X_test, y_test, test_size=0.3, random_state=7)\n",
    "    return X_train, X_val, X_test, y_train, y_val, y_test"
   ]
  },
  {
   "cell_type": "code",
   "execution_count": 172,
   "metadata": {},
   "outputs": [],
   "source": [
    "# Function to construct list of machine learning classification models that we are going to evaluate.\n",
    "def construct_models_list():\n",
    "    models = [\n",
    "        # Since its a multiclass problem using multi_class='multinomial', solver='lbfgs' for logistic regression\n",
    "        {'model': LogisticRegression(multi_class='multinomial', solver='lbfgs', random_state=7), 'name': 'Logistic Regressor'},\n",
    "        {'model': DecisionTreeClassifier(max_depth=7, random_state=7), 'name': 'DecisionTree Classifier'},\n",
    "        {'model': RandomForestClassifier(n_estimators=100, \n",
    "                                         criterion='entropy',\n",
    "                                         max_features='auto',\n",
    "                                         max_depth=7, \n",
    "                                         n_jobs=4, \n",
    "                                         random_state=7), 'name': 'RandomForest Classifier'},\n",
    "        {'model': GradientBoostingClassifier(n_estimators=100,\n",
    "                                             criterion='mse',\n",
    "                                             learning_rate=0.1,\n",
    "                                             max_depth=4,\n",
    "                                             random_state=7), 'name': 'GradientBoost Classifier'}\n",
    "    ]\n",
    "    \n",
    "    return models"
   ]
  },
  {
   "cell_type": "code",
   "execution_count": 173,
   "metadata": {},
   "outputs": [],
   "source": [
    "# Creating a dataframe to hold the train, validation and test accuracies of all the models that we evaluate\n",
    "result_df = pd.DataFrame(columns=['train accuracy', 'k-fold-cv mean', 'k-fold-cv std', 'test_accuracy'])\n",
    "\n",
    "# Function to evaluate each model against train, validation and test data by looping through all the models that \n",
    "# construct_models_list function returns. It uses K-Fold cross validation\n",
    "def evaluate_models(xtrain, xval, ytrain, yval, xtest, ytest, model_name_prefix, result_df):\n",
    "    start_time = time.process_time()\n",
    "    kfold = KFold(n_splits=10, random_state=7, shuffle=True)\n",
    "    # get the list of models to evaluate\n",
    "    models = construct_models_list()\n",
    "    # loop through each model\n",
    "    for model_obj in models:\n",
    "        # getting the model instance\n",
    "        model = model_obj['model']\n",
    "        name = model_name_prefix+'_'+model_obj['name']\n",
    "        # fit the model against train data\n",
    "        model.fit(xtrain, ytrain)\n",
    "        # compute the train accuracy\n",
    "        train_accuracy = model.score(xtrain, ytrain)\n",
    "        # evaluate the model using K-Fold cross validation\n",
    "        cv_result = cross_val_score(model, xval, yval, cv=kfold, n_jobs=4)\n",
    "        # print the result of cross validation\n",
    "        print(cv_result)\n",
    "        # compute the test accuracy\n",
    "        test_accuracy = model.score(xtest, ytest)\n",
    "        # store train accuracy, cross validation results mean, standard deviation and test accuracy for each model name\n",
    "        result_df.loc[name] = [train_accuracy, cv_result.mean(), cv_result.std(), test_accuracy]\n",
    "        # return the result_df\n",
    "    total_time_taken = time.process_time() - start_time\n",
    "    # Logging the time taken for models evaluation, just for informational purpose\n",
    "    print('\\nTime taken to evaluate models with {} data {}'.format(model_name_prefix, total_time_taken))\n",
    "    return result_df"
   ]
  },
  {
   "cell_type": "markdown",
   "metadata": {},
   "source": [
    "## Using Count Vectorizer"
   ]
  },
  {
   "cell_type": "code",
   "execution_count": 174,
   "metadata": {},
   "outputs": [
    {
     "name": "stdout",
     "output_type": "stream",
     "text": [
      "X_train shape: (10248, 1000)\n",
      "y_train shape: (10248,)\n",
      "X_val shape: (1318, 1000)\n",
      "y_val shape: (1318,)\n",
      "X_test shape: (3074, 1000)\n",
      "y_test shape: (3074,)\n"
     ]
    }
   ],
   "source": [
    "# Split the count vectorized data into train, validation and test\n",
    "X_train, X_val, X_test, y_train, y_val, y_test = split(count_vectorized_tweets,y)\n",
    "# Print the shape of the data\n",
    "print('X_train shape:', X_train.shape)\n",
    "print('y_train shape:', y_train.shape)\n",
    "print('X_val shape:', X_val.shape)\n",
    "print('y_val shape:', y_val.shape)\n",
    "print('X_test shape:', X_test.shape)\n",
    "print('y_test shape:', y_test.shape)"
   ]
  },
  {
   "cell_type": "code",
   "execution_count": 175,
   "metadata": {},
   "outputs": [
    {
     "name": "stdout",
     "output_type": "stream",
     "text": [
      "[0.81060606 0.75757576 0.75       0.70454545 0.77272727 0.66666667\n",
      " 0.6969697  0.68939394 0.78625954 0.7480916 ]\n",
      "[0.72727273 0.62878788 0.71969697 0.70454545 0.70454545 0.61363636\n",
      " 0.64393939 0.62121212 0.70229008 0.67938931]\n",
      "[0.67424242 0.60606061 0.62878788 0.65909091 0.66666667 0.57575758\n",
      " 0.60606061 0.58333333 0.74045802 0.67175573]\n",
      "[0.78787879 0.6969697  0.71969697 0.68181818 0.74242424 0.63636364\n",
      " 0.65909091 0.66666667 0.77099237 0.7480916 ]\n",
      "\n",
      "Time taken to evaluate models with CountVectorizer data 143.55333099999984\n"
     ]
    },
    {
     "data": {
      "text/html": [
       "<div>\n",
       "<style scoped>\n",
       "    .dataframe tbody tr th:only-of-type {\n",
       "        vertical-align: middle;\n",
       "    }\n",
       "\n",
       "    .dataframe tbody tr th {\n",
       "        vertical-align: top;\n",
       "    }\n",
       "\n",
       "    .dataframe thead th {\n",
       "        text-align: right;\n",
       "    }\n",
       "</style>\n",
       "<table border=\"1\" class=\"dataframe\">\n",
       "  <thead>\n",
       "    <tr style=\"text-align: right;\">\n",
       "      <th></th>\n",
       "      <th>train accuracy</th>\n",
       "      <th>k-fold-cv mean</th>\n",
       "      <th>k-fold-cv std</th>\n",
       "      <th>test_accuracy</th>\n",
       "    </tr>\n",
       "  </thead>\n",
       "  <tbody>\n",
       "    <tr>\n",
       "      <th>CountVectorizer_Logistic Regressor</th>\n",
       "      <td>0.842799</td>\n",
       "      <td>0.738284</td>\n",
       "      <td>0.044372</td>\n",
       "      <td>0.781718</td>\n",
       "    </tr>\n",
       "    <tr>\n",
       "      <th>CountVectorizer_DecisionTree Classifier</th>\n",
       "      <td>0.693111</td>\n",
       "      <td>0.674532</td>\n",
       "      <td>0.041227</td>\n",
       "      <td>0.676643</td>\n",
       "    </tr>\n",
       "    <tr>\n",
       "      <th>CountVectorizer_RandomForest Classifier</th>\n",
       "      <td>0.624610</td>\n",
       "      <td>0.641221</td>\n",
       "      <td>0.048064</td>\n",
       "      <td>0.631100</td>\n",
       "    </tr>\n",
       "    <tr>\n",
       "      <th>CountVectorizer_GradientBoost Classifier</th>\n",
       "      <td>0.778884</td>\n",
       "      <td>0.710999</td>\n",
       "      <td>0.048195</td>\n",
       "      <td>0.736174</td>\n",
       "    </tr>\n",
       "  </tbody>\n",
       "</table>\n",
       "</div>"
      ],
      "text/plain": [
       "                                          train accuracy  k-fold-cv mean  \\\n",
       "CountVectorizer_Logistic Regressor              0.842799        0.738284   \n",
       "CountVectorizer_DecisionTree Classifier         0.693111        0.674532   \n",
       "CountVectorizer_RandomForest Classifier         0.624610        0.641221   \n",
       "CountVectorizer_GradientBoost Classifier        0.778884        0.710999   \n",
       "\n",
       "                                          k-fold-cv std  test_accuracy  \n",
       "CountVectorizer_Logistic Regressor             0.044372       0.781718  \n",
       "CountVectorizer_DecisionTree Classifier        0.041227       0.676643  \n",
       "CountVectorizer_RandomForest Classifier        0.048064       0.631100  \n",
       "CountVectorizer_GradientBoost Classifier       0.048195       0.736174  "
      ]
     },
     "execution_count": 175,
     "metadata": {},
     "output_type": "execute_result"
    }
   ],
   "source": [
    "# Evaluating the models with CounterVectorized data and storing the results in result_df dataframe\n",
    "result_df = evaluate_models(X_train, X_val, y_train, y_val, X_test, y_test, 'CountVectorizer', result_df)\n",
    "# Displaying result_df dataframe\n",
    "result_df"
   ]
  },
  {
   "cell_type": "markdown",
   "metadata": {},
   "source": [
    "### Insights:\n",
    "\n",
    "` Among all the models, logistic regression is giving better test accuracy of 78.1% for counter vectorized data`"
   ]
  },
  {
   "cell_type": "code",
   "execution_count": 176,
   "metadata": {},
   "outputs": [
    {
     "data": {
      "text/plain": [
       "LogisticRegression(multi_class='multinomial', random_state=7)"
      ]
     },
     "execution_count": 176,
     "metadata": {},
     "output_type": "execute_result"
    }
   ],
   "source": [
    "# Creating logistic regression. Since its a multiclass problem using multi_class='multinomial', solver='lbfgs' for logistic regression\n",
    "logit = LogisticRegression(multi_class='multinomial', solver='lbfgs', random_state=7)\n",
    "# Fitting the logistic regression with counter vectorized data\n",
    "logit.fit(X_train, y_train)"
   ]
  },
  {
   "cell_type": "code",
   "execution_count": 177,
   "metadata": {},
   "outputs": [
    {
     "data": {
      "image/png": "[encoded data removed]",
      "text/plain": [
       "<Figure size 1080x504 with 2 Axes>"
      ]
     },
     "metadata": {
      "needs_background": "light"
     },
     "output_type": "display_data"
    }
   ],
   "source": [
    "# Predicting for test data\n",
    "y_predict = logit.predict(X_test)\n",
    "\n",
    "# Creating confusion matrix using actual and predicted values\n",
    "conf_matrix = confusion_matrix(y_test, y_predict)\n",
    "# Creating a dataframe using confuxion matrix\n",
    "conf_matrix_df = pd.DataFrame(conf_matrix, index=[0,1,2], columns=[0,1,2])\n",
    "# Plotting confusion matrix in a heatmap\n",
    "plt.figure(figsize=(15,7))\n",
    "sns.heatmap(conf_matrix_df, annot=True, fmt='d')\n",
    "plt.xlabel('predicted')\n",
    "plt.ylabel('Actual')\n",
    "plt.show()"
   ]
  },
  {
   "cell_type": "code",
   "execution_count": 178,
   "metadata": {},
   "outputs": [
    {
     "name": "stdout",
     "output_type": "stream",
     "text": [
      "              precision    recall  f1-score   support\n",
      "\n",
      "           0       0.84      0.90      0.87      1939\n",
      "           1       0.61      0.56      0.58       650\n",
      "           2       0.72      0.62      0.67       485\n",
      "\n",
      "    accuracy                           0.78      3074\n",
      "   macro avg       0.73      0.69      0.71      3074\n",
      "weighted avg       0.78      0.78      0.78      3074\n",
      "\n"
     ]
    }
   ],
   "source": [
    "# Printing the classification report\n",
    "print(classification_report(y_test, y_predict))"
   ]
  },
  {
   "cell_type": "markdown",
   "metadata": {},
   "source": [
    "### Insights:\n",
    "\n",
    "<ol>\n",
    "    <li>The model has 84% precision and 90% recall for negative sentiments, 61% precision and 56% recall for neutral sentimants. Similarly 72% precision and 62% recall for postive sentiments </li>\n",
    "    <li>The model overall accuracy is 78%</li>\n",
    "</ol>"
   ]
  },
  {
   "cell_type": "markdown",
   "metadata": {},
   "source": [
    "# Using TfIdf Vectorizer"
   ]
  },
  {
   "cell_type": "code",
   "execution_count": 180,
   "metadata": {},
   "outputs": [
    {
     "name": "stdout",
     "output_type": "stream",
     "text": [
      "X_train shape: (10248, 1000)\n",
      "y_train shape: (10248,)\n",
      "X_val shape: (1318, 1000)\n",
      "y_val shape: (1318,)\n",
      "X_test shape: (3074, 1000)\n",
      "y_test shape: (3074,)\n"
     ]
    }
   ],
   "source": [
    "# Split the tfidf vectorized data into train, validation and test\n",
    "X_train, X_val, X_test, y_train, y_val, y_test = split(tfidf_vectorized_tweets,y)\n",
    "# Print the shape of the data\n",
    "print('X_train shape:', X_train.shape)\n",
    "print('y_train shape:', y_train.shape)\n",
    "print('X_val shape:', X_val.shape)\n",
    "print('y_val shape:', y_val.shape)\n",
    "print('X_test shape:', X_test.shape)\n",
    "print('y_test shape:', y_test.shape)"
   ]
  },
  {
   "cell_type": "code",
   "execution_count": 181,
   "metadata": {},
   "outputs": [
    {
     "name": "stdout",
     "output_type": "stream",
     "text": [
      "[0.78787879 0.71969697 0.72727273 0.72727273 0.75       0.68181818\n",
      " 0.70454545 0.67424242 0.83206107 0.72519084]\n",
      "[0.73484848 0.67424242 0.72727273 0.68939394 0.6969697  0.58333333\n",
      " 0.6969697  0.62878788 0.73282443 0.70992366]\n",
      "[0.67424242 0.60606061 0.62878788 0.65909091 0.66666667 0.57575758\n",
      " 0.60606061 0.59090909 0.74045802 0.67938931]\n",
      "[0.79545455 0.70454545 0.74242424 0.71212121 0.75757576 0.59848485\n",
      " 0.67424242 0.64393939 0.79389313 0.73282443]\n",
      "\n",
      "Time taken to evaluate models with TfidfVectorizer data 145.9685629999999\n"
     ]
    },
    {
     "data": {
      "text/html": [
       "<div>\n",
       "<style scoped>\n",
       "    .dataframe tbody tr th:only-of-type {\n",
       "        vertical-align: middle;\n",
       "    }\n",
       "\n",
       "    .dataframe tbody tr th {\n",
       "        vertical-align: top;\n",
       "    }\n",
       "\n",
       "    .dataframe thead th {\n",
       "        text-align: right;\n",
       "    }\n",
       "</style>\n",
       "<table border=\"1\" class=\"dataframe\">\n",
       "  <thead>\n",
       "    <tr style=\"text-align: right;\">\n",
       "      <th></th>\n",
       "      <th>train accuracy</th>\n",
       "      <th>k-fold-cv mean</th>\n",
       "      <th>k-fold-cv std</th>\n",
       "      <th>test_accuracy</th>\n",
       "    </tr>\n",
       "  </thead>\n",
       "  <tbody>\n",
       "    <tr>\n",
       "      <th>CountVectorizer_Logistic Regressor</th>\n",
       "      <td>0.842799</td>\n",
       "      <td>0.738284</td>\n",
       "      <td>0.044372</td>\n",
       "      <td>0.781718</td>\n",
       "    </tr>\n",
       "    <tr>\n",
       "      <th>CountVectorizer_DecisionTree Classifier</th>\n",
       "      <td>0.693111</td>\n",
       "      <td>0.674532</td>\n",
       "      <td>0.041227</td>\n",
       "      <td>0.676643</td>\n",
       "    </tr>\n",
       "    <tr>\n",
       "      <th>CountVectorizer_RandomForest Classifier</th>\n",
       "      <td>0.624610</td>\n",
       "      <td>0.641221</td>\n",
       "      <td>0.048064</td>\n",
       "      <td>0.631100</td>\n",
       "    </tr>\n",
       "    <tr>\n",
       "      <th>CountVectorizer_GradientBoost Classifier</th>\n",
       "      <td>0.778884</td>\n",
       "      <td>0.710999</td>\n",
       "      <td>0.048195</td>\n",
       "      <td>0.736174</td>\n",
       "    </tr>\n",
       "    <tr>\n",
       "      <th>TfidfVectorizer_Logistic Regressor</th>\n",
       "      <td>0.828064</td>\n",
       "      <td>0.732998</td>\n",
       "      <td>0.045054</td>\n",
       "      <td>0.782368</td>\n",
       "    </tr>\n",
       "    <tr>\n",
       "      <th>TfidfVectorizer_DecisionTree Classifier</th>\n",
       "      <td>0.710870</td>\n",
       "      <td>0.687457</td>\n",
       "      <td>0.045867</td>\n",
       "      <td>0.680221</td>\n",
       "    </tr>\n",
       "    <tr>\n",
       "      <th>TfidfVectorizer_RandomForest Classifier</th>\n",
       "      <td>0.629098</td>\n",
       "      <td>0.642742</td>\n",
       "      <td>0.047731</td>\n",
       "      <td>0.636630</td>\n",
       "    </tr>\n",
       "    <tr>\n",
       "      <th>TfidfVectorizer_GradientBoost Classifier</th>\n",
       "      <td>0.793228</td>\n",
       "      <td>0.715551</td>\n",
       "      <td>0.059984</td>\n",
       "      <td>0.740403</td>\n",
       "    </tr>\n",
       "  </tbody>\n",
       "</table>\n",
       "</div>"
      ],
      "text/plain": [
       "                                          train accuracy  k-fold-cv mean  \\\n",
       "CountVectorizer_Logistic Regressor              0.842799        0.738284   \n",
       "CountVectorizer_DecisionTree Classifier         0.693111        0.674532   \n",
       "CountVectorizer_RandomForest Classifier         0.624610        0.641221   \n",
       "CountVectorizer_GradientBoost Classifier        0.778884        0.710999   \n",
       "TfidfVectorizer_Logistic Regressor              0.828064        0.732998   \n",
       "TfidfVectorizer_DecisionTree Classifier         0.710870        0.687457   \n",
       "TfidfVectorizer_RandomForest Classifier         0.629098        0.642742   \n",
       "TfidfVectorizer_GradientBoost Classifier        0.793228        0.715551   \n",
       "\n",
       "                                          k-fold-cv std  test_accuracy  \n",
       "CountVectorizer_Logistic Regressor             0.044372       0.781718  \n",
       "CountVectorizer_DecisionTree Classifier        0.041227       0.676643  \n",
       "CountVectorizer_RandomForest Classifier        0.048064       0.631100  \n",
       "CountVectorizer_GradientBoost Classifier       0.048195       0.736174  \n",
       "TfidfVectorizer_Logistic Regressor             0.045054       0.782368  \n",
       "TfidfVectorizer_DecisionTree Classifier        0.045867       0.680221  \n",
       "TfidfVectorizer_RandomForest Classifier        0.047731       0.636630  \n",
       "TfidfVectorizer_GradientBoost Classifier       0.059984       0.740403  "
      ]
     },
     "execution_count": 181,
     "metadata": {},
     "output_type": "execute_result"
    }
   ],
   "source": [
    "# Evaluating the models with Tfidfvectorized data and storing the results in result_df dataframe\n",
    "result_df = evaluate_models(X_train, X_val, y_train, y_val, X_test, y_test, 'TfidfVectorizer', result_df)\n",
    "# Displaying result_df dataframe\n",
    "result_df"
   ]
  },
  {
   "cell_type": "markdown",
   "metadata": {},
   "source": [
    "### Insights:\n",
    "\n",
    "` Among all the models, logistic regression is giving better test accuracy of 78.2% for tfidf vectorized data`"
   ]
  },
  {
   "cell_type": "code",
   "execution_count": 182,
   "metadata": {},
   "outputs": [
    {
     "data": {
      "text/plain": [
       "LogisticRegression(multi_class='multinomial', random_state=7)"
      ]
     },
     "execution_count": 182,
     "metadata": {},
     "output_type": "execute_result"
    }
   ],
   "source": [
    "# Creating logistic regression, Since its a multiclass problem using multi_class='multinomial', solver='lbfgs' for logistic regression\n",
    "logit = LogisticRegression(multi_class='multinomial', solver='lbfgs', random_state=7)\n",
    "# Fitting the logistic regression with tfidf vectorized data\n",
    "logit.fit(X_train, y_train)"
   ]
  },
  {
   "cell_type": "code",
   "execution_count": 183,
   "metadata": {},
   "outputs": [
    {
     "data": {
      "image/png": "[encoded data removed]",
      "text/plain": [
       "<Figure size 1080x504 with 2 Axes>"
      ]
     },
     "metadata": {
      "needs_background": "light"
     },
     "output_type": "display_data"
    }
   ],
   "source": [
    "# Predicting for test data\n",
    "y_predict = logit.predict(X_test)\n",
    "\n",
    "# Creating confusion matrix using actual and predicted values\n",
    "conf_matrix = confusion_matrix(y_test, y_predict)\n",
    "# Creating a dataframe using confuxion matrix\n",
    "conf_matrix_df = pd.DataFrame(conf_matrix, index=[0,1,2], columns=[0,1,2])\n",
    "# Plotting confusion matrix in a heatmap\n",
    "plt.figure(figsize=(15,7))\n",
    "sns.heatmap(conf_matrix_df, annot=True, fmt='d')\n",
    "plt.xlabel('predicted')\n",
    "plt.ylabel('Actual')\n",
    "plt.show()"
   ]
  },
  {
   "cell_type": "code",
   "execution_count": 184,
   "metadata": {},
   "outputs": [
    {
     "name": "stdout",
     "output_type": "stream",
     "text": [
      "              precision    recall  f1-score   support\n",
      "\n",
      "           0       0.82      0.93      0.87      1939\n",
      "           1       0.64      0.49      0.55       650\n",
      "           2       0.76      0.57      0.65       485\n",
      "\n",
      "    accuracy                           0.78      3074\n",
      "   macro avg       0.74      0.66      0.69      3074\n",
      "weighted avg       0.77      0.78      0.77      3074\n",
      "\n"
     ]
    }
   ],
   "source": [
    "# Printing the classification report\n",
    "print(classification_report(y_test, y_predict))"
   ]
  },
  {
   "cell_type": "markdown",
   "metadata": {},
   "source": [
    "### Insights:\n",
    "\n",
    "<ol>\n",
    "    <li>The model has 82% precision and 93% recall for negative sentiments, 64% precision and 49% recall for neutral sentimants. Similarly 76% precision and 57% recall for postive sentiments </li>\n",
    "    <li>The model overall accuracy is 78%</li>\n",
    "</ol>"
   ]
  },
  {
   "cell_type": "markdown",
   "metadata": {},
   "source": [
    "# Summary\n",
    "\n",
    "<ol>\n",
    "    <li> We have used the tweets data that has the sentiment classified into negative, neutral and positive</li>\n",
    "    <li> We have preprocessed the text by removing html tags, tokenized the text, removed accented characters, removed numbers, removed any special characters, removed punctuations, replaced contractions and stop words. We have converted the text into lower case and performed lemmatization of the tokens in a sentence and finally joined them to form the sentence back </li>\n",
    "    <li> We did count vectorization and tfidf vectorization taking cleansed/preprocessed text as input. </li>\n",
    "    <li> Count vectorized vector has values 0 and 1 where as tfidf vectorized matrix has float values between 0 and 1</li>\n",
    "    <li> We fit both vectorized data against multiple machine learning classifier models. In both the cases, LogisticRegression seems performing well for the data.</li>\n",
    "    <li> The test accuracy is almost the same with both tfidf and count vectorized data, with very minute increase when using tfidf vectorized data.</li>\n",
    "</ol>"
   ]
  },
  {
   "cell_type": "code",
   "execution_count": null,
   "metadata": {},
   "outputs": [],
   "source": []
  }
 ],
 "metadata": {
  "kernelspec": {
   "display_name": "Python 3",
   "language": "python",
   "name": "python3"
  },
  "language_info": {
   "codemirror_mode": {
    "name": "ipython",
    "version": 3
   },
   "file_extension": ".py",
   "mimetype": "text/x-python",
   "name": "python",
   "nbconvert_exporter": "python",
   "pygments_lexer": "ipython3",
   "version": "3.7.9"
  }
 },
 "nbformat": 4,
 "nbformat_minor": 4
}
