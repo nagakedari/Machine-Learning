{
 "cells": [
  {
   "cell_type": "code",
   "execution_count": 1,
   "metadata": {},
   "outputs": [],
   "source": [
    "import re"
   ]
  },
  {
   "cell_type": "code",
   "execution_count": 2,
   "metadata": {},
   "outputs": [],
   "source": [
    "text_to_search = '''\n",
    "abcdefghijklmnopqrstuvwxyz\n",
    "ABCDEFGHIJKLMNOPQRSTUVWXYZ\n",
    "1234567890\n",
    "123abc\n",
    "\n",
    "Hello HelloHello\n",
    "\n",
    "MetaCharacters (Need to be escaped):\n",
    ". ^ $ * + ? ( ) [ ] \\ | { }\n",
    "\n",
    "utexas.edu\n",
    "\n",
    "321-555-4321\n",
    "123.555.1234\n",
    "\n",
    "daniel-mitchell@utexas.edu\n",
    "\n",
    "Mr. Jhonson\n",
    "Mr Smith\n",
    "Ms Davis\n",
    "Mrs. Robinson\n",
    "Mr. T\n",
    "'''"
   ]
  },
  {
   "cell_type": "markdown",
   "metadata": {},
   "source": [
    "# Character Sets"
   ]
  },
  {
   "cell_type": "code",
   "execution_count": 6,
   "metadata": {},
   "outputs": [
    {
     "name": "stdout",
     "output_type": "stream",
     "text": [
      "<re.Match object; span=(55, 57), match='12'>\n",
      "<re.Match object; span=(57, 59), match='34'>\n",
      "<re.Match object; span=(66, 68), match='12'>\n",
      "<re.Match object; span=(68, 70), match='3a'>\n",
      "<re.Match object; span=(170, 172), match='32'>\n",
      "<re.Match object; span=(179, 181), match='32'>\n",
      "<re.Match object; span=(183, 185), match='12'>\n",
      "<re.Match object; span=(191, 193), match='12'>\n",
      "<re.Match object; span=(193, 195), match='34'>\n"
     ]
    }
   ],
   "source": [
    "pattern = re.compile(r'[123]\\w') # [] it will find any string that matches the characters individually in the brackets\n",
    "# that is anything that matches 1 followed by number or character (because of \\w), 2 followed by a char, 3 followed by\n",
    "# a character ..etc\n",
    "matches = pattern.finditer(text_to_search)\n",
    "for mat in matches:\n",
    "    print(mat)"
   ]
  },
  {
   "cell_type": "code",
   "execution_count": 8,
   "metadata": {},
   "outputs": [
    {
     "name": "stdout",
     "output_type": "stream",
     "text": [
      "<re.Match object; span=(1, 3), match='ab'>\n",
      "<re.Match object; span=(3, 5), match='cd'>\n",
      "<re.Match object; span=(5, 7), match='ef'>\n",
      "<re.Match object; span=(7, 9), match='gh'>\n",
      "<re.Match object; span=(9, 11), match='ij'>\n",
      "<re.Match object; span=(11, 13), match='kl'>\n",
      "<re.Match object; span=(13, 15), match='mn'>\n",
      "<re.Match object; span=(15, 17), match='op'>\n",
      "<re.Match object; span=(17, 19), match='qr'>\n",
      "<re.Match object; span=(19, 21), match='st'>\n",
      "<re.Match object; span=(21, 23), match='uv'>\n",
      "<re.Match object; span=(23, 25), match='wx'>\n",
      "<re.Match object; span=(25, 27), match='yz'>\n",
      "<re.Match object; span=(69, 71), match='ab'>\n",
      "<re.Match object; span=(75, 77), match='el'>\n",
      "<re.Match object; span=(77, 79), match='lo'>\n",
      "<re.Match object; span=(81, 83), match='el'>\n",
      "<re.Match object; span=(83, 85), match='lo'>\n",
      "<re.Match object; span=(86, 88), match='el'>\n",
      "<re.Match object; span=(88, 90), match='lo'>\n",
      "<re.Match object; span=(93, 95), match='et'>\n",
      "<re.Match object; span=(97, 99), match='ha'>\n",
      "<re.Match object; span=(99, 101), match='ra'>\n",
      "<re.Match object; span=(101, 103), match='ct'>\n",
      "<re.Match object; span=(103, 105), match='er'>\n",
      "<re.Match object; span=(109, 111), match='ee'>\n",
      "<re.Match object; span=(113, 115), match='to'>\n",
      "<re.Match object; span=(116, 118), match='be'>\n",
      "<re.Match object; span=(119, 121), match='es'>\n",
      "<re.Match object; span=(121, 123), match='ca'>\n",
      "<re.Match object; span=(123, 125), match='pe'>\n",
      "<re.Match object; span=(158, 160), match='ut'>\n",
      "<re.Match object; span=(160, 162), match='ex'>\n",
      "<re.Match object; span=(162, 164), match='as'>\n",
      "<re.Match object; span=(165, 167), match='ed'>\n",
      "<re.Match object; span=(197, 199), match='da'>\n",
      "<re.Match object; span=(199, 201), match='ni'>\n",
      "<re.Match object; span=(201, 203), match='el'>\n",
      "<re.Match object; span=(204, 206), match='mi'>\n",
      "<re.Match object; span=(206, 208), match='tc'>\n",
      "<re.Match object; span=(208, 210), match='he'>\n",
      "<re.Match object; span=(210, 212), match='ll'>\n",
      "<re.Match object; span=(213, 215), match='ut'>\n",
      "<re.Match object; span=(215, 217), match='ex'>\n",
      "<re.Match object; span=(217, 219), match='as'>\n",
      "<re.Match object; span=(220, 222), match='ed'>\n",
      "<re.Match object; span=(230, 232), match='ho'>\n",
      "<re.Match object; span=(232, 234), match='ns'>\n",
      "<re.Match object; span=(234, 236), match='on'>\n",
      "<re.Match object; span=(241, 243), match='mi'>\n",
      "<re.Match object; span=(243, 245), match='th'>\n",
      "<re.Match object; span=(250, 252), match='av'>\n",
      "<re.Match object; span=(252, 254), match='is'>\n",
      "<re.Match object; span=(256, 258), match='rs'>\n",
      "<re.Match object; span=(261, 263), match='ob'>\n",
      "<re.Match object; span=(263, 265), match='in'>\n",
      "<re.Match object; span=(265, 267), match='so'>\n"
     ]
    }
   ],
   "source": [
    "pattern = re.compile(r'[a-z][a-z]') # [a-z] it will find any string that is lower case letters b/w a to z\n",
    "matches = pattern.finditer(text_to_search)\n",
    "for mat in matches:\n",
    "    print(mat)"
   ]
  },
  {
   "cell_type": "code",
   "execution_count": 9,
   "metadata": {},
   "outputs": [
    {
     "name": "stdout",
     "output_type": "stream",
     "text": [
      "<re.Match object; span=(1, 3), match='ab'>\n",
      "<re.Match object; span=(3, 5), match='cd'>\n",
      "<re.Match object; span=(5, 7), match='ef'>\n",
      "<re.Match object; span=(7, 9), match='gh'>\n",
      "<re.Match object; span=(9, 11), match='ij'>\n",
      "<re.Match object; span=(11, 13), match='kl'>\n",
      "<re.Match object; span=(13, 15), match='mn'>\n",
      "<re.Match object; span=(15, 17), match='op'>\n",
      "<re.Match object; span=(17, 19), match='qr'>\n",
      "<re.Match object; span=(19, 21), match='st'>\n",
      "<re.Match object; span=(21, 23), match='uv'>\n",
      "<re.Match object; span=(23, 25), match='wx'>\n",
      "<re.Match object; span=(25, 27), match='yz'>\n",
      "<re.Match object; span=(28, 30), match='AB'>\n",
      "<re.Match object; span=(30, 32), match='CD'>\n",
      "<re.Match object; span=(32, 34), match='EF'>\n",
      "<re.Match object; span=(34, 36), match='GH'>\n",
      "<re.Match object; span=(36, 38), match='IJ'>\n",
      "<re.Match object; span=(38, 40), match='KL'>\n",
      "<re.Match object; span=(40, 42), match='MN'>\n",
      "<re.Match object; span=(42, 44), match='OP'>\n",
      "<re.Match object; span=(44, 46), match='QR'>\n",
      "<re.Match object; span=(46, 48), match='ST'>\n",
      "<re.Match object; span=(48, 50), match='UV'>\n",
      "<re.Match object; span=(50, 52), match='WX'>\n",
      "<re.Match object; span=(52, 54), match='YZ'>\n",
      "<re.Match object; span=(68, 70), match='3a'>\n",
      "<re.Match object; span=(70, 72), match='bc'>\n",
      "<re.Match object; span=(74, 76), match='He'>\n",
      "<re.Match object; span=(76, 78), match='ll'>\n",
      "<re.Match object; span=(80, 82), match='He'>\n",
      "<re.Match object; span=(82, 84), match='ll'>\n",
      "<re.Match object; span=(84, 86), match='oH'>\n",
      "<re.Match object; span=(86, 88), match='el'>\n",
      "<re.Match object; span=(88, 90), match='lo'>\n",
      "<re.Match object; span=(92, 94), match='Me'>\n",
      "<re.Match object; span=(94, 96), match='ta'>\n",
      "<re.Match object; span=(96, 98), match='Ch'>\n",
      "<re.Match object; span=(98, 100), match='ar'>\n",
      "<re.Match object; span=(100, 102), match='ac'>\n",
      "<re.Match object; span=(102, 104), match='te'>\n",
      "<re.Match object; span=(104, 106), match='rs'>\n",
      "<re.Match object; span=(108, 110), match='Ne'>\n",
      "<re.Match object; span=(110, 112), match='ed'>\n",
      "<re.Match object; span=(113, 115), match='to'>\n",
      "<re.Match object; span=(116, 118), match='be'>\n",
      "<re.Match object; span=(119, 121), match='es'>\n",
      "<re.Match object; span=(121, 123), match='ca'>\n",
      "<re.Match object; span=(123, 125), match='pe'>\n",
      "<re.Match object; span=(158, 160), match='ut'>\n",
      "<re.Match object; span=(160, 162), match='ex'>\n",
      "<re.Match object; span=(162, 164), match='as'>\n",
      "<re.Match object; span=(165, 167), match='ed'>\n",
      "<re.Match object; span=(172, 174), match='1-'>\n",
      "<re.Match object; span=(176, 178), match='5-'>\n",
      "<re.Match object; span=(197, 199), match='da'>\n",
      "<re.Match object; span=(199, 201), match='ni'>\n",
      "<re.Match object; span=(201, 203), match='el'>\n",
      "<re.Match object; span=(204, 206), match='mi'>\n",
      "<re.Match object; span=(206, 208), match='tc'>\n",
      "<re.Match object; span=(208, 210), match='he'>\n",
      "<re.Match object; span=(210, 212), match='ll'>\n",
      "<re.Match object; span=(213, 215), match='ut'>\n",
      "<re.Match object; span=(215, 217), match='ex'>\n",
      "<re.Match object; span=(217, 219), match='as'>\n",
      "<re.Match object; span=(220, 222), match='ed'>\n",
      "<re.Match object; span=(225, 227), match='Mr'>\n",
      "<re.Match object; span=(229, 231), match='Jh'>\n",
      "<re.Match object; span=(231, 233), match='on'>\n",
      "<re.Match object; span=(233, 235), match='so'>\n",
      "<re.Match object; span=(237, 239), match='Mr'>\n",
      "<re.Match object; span=(240, 242), match='Sm'>\n",
      "<re.Match object; span=(242, 244), match='it'>\n",
      "<re.Match object; span=(246, 248), match='Ms'>\n",
      "<re.Match object; span=(249, 251), match='Da'>\n",
      "<re.Match object; span=(251, 253), match='vi'>\n",
      "<re.Match object; span=(255, 257), match='Mr'>\n",
      "<re.Match object; span=(260, 262), match='Ro'>\n",
      "<re.Match object; span=(262, 264), match='bi'>\n",
      "<re.Match object; span=(264, 266), match='ns'>\n",
      "<re.Match object; span=(266, 268), match='on'>\n",
      "<re.Match object; span=(269, 271), match='Mr'>\n"
     ]
    }
   ],
   "source": [
    "pattern = re.compile(r'[a-zA-Z0-9][a-zA-Z-]') # '-' at the will include - charcter as well in the match \n",
    "matches = pattern.finditer(text_to_search)\n",
    "for mat in matches:\n",
    "    print(mat)"
   ]
  },
  {
   "cell_type": "code",
   "execution_count": 10,
   "metadata": {},
   "outputs": [
    {
     "name": "stdout",
     "output_type": "stream",
     "text": [
      "<re.Match object; span=(26, 28), match='z\\n'>\n",
      "<re.Match object; span=(53, 55), match='Z\\n'>\n",
      "<re.Match object; span=(71, 73), match='c\\n'>\n",
      "<re.Match object; span=(78, 80), match='o '>\n",
      "<re.Match object; span=(89, 91), match='o\\n'>\n",
      "<re.Match object; span=(105, 107), match='s '>\n",
      "<re.Match object; span=(111, 113), match='d '>\n",
      "<re.Match object; span=(114, 116), match='o '>\n",
      "<re.Match object; span=(117, 119), match='e '>\n",
      "<re.Match object; span=(125, 127), match='d)'>\n",
      "<re.Match object; span=(163, 165), match='s.'>\n",
      "<re.Match object; span=(167, 169), match='u\\n'>\n",
      "<re.Match object; span=(202, 204), match='l-'>\n",
      "<re.Match object; span=(211, 213), match='l@'>\n",
      "<re.Match object; span=(218, 220), match='s.'>\n",
      "<re.Match object; span=(222, 224), match='u\\n'>\n",
      "<re.Match object; span=(226, 228), match='r.'>\n",
      "<re.Match object; span=(235, 237), match='n\\n'>\n",
      "<re.Match object; span=(238, 240), match='r '>\n",
      "<re.Match object; span=(244, 246), match='h\\n'>\n",
      "<re.Match object; span=(247, 249), match='s '>\n",
      "<re.Match object; span=(253, 255), match='s\\n'>\n",
      "<re.Match object; span=(257, 259), match='s.'>\n",
      "<re.Match object; span=(267, 269), match='n\\n'>\n",
      "<re.Match object; span=(270, 272), match='r.'>\n",
      "<re.Match object; span=(273, 275), match='T\\n'>\n"
     ]
    }
   ],
   "source": [
    "pattern = re.compile(r'[a-zA-Z][^a-zA-Z]') # [^a-zA-z] it will find any that is NOT a lowecase or uppercase. [^] means NOT matching\n",
    "matches = pattern.finditer(text_to_search)\n",
    "for mat in matches:\n",
    "    print(mat)"
   ]
  },
  {
   "cell_type": "code",
   "execution_count": 11,
   "metadata": {},
   "outputs": [
    {
     "name": "stdout",
     "output_type": "stream",
     "text": [
      "<re.Match object; span=(69, 72), match='abc'>\n",
      "<re.Match object; span=(159, 164), match='texas'>\n",
      "<re.Match object; span=(165, 168), match='edu'>\n",
      "<re.Match object; span=(214, 219), match='texas'>\n",
      "<re.Match object; span=(220, 223), match='edu'>\n"
     ]
    }
   ],
   "source": [
    "pattern = re.compile(r'(abc|edu|texas)\\b') # [|] Finding character group, it will fin abc or edu or texas followed word boundary\n",
    "matches = pattern.finditer(text_to_search)\n",
    "for mat in matches:\n",
    "    print(mat)"
   ]
  },
  {
   "cell_type": "code",
   "execution_count": 12,
   "metadata": {},
   "outputs": [
    {
     "name": "stdout",
     "output_type": "stream",
     "text": [
      "<re.Match object; span=(28, 30), match='AB'>\n",
      "<re.Match object; span=(30, 32), match='CD'>\n",
      "<re.Match object; span=(32, 34), match='EF'>\n",
      "<re.Match object; span=(34, 36), match='GH'>\n",
      "<re.Match object; span=(36, 38), match='IJ'>\n",
      "<re.Match object; span=(38, 40), match='KL'>\n",
      "<re.Match object; span=(40, 42), match='MN'>\n",
      "<re.Match object; span=(42, 44), match='OP'>\n",
      "<re.Match object; span=(44, 46), match='QR'>\n",
      "<re.Match object; span=(46, 48), match='ST'>\n",
      "<re.Match object; span=(48, 50), match='UV'>\n",
      "<re.Match object; span=(50, 52), match='WX'>\n",
      "<re.Match object; span=(52, 54), match='YZ'>\n",
      "<re.Match object; span=(74, 76), match='He'>\n",
      "<re.Match object; span=(80, 82), match='He'>\n",
      "<re.Match object; span=(82, 86), match='lloH'>\n",
      "<re.Match object; span=(92, 94), match='Me'>\n",
      "<re.Match object; span=(96, 98), match='Ch'>\n",
      "<re.Match object; span=(108, 110), match='Ne'>\n",
      "<re.Match object; span=(225, 227), match='Mr'>\n",
      "<re.Match object; span=(229, 231), match='Jh'>\n",
      "<re.Match object; span=(237, 239), match='Mr'>\n",
      "<re.Match object; span=(240, 242), match='Sm'>\n",
      "<re.Match object; span=(246, 248), match='Ms'>\n",
      "<re.Match object; span=(249, 251), match='Da'>\n",
      "<re.Match object; span=(255, 257), match='Mr'>\n",
      "<re.Match object; span=(260, 262), match='Ro'>\n",
      "<re.Match object; span=(269, 271), match='Mr'>\n"
     ]
    }
   ],
   "source": [
    "pattern = re.compile(r'([A-Z]|llo)[a-zA-Z]')\n",
    "matches = pattern.finditer(text_to_search)\n",
    "for mat in matches:\n",
    "    print(mat)"
   ]
  },
  {
   "cell_type": "markdown",
   "metadata": {},
   "source": [
    "# Quantifiers"
   ]
  },
  {
   "cell_type": "code",
   "execution_count": 15,
   "metadata": {},
   "outputs": [
    {
     "name": "stdout",
     "output_type": "stream",
     "text": [
      "<re.Match object; span=(225, 230), match='Mr. J'>\n",
      "<re.Match object; span=(237, 241), match='Mr S'>\n",
      "<re.Match object; span=(269, 274), match='Mr. T'>\n"
     ]
    }
   ],
   "source": [
    "pattern = re.compile(r'Mr\\.?\\s[A-Z]') # the thing before '?' may or may not have. What Mr\\.? means is that it will find the once that \n",
    "# starts with MR. or Mr (without a .)\n",
    "matches = pattern.finditer(text_to_search)\n",
    "for mat in matches:\n",
    "    print(mat)"
   ]
  },
  {
   "cell_type": "code",
   "execution_count": 16,
   "metadata": {},
   "outputs": [
    {
     "name": "stdout",
     "output_type": "stream",
     "text": [
      "<re.Match object; span=(225, 236), match='Mr. Jhonson'>\n",
      "<re.Match object; span=(237, 245), match='Mr Smith'>\n",
      "<re.Match object; span=(269, 274), match='Mr. T'>\n"
     ]
    }
   ],
   "source": [
    "pattern = re.compile(r'Mr\\.?\\s[A-Z][a-z]*') # the thing before '*' 0 or more\n",
    "matches = pattern.finditer(text_to_search)\n",
    "for mat in matches:\n",
    "    print(mat)"
   ]
  },
  {
   "cell_type": "code",
   "execution_count": 17,
   "metadata": {},
   "outputs": [
    {
     "name": "stdout",
     "output_type": "stream",
     "text": [
      "<re.Match object; span=(225, 236), match='Mr. Jhonson'>\n",
      "<re.Match object; span=(237, 245), match='Mr Smith'>\n"
     ]
    }
   ],
   "source": [
    "pattern = re.compile(r'Mr\\.?\\s[A-Z][a-z]+') # the thing before '+' 1 or more\n",
    "matches = pattern.finditer(text_to_search)\n",
    "for mat in matches:\n",
    "    print(mat)"
   ]
  },
  {
   "cell_type": "code",
   "execution_count": 18,
   "metadata": {},
   "outputs": [
    {
     "name": "stdout",
     "output_type": "stream",
     "text": [
      "<re.Match object; span=(246, 254), match='Ms Davis'>\n",
      "<re.Match object; span=(255, 268), match='Mrs. Robinson'>\n"
     ]
    }
   ],
   "source": [
    "pattern = re.compile(r'M(s|rs)\\.?\\s[A-Z][a-z]*')\n",
    "matches = pattern.finditer(text_to_search)\n",
    "for mat in matches:\n",
    "    print(mat)"
   ]
  },
  {
   "cell_type": "code",
   "execution_count": 20,
   "metadata": {},
   "outputs": [
    {
     "name": "stdout",
     "output_type": "stream",
     "text": [
      "<re.Match object; span=(158, 168), match='utexas.edu'>\n",
      "<re.Match object; span=(213, 223), match='utexas.edu'>\n"
     ]
    }
   ],
   "source": [
    "pattern = re.compile(r'[a-zA-Z0-9]+\\.[a-z]{3}') #[a-z]{n} - means lowercase letters with exact size of n. In this case 3 characters \n",
    "matches = pattern.finditer(text_to_search)\n",
    "for mat in matches:\n",
    "    print(mat)"
   ]
  },
  {
   "cell_type": "code",
   "execution_count": 21,
   "metadata": {},
   "outputs": [
    {
     "name": "stdout",
     "output_type": "stream",
     "text": [
      "<re.Match object; span=(170, 182), match='321-555-4321'>\n",
      "<re.Match object; span=(183, 195), match='123.555.1234'>\n"
     ]
    }
   ],
   "source": [
    "pattern = re.compile(r'\\d{3}[.-]\\d{3}[.-]\\d{4}') # Searching for phone numbers\n",
    "matches = pattern.finditer(text_to_search)\n",
    "for mat in matches:\n",
    "    print(mat)"
   ]
  },
  {
   "cell_type": "code",
   "execution_count": 22,
   "metadata": {},
   "outputs": [
    {
     "name": "stdout",
     "output_type": "stream",
     "text": [
      "<re.Match object; span=(170, 182), match='321-555-4321'>\n",
      "<re.Match object; span=(183, 195), match='123.555.1234'>\n"
     ]
    }
   ],
   "source": [
    "pattern = re.compile(r'\\d{3}(.|-)\\d{3}(.|-)\\d{4}') # Searching for phone numbers\n",
    "matches = pattern.finditer(text_to_search)\n",
    "for mat in matches:\n",
    "    print(mat)"
   ]
  },
  {
   "cell_type": "code",
   "execution_count": 14,
   "metadata": {},
   "outputs": [
    {
     "name": "stdout",
     "output_type": "stream",
     "text": [
      "<re.Match object; span=(197, 223), match='daniel-mitchell@utexas.edu'>\n"
     ]
    }
   ],
   "source": [
    "pattern = re.compile(r'[a-zA-Z0-9_.+-?]+@[a-zA-Z0-9-]+\\.[a-zA-Z0-9-.]+') # Searching for email addresses\n",
    "matches = pattern.finditer(text_to_search)\n",
    "for mat in matches:\n",
    "    print(mat)"
   ]
  },
  {
   "cell_type": "code",
   "execution_count": 18,
   "metadata": {},
   "outputs": [
    {
     "name": "stdout",
     "output_type": "stream",
     "text": [
      "<re.Match object; span=(197, 223), match='daniel-mitchell@utexas.edu'>\n"
     ]
    }
   ],
   "source": [
    "pattern = re.compile(r'[a-zA-Z0-9-?]+@[a-zA-Z]+\\.[a-zA-Z]{3}') # Searching for email addresses\n",
    "matches = pattern.finditer(text_to_search)\n",
    "for mat in matches:\n",
    "    print(mat)"
   ]
  },
  {
   "cell_type": "code",
   "execution_count": null,
   "metadata": {},
   "outputs": [],
   "source": []
  }
 ],
 "metadata": {
  "kernelspec": {
   "display_name": "Python 3",
   "language": "python",
   "name": "python3"
  },
  "language_info": {
   "codemirror_mode": {
    "name": "ipython",
    "version": 3
   },
   "file_extension": ".py",
   "mimetype": "text/x-python",
   "name": "python",
   "nbconvert_exporter": "python",
   "pygments_lexer": "ipython3",
   "version": "3.8.3"
  }
 },
 "nbformat": 4,
 "nbformat_minor": 4
}
