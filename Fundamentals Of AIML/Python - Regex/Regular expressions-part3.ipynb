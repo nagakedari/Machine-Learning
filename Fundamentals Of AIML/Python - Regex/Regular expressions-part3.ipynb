{
 "cells": [
  {
   "cell_type": "code",
   "execution_count": 1,
   "metadata": {},
   "outputs": [],
   "source": [
    "import re"
   ]
  },
  {
   "cell_type": "code",
   "execution_count": 2,
   "metadata": {},
   "outputs": [],
   "source": [
    "text_to_search = '''\n",
    "abcdefghijklmnopqrstuvwxyz\n",
    "ABCDEFGHIJKLMNOPQRSTUVWXYZ\n",
    "1234567890\n",
    "123abc\n",
    "\n",
    "Hello HelloHello\n",
    "\n",
    "MetaCharacters (Need to be escaped):\n",
    ". ^ $ * + ? ( ) [ ] \\ | { }\n",
    "\n",
    "utexas.edu\n",
    "\n",
    "321-555-4321\n",
    "123.555.1234\n",
    "\n",
    "daniel-mitchell@utexas.edu\n",
    "\n",
    "Mr. Jhonson\n",
    "Mr Smith\n",
    "Ms Davis\n",
    "Mrs. Robinson\n",
    "Mr. T\n",
    "'''"
   ]
  },
  {
   "cell_type": "markdown",
   "metadata": {},
   "source": [
    "# Accessing Information from Match Object"
   ]
  },
  {
   "cell_type": "code",
   "execution_count": 12,
   "metadata": {},
   "outputs": [
    {
     "name": "stdout",
     "output_type": "stream",
     "text": [
      "<re.Match object; span=(197, 223), match='daniel-mitchell@utexas.edu'>\n",
      "(197, 223)\n",
      "daniel-mitchell@utexas.edu\n",
      "daniel-mitchell@utexas.edu\n"
     ]
    }
   ],
   "source": [
    "pattern = re.compile(r'[a-zA-Z0-9_.-]+@[a-zA-Z0-9-_]+\\.[a-zA-z]{2,4}')\n",
    "matches = pattern.finditer(text_to_search)\n",
    "for mat in matches:\n",
    "    print(mat)\n",
    "    print(mat.span(0))  # span(0) will return entire string of span, that is (197, 223)\n",
    "    print(mat.group(0)) # group(0) will return matched string. group (0) will return the matched string of the entire expression\n",
    "    # group(1) will return the strings that match the first character set\n",
    "    print(text_to_search[mat.span(0)[0]:mat.span(0)[1]])"
   ]
  },
  {
   "cell_type": "code",
   "execution_count": 17,
   "metadata": {},
   "outputs": [
    {
     "name": "stdout",
     "output_type": "stream",
     "text": [
      "(69, 72)\n",
      "(159, 164)\n",
      "(165, 168)\n",
      "(214, 219)\n",
      "(220, 223)\n"
     ]
    }
   ],
   "source": [
    "pattern = re.compile(r'(abc|edu|texas)\\b') # [|] Finding character group, it will fin abc or edu or texas followed word boundary\n",
    "matches = pattern.finditer(text_to_search)\n",
    "for mat in matches:\n",
    "#     print(mat)\n",
    "    print(mat.span(1))"
   ]
  },
  {
   "cell_type": "code",
   "execution_count": 20,
   "metadata": {},
   "outputs": [],
   "source": [
    "urls=r'''\n",
    "https://www.google.com\n",
    "http://yahoo.com\n",
    "https://www.whitehouse.gov\n",
    "https://craiglist.org\n",
    "'''"
   ]
  },
  {
   "cell_type": "code",
   "execution_count": 21,
   "metadata": {},
   "outputs": [
    {
     "name": "stdout",
     "output_type": "stream",
     "text": [
      "<re.Match object; span=(1, 23), match='https://www.google.com'>\n",
      "<re.Match object; span=(24, 40), match='http://yahoo.com'>\n",
      "<re.Match object; span=(41, 67), match='https://www.whitehouse.gov'>\n",
      "<re.Match object; span=(68, 89), match='https://craiglist.org'>\n"
     ]
    }
   ],
   "source": [
    "pattern = re.compile(r'https?://(www\\.)?\\w+\\.\\w+')\n",
    "matches = pattern.finditer(urls)\n",
    "for mat in matches:\n",
    "    print(mat)"
   ]
  },
  {
   "cell_type": "markdown",
   "metadata": {},
   "source": [
    "# Understanding group"
   ]
  },
  {
   "cell_type": "code",
   "execution_count": 24,
   "metadata": {},
   "outputs": [
    {
     "name": "stdout",
     "output_type": "stream",
     "text": [
      "https://www.google.com\n",
      "www.\n",
      "google\n",
      ".com\n",
      "google.com\n",
      "http://yahoo.com\n",
      "None\n",
      "yahoo\n",
      ".com\n",
      "yahoo.com\n",
      "https://www.whitehouse.gov\n",
      "www.\n",
      "whitehouse\n",
      ".gov\n",
      "whitehouse.gov\n",
      "https://craiglist.org\n",
      "None\n",
      "craiglist\n",
      ".org\n",
      "craiglist.org\n"
     ]
    }
   ],
   "source": [
    "pattern = re.compile(r'https?://(www\\.)?(\\w+)(\\.\\w+)') # group(0) will return the string that matches the entire expression r'https?://(www\\.)?(\\w+)(\\.\\w+)'\n",
    "# group(1) will return the string that matches (www\\.) character set. group(2) - (\\w+), group(3) - (\\.\\w+)\n",
    "matches = pattern.finditer(urls)\n",
    "for mat in matches:\n",
    "#     print(mat)\n",
    "    print(mat.group(0))\n",
    "    print(mat.group(1))\n",
    "    print(mat.group(2))\n",
    "    print(mat.group(3))\n",
    "    print(mat.group(2)+mat.group(3))"
   ]
  },
  {
   "cell_type": "code",
   "execution_count": null,
   "metadata": {},
   "outputs": [],
   "source": []
  }
 ],
 "metadata": {
  "kernelspec": {
   "display_name": "Python 3",
   "language": "python",
   "name": "python3"
  },
  "language_info": {
   "codemirror_mode": {
    "name": "ipython",
    "version": 3
   },
   "file_extension": ".py",
   "mimetype": "text/x-python",
   "name": "python",
   "nbconvert_exporter": "python",
   "pygments_lexer": "ipython3",
   "version": "3.8.3"
  }
 },
 "nbformat": 4,
 "nbformat_minor": 4
}
