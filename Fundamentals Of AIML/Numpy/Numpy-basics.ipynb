{
 "cells": [
  {
   "cell_type": "code",
   "execution_count": 1,
   "metadata": {},
   "outputs": [],
   "source": [
    "import numpy as np"
   ]
  },
  {
   "cell_type": "code",
   "execution_count": 2,
   "metadata": {},
   "outputs": [
    {
     "name": "stdout",
     "output_type": "stream",
     "text": [
      "3.141592653589793\n",
      "-1.0\n",
      "8.0\n",
      "5.2\n",
      "1.0\n"
     ]
    }
   ],
   "source": [
    "print(np.pi)\n",
    "print(np.cos(np.pi)) # cosine (pi) - pi=3.141..\n",
    "print(np.sqrt(64))\n",
    "print(np.log(np.exp(5.2))) #np.log is the logorithm of natural base which is 'e'\n",
    "print(np.log10(10))"
   ]
  },
  {
   "cell_type": "code",
   "execution_count": 3,
   "metadata": {},
   "outputs": [
    {
     "name": "stdout",
     "output_type": "stream",
     "text": [
      "[1 2 4 5]\n",
      "[[ 1  3  5]\n",
      " [ 3  6  7]\n",
      " [ 9 10  2]]\n",
      "[[ 1  3  9]\n",
      " [ 3  6 10]\n",
      " [ 5  7  2]]\n",
      "-7.000000000000015\n",
      "[[ 8.28571429 -6.28571429  1.28571429]\n",
      " [-8.14285714  6.14285714 -1.14285714]\n",
      " [ 3.42857143 -2.42857143  0.42857143]]\n",
      "[[1 2]\n",
      " [1 2]]\n",
      "0.0\n"
     ]
    }
   ],
   "source": [
    "#generate an array / vector\n",
    "vector = np.array([1,2,4,5])\n",
    "print(vector)\n",
    "\n",
    "# generating matrix\n",
    "\n",
    "matrix = np.array([[1,3,5],[3,6,7],[9,10,2]])\n",
    "print(matrix)\n",
    "print(matrix.T) # T - Transpose of a mtrix\n",
    "print(np.linalg.det(matrix)) # Determinant of a matrix\n",
    "print(np.linalg.inv(matrix)) # matrix inverse\n",
    "\n",
    "matrrixWith0Det = np.array([[1,2], [1,2]])\n",
    "print(matrrixWith0Det)\n",
    "print(np.linalg.det(matrrixWith0Det))\n",
    "# print(np.linalg.inv(matrrixWith0Det)) # Cannot find the inverse of a mtrix as the determinant is zero"
   ]
  },
  {
   "cell_type": "code",
   "execution_count": 15,
   "metadata": {},
   "outputs": [
    {
     "name": "stdout",
     "output_type": "stream",
     "text": [
      "[0 1 2 3 4 5 6 7 8 9]\n",
      "[2 5 8]\n"
     ]
    }
   ],
   "source": [
    "vector1 = np.arange(0,10) #generates an array of 0 to 9 as the upper limit is exclusive\n",
    "print(vector1)\n",
    "vector2 = np.arange(2,10,3) # np.arrange(startvalue, endValue, stepSize) - generates an array from 2 to 10 execluding 10 with increment of 3, by default the step size is 1\n",
    "print(vector2)"
   ]
  },
  {
   "cell_type": "code",
   "execution_count": 23,
   "metadata": {},
   "outputs": [
    {
     "name": "stdout",
     "output_type": "stream",
     "text": [
      "[0.         0.55555556 1.11111111 1.66666667 2.22222222 2.77777778\n",
      " 3.33333333 3.88888889 4.44444444 5.        ]\n",
      "[1.         1.44444444 1.88888889 2.33333333 2.77777778 3.22222222\n",
      " 3.66666667 4.11111111 4.55555556 5.        ]\n",
      "[[0.        ]\n",
      " [0.55555556]\n",
      " [1.11111111]\n",
      " [1.66666667]\n",
      " [2.22222222]\n",
      " [2.77777778]\n",
      " [3.33333333]\n",
      " [3.88888889]\n",
      " [4.44444444]\n",
      " [5.        ]]\n",
      "[0.         0.55555556 1.11111111 1.66666667 2.22222222 2.77777778\n",
      " 3.33333333 3.88888889 4.44444444 5.        ]\n",
      "[[0.         0.55555556]\n",
      " [1.11111111 1.66666667]\n",
      " [2.22222222 2.77777778]\n",
      " [3.33333333 3.88888889]\n",
      " [4.44444444 5.        ]]\n"
     ]
    }
   ],
   "source": [
    "vector3 = np.linspace(0,5, 10) # generates an array of values that are evenly spaced b/w 0 and 5. That is there will be 9 spaces b/w 0 and 5\n",
    "print(vector3)\n",
    "vector4 = np.linspace(1,5, 10) # generates an array of values that are evenly spaced b/w 1 and 5. That is there will be 9 spaces b/w 1 and 5\n",
    "print(vector4)\n",
    "print(np.reshape(vector3, (10,1)))\n",
    "print(vector3) #reshape doesn't change the original vector it just returns a new array\n",
    "vector5 = np.reshape(vector3, (5,2))\n",
    "print(vector5)"
   ]
  },
  {
   "cell_type": "code",
   "execution_count": 28,
   "metadata": {},
   "outputs": [
    {
     "name": "stdout",
     "output_type": "stream",
     "text": [
      "[[0. 0. 0.]\n",
      " [0. 0. 0.]\n",
      " [0. 0. 0.]\n",
      " [0. 0. 0.]\n",
      " [0. 0. 0.]]\n",
      "[[1. 1. 1.]\n",
      " [1. 1. 1.]\n",
      " [1. 1. 1.]\n",
      " [1. 1. 1.]\n",
      " [1. 1. 1.]]\n",
      "[[1. 0. 0.]\n",
      " [0. 1. 0.]\n",
      " [0. 0. 1.]]\n",
      "[[1. 0.]\n",
      " [0. 1.]]\n"
     ]
    }
   ],
   "source": [
    "mat = np.zeros((5,3))\n",
    "print(mat)\n",
    "\n",
    "mat1 = np.ones((5,3))\n",
    "print(mat1)\n",
    "\n",
    "mat2 = np.identity(3)\n",
    "print(mat2)\n",
    "print(np.eye(2)) # eye is short form of identity matrix"
   ]
  },
  {
   "cell_type": "code",
   "execution_count": 31,
   "metadata": {},
   "outputs": [
    {
     "name": "stdout",
     "output_type": "stream",
     "text": [
      "[1 2 3 4 5]\n",
      "[2 3 4 5 6]\n",
      "[ 3  5  7  9 11]\n",
      "[ 2  6 12 20 30]\n",
      "[1.         1.41421356 1.73205081 2.         2.23606798]\n",
      "[0.5        0.33333333 0.25       0.2        0.16666667]\n"
     ]
    }
   ],
   "source": [
    "vec = np.arange(1,6)\n",
    "vec1 = np.arange(2,7)\n",
    "print(vec)\n",
    "print(vec1)\n",
    "print(vec + vec1)\n",
    "print(vec * vec1)\n",
    "print(np.sqrt(vec))\n",
    "print(1/vec1) #  generates an array with values 1/(each element of vector vec1)"
   ]
  },
  {
   "cell_type": "code",
   "execution_count": 38,
   "metadata": {},
   "outputs": [
    {
     "name": "stdout",
     "output_type": "stream",
     "text": [
      "[[36]\n",
      " [59]\n",
      " [58]]\n"
     ]
    }
   ],
   "source": [
    "vector7 = np.array([[2],[3],[5]])\n",
    "productVec = np.matmul(matrix, vector7)\n",
    "print(productVec)"
   ]
  },
  {
   "cell_type": "code",
   "execution_count": 39,
   "metadata": {},
   "outputs": [
    {
     "name": "stdout",
     "output_type": "stream",
     "text": [
      "[[2.]\n",
      " [3.]\n",
      " [5.]]\n"
     ]
    }
   ],
   "source": [
    "print(np.linalg.solve(matrix, productVec)) # gives the unknow vector that gives productVec by multiplying with matrix\n",
    "# matrix * unknown_vector = productVec"
   ]
  },
  {
   "cell_type": "code",
   "execution_count": 40,
   "metadata": {},
   "outputs": [
    {
     "name": "stdout",
     "output_type": "stream",
     "text": [
      "['sri' 'naga' 'Kedari' 'sri' 'SRI' 'NaGa' '4']\n",
      "['4' 'Kedari' 'NaGa' 'SRI' 'naga' 'sri']\n"
     ]
    }
   ],
   "source": [
    "vec4 = np.array(['sri', 'naga', 'Kedari', 'sri', 'SRI', 'NaGa', 4])\n",
    "print(vec4)\n",
    "print(np.unique(vec4)) # Unique is case sensitive"
   ]
  },
  {
   "cell_type": "code",
   "execution_count": 53,
   "metadata": {},
   "outputs": [
    {
     "name": "stdout",
     "output_type": "stream",
     "text": [
      "[[0.37958521 0.08161862 0.98508426 0.75369388 0.39409301]\n",
      " [0.46018648 0.92554182 0.51278671 0.06944338 0.13990441]\n",
      " [0.75813018 0.04530817 0.22062851 0.80053599 0.97333334]\n",
      " [0.77350316 0.77241513 0.07680775 0.98357613 0.77156564]\n",
      " [0.33792335 0.23174351 0.26872157 0.89252487 0.3881423 ]]\n",
      "[[ 1.28803097 -1.46914179 -0.72411495  0.87120873  1.47967171 -1.42326093]\n",
      " [-0.34925326 -1.29903716  0.2586732   1.48510261  0.54728547 -1.18581395]\n",
      " [-0.82641714 -0.92328964  0.49181498 -1.11040314 -0.10020005  0.71734968]\n",
      " [-2.10020617 -1.23556784  0.73173612  0.4291096   0.48395002 -0.63851581]\n",
      " [ 0.27386219 -0.15304408  1.1080321  -1.46989384  0.01892212  0.76251525]\n",
      " [-0.32406241 -0.26935994  0.75631252  1.11086435 -0.2719643   0.43939175]\n",
      " [-1.24612102  1.6708391  -0.76769624 -0.6772328  -0.25318291 -0.29137143]\n",
      " [-1.78308597  1.80952738  1.92610244  0.82930398  2.22838131  0.00942564]\n",
      " [ 0.39990275  0.91321983  0.07657049  0.22606402 -1.61129442  1.54163603]\n",
      " [ 1.13507878  2.18587273 -1.84495724  0.08693513 -1.00115797  0.83646099]]\n",
      "9\n"
     ]
    }
   ],
   "source": [
    "# random array generators\n",
    "random_mat = np.random.rand(5,5) # uniform random variable which means 0 < each element < 1\n",
    "random_mat1 = np.random.randn(10,6) # standard normal varible which means a mean of 0 and a standard deviation of 1\n",
    "random_mat2 = np.random.randint(2,10) # returns an integer b/w 2 to 10\n",
    "print(random_mat)\n",
    "print(random_mat1)\n",
    "print(random_mat2)"
   ]
  },
  {
   "cell_type": "code",
   "execution_count": 55,
   "metadata": {},
   "outputs": [
    {
     "name": "stdout",
     "output_type": "stream",
     "text": [
      "0.5198718950060757\n",
      "0.06299179300046907\n",
      "0.3230005791039736\n",
      "1.0845948459124815\n",
      "0.04530816849099284\n",
      "0.9850842593478119\n",
      "-2.1002061653178177\n",
      "2.2283813097760015\n"
     ]
    }
   ],
   "source": [
    "print(np.mean(random_mat))\n",
    "print(np.mean(random_mat1))\n",
    "print(np.std(random_mat))\n",
    "print(np.std(random_mat1))\n",
    "print(np.min(random_mat))\n",
    "print(np.max(random_mat))\n",
    "print(np.min(random_mat1))\n",
    "print(np.max(random_mat1))"
   ]
  },
  {
   "cell_type": "code",
   "execution_count": null,
   "metadata": {},
   "outputs": [],
   "source": []
  }
 ],
 "metadata": {
  "kernelspec": {
   "display_name": "Python 3",
   "language": "python",
   "name": "python3"
  },
  "language_info": {
   "codemirror_mode": {
    "name": "ipython",
    "version": 3
   },
   "file_extension": ".py",
   "mimetype": "text/x-python",
   "name": "python",
   "nbconvert_exporter": "python",
   "pygments_lexer": "ipython3",
   "version": "3.7.9"
  }
 },
 "nbformat": 4,
 "nbformat_minor": 4
}
