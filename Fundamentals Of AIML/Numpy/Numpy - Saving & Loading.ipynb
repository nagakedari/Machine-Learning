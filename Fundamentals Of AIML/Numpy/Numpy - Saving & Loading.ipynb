{
 "cells": [
  {
   "cell_type": "code",
   "execution_count": 2,
   "metadata": {},
   "outputs": [],
   "source": [
    "import numpy as np"
   ]
  },
  {
   "cell_type": "code",
   "execution_count": 6,
   "metadata": {},
   "outputs": [
    {
     "name": "stdout",
     "output_type": "stream",
     "text": [
      "[ 0.64111816 -0.35846459 -0.12905204 -0.06573339  0.97195898  0.16105457\n",
      " -0.86666653 -0.14097122  1.08398019 -0.42074981  0.38659937  0.92970108\n",
      "  0.54632815  1.63115093  2.1601995 ]\n",
      "[False False False False False False False False  True False False False\n",
      " False  True  True]\n",
      "[0.64111816 0.97195898 0.16105457 1.08398019 0.38659937 0.92970108\n",
      " 0.54632815 1.63115093 2.1601995 ]\n"
     ]
    }
   ],
   "source": [
    "vec = np.random.randn(15)\n",
    "print(vec)\n",
    "print(vec>1) # prints true or false for each element based on the condition\n",
    "print(vec[vec>0]) # prints array of values that match the condition"
   ]
  },
  {
   "cell_type": "code",
   "execution_count": 7,
   "metadata": {},
   "outputs": [
    {
     "name": "stdout",
     "output_type": "stream",
     "text": [
      "[[-0.1951122  -1.03163347  0.01624062]\n",
      " [-0.07430631  0.38763418 -0.0676977 ]]\n",
      "[[False False  True]\n",
      " [False  True False]]\n",
      "[]\n"
     ]
    }
   ],
   "source": [
    "mat = np.random.randn(2,3)\n",
    "print(mat)\n",
    "print(mat>0)# prints true or false for each element based on the condition - result would be a matrix of original size\n",
    "print(mat[mat>1]) # prints the array of elements that match the condition"
   ]
  },
  {
   "cell_type": "code",
   "execution_count": 9,
   "metadata": {},
   "outputs": [
    {
     "name": "stdout",
     "output_type": "stream",
     "text": [
      "[[-0.7606461  -0.75182342 -1.63333622]\n",
      " [-0.24775428 -0.17485426 10.        ]]\n"
     ]
    }
   ],
   "source": [
    "mat[mat>1] = 10 # Replaces all the elements that matches the condition with 10\n",
    "print(mat)"
   ]
  },
  {
   "cell_type": "code",
   "execution_count": 14,
   "metadata": {},
   "outputs": [],
   "source": [
    "# Saving single array to a file\n",
    "np.save('my-test-array', mat)\n",
    "\n",
    "# Saving multiple arrays to a zip file. np.savez('zip_file_name', individual_file_name=array_you_want_store)\n",
    "mat1 = np.random.randn(4,5)\n",
    "np.savez('my-test-array-zip', first_matrix=mat, second_matrix=mat1) # filenames shouldn't contain '-'"
   ]
  },
  {
   "cell_type": "code",
   "execution_count": 5,
   "metadata": {},
   "outputs": [
    {
     "name": "stdout",
     "output_type": "stream",
     "text": [
      "[[-0.7606461  -0.75182342 -1.63333622]\n",
      " [-0.24775428 -0.17485426 10.        ]]\n",
      "<numpy.lib.npyio.NpzFile object at 0x109e8bb80>\n",
      "[[-0.7606461  -0.75182342 -1.63333622]\n",
      " [-0.24775428 -0.17485426 10.        ]]\n",
      "[[ 0.44791213  0.87321531 -1.14392837 -0.55052387 -0.72791002]\n",
      " [-0.26333137  2.34148832  0.85987812 -0.05630366  0.38827304]\n",
      " [-1.03232586  0.1405652  -0.61466876 -0.48956022 -1.82548566]\n",
      " [-0.38727964 -0.32446406 -0.28865347 -1.64198392 -1.27095903]]\n"
     ]
    }
   ],
   "source": [
    "loaded_mat = np.load('my-test-array.npy') # loads the file from the drive\n",
    "loaded_mat_zip = np.load('my-test-array-zip.npz') # loads the zip file from the drive\n",
    "\n",
    "print(loaded_mat) # prints the content (inthis case the matrix) of the file\n",
    "print(loaded_mat_zip) # prints the memory location of the zip\n",
    "\n",
    "mat_inside_zip = loaded_mat_zip['first_matrix']\n",
    "print(mat_inside_zip)\n",
    "mat_inside_zip1 = loaded_mat_zip['second_matrix']\n",
    "print(mat_inside_zip1)"
   ]
  },
  {
   "cell_type": "code",
   "execution_count": 10,
   "metadata": {},
   "outputs": [
    {
     "name": "stdout",
     "output_type": "stream",
     "text": [
      "[[-0.1951122  -1.03163347  0.01624062]\n",
      " [-0.07430631  0.38763418 -0.0676977 ]]\n"
     ]
    }
   ],
   "source": [
    "np.savetxt('my-test-text-file.txt', mat, delimiter=';')\n",
    "\n",
    "text_file_content = np.loadtxt('my-test-text-file.txt', delimiter=',')\n",
    "\n",
    "print(text_file_content)"
   ]
  },
  {
   "cell_type": "code",
   "execution_count": null,
   "metadata": {},
   "outputs": [],
   "source": []
  }
 ],
 "metadata": {
  "kernelspec": {
   "display_name": "Python 3",
   "language": "python",
   "name": "python3"
  },
  "language_info": {
   "codemirror_mode": {
    "name": "ipython",
    "version": 3
   },
   "file_extension": ".py",
   "mimetype": "text/x-python",
   "name": "python",
   "nbconvert_exporter": "python",
   "pygments_lexer": "ipython3",
   "version": "3.8.3"
  }
 },
 "nbformat": 4,
 "nbformat_minor": 4
}
