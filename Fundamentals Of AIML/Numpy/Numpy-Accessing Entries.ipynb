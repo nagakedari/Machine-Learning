{
 "cells": [
  {
   "cell_type": "code",
   "execution_count": 1,
   "metadata": {},
   "outputs": [],
   "source": [
    "import numpy as np"
   ]
  },
  {
   "cell_type": "code",
   "execution_count": 2,
   "metadata": {},
   "outputs": [
    {
     "name": "stdout",
     "output_type": "stream",
     "text": [
      "[-2.39390551 -0.03039026  0.11072669 -0.1774862   1.55803038 -0.26818209\n",
      "  0.57249639  0.51216023 -1.13394293  0.42486952]\n",
      "0.5724963870906693\n"
     ]
    }
   ],
   "source": [
    "vec = np.random.randn(10)\n",
    "print(vec)\n",
    "print(vec[6])"
   ]
  },
  {
   "cell_type": "code",
   "execution_count": 3,
   "metadata": {},
   "outputs": [
    {
     "name": "stdout",
     "output_type": "stream",
     "text": [
      "[ 1.55803038 -0.26818209  0.57249639  0.51216023 -1.13394293]\n"
     ]
    }
   ],
   "source": [
    "print(vec[4:9]) # array of elements from index 4 to 8 (9 is not inclusive)"
   ]
  },
  {
   "cell_type": "code",
   "execution_count": 4,
   "metadata": {},
   "outputs": [
    {
     "name": "stdout",
     "output_type": "stream",
     "text": [
      "[0 3 6 9]\n",
      "[-2.39390551 -0.1774862   0.57249639  0.42486952]\n"
     ]
    }
   ],
   "source": [
    "print(np.arange(0,10,3))\n",
    "print(vec[np.arange(0,10,3)]) # We can access elelments that are not in consecutive indexes"
   ]
  },
  {
   "cell_type": "code",
   "execution_count": 10,
   "metadata": {},
   "outputs": [
    {
     "name": "stdout",
     "output_type": "stream",
     "text": [
      "[[0.62818782 0.25018361 0.8761828  0.15090014 0.42907852 0.07999229]\n",
      " [0.25213574 0.90815934 0.53532156 0.98101941 0.19557038 0.57464531]\n",
      " [0.93341802 0.53832821 0.29737494 0.50006363 0.42561817 0.36155947]]\n",
      "[0.25213574 0.90815934 0.53532156 0.98101941 0.19557038 0.57464531]\n",
      "0.9081593411784821\n",
      "0.9810194133329754\n",
      "[[0.25018361 0.8761828 ]\n",
      " [0.90815934 0.53532156]]\n"
     ]
    }
   ],
   "source": [
    "mat = np.random.rand(3,6)\n",
    "print(mat) # prints the whole matix\n",
    "print(mat[1]) # prints the secord row of the matrix\n",
    "print(mat[1][1]) # print the second element of second row\n",
    "print(mat[1, 3]) # prints fourth element of second row\n",
    "print(mat[0:2, 1:3]) # prints rows 0,1 and columns 1,2"
   ]
  },
  {
   "cell_type": "code",
   "execution_count": 25,
   "metadata": {},
   "outputs": [
    {
     "name": "stdout",
     "output_type": "stream",
     "text": [
      "[-2.39390551 -0.03039026  3.         10.         10.         10.\n",
      " 10.         10.         -1.13394293  0.42486952]\n",
      "[[ 0.62818782  0.25018361  0.8761828   0.15090014  0.42907852  0.07999229]\n",
      " [ 0.25213574  0.90815934  0.53532156  0.98101941  0.19557038  0.57464531]\n",
      " [15.          1.         15.         15.         15.         15.        ]]\n"
     ]
    }
   ],
   "source": [
    "# vec[3:8] = 'String Value' # Fails because of different data types\n",
    "vec[3:8] = 10 # Updates the values of vector from the index 3 to 7 to value 10\n",
    "print(vec)"
   ]
  },
  {
   "cell_type": "code",
   "execution_count": 27,
   "metadata": {},
   "outputs": [
    {
     "name": "stdout",
     "output_type": "stream",
     "text": [
      "[-2.39390551 -0.03039026  4.          5.         10.         10.\n",
      " 10.         10.         -1.13394293  0.42486952]\n"
     ]
    }
   ],
   "source": [
    "vec[2:4] = [4,5] # replaces the values of vector with index 2 to and index 3 to 5 (the index space b/w lower and upper\n",
    "# element should match the number of elements assigning. Ex: 4-2 = 2)\n",
    "print(vec)"
   ]
  },
  {
   "cell_type": "code",
   "execution_count": 32,
   "metadata": {},
   "outputs": [
    {
     "name": "stdout",
     "output_type": "stream",
     "text": [
      "[[ 0.62818782  0.25018361  0.8761828   0.15090014  0.42907852  0.07999229]\n",
      " [ 0.25213574  6.          6.         10.         10.          0.57464531]\n",
      " [15.          1.          6.         15.         15.         15.        ]]\n",
      "[[ 0.62818782  0.25018361  0.8761828   0.15090014  0.42907852  0.07999229]\n",
      " [ 0.25213574  6.         10.         10.         10.          0.57464531]\n",
      " [15.          1.          6.         15.         15.         15.        ]]\n",
      "[[6. 6.]\n",
      " [6. 6.]]\n",
      "[[ 0.62818782  0.25018361  0.8761828   0.15090014  0.42907852  0.07999229]\n",
      " [ 0.25213574  6.          6.         10.         10.          0.57464531]\n",
      " [15.          6.          6.         15.         15.         15.        ]]\n",
      "[[99. 99.]\n",
      " [99. 99.]]\n",
      "[[ 0.62818782  0.25018361  0.8761828   0.15090014  0.42907852  0.07999229]\n",
      " [ 0.25213574  6.          6.         10.         10.          0.57464531]\n",
      " [15.          6.          6.         15.         15.         15.        ]]\n"
     ]
    }
   ],
   "source": [
    "mat[2:3, 1:2] = 1 # Updates the values of matrix to 1 for the row index 2 and the columns with index 1\n",
    "print(mat)\n",
    "mat[1:2, 2:5] = 10 # Updates the values of matrix to 1 for the row index 2 and the columns with index 1\n",
    "print(mat)\n",
    "sub_mat = mat[1:3, 1:3]\n",
    "sub_mat[:] = 6 # Setting all the values of sub matrix to 6\n",
    "print(sub_mat)\n",
    "print(mat) # Modifying the sub matrix effects the original matrix\n",
    "# To avoid that, we need to use copy() operation\n",
    "sub_mat = mat[0:2, 0:2].copy()\n",
    "sub_mat[:]= 99\n",
    "print(sub_mat)\n",
    "print(mat)"
   ]
  },
  {
   "cell_type": "code",
   "execution_count": 44,
   "metadata": {},
   "outputs": [
    {
     "name": "stdout",
     "output_type": "stream",
     "text": [
      "[[1. 1. 1. 1. 1. 1.]\n",
      " [1. 1. 1. 1. 1. 1.]\n",
      " [1. 1. 1. 1. 1. 1.]]\n",
      "[[20. 30. 50.  1.  1.  1.]\n",
      " [40. 60. 80.  1.  1.  1.]\n",
      " [ 1.  1.  1.  1.  1.  1.]]\n",
      "[[ 0.92535434  0.42758148 -0.67267745 -0.52604608  0.76019398  0.20277922]\n",
      " [ 0.88101877 -0.29370789 -0.7953827   0.66654268 -1.25732376  1.15390183]\n",
      " [-1.07248822  0.02981136  0.83568457  0.22916317  1.33031781 -0.98127406]]\n",
      "[[ 2.00000000e+01  3.00000000e+01  5.00000000e+01 -5.26046082e-01\n",
      "   7.60193982e-01  2.02779218e-01]\n",
      " [ 4.00000000e+01  6.00000000e+01  8.00000000e+01  6.66542677e-01\n",
      "  -1.25732376e+00  1.15390183e+00]\n",
      " [-1.07248822e+00  2.98113625e-02  8.35684568e-01  2.29163171e-01\n",
      "   1.33031781e+00 -9.81274056e-01]]\n"
     ]
    }
   ],
   "source": [
    "mat1 = np.ones((3,6))\n",
    "print(mat1)\n",
    "mat1[0:2, 0:3] = [[20, 30, 50],\n",
    "                 [40, 60, 80]]\n",
    "print(mat1)\n",
    "mat = np.random.rand(3,6)\n",
    "print(mat)\n",
    "mat[0:2, 0:3] = [[20, 30, 50],\n",
    "                 [40, 60, 80]]\n",
    "print(mat)"
   ]
  },
  {
   "cell_type": "code",
   "execution_count": null,
   "metadata": {},
   "outputs": [],
   "source": []
  }
 ],
 "metadata": {
  "kernelspec": {
   "display_name": "Python 3",
   "language": "python",
   "name": "python3"
  },
  "language_info": {
   "codemirror_mode": {
    "name": "ipython",
    "version": 3
   },
   "file_extension": ".py",
   "mimetype": "text/x-python",
   "name": "python",
   "nbconvert_exporter": "python",
   "pygments_lexer": "ipython3",
   "version": "3.8.3"
  }
 },
 "nbformat": 4,
 "nbformat_minor": 4
}
