{
 "cells": [
  {
   "cell_type": "code",
   "execution_count": 1,
   "metadata": {},
   "outputs": [],
   "source": [
    "import numpy as np\n",
    "import pandas as pd"
   ]
  },
  {
   "cell_type": "code",
   "execution_count": 2,
   "metadata": {},
   "outputs": [
    {
     "name": "stdout",
     "output_type": "stream",
     "text": [
      "[1.2 2.  3.2 4.  4.5 6.2 6.5]\n"
     ]
    }
   ],
   "source": [
    "my_list = [1.2,2,3.2,4,4.5,6.2,6.5]\n",
    "numpy_array = np.array(my_list)\n",
    "print(numpy_array)"
   ]
  },
  {
   "cell_type": "code",
   "execution_count": 3,
   "metadata": {},
   "outputs": [
    {
     "name": "stdout",
     "output_type": "stream",
     "text": [
      "0    1.2\n",
      "1    2.0\n",
      "2    3.2\n",
      "3    4.0\n",
      "4    4.5\n",
      "5    6.2\n",
      "6    6.5\n",
      "dtype: float64\n",
      "3.2\n",
      " \n",
      "0    1.2\n",
      "1    2.0\n",
      "2    3.2\n",
      "3    4.0\n",
      "4    4.5\n",
      "5    6.2\n",
      "6    6.5\n",
      "dtype: float64\n"
     ]
    }
   ],
   "source": [
    "my_series = pd.Series(my_list)\n",
    "print(my_series)\n",
    "print(my_series[2])\n",
    "print(\" \")\n",
    "\n",
    "my_series1 = pd.Series(numpy_array)\n",
    "print(my_series1)"
   ]
  },
  {
   "cell_type": "code",
   "execution_count": 4,
   "metadata": {},
   "outputs": [
    {
     "name": "stdout",
     "output_type": "stream",
     "text": [
      "first      1.2\n",
      "second     2.0\n",
      "third      3.2\n",
      "fourth     4.0\n",
      "fith       4.5\n",
      "sixth      6.2\n",
      "seventh    6.5\n",
      "dtype: float64\n",
      "first      1.2\n",
      "second     2.0\n",
      "third      3.2\n",
      "fourth     4.0\n",
      "fith       4.5\n",
      "sixth      6.2\n",
      "seventh    6.5\n",
      "dtype: float64\n"
     ]
    }
   ],
   "source": [
    "# We can add the lables instead of having default numbers\n",
    "\n",
    "labels = ['first', 'second', 'third', 'fourth', 'fith', 'sixth', 'seventh'] # The length of the lables should match with length of the series/data\n",
    "series_with_labels = pd.Series(data=my_list, index=labels) \n",
    "print(series_with_labels)\n",
    "series_with_labels = pd.Series(my_list, labels)\n",
    "print(series_with_labels)"
   ]
  },
  {
   "cell_type": "code",
   "execution_count": 5,
   "metadata": {},
   "outputs": [
    {
     "name": "stdout",
     "output_type": "stream",
     "text": [
      "2.0\n",
      "3.2\n"
     ]
    }
   ],
   "source": [
    "#accessing using labes\n",
    "print(series_with_labels[labels[1]])\n",
    "print(series_with_labels['third'])"
   ]
  },
  {
   "cell_type": "code",
   "execution_count": 6,
   "metadata": {},
   "outputs": [
    {
     "name": "stdout",
     "output_type": "stream",
     "text": [
      "eight       NaN\n",
      "first       2.4\n",
      "fith        NaN\n",
      "fourth     37.0\n",
      "second      NaN\n",
      "seventh     NaN\n",
      "sixth       NaN\n",
      "tenth       NaN\n",
      "third       6.4\n",
      "dtype: float64\n"
     ]
    }
   ],
   "source": [
    "my_series1 = pd.Series([1.2,3.2,33,4,5],['first','third','fourth', 'eight', 'tenth'])\n",
    "print(series_with_labels + my_series1) # It first sorts the series in the order of labels and adds values of the corresponding lables"
   ]
  },
  {
   "cell_type": "code",
   "execution_count": 7,
   "metadata": {},
   "outputs": [
    {
     "name": "stdout",
     "output_type": "stream",
     "text": [
      "           0     1\n",
      "eight    NaN   4.0\n",
      "first    1.2   1.2\n",
      "fith     4.5   NaN\n",
      "fourth   4.0  33.0\n",
      "second   2.0   NaN\n",
      "seventh  6.5   NaN\n",
      "sixth    6.2   NaN\n",
      "tenth    NaN   5.0\n",
      "third    3.2   3.2\n"
     ]
    }
   ],
   "source": [
    "# Creating Dataframe series\n",
    "data_frame = pd.concat([series_with_labels, my_series1], axis=1, sort=True) # With axis=1 it will both series side by side\n",
    "# with axis=0, one series will come after the other in a single column\n",
    "print(data_frame)"
   ]
  },
  {
   "cell_type": "code",
   "execution_count": 21,
   "metadata": {},
   "outputs": [
    {
     "name": "stdout",
     "output_type": "stream",
     "text": [
      "          0         1         2         3         4\n",
      "0  0.624219  2.096776  0.604973 -0.732857 -0.759181\n",
      "1  0.028584 -0.793042 -2.121008 -0.093615 -0.581000\n",
      "2  0.741218  1.144062  1.913737  0.656595  1.548797\n",
      "3 -1.048616  1.129278 -0.241018 -1.469783 -0.157269\n",
      "4 -0.394671 -1.763013 -1.002450  1.108885  1.924904\n"
     ]
    }
   ],
   "source": [
    "# Another way of creating a data frame\n",
    "my_data_frame = pd.DataFrame(np.random.randn(5,5))\n",
    "print(my_data_frame)"
   ]
  },
  {
   "cell_type": "code",
   "execution_count": 25,
   "metadata": {},
   "outputs": [
    {
     "name": "stdout",
     "output_type": "stream",
     "text": [
      "            1st column  2dn column  3rd column  4th column  5th column\n",
      "first row    -0.196986    0.760210   -0.222104    0.368165   -0.355746\n",
      "second row    0.239630    0.019748   -0.435433    0.844590    1.453620\n",
      "third row     0.991455    0.489308    0.731325    0.979586   -0.915160\n",
      "fourth row   -0.731431   -1.247399   -0.179475   -0.386921    0.118314\n",
      "fitfth row   -0.812524   -1.417415   -0.051628   -1.829202    1.427991\n"
     ]
    }
   ],
   "source": [
    "# labeling the data frame\n",
    "my_data_frame = pd.DataFrame(np.random.randn(5,5), \n",
    "                             ['first row', 'second row', 'third row', 'fourth row', 'fitfth row'],\n",
    "                             ['1st column', '2dn column', '3rd column', '4th column', '5th column'])\n",
    "print(my_data_frame)"
   ]
  },
  {
   "cell_type": "code",
   "execution_count": null,
   "metadata": {},
   "outputs": [],
   "source": []
  }
 ],
 "metadata": {
  "kernelspec": {
   "display_name": "Python 3",
   "language": "python",
   "name": "python3"
  },
  "language_info": {
   "codemirror_mode": {
    "name": "ipython",
    "version": 3
   },
   "file_extension": ".py",
   "mimetype": "text/x-python",
   "name": "python",
   "nbconvert_exporter": "python",
   "pygments_lexer": "ipython3",
   "version": "3.8.3"
  }
 },
 "nbformat": 4,
 "nbformat_minor": 4
}
