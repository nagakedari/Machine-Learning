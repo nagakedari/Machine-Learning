{
 "cells": [
  {
   "cell_type": "code",
   "execution_count": 1,
   "metadata": {},
   "outputs": [],
   "source": [
    "import numpy as np\n",
    "import pandas as pd"
   ]
  },
  {
   "cell_type": "code",
   "execution_count": 2,
   "metadata": {},
   "outputs": [
    {
     "name": "stdout",
     "output_type": "stream",
     "text": [
      "             1st col   2nd col   3rd col   4th col   5th col\n",
      "first row  -1.066436  0.664521 -0.479841  0.617402 -0.011785\n",
      "second row -1.042316  0.752747  0.208166  0.335706 -0.773191\n",
      "third row   0.956853 -1.682262 -0.150610  0.266887 -1.672178\n",
      "fourth row -0.277181  0.120764  1.242129  0.384651 -0.506904\n",
      "fitfth row  0.215965 -0.026273 -1.011498  0.850856 -0.387502\n"
     ]
    }
   ],
   "source": [
    "my_data_frame = pd.DataFrame(np.random.randn(5,5), \n",
    "                             ['first row', 'second row', 'third row', 'fourth row', 'fitfth row'],\n",
    "                             ['1st col', '2nd col', '3rd col', '4th col', '5th col'])\n",
    "print(my_data_frame)"
   ]
  },
  {
   "cell_type": "code",
   "execution_count": 3,
   "metadata": {},
   "outputs": [
    {
     "name": "stdout",
     "output_type": "stream",
     "text": [
      "first row     0.664521\n",
      "second row    0.752747\n",
      "third row    -1.682262\n",
      "fourth row    0.120764\n",
      "fitfth row   -0.026273\n",
      "Name: 2nd col, dtype: float64\n",
      "             2nd col   3rd col\n",
      "first row   0.664521 -0.479841\n",
      "second row  0.752747  0.208166\n",
      "third row  -1.682262 -0.150610\n",
      "fourth row  0.120764  1.242129\n",
      "fitfth row -0.026273 -1.011498\n"
     ]
    }
   ],
   "source": [
    "print(my_data_frame['2nd col']) # With [], we will only access columns\n",
    "print(my_data_frame[['2nd col', '3rd col']])"
   ]
  },
  {
   "cell_type": "code",
   "execution_count": 10,
   "metadata": {},
   "outputs": [
    {
     "name": "stdout",
     "output_type": "stream",
     "text": [
      "1st col   -1.066436\n",
      "2nd col    0.664521\n",
      "3rd col   -0.479841\n",
      "4th col    0.617402\n",
      "5th col   -0.011785\n",
      "Name: first row, dtype: float64\n"
     ]
    }
   ],
   "source": [
    "print(my_data_frame.loc['first row']) "
   ]
  },
  {
   "cell_type": "code",
   "execution_count": 11,
   "metadata": {},
   "outputs": [
    {
     "name": "stdout",
     "output_type": "stream",
     "text": [
      "1st col   -1.066436\n",
      "2nd col    0.664521\n",
      "3rd col   -0.479841\n",
      "4th col    0.617402\n",
      "5th col   -0.011785\n",
      "Name: first row, dtype: float64\n"
     ]
    }
   ],
   "source": [
    "# Even though we labled the data frame, the index number is still exists behind the scenes\n",
    "print(my_data_frame.iloc[0])"
   ]
  },
  {
   "cell_type": "code",
   "execution_count": 12,
   "metadata": {},
   "outputs": [
    {
     "name": "stdout",
     "output_type": "stream",
     "text": [
      "             3rd col   4th col\n",
      "second row  0.208166  0.335706\n",
      "third row  -0.150610  0.266887\n"
     ]
    }
   ],
   "source": [
    "# To access certain rows  and certain columns\n",
    "print(my_data_frame.loc[['second row', 'third row'],['3rd col', '4th col']])"
   ]
  },
  {
   "cell_type": "code",
   "execution_count": 18,
   "metadata": {},
   "outputs": [
    {
     "name": "stdout",
     "output_type": "stream",
     "text": [
      "            1st col  2nd col  3rd col  4th col  5th col\n",
      "first row      True     True     True     True     True\n",
      "second row     True     True    False     True    False\n",
      "third row     False    False    False    False    False\n",
      "fourth row    False     True     True     True    False\n",
      "fitfth row     True     True    False     True    False\n"
     ]
    }
   ],
   "source": [
    "# Logical indexing of dataframes\n",
    "print (my_data_frame > 0)"
   ]
  },
  {
   "cell_type": "code",
   "execution_count": 19,
   "metadata": {},
   "outputs": [
    {
     "name": "stdout",
     "output_type": "stream",
     "text": [
      "             1st col   2nd col   3rd col   4th col   5th col\n",
      "first row   0.471175  0.959021  0.836000  0.219969  0.315774\n",
      "second row  0.371254  0.300764       NaN  0.562478       NaN\n",
      "third row        NaN       NaN       NaN       NaN       NaN\n",
      "fourth row       NaN  0.678928  0.883617  1.754514       NaN\n",
      "fitfth row  0.571990  0.641257       NaN  0.086236       NaN\n"
     ]
    }
   ],
   "source": [
    "print(my_data_frame[my_data_frame > 0]) # in Numpy, this will convert a matrix to vector, but in pandas it will keep the\n",
    "# original data structure and put the values as  'NAN' where it doesn't meet the condition"
   ]
  },
  {
   "cell_type": "code",
   "execution_count": 22,
   "metadata": {},
   "outputs": [
    {
     "name": "stdout",
     "output_type": "stream",
     "text": [
      "             1st col   2nd col   3rd col   4th col   5th col   6th col\n",
      "first row   0.471175  0.959021  0.836000  0.219969  0.315774 -0.463640\n",
      "second row  0.371254  0.300764 -0.038665  0.562478 -1.281660  0.338523\n",
      "third row  -1.845972 -0.084987 -0.087259 -0.435929 -0.626105  0.256997\n",
      "fourth row -0.692193  0.678928  0.883617  1.754514 -0.155511  0.121534\n",
      "fitfth row  0.571990  0.641257 -0.631506  0.086236 -0.676589  0.846489\n"
     ]
    }
   ],
   "source": [
    "#Adding additional column to a data frame\n",
    "my_data_frame['6th col'] = np.random.randn(5,1)\n",
    "print(my_data_frame)"
   ]
  },
  {
   "cell_type": "code",
   "execution_count": 25,
   "metadata": {},
   "outputs": [
    {
     "name": "stdout",
     "output_type": "stream",
     "text": [
      "             2nd col   3rd col   4th col   5th col   6th col\n",
      "first row   0.959021  0.836000  0.219969  0.315774 -0.463640\n",
      "second row  0.300764 -0.038665  0.562478 -1.281660  0.338523\n",
      "third row  -0.084987 -0.087259 -0.435929 -0.626105  0.256997\n",
      "fourth row  0.678928  0.883617  1.754514 -0.155511  0.121534\n",
      "fitfth row  0.641257 -0.631506  0.086236 -0.676589  0.846489\n",
      "             1st col   2nd col   3rd col   4th col   5th col   6th col\n",
      "first row   0.471175  0.959021  0.836000  0.219969  0.315774 -0.463640\n",
      "second row  0.371254  0.300764 -0.038665  0.562478 -1.281660  0.338523\n",
      "third row  -1.845972 -0.084987 -0.087259 -0.435929 -0.626105  0.256997\n",
      "fourth row -0.692193  0.678928  0.883617  1.754514 -0.155511  0.121534\n",
      "fitfth row  0.571990  0.641257 -0.631506  0.086236 -0.676589  0.846489\n",
      "             1st col   2nd col   3rd col   4th col   5th col   6th col\n",
      "first row   0.471175  0.959021  0.836000  0.219969  0.315774 -0.463640\n",
      "second row  0.371254  0.300764 -0.038665  0.562478 -1.281660  0.338523\n",
      "fourth row -0.692193  0.678928  0.883617  1.754514 -0.155511  0.121534\n",
      "fitfth row  0.571990  0.641257 -0.631506  0.086236 -0.676589  0.846489\n"
     ]
    }
   ],
   "source": [
    "# Removing/dropping a columns\n",
    "print(my_data_frame.drop('1st col', axis=1)) # removes the column from my_data_frame (axis=1 means column, 0 refers to row) and \n",
    "# returns a new data frame. It doesn't change the original dataframe\n",
    "print(my_data_frame)\n",
    "\n",
    "#Removing a row\n",
    "print(my_data_frame.drop('third row', axis=0))"
   ]
  },
  {
   "cell_type": "code",
   "execution_count": 26,
   "metadata": {},
   "outputs": [
    {
     "name": "stdout",
     "output_type": "stream",
     "text": [
      "        index   1st col   2nd col   3rd col   4th col   5th col   6th col\n",
      "0   first row  0.471175  0.959021  0.836000  0.219969  0.315774 -0.463640\n",
      "1  second row  0.371254  0.300764 -0.038665  0.562478 -1.281660  0.338523\n",
      "2   third row -1.845972 -0.084987 -0.087259 -0.435929 -0.626105  0.256997\n",
      "3  fourth row -0.692193  0.678928  0.883617  1.754514 -0.155511  0.121534\n",
      "4  fitfth row  0.571990  0.641257 -0.631506  0.086236 -0.676589  0.846489\n",
      "             1st col   2nd col   3rd col   4th col   5th col   6th col\n",
      "first row   0.471175  0.959021  0.836000  0.219969  0.315774 -0.463640\n",
      "second row  0.371254  0.300764 -0.038665  0.562478 -1.281660  0.338523\n",
      "third row  -1.845972 -0.084987 -0.087259 -0.435929 -0.626105  0.256997\n",
      "fourth row -0.692193  0.678928  0.883617  1.754514 -0.155511  0.121534\n",
      "fitfth row  0.571990  0.641257 -0.631506  0.086236 -0.676589  0.846489\n"
     ]
    }
   ],
   "source": [
    "# Removing an index\n",
    "print(my_data_frame.reset_index()) # this resets the indexes to 0, 1,2,.. and makes the previous labels as a series with\n",
    "# column name as index. Again this doesn't change the original dataframe.\n",
    "print (my_data_frame)"
   ]
  },
  {
   "cell_type": "code",
   "execution_count": 27,
   "metadata": {},
   "outputs": [
    {
     "name": "stdout",
     "output_type": "stream",
     "text": [
      "        index   1st col   2nd col   3rd col   4th col   5th col   6th col\n",
      "0   first row  0.471175  0.959021  0.836000  0.219969  0.315774 -0.463640\n",
      "1  second row  0.371254  0.300764 -0.038665  0.562478 -1.281660  0.338523\n",
      "2   third row -1.845972 -0.084987 -0.087259 -0.435929 -0.626105  0.256997\n",
      "3  fourth row -0.692193  0.678928  0.883617  1.754514 -0.155511  0.121534\n",
      "4  fitfth row  0.571990  0.641257 -0.631506  0.086236 -0.676589  0.846489\n"
     ]
    }
   ],
   "source": [
    "my_data_frame.reset_index(inplace=True) # inplace=true will make the changes apply to original data frame\n",
    "print(my_data_frame)"
   ]
  },
  {
   "cell_type": "code",
   "execution_count": 31,
   "metadata": {},
   "outputs": [
    {
     "name": "stdout",
     "output_type": "stream",
     "text": [
      "                 index   1st col   2nd col   3rd col   4th col   5th col  \\\n",
      "new series                                                                 \n",
      "data1        first row  0.471175  0.959021  0.836000  0.219969  0.315774   \n",
      "data2       second row  0.371254  0.300764 -0.038665  0.562478 -1.281660   \n",
      "data3        third row -1.845972 -0.084987 -0.087259 -0.435929 -0.626105   \n",
      "data4       fourth row -0.692193  0.678928  0.883617  1.754514 -0.155511   \n",
      "data5       fitfth row  0.571990  0.641257 -0.631506  0.086236 -0.676589   \n",
      "\n",
      "             6th col new serries new series  \n",
      "new series                                   \n",
      "data1      -0.463640       data1      data1  \n",
      "data2       0.338523       data2      data2  \n",
      "data3       0.256997       data3      data3  \n",
      "data4       0.121534       data4      data4  \n",
      "data5       0.846489       data5      data5  \n"
     ]
    }
   ],
   "source": [
    "# adding a new index\n",
    "# first we need to add a new series and set the index to the newly created series\n",
    "my_data_frame['new series'] = ['data1','data2','data3','data4','data5']\n",
    "print(my_data_frame)\n"
   ]
  },
  {
   "cell_type": "code",
   "execution_count": 40,
   "metadata": {},
   "outputs": [
    {
     "name": "stdout",
     "output_type": "stream",
     "text": [
      "                 index   1st col   2nd col   3rd col   4th col   5th col  \\\n",
      "new series                                                                 \n",
      "data1        first row  0.471175  0.959021  0.836000  0.219969  0.315774   \n",
      "data2       second row  0.371254  0.300764 -0.038665  0.562478 -1.281660   \n",
      "data3        third row -1.845972 -0.084987 -0.087259 -0.435929 -0.626105   \n",
      "data4       fourth row -0.692193  0.678928  0.883617  1.754514 -0.155511   \n",
      "data5       fitfth row  0.571990  0.641257 -0.631506  0.086236 -0.676589   \n",
      "\n",
      "             6th col  \n",
      "new series            \n",
      "data1      -0.463640  \n",
      "data2       0.338523  \n",
      "data3       0.256997  \n",
      "data4       0.121534  \n",
      "data5       0.846489  \n"
     ]
    }
   ],
   "source": [
    "my_data_frame.drop('new series', axis=1, inplace=True)\n",
    "#my_data_frame.set_index('new series', inplace=True)\n",
    "print(my_data_frame)"
   ]
  },
  {
   "cell_type": "code",
   "execution_count": 41,
   "metadata": {},
   "outputs": [
    {
     "data": {
      "text/plain": [
       "1st col   -0.224749\n",
       "2nd col    0.498996\n",
       "3rd col    0.192437\n",
       "4th col    0.437454\n",
       "5th col   -0.484818\n",
       "6th col    0.219980\n",
       "dtype: float64"
      ]
     },
     "execution_count": 41,
     "metadata": {},
     "output_type": "execute_result"
    }
   ],
   "source": [
    "my_data_frame.mean()"
   ]
  },
  {
   "cell_type": "code",
   "execution_count": null,
   "metadata": {},
   "outputs": [],
   "source": []
  }
 ],
 "metadata": {
  "kernelspec": {
   "display_name": "Python 3",
   "language": "python",
   "name": "python3"
  },
  "language_info": {
   "codemirror_mode": {
    "name": "ipython",
    "version": 3
   },
   "file_extension": ".py",
   "mimetype": "text/x-python",
   "name": "python",
   "nbconvert_exporter": "python",
   "pygments_lexer": "ipython3",
   "version": "3.7.9"
  }
 },
 "nbformat": 4,
 "nbformat_minor": 4
}
