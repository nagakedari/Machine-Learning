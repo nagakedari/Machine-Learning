{
 "cells": [
  {
   "cell_type": "markdown",
   "metadata": {
    "application/vnd.databricks.v1+cell": {
     "inputWidgets": {},
     "nuid": "5831d9c1-b2aa-48e6-9a5a-e6649889c737",
     "showTitle": false,
     "title": ""
    }
   },
   "source": [
    "# Context:\n",
    "    \n",
    "The dataset contains 1000 entries with 20 categorial/symbolic attributes prepared by Prof. Hofmann. In this dataset, \n",
    "each entry represents a person who takes a credit by a bank. Each person is classified as good or bad credit risks according to \n",
    "the set of attributes. The link to the dataset can be found below."
   ]
  },
  {
   "cell_type": "markdown",
   "metadata": {
    "application/vnd.databricks.v1+cell": {
     "inputWidgets": {},
     "nuid": "39f6ec4a-8301-4d5a-a7f9-cecc67f92cc2",
     "showTitle": false,
     "title": ""
    }
   },
   "source": [
    "# Dataset:\n",
    "https://www.kaggle.com/renaldydermawan25/credit-data/version/1"
   ]
  },
  {
   "cell_type": "markdown",
   "metadata": {
    "application/vnd.databricks.v1+cell": {
     "inputWidgets": {},
     "nuid": "63ff0db9-9847-4dc7-92ad-ee315e544d98",
     "showTitle": false,
     "title": ""
    }
   },
   "source": [
    "# Some Attribute information:\n",
    "    \n",
    "Age (numeric)\n",
    "\n",
    "Sex (text: male, female)\n",
    "\n",
    "Job (numeric: 0 - unskilled and non-resident, 1 - unskilled and resident, 2 - skilled, 3 - highly skilled)\n",
    "\n",
    "Housing (text: own, rent, or free)\n",
    "\n",
    "Saving accounts (text - little, moderate, quite rich, rich)\n",
    "\n",
    "Checking account (numeric, in DM - Deutsch Mark)\n",
    "\n",
    "Credit amount (numeric, in DM)\n",
    "\n",
    "Duration (numeric, in month)\n",
    "\n",
    "Purpose (text: car, furniture/equipment, radio/TV, domestic appliances, repairs, education, business, vacation/others)"
   ]
  },
  {
   "cell_type": "markdown",
   "metadata": {
    "application/vnd.databricks.v1+cell": {
     "inputWidgets": {},
     "nuid": "6937d54e-8cbf-41a6-b7fb-248daf42d30d",
     "showTitle": false,
     "title": ""
    }
   },
   "source": [
    "# Objective:\n",
    "    \n",
    "To Guage Feature Importance"
   ]
  },
  {
   "cell_type": "code",
   "execution_count": 0,
   "metadata": {
    "application/vnd.databricks.v1+cell": {
     "inputWidgets": {},
     "nuid": "a23541d4-37da-4892-9e02-0310f47cb3f0",
     "showTitle": false,
     "title": ""
    }
   },
   "outputs": [
    {
     "data": {
      "text/html": [
       "<style scoped>\n",
       "  .ansiout {\n",
       "    display: block;\n",
       "    unicode-bidi: embed;\n",
       "    white-space: pre-wrap;\n",
       "    word-wrap: break-word;\n",
       "    word-break: break-all;\n",
       "    font-family: \"Source Code Pro\", \"Menlo\", monospace;;\n",
       "    font-size: 13px;\n",
       "    color: #555;\n",
       "    margin-left: 4px;\n",
       "    line-height: 19px;\n",
       "  }\n",
       "</style>\n",
       "<div class=\"ansiout\"></div>"
      ]
     },
     "metadata": {
      "application/vnd.databricks.v1+output": {
       "addedWidgets": {},
       "arguments": {},
       "data": "<div class=\"ansiout\"></div>",
       "datasetInfos": [],
       "removedWidgets": [],
       "type": "html"
      }
     },
     "output_type": "display_data"
    }
   ],
   "source": [
    "import warnings\n",
    "warnings.filterwarnings('ignore')"
   ]
  },
  {
   "cell_type": "code",
   "execution_count": 0,
   "metadata": {
    "application/vnd.databricks.v1+cell": {
     "inputWidgets": {},
     "nuid": "39afeb5e-2102-443e-aa60-658f1d76bdec",
     "showTitle": false,
     "title": ""
    }
   },
   "outputs": [
    {
     "data": {
      "text/html": [
       "<style scoped>\n",
       "  .ansiout {\n",
       "    display: block;\n",
       "    unicode-bidi: embed;\n",
       "    white-space: pre-wrap;\n",
       "    word-wrap: break-word;\n",
       "    word-break: break-all;\n",
       "    font-family: \"Source Code Pro\", \"Menlo\", monospace;;\n",
       "    font-size: 13px;\n",
       "    color: #555;\n",
       "    margin-left: 4px;\n",
       "    line-height: 19px;\n",
       "  }\n",
       "</style>\n",
       "<div class=\"ansiout\"></div>"
      ]
     },
     "metadata": {
      "application/vnd.databricks.v1+output": {
       "addedWidgets": {},
       "arguments": {},
       "data": "<div class=\"ansiout\"></div>",
       "datasetInfos": [],
       "removedWidgets": [],
       "type": "html"
      }
     },
     "output_type": "display_data"
    }
   ],
   "source": [
    "# Import important library\n",
    "import numpy as np\n",
    "import pandas as pd\n",
    "import matplotlib.pyplot as plt\n",
    "import seaborn as sns\n",
    "%matplotlib inline\n",
    "\n",
    "pd.set_option(\"display.max_columns\", 50)"
   ]
  },
  {
   "cell_type": "code",
   "execution_count": 0,
   "metadata": {
    "application/vnd.databricks.v1+cell": {
     "inputWidgets": {},
     "nuid": "e128690b-52a1-4805-90e6-178409a9f9c9",
     "showTitle": false,
     "title": ""
    }
   },
   "outputs": [
    {
     "data": {
      "text/html": [
       "<style scoped>\n",
       "  .ansiout {\n",
       "    display: block;\n",
       "    unicode-bidi: embed;\n",
       "    white-space: pre-wrap;\n",
       "    word-wrap: break-word;\n",
       "    word-break: break-all;\n",
       "    font-family: \"Source Code Pro\", \"Menlo\", monospace;;\n",
       "    font-size: 13px;\n",
       "    color: #555;\n",
       "    margin-left: 4px;\n",
       "    line-height: 19px;\n",
       "  }\n",
       "</style>\n",
       "<div class=\"ansiout\">Out[43]: </div>"
      ]
     },
     "metadata": {
      "application/vnd.databricks.v1+output": {
       "addedWidgets": {},
       "arguments": {},
       "data": "<div class=\"ansiout\">Out[43]: </div>",
       "datasetInfos": [],
       "removedWidgets": [],
       "type": "html"
      }
     },
     "output_type": "display_data"
    },
    {
     "data": {
      "text/html": [
       "<div>\n",
       "<style scoped>\n",
       "    .dataframe tbody tr th:only-of-type {\n",
       "        vertical-align: middle;\n",
       "    }\n",
       "\n",
       "    .dataframe tbody tr th {\n",
       "        vertical-align: top;\n",
       "    }\n",
       "\n",
       "    .dataframe thead th {\n",
       "        text-align: right;\n",
       "    }\n",
       "</style>\n",
       "<table border=\"1\" class=\"dataframe\">\n",
       "  <thead>\n",
       "    <tr style=\"text-align: right;\">\n",
       "      <th></th>\n",
       "      <th>default</th>\n",
       "      <th>account_check_status</th>\n",
       "      <th>duration_in_month</th>\n",
       "      <th>credit_history</th>\n",
       "      <th>purpose</th>\n",
       "      <th>credit_amount</th>\n",
       "      <th>savings</th>\n",
       "      <th>present_emp_since</th>\n",
       "      <th>installment_as_income_perc</th>\n",
       "      <th>personal_status_sex</th>\n",
       "      <th>other_debtors</th>\n",
       "      <th>present_res_since</th>\n",
       "      <th>property</th>\n",
       "      <th>age</th>\n",
       "      <th>other_installment_plans</th>\n",
       "      <th>housing</th>\n",
       "      <th>credits_this_bank</th>\n",
       "      <th>job</th>\n",
       "      <th>people_under_maintenance</th>\n",
       "      <th>telephone</th>\n",
       "      <th>foreign_worker</th>\n",
       "    </tr>\n",
       "  </thead>\n",
       "  <tbody>\n",
       "    <tr>\n",
       "      <th>0</th>\n",
       "      <td>0</td>\n",
       "      <td>&lt; 0 DM</td>\n",
       "      <td>6</td>\n",
       "      <td>critical account/ other credits existing (not ...</td>\n",
       "      <td>domestic appliances</td>\n",
       "      <td>1169</td>\n",
       "      <td>unknown/ no savings account</td>\n",
       "      <td>.. &gt;= 7 years</td>\n",
       "      <td>4</td>\n",
       "      <td>male : single</td>\n",
       "      <td>none</td>\n",
       "      <td>4</td>\n",
       "      <td>real estate</td>\n",
       "      <td>67</td>\n",
       "      <td>none</td>\n",
       "      <td>own</td>\n",
       "      <td>2</td>\n",
       "      <td>skilled employee / official</td>\n",
       "      <td>1</td>\n",
       "      <td>yes, registered under the customers name</td>\n",
       "      <td>yes</td>\n",
       "    </tr>\n",
       "    <tr>\n",
       "      <th>1</th>\n",
       "      <td>1</td>\n",
       "      <td>0 &lt;= ... &lt; 200 DM</td>\n",
       "      <td>48</td>\n",
       "      <td>existing credits paid back duly till now</td>\n",
       "      <td>domestic appliances</td>\n",
       "      <td>5951</td>\n",
       "      <td>... &lt; 100 DM</td>\n",
       "      <td>1 &lt;= ... &lt; 4 years</td>\n",
       "      <td>2</td>\n",
       "      <td>female : divorced/separated/married</td>\n",
       "      <td>none</td>\n",
       "      <td>2</td>\n",
       "      <td>real estate</td>\n",
       "      <td>22</td>\n",
       "      <td>none</td>\n",
       "      <td>own</td>\n",
       "      <td>1</td>\n",
       "      <td>skilled employee / official</td>\n",
       "      <td>1</td>\n",
       "      <td>none</td>\n",
       "      <td>yes</td>\n",
       "    </tr>\n",
       "    <tr>\n",
       "      <th>2</th>\n",
       "      <td>0</td>\n",
       "      <td>no checking account</td>\n",
       "      <td>12</td>\n",
       "      <td>critical account/ other credits existing (not ...</td>\n",
       "      <td>(vacation - does not exist?)</td>\n",
       "      <td>2096</td>\n",
       "      <td>... &lt; 100 DM</td>\n",
       "      <td>4 &lt;= ... &lt; 7 years</td>\n",
       "      <td>2</td>\n",
       "      <td>male : single</td>\n",
       "      <td>none</td>\n",
       "      <td>3</td>\n",
       "      <td>real estate</td>\n",
       "      <td>49</td>\n",
       "      <td>none</td>\n",
       "      <td>own</td>\n",
       "      <td>1</td>\n",
       "      <td>unskilled - resident</td>\n",
       "      <td>2</td>\n",
       "      <td>none</td>\n",
       "      <td>yes</td>\n",
       "    </tr>\n",
       "  </tbody>\n",
       "</table>\n",
       "</div>"
      ]
     },
     "metadata": {
      "application/vnd.databricks.v1+output": {
       "addedWidgets": {},
       "arguments": {},
       "data": "<div>\n<style scoped>\n    .dataframe tbody tr th:only-of-type {\n        vertical-align: middle;\n    }\n\n    .dataframe tbody tr th {\n        vertical-align: top;\n    }\n\n    .dataframe thead th {\n        text-align: right;\n    }\n</style>\n<table border=\"1\" class=\"dataframe\">\n  <thead>\n    <tr style=\"text-align: right;\">\n      <th></th>\n      <th>default</th>\n      <th>account_check_status</th>\n      <th>duration_in_month</th>\n      <th>credit_history</th>\n      <th>purpose</th>\n      <th>credit_amount</th>\n      <th>savings</th>\n      <th>present_emp_since</th>\n      <th>installment_as_income_perc</th>\n      <th>personal_status_sex</th>\n      <th>other_debtors</th>\n      <th>present_res_since</th>\n      <th>property</th>\n      <th>age</th>\n      <th>other_installment_plans</th>\n      <th>housing</th>\n      <th>credits_this_bank</th>\n      <th>job</th>\n      <th>people_under_maintenance</th>\n      <th>telephone</th>\n      <th>foreign_worker</th>\n    </tr>\n  </thead>\n  <tbody>\n    <tr>\n      <th>0</th>\n      <td>0</td>\n      <td>&lt; 0 DM</td>\n      <td>6</td>\n      <td>critical account/ other credits existing (not ...</td>\n      <td>domestic appliances</td>\n      <td>1169</td>\n      <td>unknown/ no savings account</td>\n      <td>.. &gt;= 7 years</td>\n      <td>4</td>\n      <td>male : single</td>\n      <td>none</td>\n      <td>4</td>\n      <td>real estate</td>\n      <td>67</td>\n      <td>none</td>\n      <td>own</td>\n      <td>2</td>\n      <td>skilled employee / official</td>\n      <td>1</td>\n      <td>yes, registered under the customers name</td>\n      <td>yes</td>\n    </tr>\n    <tr>\n      <th>1</th>\n      <td>1</td>\n      <td>0 &lt;= ... &lt; 200 DM</td>\n      <td>48</td>\n      <td>existing credits paid back duly till now</td>\n      <td>domestic appliances</td>\n      <td>5951</td>\n      <td>... &lt; 100 DM</td>\n      <td>1 &lt;= ... &lt; 4 years</td>\n      <td>2</td>\n      <td>female : divorced/separated/married</td>\n      <td>none</td>\n      <td>2</td>\n      <td>real estate</td>\n      <td>22</td>\n      <td>none</td>\n      <td>own</td>\n      <td>1</td>\n      <td>skilled employee / official</td>\n      <td>1</td>\n      <td>none</td>\n      <td>yes</td>\n    </tr>\n    <tr>\n      <th>2</th>\n      <td>0</td>\n      <td>no checking account</td>\n      <td>12</td>\n      <td>critical account/ other credits existing (not ...</td>\n      <td>(vacation - does not exist?)</td>\n      <td>2096</td>\n      <td>... &lt; 100 DM</td>\n      <td>4 &lt;= ... &lt; 7 years</td>\n      <td>2</td>\n      <td>male : single</td>\n      <td>none</td>\n      <td>3</td>\n      <td>real estate</td>\n      <td>49</td>\n      <td>none</td>\n      <td>own</td>\n      <td>1</td>\n      <td>unskilled - resident</td>\n      <td>2</td>\n      <td>none</td>\n      <td>yes</td>\n    </tr>\n  </tbody>\n</table>\n</div>",
       "datasetInfos": [],
       "removedWidgets": [],
       "textData": null,
       "type": "htmlSandbox"
      }
     },
     "output_type": "display_data"
    }
   ],
   "source": [
    "#Read input file and understand the data\n",
    "# \"default\" is my dependent variable\n",
    "# importing data\n",
    "# File location and type\n",
    "file_location = \"/FileStore/tables/credit_data.csv\"\n",
    "file_type = \"csv\"\n",
    "\n",
    "# CSV options\n",
    "infer_schema = \"true\"\n",
    "first_row_is_header = \"true\"\n",
    "delimiter = \",\"\n",
    "\n",
    "# The applied options are for CSV files. For other file types, these will be ignored.\n",
    "data = spark.read.format(file_type) \\\n",
    "  .option(\"inferSchema\", infer_schema) \\\n",
    "  .option(\"header\", first_row_is_header) \\\n",
    "  .option(\"sep\", delimiter) \\\n",
    "  .load(file_location)\n",
    "\n",
    "df = data.select(\"*\").toPandas()\n",
    "\n",
    "\n",
    "#Load the file from local directory using pd.read_csv which is a special form of read_table\n",
    "df.head(3)"
   ]
  },
  {
   "cell_type": "code",
   "execution_count": 0,
   "metadata": {
    "application/vnd.databricks.v1+cell": {
     "inputWidgets": {},
     "nuid": "d29a19e8-b3f2-4d6f-a9fc-bf83ee0a6101",
     "showTitle": false,
     "title": ""
    }
   },
   "outputs": [
    {
     "data": {
      "text/html": [
       "<style scoped>\n",
       "  .ansiout {\n",
       "    display: block;\n",
       "    unicode-bidi: embed;\n",
       "    white-space: pre-wrap;\n",
       "    word-wrap: break-word;\n",
       "    word-break: break-all;\n",
       "    font-family: \"Source Code Pro\", \"Menlo\", monospace;;\n",
       "    font-size: 13px;\n",
       "    color: #555;\n",
       "    margin-left: 4px;\n",
       "    line-height: 19px;\n",
       "  }\n",
       "</style>\n",
       "<div class=\"ansiout\">Out[44]: (1000, 21)</div>"
      ]
     },
     "metadata": {
      "application/vnd.databricks.v1+output": {
       "addedWidgets": {},
       "arguments": {},
       "data": "<div class=\"ansiout\">Out[44]: (1000, 21)</div>",
       "datasetInfos": [],
       "removedWidgets": [],
       "type": "html"
      }
     },
     "output_type": "display_data"
    }
   ],
   "source": [
    "df.shape"
   ]
  },
  {
   "cell_type": "code",
   "execution_count": 0,
   "metadata": {
    "application/vnd.databricks.v1+cell": {
     "inputWidgets": {},
     "nuid": "03a9cb10-d430-4ea0-a858-df35f0af7209",
     "showTitle": false,
     "title": ""
    }
   },
   "outputs": [
    {
     "data": {
      "text/html": [
       "<style scoped>\n",
       "  .ansiout {\n",
       "    display: block;\n",
       "    unicode-bidi: embed;\n",
       "    white-space: pre-wrap;\n",
       "    word-wrap: break-word;\n",
       "    word-break: break-all;\n",
       "    font-family: \"Source Code Pro\", \"Menlo\", monospace;;\n",
       "    font-size: 13px;\n",
       "    color: #555;\n",
       "    margin-left: 4px;\n",
       "    line-height: 19px;\n",
       "  }\n",
       "</style>\n",
       "<div class=\"ansiout\">&lt;class &#39;pandas.core.frame.DataFrame&#39;&gt;\n",
       "RangeIndex: 1000 entries, 0 to 999\n",
       "Data columns (total 21 columns):\n",
       " #   Column                      Non-Null Count  Dtype \n",
       "---  ------                      --------------  ----- \n",
       " 0   default                     1000 non-null   int32 \n",
       " 1   account_check_status        1000 non-null   object\n",
       " 2   duration_in_month           1000 non-null   int32 \n",
       " 3   credit_history              1000 non-null   object\n",
       " 4   purpose                     1000 non-null   object\n",
       " 5   credit_amount               1000 non-null   int32 \n",
       " 6   savings                     1000 non-null   object\n",
       " 7   present_emp_since           1000 non-null   object\n",
       " 8   installment_as_income_perc  1000 non-null   int32 \n",
       " 9   personal_status_sex         1000 non-null   object\n",
       " 10  other_debtors               1000 non-null   object\n",
       " 11  present_res_since           1000 non-null   int32 \n",
       " 12  property                    1000 non-null   object\n",
       " 13  age                         1000 non-null   int32 \n",
       " 14  other_installment_plans     1000 non-null   object\n",
       " 15  housing                     1000 non-null   object\n",
       " 16  credits_this_bank           1000 non-null   int32 \n",
       " 17  job                         1000 non-null   object\n",
       " 18  people_under_maintenance    1000 non-null   int32 \n",
       " 19  telephone                   1000 non-null   object\n",
       " 20  foreign_worker              1000 non-null   object\n",
       "dtypes: int32(8), object(13)\n",
       "memory usage: 132.9+ KB\n",
       "</div>"
      ]
     },
     "metadata": {
      "application/vnd.databricks.v1+output": {
       "addedWidgets": {},
       "arguments": {},
       "data": "<div class=\"ansiout\">&lt;class &#39;pandas.core.frame.DataFrame&#39;&gt;\nRangeIndex: 1000 entries, 0 to 999\nData columns (total 21 columns):\n #   Column                      Non-Null Count  Dtype \n---  ------                      --------------  ----- \n 0   default                     1000 non-null   int32 \n 1   account_check_status        1000 non-null   object\n 2   duration_in_month           1000 non-null   int32 \n 3   credit_history              1000 non-null   object\n 4   purpose                     1000 non-null   object\n 5   credit_amount               1000 non-null   int32 \n 6   savings                     1000 non-null   object\n 7   present_emp_since           1000 non-null   object\n 8   installment_as_income_perc  1000 non-null   int32 \n 9   personal_status_sex         1000 non-null   object\n 10  other_debtors               1000 non-null   object\n 11  present_res_since           1000 non-null   int32 \n 12  property                    1000 non-null   object\n 13  age                         1000 non-null   int32 \n 14  other_installment_plans     1000 non-null   object\n 15  housing                     1000 non-null   object\n 16  credits_this_bank           1000 non-null   int32 \n 17  job                         1000 non-null   object\n 18  people_under_maintenance    1000 non-null   int32 \n 19  telephone                   1000 non-null   object\n 20  foreign_worker              1000 non-null   object\ndtypes: int32(8), object(13)\nmemory usage: 132.9+ KB\n</div>",
       "datasetInfos": [],
       "removedWidgets": [],
       "type": "html"
      }
     },
     "output_type": "display_data"
    }
   ],
   "source": [
    "df.info()"
   ]
  },
  {
   "cell_type": "code",
   "execution_count": 0,
   "metadata": {
    "application/vnd.databricks.v1+cell": {
     "inputWidgets": {},
     "nuid": "ae494388-f3f1-4781-b7d9-c7f90906e24b",
     "showTitle": false,
     "title": ""
    }
   },
   "outputs": [
    {
     "data": {
      "text/html": [
       "<style scoped>\n",
       "  .ansiout {\n",
       "    display: block;\n",
       "    unicode-bidi: embed;\n",
       "    white-space: pre-wrap;\n",
       "    word-wrap: break-word;\n",
       "    word-break: break-all;\n",
       "    font-family: \"Source Code Pro\", \"Menlo\", monospace;;\n",
       "    font-size: 13px;\n",
       "    color: #555;\n",
       "    margin-left: 4px;\n",
       "    line-height: 19px;\n",
       "  }\n",
       "</style>\n",
       "<div class=\"ansiout\">Out[46]: default                         2\n",
       "account_check_status            4\n",
       "duration_in_month              33\n",
       "credit_history                  5\n",
       "purpose                        10\n",
       "credit_amount                 921\n",
       "savings                         5\n",
       "present_emp_since               5\n",
       "installment_as_income_perc      4\n",
       "personal_status_sex             4\n",
       "other_debtors                   3\n",
       "present_res_since               4\n",
       "property                        4\n",
       "age                            53\n",
       "other_installment_plans         3\n",
       "housing                         3\n",
       "credits_this_bank               4\n",
       "job                             4\n",
       "people_under_maintenance        2\n",
       "telephone                       2\n",
       "foreign_worker                  2\n",
       "dtype: int64</div>"
      ]
     },
     "metadata": {
      "application/vnd.databricks.v1+output": {
       "addedWidgets": {},
       "arguments": {},
       "data": "<div class=\"ansiout\">Out[46]: default                         2\naccount_check_status            4\nduration_in_month              33\ncredit_history                  5\npurpose                        10\ncredit_amount                 921\nsavings                         5\npresent_emp_since               5\ninstallment_as_income_perc      4\npersonal_status_sex             4\nother_debtors                   3\npresent_res_since               4\nproperty                        4\nage                            53\nother_installment_plans         3\nhousing                         3\ncredits_this_bank               4\njob                             4\npeople_under_maintenance        2\ntelephone                       2\nforeign_worker                  2\ndtype: int64</div>",
       "datasetInfos": [],
       "removedWidgets": [],
       "type": "html"
      }
     },
     "output_type": "display_data"
    }
   ],
   "source": [
    "df.nunique()"
   ]
  },
  {
   "cell_type": "code",
   "execution_count": 0,
   "metadata": {
    "application/vnd.databricks.v1+cell": {
     "inputWidgets": {},
     "nuid": "77597a1e-6d5d-43cd-aca5-a24d36bf43ff",
     "showTitle": false,
     "title": ""
    }
   },
   "outputs": [
    {
     "data": {
      "text/html": [
       "<style scoped>\n",
       "  .ansiout {\n",
       "    display: block;\n",
       "    unicode-bidi: embed;\n",
       "    white-space: pre-wrap;\n",
       "    word-wrap: break-word;\n",
       "    word-break: break-all;\n",
       "    font-family: \"Source Code Pro\", \"Menlo\", monospace;;\n",
       "    font-size: 13px;\n",
       "    color: #555;\n",
       "    margin-left: 4px;\n",
       "    line-height: 19px;\n",
       "  }\n",
       "</style>\n",
       "<div class=\"ansiout\"></div>"
      ]
     },
     "metadata": {
      "application/vnd.databricks.v1+output": {
       "addedWidgets": {},
       "arguments": {},
       "data": "<div class=\"ansiout\"></div>",
       "datasetInfos": [],
       "removedWidgets": [],
       "type": "html"
      }
     },
     "output_type": "display_data"
    }
   ],
   "source": [
    "# # Randomly select 50% data for this use case\n",
    "# from sklearn.model_selection import train_test_split\n",
    "# out_data,df =train_test_split(df_pre, train_size = 0.5,random_state=5)\n",
    "# df_pre.shape\n",
    "# df_pre.columns\n",
    "# df_pre.head(5)"
   ]
  },
  {
   "cell_type": "code",
   "execution_count": 0,
   "metadata": {
    "application/vnd.databricks.v1+cell": {
     "inputWidgets": {},
     "nuid": "660cbb43-2f63-4621-90be-dc10df62aef3",
     "showTitle": false,
     "title": ""
    }
   },
   "outputs": [
    {
     "data": {
      "text/html": [
       "<style scoped>\n",
       "  .ansiout {\n",
       "    display: block;\n",
       "    unicode-bidi: embed;\n",
       "    white-space: pre-wrap;\n",
       "    word-wrap: break-word;\n",
       "    word-break: break-all;\n",
       "    font-family: \"Source Code Pro\", \"Menlo\", monospace;;\n",
       "    font-size: 13px;\n",
       "    color: #555;\n",
       "    margin-left: 4px;\n",
       "    line-height: 19px;\n",
       "  }\n",
       "</style>\n",
       "<div class=\"ansiout\">Out[47]: </div>"
      ]
     },
     "metadata": {
      "application/vnd.databricks.v1+output": {
       "addedWidgets": {},
       "arguments": {},
       "data": "<div class=\"ansiout\">Out[47]: </div>",
       "datasetInfos": [],
       "removedWidgets": [],
       "type": "html"
      }
     },
     "output_type": "display_data"
    },
    {
     "data": {
      "text/html": [
       "<div>\n",
       "<style scoped>\n",
       "    .dataframe tbody tr th:only-of-type {\n",
       "        vertical-align: middle;\n",
       "    }\n",
       "\n",
       "    .dataframe tbody tr th {\n",
       "        vertical-align: top;\n",
       "    }\n",
       "\n",
       "    .dataframe thead th {\n",
       "        text-align: right;\n",
       "    }\n",
       "</style>\n",
       "<table border=\"1\" class=\"dataframe\">\n",
       "  <thead>\n",
       "    <tr style=\"text-align: right;\">\n",
       "      <th></th>\n",
       "      <th>account_check_status</th>\n",
       "      <th>credit_history</th>\n",
       "      <th>purpose</th>\n",
       "      <th>savings</th>\n",
       "      <th>present_emp_since</th>\n",
       "      <th>personal_status_sex</th>\n",
       "      <th>other_debtors</th>\n",
       "      <th>property</th>\n",
       "      <th>other_installment_plans</th>\n",
       "      <th>housing</th>\n",
       "      <th>job</th>\n",
       "      <th>telephone</th>\n",
       "      <th>foreign_worker</th>\n",
       "    </tr>\n",
       "  </thead>\n",
       "  <tbody>\n",
       "    <tr>\n",
       "      <th>0</th>\n",
       "      <td>&lt; 0 DM</td>\n",
       "      <td>critical account/ other credits existing (not ...</td>\n",
       "      <td>domestic appliances</td>\n",
       "      <td>unknown/ no savings account</td>\n",
       "      <td>.. &gt;= 7 years</td>\n",
       "      <td>male : single</td>\n",
       "      <td>none</td>\n",
       "      <td>real estate</td>\n",
       "      <td>none</td>\n",
       "      <td>own</td>\n",
       "      <td>skilled employee / official</td>\n",
       "      <td>yes, registered under the customers name</td>\n",
       "      <td>yes</td>\n",
       "    </tr>\n",
       "    <tr>\n",
       "      <th>1</th>\n",
       "      <td>0 &lt;= ... &lt; 200 DM</td>\n",
       "      <td>existing credits paid back duly till now</td>\n",
       "      <td>domestic appliances</td>\n",
       "      <td>... &lt; 100 DM</td>\n",
       "      <td>1 &lt;= ... &lt; 4 years</td>\n",
       "      <td>female : divorced/separated/married</td>\n",
       "      <td>none</td>\n",
       "      <td>real estate</td>\n",
       "      <td>none</td>\n",
       "      <td>own</td>\n",
       "      <td>skilled employee / official</td>\n",
       "      <td>none</td>\n",
       "      <td>yes</td>\n",
       "    </tr>\n",
       "    <tr>\n",
       "      <th>2</th>\n",
       "      <td>no checking account</td>\n",
       "      <td>critical account/ other credits existing (not ...</td>\n",
       "      <td>(vacation - does not exist?)</td>\n",
       "      <td>... &lt; 100 DM</td>\n",
       "      <td>4 &lt;= ... &lt; 7 years</td>\n",
       "      <td>male : single</td>\n",
       "      <td>none</td>\n",
       "      <td>real estate</td>\n",
       "      <td>none</td>\n",
       "      <td>own</td>\n",
       "      <td>unskilled - resident</td>\n",
       "      <td>none</td>\n",
       "      <td>yes</td>\n",
       "    </tr>\n",
       "    <tr>\n",
       "      <th>3</th>\n",
       "      <td>&lt; 0 DM</td>\n",
       "      <td>existing credits paid back duly till now</td>\n",
       "      <td>radio/television</td>\n",
       "      <td>... &lt; 100 DM</td>\n",
       "      <td>4 &lt;= ... &lt; 7 years</td>\n",
       "      <td>male : single</td>\n",
       "      <td>guarantor</td>\n",
       "      <td>if not A121 : building society savings agreeme...</td>\n",
       "      <td>none</td>\n",
       "      <td>for free</td>\n",
       "      <td>skilled employee / official</td>\n",
       "      <td>none</td>\n",
       "      <td>yes</td>\n",
       "    </tr>\n",
       "    <tr>\n",
       "      <th>4</th>\n",
       "      <td>&lt; 0 DM</td>\n",
       "      <td>delay in paying off in the past</td>\n",
       "      <td>car (new)</td>\n",
       "      <td>... &lt; 100 DM</td>\n",
       "      <td>1 &lt;= ... &lt; 4 years</td>\n",
       "      <td>male : single</td>\n",
       "      <td>none</td>\n",
       "      <td>unknown / no property</td>\n",
       "      <td>none</td>\n",
       "      <td>for free</td>\n",
       "      <td>skilled employee / official</td>\n",
       "      <td>none</td>\n",
       "      <td>yes</td>\n",
       "    </tr>\n",
       "  </tbody>\n",
       "</table>\n",
       "</div>"
      ]
     },
     "metadata": {
      "application/vnd.databricks.v1+output": {
       "addedWidgets": {},
       "arguments": {},
       "data": "<div>\n<style scoped>\n    .dataframe tbody tr th:only-of-type {\n        vertical-align: middle;\n    }\n\n    .dataframe tbody tr th {\n        vertical-align: top;\n    }\n\n    .dataframe thead th {\n        text-align: right;\n    }\n</style>\n<table border=\"1\" class=\"dataframe\">\n  <thead>\n    <tr style=\"text-align: right;\">\n      <th></th>\n      <th>account_check_status</th>\n      <th>credit_history</th>\n      <th>purpose</th>\n      <th>savings</th>\n      <th>present_emp_since</th>\n      <th>personal_status_sex</th>\n      <th>other_debtors</th>\n      <th>property</th>\n      <th>other_installment_plans</th>\n      <th>housing</th>\n      <th>job</th>\n      <th>telephone</th>\n      <th>foreign_worker</th>\n    </tr>\n  </thead>\n  <tbody>\n    <tr>\n      <th>0</th>\n      <td>&lt; 0 DM</td>\n      <td>critical account/ other credits existing (not ...</td>\n      <td>domestic appliances</td>\n      <td>unknown/ no savings account</td>\n      <td>.. &gt;= 7 years</td>\n      <td>male : single</td>\n      <td>none</td>\n      <td>real estate</td>\n      <td>none</td>\n      <td>own</td>\n      <td>skilled employee / official</td>\n      <td>yes, registered under the customers name</td>\n      <td>yes</td>\n    </tr>\n    <tr>\n      <th>1</th>\n      <td>0 &lt;= ... &lt; 200 DM</td>\n      <td>existing credits paid back duly till now</td>\n      <td>domestic appliances</td>\n      <td>... &lt; 100 DM</td>\n      <td>1 &lt;= ... &lt; 4 years</td>\n      <td>female : divorced/separated/married</td>\n      <td>none</td>\n      <td>real estate</td>\n      <td>none</td>\n      <td>own</td>\n      <td>skilled employee / official</td>\n      <td>none</td>\n      <td>yes</td>\n    </tr>\n    <tr>\n      <th>2</th>\n      <td>no checking account</td>\n      <td>critical account/ other credits existing (not ...</td>\n      <td>(vacation - does not exist?)</td>\n      <td>... &lt; 100 DM</td>\n      <td>4 &lt;= ... &lt; 7 years</td>\n      <td>male : single</td>\n      <td>none</td>\n      <td>real estate</td>\n      <td>none</td>\n      <td>own</td>\n      <td>unskilled - resident</td>\n      <td>none</td>\n      <td>yes</td>\n    </tr>\n    <tr>\n      <th>3</th>\n      <td>&lt; 0 DM</td>\n      <td>existing credits paid back duly till now</td>\n      <td>radio/television</td>\n      <td>... &lt; 100 DM</td>\n      <td>4 &lt;= ... &lt; 7 years</td>\n      <td>male : single</td>\n      <td>guarantor</td>\n      <td>if not A121 : building society savings agreeme...</td>\n      <td>none</td>\n      <td>for free</td>\n      <td>skilled employee / official</td>\n      <td>none</td>\n      <td>yes</td>\n    </tr>\n    <tr>\n      <th>4</th>\n      <td>&lt; 0 DM</td>\n      <td>delay in paying off in the past</td>\n      <td>car (new)</td>\n      <td>... &lt; 100 DM</td>\n      <td>1 &lt;= ... &lt; 4 years</td>\n      <td>male : single</td>\n      <td>none</td>\n      <td>unknown / no property</td>\n      <td>none</td>\n      <td>for free</td>\n      <td>skilled employee / official</td>\n      <td>none</td>\n      <td>yes</td>\n    </tr>\n  </tbody>\n</table>\n</div>",
       "datasetInfos": [],
       "removedWidgets": [],
       "textData": null,
       "type": "htmlSandbox"
      }
     },
     "output_type": "display_data"
    }
   ],
   "source": [
    "# Lets build a Ensemble model but need to modify the dataset first\n",
    "obj_df=df.select_dtypes(include=['object'])\n",
    "obj_df.head()"
   ]
  },
  {
   "cell_type": "code",
   "execution_count": 0,
   "metadata": {
    "application/vnd.databricks.v1+cell": {
     "inputWidgets": {},
     "nuid": "e5dce18b-491a-4ebe-944c-37f727d8efcd",
     "showTitle": false,
     "title": ""
    }
   },
   "outputs": [
    {
     "data": {
      "text/html": [
       "<style scoped>\n",
       "  .ansiout {\n",
       "    display: block;\n",
       "    unicode-bidi: embed;\n",
       "    white-space: pre-wrap;\n",
       "    word-wrap: break-word;\n",
       "    word-break: break-all;\n",
       "    font-family: \"Source Code Pro\", \"Menlo\", monospace;;\n",
       "    font-size: 13px;\n",
       "    color: #555;\n",
       "    margin-left: 4px;\n",
       "    line-height: 19px;\n",
       "  }\n",
       "</style>\n",
       "<div class=\"ansiout\"></div>"
      ]
     },
     "metadata": {
      "application/vnd.databricks.v1+output": {
       "addedWidgets": {},
       "arguments": {},
       "data": "<div class=\"ansiout\"></div>",
       "datasetInfos": [],
       "removedWidgets": [],
       "type": "html"
      }
     },
     "output_type": "display_data"
    }
   ],
   "source": [
    "dff=pd.get_dummies(df, drop_first=True)"
   ]
  },
  {
   "cell_type": "code",
   "execution_count": 0,
   "metadata": {
    "application/vnd.databricks.v1+cell": {
     "inputWidgets": {},
     "nuid": "028806a7-4671-46b9-87ec-7c303c02385e",
     "showTitle": false,
     "title": ""
    }
   },
   "outputs": [
    {
     "data": {
      "text/html": [
       "<style scoped>\n",
       "  .ansiout {\n",
       "    display: block;\n",
       "    unicode-bidi: embed;\n",
       "    white-space: pre-wrap;\n",
       "    word-wrap: break-word;\n",
       "    word-break: break-all;\n",
       "    font-family: \"Source Code Pro\", \"Menlo\", monospace;;\n",
       "    font-size: 13px;\n",
       "    color: #555;\n",
       "    margin-left: 4px;\n",
       "    line-height: 19px;\n",
       "  }\n",
       "</style>\n",
       "<div class=\"ansiout\">Out[49]: (1000, 49)</div>"
      ]
     },
     "metadata": {
      "application/vnd.databricks.v1+output": {
       "addedWidgets": {},
       "arguments": {},
       "data": "<div class=\"ansiout\">Out[49]: (1000, 49)</div>",
       "datasetInfos": [],
       "removedWidgets": [],
       "type": "html"
      }
     },
     "output_type": "display_data"
    }
   ],
   "source": [
    "dff.shape"
   ]
  },
  {
   "cell_type": "code",
   "execution_count": 0,
   "metadata": {
    "application/vnd.databricks.v1+cell": {
     "inputWidgets": {},
     "nuid": "5133cd17-fae1-4b3d-8670-2a171d6ab945",
     "showTitle": false,
     "title": ""
    }
   },
   "outputs": [],
   "source": [
    "#Feature Engineering\n",
    "# - Feature Elimination - This session\n",
    "# - Feature Extraction"
   ]
  },
  {
   "cell_type": "code",
   "execution_count": 0,
   "metadata": {
    "application/vnd.databricks.v1+cell": {
     "inputWidgets": {},
     "nuid": "372d3463-49d3-4752-bf55-3a72a55d7a1c",
     "showTitle": false,
     "title": ""
    }
   },
   "outputs": [
    {
     "data": {
      "text/html": [
       "<style scoped>\n",
       "  .ansiout {\n",
       "    display: block;\n",
       "    unicode-bidi: embed;\n",
       "    white-space: pre-wrap;\n",
       "    word-wrap: break-word;\n",
       "    word-break: break-all;\n",
       "    font-family: \"Source Code Pro\", \"Menlo\", monospace;;\n",
       "    font-size: 13px;\n",
       "    color: #555;\n",
       "    margin-left: 4px;\n",
       "    line-height: 19px;\n",
       "  }\n",
       "</style>\n",
       "<div class=\"ansiout\"></div>"
      ]
     },
     "metadata": {
      "application/vnd.databricks.v1+output": {
       "addedWidgets": {},
       "arguments": {},
       "data": "<div class=\"ansiout\"></div>",
       "datasetInfos": [],
       "removedWidgets": [],
       "type": "html"
      }
     },
     "output_type": "display_data"
    },
    {
     "data": {
      "text/html": [
       "<style scoped>\n",
       "  .ansiout {\n",
       "    display: block;\n",
       "    unicode-bidi: embed;\n",
       "    white-space: pre-wrap;\n",
       "    word-wrap: break-word;\n",
       "    word-break: break-all;\n",
       "    font-family: \"Source Code Pro\", \"Menlo\", monospace;;\n",
       "    font-size: 13px;\n",
       "    color: #555;\n",
       "    margin-left: 4px;\n",
       "    line-height: 19px;\n",
       "  }\n",
       "</style>\n",
       "<div class=\"ansiout\"><span class=\"ansi-cyan-fg\">  File </span><span class=\"ansi-green-fg\">&#34;&lt;command-577066598502570&gt;&#34;</span><span class=\"ansi-cyan-fg\">, line </span><span class=\"ansi-green-fg\">1</span>\n",
       "<span class=\"ansi-red-fg\">    Feature Elimination</span>\n",
       "                      ^\n",
       "<span class=\"ansi-red-fg\">SyntaxError</span><span class=\"ansi-red-fg\">:</span> invalid syntax\n",
       "</div>"
      ]
     },
     "metadata": {
      "application/vnd.databricks.v1+output": {
       "arguments": {},
       "data": "<div class=\"ansiout\"><span class=\"ansi-cyan-fg\">  File </span><span class=\"ansi-green-fg\">&#34;&lt;command-577066598502570&gt;&#34;</span><span class=\"ansi-cyan-fg\">, line </span><span class=\"ansi-green-fg\">1</span>\n<span class=\"ansi-red-fg\">    Feature Elimination</span>\n                      ^\n<span class=\"ansi-red-fg\">SyntaxError</span><span class=\"ansi-red-fg\">:</span> invalid syntax\n</div>",
       "errorSummary": "<span class=\"ansi-red-fg\">SyntaxError</span><span class=\"ansi-red-fg\">:</span> invalid syntax",
       "type": "ipynbError"
      }
     },
     "output_type": "display_data"
    }
   ],
   "source": [
    "#Feature Elimination\n",
    " -  Univariate selection --------------- Yes----- No\n",
    " - Embedded methods     ---------------- No-----\n",
    " - Tree-based feature importance-------- Yes---- No\n",
    " - Recursive Feature Elimination (RFE)-- Yes---- Yes\n",
    " - Sophisticaed algorithms like Boruta-- No-----"
   ]
  },
  {
   "cell_type": "code",
   "execution_count": 0,
   "metadata": {
    "application/vnd.databricks.v1+cell": {
     "inputWidgets": {},
     "nuid": "d4b0ff3f-9125-4b46-b729-1a5783044087",
     "showTitle": false,
     "title": ""
    }
   },
   "outputs": [
    {
     "data": {
      "text/html": [
       "<style scoped>\n",
       "  .ansiout {\n",
       "    display: block;\n",
       "    unicode-bidi: embed;\n",
       "    white-space: pre-wrap;\n",
       "    word-wrap: break-word;\n",
       "    word-break: break-all;\n",
       "    font-family: \"Source Code Pro\", \"Menlo\", monospace;;\n",
       "    font-size: 13px;\n",
       "    color: #555;\n",
       "    margin-left: 4px;\n",
       "    line-height: 19px;\n",
       "  }\n",
       "</style>\n",
       "<div class=\"ansiout\">Out[51]: Series([], dtype: float64)</div>"
      ]
     },
     "metadata": {
      "application/vnd.databricks.v1+output": {
       "addedWidgets": {},
       "arguments": {},
       "data": "<div class=\"ansiout\">Out[51]: Series([], dtype: float64)</div>",
       "datasetInfos": [],
       "removedWidgets": [],
       "type": "html"
      }
     },
     "output_type": "display_data"
    }
   ],
   "source": [
    "# Lets check for highly correlated variables\n",
    "cor= dff.corr()\n",
    "cor.loc[:,:] = np.tril(cor,k=-1)\n",
    "cor=cor.stack()\n",
    "cor[(cor > 0.8) | (cor< -0.8)]"
   ]
  },
  {
   "cell_type": "code",
   "execution_count": 0,
   "metadata": {
    "application/vnd.databricks.v1+cell": {
     "inputWidgets": {},
     "nuid": "fa96d5a6-f53f-4489-8256-e1cc40bf2067",
     "showTitle": false,
     "title": ""
    }
   },
   "outputs": [],
   "source": [
    "A is correlated to B by 0.8 then it assumes that B is correlated to A by 0.8 as well. "
   ]
  },
  {
   "cell_type": "code",
   "execution_count": 0,
   "metadata": {
    "application/vnd.databricks.v1+cell": {
     "inputWidgets": {},
     "nuid": "3143607a-831f-4e61-beb5-cddbf2e02af8",
     "showTitle": false,
     "title": ""
    }
   },
   "outputs": [
    {
     "data": {
      "text/html": [
       "<style scoped>\n",
       "  .ansiout {\n",
       "    display: block;\n",
       "    unicode-bidi: embed;\n",
       "    white-space: pre-wrap;\n",
       "    word-wrap: break-word;\n",
       "    word-break: break-all;\n",
       "    font-family: \"Source Code Pro\", \"Menlo\", monospace;;\n",
       "    font-size: 13px;\n",
       "    color: #555;\n",
       "    margin-left: 4px;\n",
       "    line-height: 19px;\n",
       "  }\n",
       "</style>\n",
       "<div class=\"ansiout\">Out[52]: ((700, 48), (300, 48), (700,), (300,))</div>"
      ]
     },
     "metadata": {
      "application/vnd.databricks.v1+output": {
       "addedWidgets": {},
       "arguments": {},
       "data": "<div class=\"ansiout\">Out[52]: ((700, 48), (300, 48), (700,), (300,))</div>",
       "datasetInfos": [],
       "removedWidgets": [],
       "type": "html"
      }
     },
     "output_type": "display_data"
    }
   ],
   "source": [
    "# Split Train/Test data 70:30 ratio\n",
    "from sklearn.model_selection import train_test_split\n",
    "\n",
    "y = dff['default']\n",
    "X = dff.loc[:, dff.columns != 'default']\n",
    "\n",
    "X_train, X_test, y_train, y_test = train_test_split (X, y, test_size=0.3, random_state=42,)\n",
    "X_train.shape, X_test.shape, y_train.shape, y_test.shape"
   ]
  },
  {
   "cell_type": "code",
   "execution_count": 0,
   "metadata": {
    "application/vnd.databricks.v1+cell": {
     "inputWidgets": {},
     "nuid": "58626d66-1fe2-472c-ab83-449c3e5e77ff",
     "showTitle": false,
     "title": ""
    }
   },
   "outputs": [
    {
     "data": {
      "text/html": [
       "<style scoped>\n",
       "  .ansiout {\n",
       "    display: block;\n",
       "    unicode-bidi: embed;\n",
       "    white-space: pre-wrap;\n",
       "    word-wrap: break-word;\n",
       "    word-break: break-all;\n",
       "    font-family: \"Source Code Pro\", \"Menlo\", monospace;;\n",
       "    font-size: 13px;\n",
       "    color: #555;\n",
       "    margin-left: 4px;\n",
       "    line-height: 19px;\n",
       "  }\n",
       "</style>\n",
       "<div class=\"ansiout\"></div>"
      ]
     },
     "metadata": {
      "application/vnd.databricks.v1+output": {
       "addedWidgets": {},
       "arguments": {},
       "data": "<div class=\"ansiout\"></div>",
       "datasetInfos": [],
       "removedWidgets": [],
       "type": "html"
      }
     },
     "output_type": "display_data"
    }
   ],
   "source": [
    "#Build RF Model\n",
    "from sklearn.ensemble import RandomForestClassifier\n",
    "rf = RandomForestClassifier(n_jobs=2,n_estimators=500,criterion=\"entropy\",random_state=9999)\n",
    "rfm=rf.fit(X_train, y_train)"
   ]
  },
  {
   "cell_type": "code",
   "execution_count": 0,
   "metadata": {
    "application/vnd.databricks.v1+cell": {
     "inputWidgets": {},
     "nuid": "b21fa4d9-d6dc-46fe-87a3-c2710a4cbf37",
     "showTitle": false,
     "title": ""
    }
   },
   "outputs": [
    {
     "data": {
      "text/html": [
       "<style scoped>\n",
       "  .ansiout {\n",
       "    display: block;\n",
       "    unicode-bidi: embed;\n",
       "    white-space: pre-wrap;\n",
       "    word-wrap: break-word;\n",
       "    word-break: break-all;\n",
       "    font-family: \"Source Code Pro\", \"Menlo\", monospace;;\n",
       "    font-size: 13px;\n",
       "    color: #555;\n",
       "    margin-left: 4px;\n",
       "    line-height: 19px;\n",
       "  }\n",
       "</style>\n",
       "<div class=\"ansiout\"></div>"
      ]
     },
     "metadata": {
      "application/vnd.databricks.v1+output": {
       "addedWidgets": {},
       "arguments": {},
       "data": "<div class=\"ansiout\"></div>",
       "datasetInfos": [],
       "removedWidgets": [],
       "type": "html"
      }
     },
     "output_type": "display_data"
    }
   ],
   "source": [
    "preds = rf.predict_proba(X_test)[:,1]\n",
    "y_pred=rf.predict(X_test)"
   ]
  },
  {
   "cell_type": "code",
   "execution_count": 0,
   "metadata": {
    "application/vnd.databricks.v1+cell": {
     "inputWidgets": {},
     "nuid": "18f47f90-ad0f-421e-87f1-83e81a464bfe",
     "showTitle": false,
     "title": ""
    }
   },
   "outputs": [
    {
     "data": {
      "text/html": [
       "<style scoped>\n",
       "  .ansiout {\n",
       "    display: block;\n",
       "    unicode-bidi: embed;\n",
       "    white-space: pre-wrap;\n",
       "    word-wrap: break-word;\n",
       "    word-break: break-all;\n",
       "    font-family: \"Source Code Pro\", \"Menlo\", monospace;;\n",
       "    font-size: 13px;\n",
       "    color: #555;\n",
       "    margin-left: 4px;\n",
       "    line-height: 19px;\n",
       "  }\n",
       "</style>\n",
       "<div class=\"ansiout\"></div>"
      ]
     },
     "metadata": {
      "application/vnd.databricks.v1+output": {
       "addedWidgets": {},
       "arguments": {},
       "data": "<div class=\"ansiout\"></div>",
       "datasetInfos": [],
       "removedWidgets": [],
       "type": "html"
      }
     },
     "output_type": "display_data"
    }
   ],
   "source": [
    "#calculate Confusion Matrix\n",
    "from sklearn.metrics import confusion_matrix\n",
    "from sklearn.metrics import accuracy_score\n",
    "def calculate_confusion_matrix(y_true, y_pred):\n",
    "    \n",
    "    cm=confusion_matrix(y_true, y_pred)\n",
    "    print(cm)"
   ]
  },
  {
   "cell_type": "code",
   "execution_count": 0,
   "metadata": {
    "application/vnd.databricks.v1+cell": {
     "inputWidgets": {},
     "nuid": "aaf93fd9-ef68-48d1-b4c4-6a2014171427",
     "showTitle": false,
     "title": ""
    }
   },
   "outputs": [
    {
     "data": {
      "text/html": [
       "<style scoped>\n",
       "  .ansiout {\n",
       "    display: block;\n",
       "    unicode-bidi: embed;\n",
       "    white-space: pre-wrap;\n",
       "    word-wrap: break-word;\n",
       "    word-break: break-all;\n",
       "    font-family: \"Source Code Pro\", \"Menlo\", monospace;;\n",
       "    font-size: 13px;\n",
       "    color: #555;\n",
       "    margin-left: 4px;\n",
       "    line-height: 19px;\n",
       "  }\n",
       "</style>\n",
       "<div class=\"ansiout\">[[195  14]\n",
       " [ 60  31]]\n",
       "0.7533333333333333\n",
       "</div>"
      ]
     },
     "metadata": {
      "application/vnd.databricks.v1+output": {
       "addedWidgets": {},
       "arguments": {},
       "data": "<div class=\"ansiout\">[[195  14]\n [ 60  31]]\n0.7533333333333333\n</div>",
       "datasetInfos": [],
       "removedWidgets": [],
       "type": "html"
      }
     },
     "output_type": "display_data"
    }
   ],
   "source": [
    "calculate_confusion_matrix(y_test, y_pred)\n",
    "print(accuracy_score(y_test, y_pred))"
   ]
  },
  {
   "cell_type": "code",
   "execution_count": 0,
   "metadata": {
    "application/vnd.databricks.v1+cell": {
     "inputWidgets": {},
     "nuid": "40e37b42-7ac2-4731-af70-a25522c2dcfb",
     "showTitle": false,
     "title": ""
    }
   },
   "outputs": [
    {
     "data": {
      "text/html": [
       "<style scoped>\n",
       "  .ansiout {\n",
       "    display: block;\n",
       "    unicode-bidi: embed;\n",
       "    white-space: pre-wrap;\n",
       "    word-wrap: break-word;\n",
       "    word-break: break-all;\n",
       "    font-family: \"Source Code Pro\", \"Menlo\", monospace;;\n",
       "    font-size: 13px;\n",
       "    color: #555;\n",
       "    margin-left: 4px;\n",
       "    line-height: 19px;\n",
       "  }\n",
       "</style>\n",
       "<div class=\"ansiout\">Out[58]: 48</div>"
      ]
     },
     "metadata": {
      "application/vnd.databricks.v1+output": {
       "addedWidgets": {},
       "arguments": {},
       "data": "<div class=\"ansiout\">Out[58]: 48</div>",
       "datasetInfos": [],
       "removedWidgets": [],
       "type": "html"
      }
     },
     "output_type": "display_data"
    }
   ],
   "source": [
    "len(rf.feature_importances_)"
   ]
  },
  {
   "cell_type": "code",
   "execution_count": 0,
   "metadata": {
    "application/vnd.databricks.v1+cell": {
     "inputWidgets": {},
     "nuid": "9b69bffe-4801-405a-9d40-1dad0ebd477e",
     "showTitle": false,
     "title": ""
    }
   },
   "outputs": [
    {
     "data": {
      "image/png": "[encoded data removed]"
     },
     "metadata": {
      "application/vnd.databricks.v1+output": {
       "addedWidgets": {},
       "arguments": {},
       "data": "/plots/8359d275-17a4-4be5-8213-ca63497d80d3.png",
       "datasetInfos": [],
       "removedWidgets": [],
       "type": "image"
      }
     },
     "output_type": "display_data"
    }
   ],
   "source": [
    "# View a list of the features and their importance scores\n",
    "importances = rf.feature_importances_\n",
    "indices = np.argsort(importances)[::-1][:15]\n",
    "a = dff.columns[:]\n",
    "features= a.drop('default',1)\n",
    "#plot it\n",
    "plt.figure(figsize=(10,10))\n",
    "plt.title('Feature Importances')\n",
    "plt.barh(range(len(indices)), importances[indices], color='b', align='center')\n",
    "plt.yticks(range(len(indices)), features[indices])\n",
    "plt.xlabel('Relative Importance')\n",
    "plt.show()"
   ]
  },
  {
   "cell_type": "code",
   "execution_count": 0,
   "metadata": {
    "application/vnd.databricks.v1+cell": {
     "inputWidgets": {},
     "nuid": "b15244e9-c5c7-4148-bff8-ec7d3e631d08",
     "showTitle": false,
     "title": ""
    }
   },
   "outputs": [
    {
     "data": {
      "text/html": [
       "<style scoped>\n",
       "  .ansiout {\n",
       "    display: block;\n",
       "    unicode-bidi: embed;\n",
       "    white-space: pre-wrap;\n",
       "    word-wrap: break-word;\n",
       "    word-break: break-all;\n",
       "    font-family: \"Source Code Pro\", \"Menlo\", monospace;;\n",
       "    font-size: 13px;\n",
       "    color: #555;\n",
       "    margin-left: 4px;\n",
       "    line-height: 19px;\n",
       "  }\n",
       "</style>\n",
       "<div class=\"ansiout\"></div>"
      ]
     },
     "metadata": {
      "application/vnd.databricks.v1+output": {
       "addedWidgets": {},
       "arguments": {},
       "data": "<div class=\"ansiout\"></div>",
       "datasetInfos": [],
       "removedWidgets": [],
       "type": "html"
      }
     },
     "output_type": "display_data"
    }
   ],
   "source": [
    "trainResult = rf.score(X_train, y_train)\n",
    "testResult = rf.score(X_test, y_test)"
   ]
  },
  {
   "cell_type": "code",
   "execution_count": 0,
   "metadata": {
    "application/vnd.databricks.v1+cell": {
     "inputWidgets": {},
     "nuid": "83f710cc-d1b7-4802-8c44-63ff307c29a6",
     "showTitle": false,
     "title": ""
    }
   },
   "outputs": [
    {
     "data": {
      "text/html": [
       "<style scoped>\n",
       "  .ansiout {\n",
       "    display: block;\n",
       "    unicode-bidi: embed;\n",
       "    white-space: pre-wrap;\n",
       "    word-wrap: break-word;\n",
       "    word-break: break-all;\n",
       "    font-family: \"Source Code Pro\", \"Menlo\", monospace;;\n",
       "    font-size: 13px;\n",
       "    color: #555;\n",
       "    margin-left: 4px;\n",
       "    line-height: 19px;\n",
       "  }\n",
       "</style>\n",
       "<div class=\"ansiout\">Out[20]: 100.0</div>"
      ]
     },
     "metadata": {
      "application/vnd.databricks.v1+output": {
       "addedWidgets": {},
       "arguments": {},
       "data": "<div class=\"ansiout\">Out[20]: 100.0</div>",
       "datasetInfos": [],
       "removedWidgets": [],
       "type": "html"
      }
     },
     "output_type": "display_data"
    }
   ],
   "source": [
    "\"Train Accuracy:\"\n",
    "(trainResult*100.0)"
   ]
  },
  {
   "cell_type": "code",
   "execution_count": 0,
   "metadata": {
    "application/vnd.databricks.v1+cell": {
     "inputWidgets": {},
     "nuid": "b6f7aed4-2a20-4f61-9013-45d90e9fc851",
     "showTitle": false,
     "title": ""
    }
   },
   "outputs": [
    {
     "data": {
      "text/html": [
       "<style scoped>\n",
       "  .ansiout {\n",
       "    display: block;\n",
       "    unicode-bidi: embed;\n",
       "    white-space: pre-wrap;\n",
       "    word-wrap: break-word;\n",
       "    word-break: break-all;\n",
       "    font-family: \"Source Code Pro\", \"Menlo\", monospace;;\n",
       "    font-size: 13px;\n",
       "    color: #555;\n",
       "    margin-left: 4px;\n",
       "    line-height: 19px;\n",
       "  }\n",
       "</style>\n",
       "<div class=\"ansiout\">Out[21]: 75.33333333333333</div>"
      ]
     },
     "metadata": {
      "application/vnd.databricks.v1+output": {
       "addedWidgets": {},
       "arguments": {},
       "data": "<div class=\"ansiout\">Out[21]: 75.33333333333333</div>",
       "datasetInfos": [],
       "removedWidgets": [],
       "type": "html"
      }
     },
     "output_type": "display_data"
    }
   ],
   "source": [
    "\"Test Accuracy:\"\n",
    "(testResult*100.0)"
   ]
  },
  {
   "cell_type": "code",
   "execution_count": 0,
   "metadata": {
    "application/vnd.databricks.v1+cell": {
     "inputWidgets": {},
     "nuid": "970863c0-e54c-4261-a528-840f2eaaa206",
     "showTitle": false,
     "title": ""
    }
   },
   "outputs": [
    {
     "data": {
      "text/html": [
       "<style scoped>\n",
       "  .ansiout {\n",
       "    display: block;\n",
       "    unicode-bidi: embed;\n",
       "    white-space: pre-wrap;\n",
       "    word-wrap: break-word;\n",
       "    word-break: break-all;\n",
       "    font-family: \"Source Code Pro\", \"Menlo\", monospace;;\n",
       "    font-size: 13px;\n",
       "    color: #555;\n",
       "    margin-left: 4px;\n",
       "    line-height: 19px;\n",
       "  }\n",
       "</style>\n",
       "<div class=\"ansiout\">Out[61]: RFECV(cv=StratifiedKFold(n_splits=10, random_state=None, shuffle=False),\n",
       "      estimator=RandomForestClassifier(bootstrap=True, ccp_alpha=0.0,\n",
       "                                       class_weight=None, criterion=&#39;gini&#39;,\n",
       "                                       max_depth=None, max_features=&#39;auto&#39;,\n",
       "                                       max_leaf_nodes=None, max_samples=None,\n",
       "                                       min_impurity_decrease=0.0,\n",
       "                                       min_impurity_split=None,\n",
       "                                       min_samples_leaf=1, min_samples_split=2,\n",
       "                                       min_weight_fraction_leaf=0.0,\n",
       "                                       n_estimators=100, n_jobs=None,\n",
       "                                       oob_score=False, random_state=7,\n",
       "                                       verbose=0, warm_start=False),\n",
       "      min_features_to_select=1, n_jobs=None, scoring=&#39;accuracy&#39;, step=1,\n",
       "      verbose=0)</div>"
      ]
     },
     "metadata": {
      "application/vnd.databricks.v1+output": {
       "addedWidgets": {},
       "arguments": {},
       "data": "<div class=\"ansiout\">Out[61]: RFECV(cv=StratifiedKFold(n_splits=10, random_state=None, shuffle=False),\n      estimator=RandomForestClassifier(bootstrap=True, ccp_alpha=0.0,\n                                       class_weight=None, criterion=&#39;gini&#39;,\n                                       max_depth=None, max_features=&#39;auto&#39;,\n                                       max_leaf_nodes=None, max_samples=None,\n                                       min_impurity_decrease=0.0,\n                                       min_impurity_split=None,\n                                       min_samples_leaf=1, min_samples_split=2,\n                                       min_weight_fraction_leaf=0.0,\n                                       n_estimators=100, n_jobs=None,\n                                       oob_score=False, random_state=7,\n                                       verbose=0, warm_start=False),\n      min_features_to_select=1, n_jobs=None, scoring=&#39;accuracy&#39;, step=1,\n      verbose=0)</div>",
       "datasetInfos": [],
       "removedWidgets": [],
       "type": "html"
      }
     },
     "output_type": "display_data"
    }
   ],
   "source": [
    "from sklearn.model_selection import StratifiedKFold\n",
    "from sklearn.feature_selection import RFECV\n",
    "\n",
    "rfc = RandomForestClassifier(random_state=7)\n",
    "rfecv = RFECV(estimator=rfc, step=1, cv=StratifiedKFold(10), scoring='accuracy')\n",
    "rfecv.fit(X_train, y_train)"
   ]
  },
  {
   "cell_type": "code",
   "execution_count": 0,
   "metadata": {
    "application/vnd.databricks.v1+cell": {
     "inputWidgets": {},
     "nuid": "c0549d28-10be-4a27-a652-ef218bf6b0b5",
     "showTitle": false,
     "title": ""
    }
   },
   "outputs": [
    {
     "data": {
      "text/html": [
       "<style scoped>\n",
       "  .ansiout {\n",
       "    display: block;\n",
       "    unicode-bidi: embed;\n",
       "    white-space: pre-wrap;\n",
       "    word-wrap: break-word;\n",
       "    word-break: break-all;\n",
       "    font-family: \"Source Code Pro\", \"Menlo\", monospace;;\n",
       "    font-size: 13px;\n",
       "    color: #555;\n",
       "    margin-left: 4px;\n",
       "    line-height: 19px;\n",
       "  }\n",
       "</style>\n",
       "<div class=\"ansiout\">Optimal number of features: 28\n",
       "</div>"
      ]
     },
     "metadata": {
      "application/vnd.databricks.v1+output": {
       "addedWidgets": {},
       "arguments": {},
       "data": "<div class=\"ansiout\">Optimal number of features: 28\n</div>",
       "datasetInfos": [],
       "removedWidgets": [],
       "type": "html"
      }
     },
     "output_type": "display_data"
    }
   ],
   "source": [
    "print('Optimal number of features: {}'.format(rfecv.n_features_))"
   ]
  },
  {
   "cell_type": "code",
   "execution_count": 0,
   "metadata": {
    "application/vnd.databricks.v1+cell": {
     "inputWidgets": {},
     "nuid": "87b8a192-53f2-459c-a8d7-26fca1a93e51",
     "showTitle": false,
     "title": ""
    }
   },
   "outputs": [
    {
     "data": {
      "image/png": "[encoded data removed]"
     },
     "metadata": {
      "application/vnd.databricks.v1+output": {
       "addedWidgets": {},
       "arguments": {},
       "data": "/plots/6de95113-e137-499f-a8b1-2a1e8b857234.png",
       "datasetInfos": [],
       "removedWidgets": [],
       "type": "image"
      }
     },
     "output_type": "display_data"
    }
   ],
   "source": [
    "plt.figure(figsize=(16, 9))\n",
    "plt.title('Recursive Feature Elimination with Cross-Validation', fontsize=18, fontweight='bold', pad=20)\n",
    "plt.xlabel('Number of features selected', fontsize=14, labelpad=20)\n",
    "plt.ylabel('% Correct Classification', fontsize=14, labelpad=20)\n",
    "plt.plot(range(1, len(rfecv.grid_scores_) + 1), rfecv.grid_scores_, color='#303F9F', linewidth=3)\n",
    "\n",
    "plt.show()"
   ]
  },
  {
   "cell_type": "code",
   "execution_count": 0,
   "metadata": {
    "application/vnd.databricks.v1+cell": {
     "inputWidgets": {},
     "nuid": "3de55189-3bf9-480f-be9e-b0d71f54ae03",
     "showTitle": false,
     "title": ""
    }
   },
   "outputs": [
    {
     "data": {
      "text/html": [
       "<style scoped>\n",
       "  .ansiout {\n",
       "    display: block;\n",
       "    unicode-bidi: embed;\n",
       "    white-space: pre-wrap;\n",
       "    word-wrap: break-word;\n",
       "    word-break: break-all;\n",
       "    font-family: \"Source Code Pro\", \"Menlo\", monospace;;\n",
       "    font-size: 13px;\n",
       "    color: #555;\n",
       "    margin-left: 4px;\n",
       "    line-height: 19px;\n",
       "  }\n",
       "</style>\n",
       "<div class=\"ansiout\">[ 6  8 11 14 16 18 19 21 22 24 25 29 31 32 34 40 42 44 45 47]\n",
       "</div>"
      ]
     },
     "metadata": {
      "application/vnd.databricks.v1+output": {
       "addedWidgets": {},
       "arguments": {},
       "data": "<div class=\"ansiout\">[ 6  8 11 14 16 18 19 21 22 24 25 29 31 32 34 40 42 44 45 47]\n</div>",
       "datasetInfos": [],
       "removedWidgets": [],
       "type": "html"
      }
     },
     "output_type": "display_data"
    }
   ],
   "source": [
    "print(np.where(rfecv.support_ == False)[0])\n",
    "X.columns[np.where(rfecv.support_ == False)[0]]\n",
    "X_train.drop(X_train.columns[np.where(rfecv.support_ == False)[0]], axis=1, inplace=True)"
   ]
  },
  {
   "cell_type": "code",
   "execution_count": 0,
   "metadata": {
    "application/vnd.databricks.v1+cell": {
     "inputWidgets": {},
     "nuid": "a5e6c2a5-1d89-4ca2-8a81-f14398c28ce7",
     "showTitle": false,
     "title": ""
    }
   },
   "outputs": [
    {
     "data": {
      "text/html": [
       "<style scoped>\n",
       "  .ansiout {\n",
       "    display: block;\n",
       "    unicode-bidi: embed;\n",
       "    white-space: pre-wrap;\n",
       "    word-wrap: break-word;\n",
       "    word-break: break-all;\n",
       "    font-family: \"Source Code Pro\", \"Menlo\", monospace;;\n",
       "    font-size: 13px;\n",
       "    color: #555;\n",
       "    margin-left: 4px;\n",
       "    line-height: 19px;\n",
       "  }\n",
       "</style>\n",
       "<div class=\"ansiout\">Out[65]: array([0.09967308, 0.13982961, 0.04690464, 0.04627943, 0.11397115,\n",
       "       0.02445318, 0.03885923, 0.05809392, 0.03221494, 0.02098692,\n",
       "       0.01643795, 0.02654401, 0.01950693, 0.01871027, 0.02679014,\n",
       "       0.01693718, 0.01920637, 0.02361021, 0.01621993, 0.02207402,\n",
       "       0.01538699, 0.01946616, 0.02230108, 0.01966342, 0.02491423,\n",
       "       0.02226729, 0.02482753, 0.02387019])</div>"
      ]
     },
     "metadata": {
      "application/vnd.databricks.v1+output": {
       "addedWidgets": {},
       "arguments": {},
       "data": "<div class=\"ansiout\">Out[65]: array([0.09967308, 0.13982961, 0.04690464, 0.04627943, 0.11397115,\n       0.02445318, 0.03885923, 0.05809392, 0.03221494, 0.02098692,\n       0.01643795, 0.02654401, 0.01950693, 0.01871027, 0.02679014,\n       0.01693718, 0.01920637, 0.02361021, 0.01621993, 0.02207402,\n       0.01538699, 0.01946616, 0.02230108, 0.01966342, 0.02491423,\n       0.02226729, 0.02482753, 0.02387019])</div>",
       "datasetInfos": [],
       "removedWidgets": [],
       "type": "html"
      }
     },
     "output_type": "display_data"
    }
   ],
   "source": [
    "rfecv.estimator_.feature_importances_"
   ]
  },
  {
   "cell_type": "code",
   "execution_count": 0,
   "metadata": {
    "application/vnd.databricks.v1+cell": {
     "inputWidgets": {},
     "nuid": "bd53dfd4-63ab-486c-a3b1-d365321efa7d",
     "showTitle": false,
     "title": ""
    }
   },
   "outputs": [
    {
     "data": {
      "image/png": "[encoded data removed]"
     },
     "metadata": {
      "application/vnd.databricks.v1+output": {
       "addedWidgets": {},
       "arguments": {},
       "data": "/plots/969272b1-e604-4df5-87fa-4f5a6cb24520.png",
       "datasetInfos": [],
       "removedWidgets": [],
       "type": "image"
      }
     },
     "output_type": "display_data"
    }
   ],
   "source": [
    "dset = pd.DataFrame()\n",
    "dset['attr'] = X_train.columns\n",
    "dset['importance'] = rfecv.estimator_.feature_importances_\n",
    "\n",
    "dset = dset.sort_values(by='importance', ascending=False)\n",
    "\n",
    "\n",
    "plt.figure(figsize=(16, 14))\n",
    "plt.barh(y=dset['attr'], width=dset['importance'], color='#1976D2')\n",
    "plt.title('RFECV - Feature Importances', fontsize=20, fontweight='bold', pad=20)\n",
    "plt.xlabel('Importance', fontsize=14, labelpad=20)\n",
    "plt.show()"
   ]
  },
  {
   "cell_type": "markdown",
   "metadata": {
    "application/vnd.databricks.v1+cell": {
     "inputWidgets": {},
     "nuid": "c3341cb0-4d5d-47c4-903a-c8b3bd6a6ccd",
     "showTitle": false,
     "title": ""
    }
   },
   "source": [
    "# K-fold cross-validation\n",
    "\n",
    "k-fold cross validation( without stratification)\n",
    "\n",
    "Usually k is set as 10-20 in practical settings, depends on data set size"
   ]
  },
  {
   "cell_type": "code",
   "execution_count": 0,
   "metadata": {
    "application/vnd.databricks.v1+cell": {
     "inputWidgets": {},
     "nuid": "7789f638-f2ff-47ed-bf97-339ca968fe6a",
     "showTitle": false,
     "title": ""
    }
   },
   "outputs": [
    {
     "data": {
      "text/html": [
       "<style scoped>\n",
       "  .ansiout {\n",
       "    display: block;\n",
       "    unicode-bidi: embed;\n",
       "    white-space: pre-wrap;\n",
       "    word-wrap: break-word;\n",
       "    word-break: break-all;\n",
       "    font-family: \"Source Code Pro\", \"Menlo\", monospace;;\n",
       "    font-size: 13px;\n",
       "    color: #555;\n",
       "    margin-left: 4px;\n",
       "    line-height: 19px;\n",
       "  }\n",
       "</style>\n",
       "<div class=\"ansiout\"></div>"
      ]
     },
     "metadata": {
      "application/vnd.databricks.v1+output": {
       "addedWidgets": {},
       "arguments": {},
       "data": "<div class=\"ansiout\"></div>",
       "datasetInfos": [],
       "removedWidgets": [],
       "type": "html"
      }
     },
     "output_type": "display_data"
    }
   ],
   "source": [
    "from sklearn.model_selection import KFold\n",
    "from sklearn.model_selection import cross_val_score"
   ]
  },
  {
   "cell_type": "code",
   "execution_count": 0,
   "metadata": {
    "application/vnd.databricks.v1+cell": {
     "inputWidgets": {},
     "nuid": "ce35f13d-3947-4766-a5fa-b429cc67d7b2",
     "showTitle": false,
     "title": ""
    }
   },
   "outputs": [
    {
     "data": {
      "text/html": [
       "<style scoped>\n",
       "  .ansiout {\n",
       "    display: block;\n",
       "    unicode-bidi: embed;\n",
       "    white-space: pre-wrap;\n",
       "    word-wrap: break-word;\n",
       "    word-break: break-all;\n",
       "    font-family: \"Source Code Pro\", \"Menlo\", monospace;;\n",
       "    font-size: 13px;\n",
       "    color: #555;\n",
       "    margin-left: 4px;\n",
       "    line-height: 19px;\n",
       "  }\n",
       "</style>\n",
       "<div class=\"ansiout\"></div>"
      ]
     },
     "metadata": {
      "application/vnd.databricks.v1+output": {
       "addedWidgets": {},
       "arguments": {},
       "data": "<div class=\"ansiout\"></div>",
       "datasetInfos": [],
       "removedWidgets": [],
       "type": "html"
      }
     },
     "output_type": "display_data"
    }
   ],
   "source": [
    "num_folds = 10\n",
    "seed = 77"
   ]
  },
  {
   "cell_type": "code",
   "execution_count": 0,
   "metadata": {
    "application/vnd.databricks.v1+cell": {
     "inputWidgets": {},
     "nuid": "929c891c-430a-43f2-af8b-16f2aa1651f9",
     "showTitle": false,
     "title": ""
    }
   },
   "outputs": [
    {
     "data": {
      "text/html": [
       "<style scoped>\n",
       "  .ansiout {\n",
       "    display: block;\n",
       "    unicode-bidi: embed;\n",
       "    white-space: pre-wrap;\n",
       "    word-wrap: break-word;\n",
       "    word-break: break-all;\n",
       "    font-family: \"Source Code Pro\", \"Menlo\", monospace;;\n",
       "    font-size: 13px;\n",
       "    color: #555;\n",
       "    margin-left: 4px;\n",
       "    line-height: 19px;\n",
       "  }\n",
       "</style>\n",
       "<div class=\"ansiout\"></div>"
      ]
     },
     "metadata": {
      "application/vnd.databricks.v1+output": {
       "addedWidgets": {},
       "arguments": {},
       "data": "<div class=\"ansiout\"></div>",
       "datasetInfos": [],
       "removedWidgets": [],
       "type": "html"
      }
     },
     "output_type": "display_data"
    }
   ],
   "source": [
    "kfold = KFold(n_splits=num_folds, random_state=seed)"
   ]
  },
  {
   "cell_type": "code",
   "execution_count": 0,
   "metadata": {
    "application/vnd.databricks.v1+cell": {
     "inputWidgets": {},
     "nuid": "f4107b5f-bb26-4083-bcbd-4781f1091ed9",
     "showTitle": false,
     "title": ""
    }
   },
   "outputs": [
    {
     "data": {
      "text/html": [
       "<style scoped>\n",
       "  .ansiout {\n",
       "    display: block;\n",
       "    unicode-bidi: embed;\n",
       "    white-space: pre-wrap;\n",
       "    word-wrap: break-word;\n",
       "    word-break: break-all;\n",
       "    font-family: \"Source Code Pro\", \"Menlo\", monospace;;\n",
       "    font-size: 13px;\n",
       "    color: #555;\n",
       "    margin-left: 4px;\n",
       "    line-height: 19px;\n",
       "  }\n",
       "</style>\n",
       "<div class=\"ansiout\">Out[70]: array([0.87, 0.67, 0.79, 0.81, 0.81, 0.68, 0.75, 0.78, 0.75, 0.76])</div>"
      ]
     },
     "metadata": {
      "application/vnd.databricks.v1+output": {
       "addedWidgets": {},
       "arguments": {},
       "data": "<div class=\"ansiout\">Out[70]: array([0.87, 0.67, 0.79, 0.81, 0.81, 0.68, 0.75, 0.78, 0.75, 0.76])</div>",
       "datasetInfos": [],
       "removedWidgets": [],
       "type": "html"
      }
     },
     "output_type": "display_data"
    }
   ],
   "source": [
    "results = cross_val_score(rfm,X, y, cv=kfold)\n",
    "results"
   ]
  },
  {
   "cell_type": "code",
   "execution_count": 0,
   "metadata": {
    "application/vnd.databricks.v1+cell": {
     "inputWidgets": {},
     "nuid": "1944ec61-4003-4c1a-922c-cbba25762f0c",
     "showTitle": false,
     "title": ""
    }
   },
   "outputs": [
    {
     "data": {
      "text/html": [
       "<style scoped>\n",
       "  .ansiout {\n",
       "    display: block;\n",
       "    unicode-bidi: embed;\n",
       "    white-space: pre-wrap;\n",
       "    word-wrap: break-word;\n",
       "    word-break: break-all;\n",
       "    font-family: \"Source Code Pro\", \"Menlo\", monospace;;\n",
       "    font-size: 13px;\n",
       "    color: #555;\n",
       "    margin-left: 4px;\n",
       "    line-height: 19px;\n",
       "  }\n",
       "</style>\n",
       "<div class=\"ansiout\"></div>"
      ]
     },
     "metadata": {
      "application/vnd.databricks.v1+output": {
       "addedWidgets": {},
       "arguments": {},
       "data": "<div class=\"ansiout\"></div>",
       "datasetInfos": [],
       "removedWidgets": [],
       "type": "html"
      }
     },
     "output_type": "display_data"
    }
   ],
   "source": [
    "from sklearn.model_selection import KFold\n",
    "from sklearn.model_selection import cross_val_score"
   ]
  },
  {
   "cell_type": "code",
   "execution_count": 0,
   "metadata": {
    "application/vnd.databricks.v1+cell": {
     "inputWidgets": {},
     "nuid": "4a78ec3b-7b73-4260-8aff-f0b14ace3abc",
     "showTitle": false,
     "title": ""
    }
   },
   "outputs": [
    {
     "data": {
      "text/html": [
       "<style scoped>\n",
       "  .ansiout {\n",
       "    display: block;\n",
       "    unicode-bidi: embed;\n",
       "    white-space: pre-wrap;\n",
       "    word-wrap: break-word;\n",
       "    word-break: break-all;\n",
       "    font-family: \"Source Code Pro\", \"Menlo\", monospace;;\n",
       "    font-size: 13px;\n",
       "    color: #555;\n",
       "    margin-left: 4px;\n",
       "    line-height: 19px;\n",
       "  }\n",
       "</style>\n",
       "<div class=\"ansiout\"></div>"
      ]
     },
     "metadata": {
      "application/vnd.databricks.v1+output": {
       "addedWidgets": {},
       "arguments": {},
       "data": "<div class=\"ansiout\"></div>",
       "datasetInfos": [],
       "removedWidgets": [],
       "type": "html"
      }
     },
     "output_type": "display_data"
    }
   ],
   "source": [
    "num_folds = 10\n",
    "seed = 77"
   ]
  },
  {
   "cell_type": "code",
   "execution_count": 0,
   "metadata": {
    "application/vnd.databricks.v1+cell": {
     "inputWidgets": {},
     "nuid": "c882e570-a0e2-4786-b5a1-7cf46f0af247",
     "showTitle": false,
     "title": ""
    }
   },
   "outputs": [
    {
     "data": {
      "text/html": [
       "<style scoped>\n",
       "  .ansiout {\n",
       "    display: block;\n",
       "    unicode-bidi: embed;\n",
       "    white-space: pre-wrap;\n",
       "    word-wrap: break-word;\n",
       "    word-break: break-all;\n",
       "    font-family: \"Source Code Pro\", \"Menlo\", monospace;;\n",
       "    font-size: 13px;\n",
       "    color: #555;\n",
       "    margin-left: 4px;\n",
       "    line-height: 19px;\n",
       "  }\n",
       "</style>\n",
       "<div class=\"ansiout\"></div>"
      ]
     },
     "metadata": {
      "application/vnd.databricks.v1+output": {
       "addedWidgets": {},
       "arguments": {},
       "data": "<div class=\"ansiout\"></div>",
       "datasetInfos": [],
       "removedWidgets": [],
       "type": "html"
      }
     },
     "output_type": "display_data"
    }
   ],
   "source": [
    "kfold = KFold(n_splits=num_folds, random_state=seed)"
   ]
  },
  {
   "cell_type": "code",
   "execution_count": 0,
   "metadata": {
    "application/vnd.databricks.v1+cell": {
     "inputWidgets": {},
     "nuid": "c3580852-8cbe-437a-9e1e-914c3f96787c",
     "showTitle": false,
     "title": ""
    }
   },
   "outputs": [
    {
     "data": {
      "text/html": [
       "<style scoped>\n",
       "  .ansiout {\n",
       "    display: block;\n",
       "    unicode-bidi: embed;\n",
       "    white-space: pre-wrap;\n",
       "    word-wrap: break-word;\n",
       "    word-break: break-all;\n",
       "    font-family: \"Source Code Pro\", \"Menlo\", monospace;;\n",
       "    font-size: 13px;\n",
       "    color: #555;\n",
       "    margin-left: 4px;\n",
       "    line-height: 19px;\n",
       "  }\n",
       "</style>\n",
       "<div class=\"ansiout\">Out[29]: array([0.87, 0.67, 0.79, 0.81, 0.81, 0.68, 0.75, 0.78, 0.75, 0.76])</div>"
      ]
     },
     "metadata": {
      "application/vnd.databricks.v1+output": {
       "addedWidgets": {},
       "arguments": {},
       "data": "<div class=\"ansiout\">Out[29]: array([0.87, 0.67, 0.79, 0.81, 0.81, 0.68, 0.75, 0.78, 0.75, 0.76])</div>",
       "datasetInfos": [],
       "removedWidgets": [],
       "type": "html"
      }
     },
     "output_type": "display_data"
    }
   ],
   "source": [
    "results = cross_val_score(rfm,X, y, cv=kfold)\n",
    "results"
   ]
  },
  {
   "cell_type": "code",
   "execution_count": 0,
   "metadata": {
    "application/vnd.databricks.v1+cell": {
     "inputWidgets": {},
     "nuid": "010832aa-47e5-4f5a-941d-89da0302c6fe",
     "showTitle": false,
     "title": ""
    }
   },
   "outputs": [
    {
     "data": {
      "text/html": [
       "<style scoped>\n",
       "  .ansiout {\n",
       "    display: block;\n",
       "    unicode-bidi: embed;\n",
       "    white-space: pre-wrap;\n",
       "    word-wrap: break-word;\n",
       "    word-break: break-all;\n",
       "    font-family: \"Source Code Pro\", \"Menlo\", monospace;;\n",
       "    font-size: 13px;\n",
       "    color: #555;\n",
       "    margin-left: 4px;\n",
       "    line-height: 19px;\n",
       "  }\n",
       "</style>\n",
       "<div class=\"ansiout\">Out[30]: 0.767</div>"
      ]
     },
     "metadata": {
      "application/vnd.databricks.v1+output": {
       "addedWidgets": {},
       "arguments": {},
       "data": "<div class=\"ansiout\">Out[30]: 0.767</div>",
       "datasetInfos": [],
       "removedWidgets": [],
       "type": "html"
      }
     },
     "output_type": "display_data"
    }
   ],
   "source": [
    "np.mean(abs(results))"
   ]
  },
  {
   "cell_type": "code",
   "execution_count": 0,
   "metadata": {
    "application/vnd.databricks.v1+cell": {
     "inputWidgets": {},
     "nuid": "c3ad37f6-ef05-433f-b0b1-67e8659cdd59",
     "showTitle": false,
     "title": ""
    }
   },
   "outputs": [
    {
     "data": {
      "text/html": [
       "<style scoped>\n",
       "  .ansiout {\n",
       "    display: block;\n",
       "    unicode-bidi: embed;\n",
       "    white-space: pre-wrap;\n",
       "    word-wrap: break-word;\n",
       "    word-break: break-all;\n",
       "    font-family: \"Source Code Pro\", \"Menlo\", monospace;;\n",
       "    font-size: 13px;\n",
       "    color: #555;\n",
       "    margin-left: 4px;\n",
       "    line-height: 19px;\n",
       "  }\n",
       "</style>\n",
       "<div class=\"ansiout\">Out[31]: 0.057105166141076934</div>"
      ]
     },
     "metadata": {
      "application/vnd.databricks.v1+output": {
       "addedWidgets": {},
       "arguments": {},
       "data": "<div class=\"ansiout\">Out[31]: 0.057105166141076934</div>",
       "datasetInfos": [],
       "removedWidgets": [],
       "type": "html"
      }
     },
     "output_type": "display_data"
    }
   ],
   "source": [
    "results.std()"
   ]
  },
  {
   "cell_type": "markdown",
   "metadata": {
    "application/vnd.databricks.v1+cell": {
     "inputWidgets": {},
     "nuid": "5f403c54-9bcb-40ef-820f-f74dbb9cc7ea",
     "showTitle": false,
     "title": ""
    }
   },
   "source": [
    "Leave One Out Cross-Validation"
   ]
  },
  {
   "cell_type": "code",
   "execution_count": 0,
   "metadata": {
    "application/vnd.databricks.v1+cell": {
     "inputWidgets": {},
     "nuid": "075a902f-d0a3-44ea-80ef-843224e2a431",
     "showTitle": false,
     "title": ""
    }
   },
   "outputs": [
    {
     "data": {
      "text/html": [
       "<style scoped>\n",
       "  .ansiout {\n",
       "    display: block;\n",
       "    unicode-bidi: embed;\n",
       "    white-space: pre-wrap;\n",
       "    word-wrap: break-word;\n",
       "    word-break: break-all;\n",
       "    font-family: \"Source Code Pro\", \"Menlo\", monospace;;\n",
       "    font-size: 13px;\n",
       "    color: #555;\n",
       "    margin-left: 4px;\n",
       "    line-height: 19px;\n",
       "  }\n",
       "</style>\n",
       "<div class=\"ansiout\"></div>"
      ]
     },
     "metadata": {
      "application/vnd.databricks.v1+output": {
       "addedWidgets": {},
       "arguments": {},
       "data": "<div class=\"ansiout\"></div>",
       "datasetInfos": [],
       "removedWidgets": [],
       "type": "html"
      }
     },
     "output_type": "display_data"
    }
   ],
   "source": [
    "from sklearn.model_selection import LeaveOneOut\n",
    "from sklearn.model_selection import cross_val_score"
   ]
  },
  {
   "cell_type": "code",
   "execution_count": 0,
   "metadata": {
    "application/vnd.databricks.v1+cell": {
     "inputWidgets": {},
     "nuid": "7ea5c923-4a06-4068-86a4-2c3b42f948c6",
     "showTitle": false,
     "title": ""
    }
   },
   "outputs": [
    {
     "data": {
      "text/html": [
       "<style scoped>\n",
       "  .ansiout {\n",
       "    display: block;\n",
       "    unicode-bidi: embed;\n",
       "    white-space: pre-wrap;\n",
       "    word-wrap: break-word;\n",
       "    word-break: break-all;\n",
       "    font-family: \"Source Code Pro\", \"Menlo\", monospace;;\n",
       "    font-size: 13px;\n",
       "    color: #555;\n",
       "    margin-left: 4px;\n",
       "    line-height: 19px;\n",
       "  }\n",
       "</style>\n",
       "<div class=\"ansiout\">Out[72]: array([0., 1., 1., 1., 1., 0., 1., 1., 1., 1., 1., 0., 1., 1., 1., 0., 1.,\n",
       "       1., 0., 1., 1., 0., 1., 1., 1., 0., 1., 0., 1., 1., 1., 1., 0., 1.,\n",
       "       1., 1., 1., 1., 1., 1., 1., 1., 1., 1., 1., 1., 1., 0., 0., 1., 1.,\n",
       "       1., 0., 0., 1., 1., 1., 0., 1., 1., 1., 1., 0., 1., 1., 1., 1., 0.,\n",
       "       1., 0., 1., 1., 1., 1., 1., 1., 0., 1., 0., 0., 1., 1., 1., 1., 1.,\n",
       "       0., 1., 0., 1., 1., 1., 1., 1., 0., 1., 1., 1., 1., 0., 0., 1., 0.,\n",
       "       0., 1., 1., 1., 1., 1., 1., 0., 1., 1., 0., 1., 1., 1., 1., 0., 1.,\n",
       "       1., 1., 1., 1., 1., 0., 0., 0., 1., 1., 1., 1., 1., 0., 1., 1., 1.,\n",
       "       1., 1., 1., 1., 0., 1., 0., 1., 1., 1., 1., 1., 0., 1., 1., 1., 1.,\n",
       "       0., 1., 0., 1., 1., 1., 0., 0., 1., 1., 0., 1., 1., 1., 1., 1., 1.,\n",
       "       1., 1., 1., 1., 1., 1., 1., 1., 0., 0., 1., 1., 1., 1., 1., 0., 0.,\n",
       "       1., 1., 1., 0., 1., 1., 1., 0., 1., 1., 0., 1., 1., 1., 0., 1., 0.,\n",
       "       1., 0., 1., 0., 0., 1., 1., 0., 1., 0., 0., 0., 1., 0., 1., 1., 1.,\n",
       "       1., 1., 1., 0., 1., 1., 1., 1., 1., 1., 1., 0., 1., 1., 0., 1., 0.,\n",
       "       0., 0., 1., 1., 1., 1., 1., 1., 1., 1., 1., 1., 1., 1., 1., 1., 0.,\n",
       "       1., 1., 1., 0., 1., 0., 1., 1., 1., 0., 1., 1., 1., 1., 0., 1., 0.,\n",
       "       0., 1., 1., 0., 1., 0., 1., 1., 1., 1., 1., 1., 1., 1., 1., 0., 0.,\n",
       "       1., 0., 0., 1., 1., 1., 1., 0., 1., 1., 0.])</div>"
      ]
     },
     "metadata": {
      "application/vnd.databricks.v1+output": {
       "addedWidgets": {},
       "arguments": {},
       "data": "<div class=\"ansiout\">Out[72]: array([0., 1., 1., 1., 1., 0., 1., 1., 1., 1., 1., 0., 1., 1., 1., 0., 1.,\n       1., 0., 1., 1., 0., 1., 1., 1., 0., 1., 0., 1., 1., 1., 1., 0., 1.,\n       1., 1., 1., 1., 1., 1., 1., 1., 1., 1., 1., 1., 1., 0., 0., 1., 1.,\n       1., 0., 0., 1., 1., 1., 0., 1., 1., 1., 1., 0., 1., 1., 1., 1., 0.,\n       1., 0., 1., 1., 1., 1., 1., 1., 0., 1., 0., 0., 1., 1., 1., 1., 1.,\n       0., 1., 0., 1., 1., 1., 1., 1., 0., 1., 1., 1., 1., 0., 0., 1., 0.,\n       0., 1., 1., 1., 1., 1., 1., 0., 1., 1., 0., 1., 1., 1., 1., 0., 1.,\n       1., 1., 1., 1., 1., 0., 0., 0., 1., 1., 1., 1., 1., 0., 1., 1., 1.,\n       1., 1., 1., 1., 0., 1., 0., 1., 1., 1., 1., 1., 0., 1., 1., 1., 1.,\n       0., 1., 0., 1., 1., 1., 0., 0., 1., 1., 0., 1., 1., 1., 1., 1., 1.,\n       1., 1., 1., 1., 1., 1., 1., 1., 0., 0., 1., 1., 1., 1., 1., 0., 0.,\n       1., 1., 1., 0., 1., 1., 1., 0., 1., 1., 0., 1., 1., 1., 0., 1., 0.,\n       1., 0., 1., 0., 0., 1., 1., 0., 1., 0., 0., 0., 1., 0., 1., 1., 1.,\n       1., 1., 1., 0., 1., 1., 1., 1., 1., 1., 1., 0., 1., 1., 0., 1., 0.,\n       0., 0., 1., 1., 1., 1., 1., 1., 1., 1., 1., 1., 1., 1., 1., 1., 0.,\n       1., 1., 1., 0., 1., 0., 1., 1., 1., 0., 1., 1., 1., 1., 0., 1., 0.,\n       0., 1., 1., 0., 1., 0., 1., 1., 1., 1., 1., 1., 1., 1., 1., 0., 0.,\n       1., 0., 0., 1., 1., 1., 1., 0., 1., 1., 0.])</div>",
       "datasetInfos": [],
       "removedWidgets": [],
       "type": "html"
      }
     },
     "output_type": "display_data"
    }
   ],
   "source": [
    "# You Will do it on X_train, y_train to save time. It will take too much time, hence not recommended for bigger data\n",
    "scores = cross_val_score(rfm, X_test, y_test, cv=LeaveOneOut())\n",
    "scores"
   ]
  },
  {
   "cell_type": "markdown",
   "metadata": {
    "application/vnd.databricks.v1+cell": {
     "inputWidgets": {},
     "nuid": "47852e04-bb64-4037-a8c6-041f5dcac95b",
     "showTitle": false,
     "title": ""
    }
   },
   "source": [
    "Because we have 350 samples, the leave one out cross-validation yields scores for 350 trials, and the score indicates either \n",
    "defaulter (1.0) or non-defaulter (0.0) prediction. Taking the mean of these gives an estimate of the error rate:"
   ]
  },
  {
   "cell_type": "code",
   "execution_count": 0,
   "metadata": {
    "application/vnd.databricks.v1+cell": {
     "inputWidgets": {},
     "nuid": "0187330d-2534-44f7-bcdc-a5e9622e12b2",
     "showTitle": false,
     "title": ""
    }
   },
   "outputs": [
    {
     "data": {
      "text/html": [
       "<style scoped>\n",
       "  .ansiout {\n",
       "    display: block;\n",
       "    unicode-bidi: embed;\n",
       "    white-space: pre-wrap;\n",
       "    word-wrap: break-word;\n",
       "    word-break: break-all;\n",
       "    font-family: \"Source Code Pro\", \"Menlo\", monospace;;\n",
       "    font-size: 13px;\n",
       "    color: #555;\n",
       "    margin-left: 4px;\n",
       "    line-height: 19px;\n",
       "  }\n",
       "</style>\n",
       "<div class=\"ansiout\"></div>"
      ]
     },
     "metadata": {
      "application/vnd.databricks.v1+output": {
       "addedWidgets": {},
       "arguments": {},
       "data": "<div class=\"ansiout\"></div>",
       "datasetInfos": [],
       "removedWidgets": [],
       "type": "html"
      }
     },
     "output_type": "display_data"
    },
    {
     "data": {
      "text/html": [
       "<style scoped>\n",
       "  .ansiout {\n",
       "    display: block;\n",
       "    unicode-bidi: embed;\n",
       "    white-space: pre-wrap;\n",
       "    word-wrap: break-word;\n",
       "    word-break: break-all;\n",
       "    font-family: \"Source Code Pro\", \"Menlo\", monospace;;\n",
       "    font-size: 13px;\n",
       "    color: #555;\n",
       "    margin-left: 4px;\n",
       "    line-height: 19px;\n",
       "  }\n",
       "</style>\n",
       "<div class=\"ansiout\"><span class=\"ansi-red-fg\">---------------------------------------------------------------------------</span>\n",
       "<span class=\"ansi-red-fg\">KeyboardInterrupt</span>                         Traceback (most recent call last)\n",
       "<span class=\"ansi-green-fg\">&lt;command-383115783448525&gt;</span> in <span class=\"ansi-cyan-fg\">&lt;module&gt;</span>\n",
       "<span class=\"ansi-green-intense-fg ansi-bold\">      1</span> <span class=\"ansi-red-fg\"># You Will do it on X_train, y_train to save time. It will take too much time, hence not recommended for bigger data</span>\n",
       "<span class=\"ansi-green-fg\">----&gt; 2</span><span class=\"ansi-red-fg\"> </span>scores <span class=\"ansi-blue-fg\">=</span> cross_val_score<span class=\"ansi-blue-fg\">(</span>rfm<span class=\"ansi-blue-fg\">,</span> X_train<span class=\"ansi-blue-fg\">,</span> y_train<span class=\"ansi-blue-fg\">,</span> cv<span class=\"ansi-blue-fg\">=</span>LeaveOneOut<span class=\"ansi-blue-fg\">(</span><span class=\"ansi-blue-fg\">)</span><span class=\"ansi-blue-fg\">)</span>\n",
       "<span class=\"ansi-green-intense-fg ansi-bold\">      3</span> scores\n",
       "\n",
       "<span class=\"ansi-green-fg\">/databricks/python/lib/python3.7/site-packages/sklearn/model_selection/_validation.py</span> in <span class=\"ansi-cyan-fg\">cross_val_score</span><span class=\"ansi-blue-fg\">(estimator, X, y, groups, scoring, cv, n_jobs, verbose, fit_params, pre_dispatch, error_score)</span>\n",
       "<span class=\"ansi-green-intense-fg ansi-bold\">    388</span>                                 fit_params<span class=\"ansi-blue-fg\">=</span>fit_params<span class=\"ansi-blue-fg\">,</span>\n",
       "<span class=\"ansi-green-intense-fg ansi-bold\">    389</span>                                 pre_dispatch<span class=\"ansi-blue-fg\">=</span>pre_dispatch<span class=\"ansi-blue-fg\">,</span>\n",
       "<span class=\"ansi-green-fg\">--&gt; 390</span><span class=\"ansi-red-fg\">                                 error_score=error_score)\n",
       "</span><span class=\"ansi-green-intense-fg ansi-bold\">    391</span>     <span class=\"ansi-green-fg\">return</span> cv_results<span class=\"ansi-blue-fg\">[</span><span class=\"ansi-blue-fg\">&#39;test_score&#39;</span><span class=\"ansi-blue-fg\">]</span>\n",
       "<span class=\"ansi-green-intense-fg ansi-bold\">    392</span> \n",
       "\n",
       "<span class=\"ansi-green-fg\">/databricks/python/lib/python3.7/site-packages/sklearn/model_selection/_validation.py</span> in <span class=\"ansi-cyan-fg\">cross_validate</span><span class=\"ansi-blue-fg\">(estimator, X, y, groups, scoring, cv, n_jobs, verbose, fit_params, pre_dispatch, return_train_score, return_estimator, error_score)</span>\n",
       "<span class=\"ansi-green-intense-fg ansi-bold\">    234</span>             return_times<span class=\"ansi-blue-fg\">=</span><span class=\"ansi-green-fg\">True</span><span class=\"ansi-blue-fg\">,</span> return_estimator<span class=\"ansi-blue-fg\">=</span>return_estimator<span class=\"ansi-blue-fg\">,</span>\n",
       "<span class=\"ansi-green-intense-fg ansi-bold\">    235</span>             error_score=error_score)\n",
       "<span class=\"ansi-green-fg\">--&gt; 236</span><span class=\"ansi-red-fg\">         for train, test in cv.split(X, y, groups))\n",
       "</span><span class=\"ansi-green-intense-fg ansi-bold\">    237</span> \n",
       "<span class=\"ansi-green-intense-fg ansi-bold\">    238</span>     zipped_scores <span class=\"ansi-blue-fg\">=</span> list<span class=\"ansi-blue-fg\">(</span>zip<span class=\"ansi-blue-fg\">(</span><span class=\"ansi-blue-fg\">*</span>scores<span class=\"ansi-blue-fg\">)</span><span class=\"ansi-blue-fg\">)</span>\n",
       "\n",
       "<span class=\"ansi-green-fg\">/databricks/python/lib/python3.7/site-packages/joblib/parallel.py</span> in <span class=\"ansi-cyan-fg\">__call__</span><span class=\"ansi-blue-fg\">(self, iterable)</span>\n",
       "<span class=\"ansi-green-intense-fg ansi-bold\">   1005</span>                 self<span class=\"ansi-blue-fg\">.</span>_iterating <span class=\"ansi-blue-fg\">=</span> self<span class=\"ansi-blue-fg\">.</span>_original_iterator <span class=\"ansi-green-fg\">is</span> <span class=\"ansi-green-fg\">not</span> <span class=\"ansi-green-fg\">None</span>\n",
       "<span class=\"ansi-green-intense-fg ansi-bold\">   1006</span> \n",
       "<span class=\"ansi-green-fg\">-&gt; 1007</span><span class=\"ansi-red-fg\">             </span><span class=\"ansi-green-fg\">while</span> self<span class=\"ansi-blue-fg\">.</span>dispatch_one_batch<span class=\"ansi-blue-fg\">(</span>iterator<span class=\"ansi-blue-fg\">)</span><span class=\"ansi-blue-fg\">:</span>\n",
       "<span class=\"ansi-green-intense-fg ansi-bold\">   1008</span>                 <span class=\"ansi-green-fg\">pass</span>\n",
       "<span class=\"ansi-green-intense-fg ansi-bold\">   1009</span> \n",
       "\n",
       "<span class=\"ansi-green-fg\">/databricks/python/lib/python3.7/site-packages/joblib/parallel.py</span> in <span class=\"ansi-cyan-fg\">dispatch_one_batch</span><span class=\"ansi-blue-fg\">(self, iterator)</span>\n",
       "<span class=\"ansi-green-intense-fg ansi-bold\">    833</span>                 <span class=\"ansi-green-fg\">return</span> <span class=\"ansi-green-fg\">False</span>\n",
       "<span class=\"ansi-green-intense-fg ansi-bold\">    834</span>             <span class=\"ansi-green-fg\">else</span><span class=\"ansi-blue-fg\">:</span>\n",
       "<span class=\"ansi-green-fg\">--&gt; 835</span><span class=\"ansi-red-fg\">                 </span>self<span class=\"ansi-blue-fg\">.</span>_dispatch<span class=\"ansi-blue-fg\">(</span>tasks<span class=\"ansi-blue-fg\">)</span>\n",
       "<span class=\"ansi-green-intense-fg ansi-bold\">    836</span>                 <span class=\"ansi-green-fg\">return</span> <span class=\"ansi-green-fg\">True</span>\n",
       "<span class=\"ansi-green-intense-fg ansi-bold\">    837</span> \n",
       "\n",
       "<span class=\"ansi-green-fg\">/databricks/python/lib/python3.7/site-packages/joblib/parallel.py</span> in <span class=\"ansi-cyan-fg\">_dispatch</span><span class=\"ansi-blue-fg\">(self, batch)</span>\n",
       "<span class=\"ansi-green-intense-fg ansi-bold\">    752</span>         <span class=\"ansi-green-fg\">with</span> self<span class=\"ansi-blue-fg\">.</span>_lock<span class=\"ansi-blue-fg\">:</span>\n",
       "<span class=\"ansi-green-intense-fg ansi-bold\">    753</span>             job_idx <span class=\"ansi-blue-fg\">=</span> len<span class=\"ansi-blue-fg\">(</span>self<span class=\"ansi-blue-fg\">.</span>_jobs<span class=\"ansi-blue-fg\">)</span>\n",
       "<span class=\"ansi-green-fg\">--&gt; 754</span><span class=\"ansi-red-fg\">             </span>job <span class=\"ansi-blue-fg\">=</span> self<span class=\"ansi-blue-fg\">.</span>_backend<span class=\"ansi-blue-fg\">.</span>apply_async<span class=\"ansi-blue-fg\">(</span>batch<span class=\"ansi-blue-fg\">,</span> callback<span class=\"ansi-blue-fg\">=</span>cb<span class=\"ansi-blue-fg\">)</span>\n",
       "<span class=\"ansi-green-intense-fg ansi-bold\">    755</span>             <span class=\"ansi-red-fg\"># A job can complete so quickly than its callback is</span>\n",
       "<span class=\"ansi-green-intense-fg ansi-bold\">    756</span>             <span class=\"ansi-red-fg\"># called before we get here, causing self._jobs to</span>\n",
       "\n",
       "<span class=\"ansi-green-fg\">/databricks/python/lib/python3.7/site-packages/joblib/_parallel_backends.py</span> in <span class=\"ansi-cyan-fg\">apply_async</span><span class=\"ansi-blue-fg\">(self, func, callback)</span>\n",
       "<span class=\"ansi-green-intense-fg ansi-bold\">    207</span>     <span class=\"ansi-green-fg\">def</span> apply_async<span class=\"ansi-blue-fg\">(</span>self<span class=\"ansi-blue-fg\">,</span> func<span class=\"ansi-blue-fg\">,</span> callback<span class=\"ansi-blue-fg\">=</span><span class=\"ansi-green-fg\">None</span><span class=\"ansi-blue-fg\">)</span><span class=\"ansi-blue-fg\">:</span>\n",
       "<span class=\"ansi-green-intense-fg ansi-bold\">    208</span>         <span class=\"ansi-blue-fg\">&#34;&#34;&#34;Schedule a func to be run&#34;&#34;&#34;</span>\n",
       "<span class=\"ansi-green-fg\">--&gt; 209</span><span class=\"ansi-red-fg\">         </span>result <span class=\"ansi-blue-fg\">=</span> ImmediateResult<span class=\"ansi-blue-fg\">(</span>func<span class=\"ansi-blue-fg\">)</span>\n",
       "<span class=\"ansi-green-intense-fg ansi-bold\">    210</span>         <span class=\"ansi-green-fg\">if</span> callback<span class=\"ansi-blue-fg\">:</span>\n",
       "<span class=\"ansi-green-intense-fg ansi-bold\">    211</span>             callback<span class=\"ansi-blue-fg\">(</span>result<span class=\"ansi-blue-fg\">)</span>\n",
       "\n",
       "<span class=\"ansi-green-fg\">/databricks/python/lib/python3.7/site-packages/joblib/_parallel_backends.py</span> in <span class=\"ansi-cyan-fg\">__init__</span><span class=\"ansi-blue-fg\">(self, batch)</span>\n",
       "<span class=\"ansi-green-intense-fg ansi-bold\">    588</span>         <span class=\"ansi-red-fg\"># Don&#39;t delay the application, to avoid keeping the input</span>\n",
       "<span class=\"ansi-green-intense-fg ansi-bold\">    589</span>         <span class=\"ansi-red-fg\"># arguments in memory</span>\n",
       "<span class=\"ansi-green-fg\">--&gt; 590</span><span class=\"ansi-red-fg\">         </span>self<span class=\"ansi-blue-fg\">.</span>results <span class=\"ansi-blue-fg\">=</span> batch<span class=\"ansi-blue-fg\">(</span><span class=\"ansi-blue-fg\">)</span>\n",
       "<span class=\"ansi-green-intense-fg ansi-bold\">    591</span> \n",
       "<span class=\"ansi-green-intense-fg ansi-bold\">    592</span>     <span class=\"ansi-green-fg\">def</span> get<span class=\"ansi-blue-fg\">(</span>self<span class=\"ansi-blue-fg\">)</span><span class=\"ansi-blue-fg\">:</span>\n",
       "\n",
       "<span class=\"ansi-green-fg\">/databricks/python/lib/python3.7/site-packages/joblib/parallel.py</span> in <span class=\"ansi-cyan-fg\">__call__</span><span class=\"ansi-blue-fg\">(self)</span>\n",
       "<span class=\"ansi-green-intense-fg ansi-bold\">    254</span>         <span class=\"ansi-green-fg\">with</span> parallel_backend<span class=\"ansi-blue-fg\">(</span>self<span class=\"ansi-blue-fg\">.</span>_backend<span class=\"ansi-blue-fg\">,</span> n_jobs<span class=\"ansi-blue-fg\">=</span>self<span class=\"ansi-blue-fg\">.</span>_n_jobs<span class=\"ansi-blue-fg\">)</span><span class=\"ansi-blue-fg\">:</span>\n",
       "<span class=\"ansi-green-intense-fg ansi-bold\">    255</span>             return [func(*args, **kwargs)\n",
       "<span class=\"ansi-green-fg\">--&gt; 256</span><span class=\"ansi-red-fg\">                     for func, args, kwargs in self.items]\n",
       "</span><span class=\"ansi-green-intense-fg ansi-bold\">    257</span> \n",
       "<span class=\"ansi-green-intense-fg ansi-bold\">    258</span>     <span class=\"ansi-green-fg\">def</span> __len__<span class=\"ansi-blue-fg\">(</span>self<span class=\"ansi-blue-fg\">)</span><span class=\"ansi-blue-fg\">:</span>\n",
       "\n",
       "<span class=\"ansi-green-fg\">/databricks/python/lib/python3.7/site-packages/joblib/parallel.py</span> in <span class=\"ansi-cyan-fg\">&lt;listcomp&gt;</span><span class=\"ansi-blue-fg\">(.0)</span>\n",
       "<span class=\"ansi-green-intense-fg ansi-bold\">    254</span>         <span class=\"ansi-green-fg\">with</span> parallel_backend<span class=\"ansi-blue-fg\">(</span>self<span class=\"ansi-blue-fg\">.</span>_backend<span class=\"ansi-blue-fg\">,</span> n_jobs<span class=\"ansi-blue-fg\">=</span>self<span class=\"ansi-blue-fg\">.</span>_n_jobs<span class=\"ansi-blue-fg\">)</span><span class=\"ansi-blue-fg\">:</span>\n",
       "<span class=\"ansi-green-intense-fg ansi-bold\">    255</span>             return [func(*args, **kwargs)\n",
       "<span class=\"ansi-green-fg\">--&gt; 256</span><span class=\"ansi-red-fg\">                     for func, args, kwargs in self.items]\n",
       "</span><span class=\"ansi-green-intense-fg ansi-bold\">    257</span> \n",
       "<span class=\"ansi-green-intense-fg ansi-bold\">    258</span>     <span class=\"ansi-green-fg\">def</span> __len__<span class=\"ansi-blue-fg\">(</span>self<span class=\"ansi-blue-fg\">)</span><span class=\"ansi-blue-fg\">:</span>\n",
       "\n",
       "<span class=\"ansi-green-fg\">/databricks/python/lib/python3.7/site-packages/sklearn/model_selection/_validation.py</span> in <span class=\"ansi-cyan-fg\">_fit_and_score</span><span class=\"ansi-blue-fg\">(estimator, X, y, scorer, train, test, verbose, parameters, fit_params, return_train_score, return_parameters, return_n_test_samples, return_times, return_estimator, error_score)</span>\n",
       "<span class=\"ansi-green-intense-fg ansi-bold\">    513</span>             estimator<span class=\"ansi-blue-fg\">.</span>fit<span class=\"ansi-blue-fg\">(</span>X_train<span class=\"ansi-blue-fg\">,</span> <span class=\"ansi-blue-fg\">**</span>fit_params<span class=\"ansi-blue-fg\">)</span>\n",
       "<span class=\"ansi-green-intense-fg ansi-bold\">    514</span>         <span class=\"ansi-green-fg\">else</span><span class=\"ansi-blue-fg\">:</span>\n",
       "<span class=\"ansi-green-fg\">--&gt; 515</span><span class=\"ansi-red-fg\">             </span>estimator<span class=\"ansi-blue-fg\">.</span>fit<span class=\"ansi-blue-fg\">(</span>X_train<span class=\"ansi-blue-fg\">,</span> y_train<span class=\"ansi-blue-fg\">,</span> <span class=\"ansi-blue-fg\">**</span>fit_params<span class=\"ansi-blue-fg\">)</span>\n",
       "<span class=\"ansi-green-intense-fg ansi-bold\">    516</span> \n",
       "<span class=\"ansi-green-intense-fg ansi-bold\">    517</span>     <span class=\"ansi-green-fg\">except</span> Exception <span class=\"ansi-green-fg\">as</span> e<span class=\"ansi-blue-fg\">:</span>\n",
       "\n",
       "<span class=\"ansi-green-fg\">/databricks/python/lib/python3.7/site-packages/sklearn/ensemble/_forest.py</span> in <span class=\"ansi-cyan-fg\">fit</span><span class=\"ansi-blue-fg\">(self, X, y, sample_weight)</span>\n",
       "<span class=\"ansi-green-intense-fg ansi-bold\">    381</span>                     verbose<span class=\"ansi-blue-fg\">=</span>self<span class=\"ansi-blue-fg\">.</span>verbose<span class=\"ansi-blue-fg\">,</span> class_weight<span class=\"ansi-blue-fg\">=</span>self<span class=\"ansi-blue-fg\">.</span>class_weight<span class=\"ansi-blue-fg\">,</span>\n",
       "<span class=\"ansi-green-intense-fg ansi-bold\">    382</span>                     n_samples_bootstrap=n_samples_bootstrap)\n",
       "<span class=\"ansi-green-fg\">--&gt; 383</span><span class=\"ansi-red-fg\">                 for i, t in enumerate(trees))\n",
       "</span><span class=\"ansi-green-intense-fg ansi-bold\">    384</span> \n",
       "<span class=\"ansi-green-intense-fg ansi-bold\">    385</span>             <span class=\"ansi-red-fg\"># Collect newly grown trees</span>\n",
       "\n",
       "<span class=\"ansi-green-fg\">/databricks/python/lib/python3.7/site-packages/joblib/parallel.py</span> in <span class=\"ansi-cyan-fg\">__call__</span><span class=\"ansi-blue-fg\">(self, iterable)</span>\n",
       "<span class=\"ansi-green-intense-fg ansi-bold\">   1015</span> \n",
       "<span class=\"ansi-green-intense-fg ansi-bold\">   1016</span>             <span class=\"ansi-green-fg\">with</span> self<span class=\"ansi-blue-fg\">.</span>_backend<span class=\"ansi-blue-fg\">.</span>retrieval_context<span class=\"ansi-blue-fg\">(</span><span class=\"ansi-blue-fg\">)</span><span class=\"ansi-blue-fg\">:</span>\n",
       "<span class=\"ansi-green-fg\">-&gt; 1017</span><span class=\"ansi-red-fg\">                 </span>self<span class=\"ansi-blue-fg\">.</span>retrieve<span class=\"ansi-blue-fg\">(</span><span class=\"ansi-blue-fg\">)</span>\n",
       "<span class=\"ansi-green-intense-fg ansi-bold\">   1018</span>             <span class=\"ansi-red-fg\"># Make sure that we get a last message telling us we are done</span>\n",
       "<span class=\"ansi-green-intense-fg ansi-bold\">   1019</span>             elapsed_time <span class=\"ansi-blue-fg\">=</span> time<span class=\"ansi-blue-fg\">.</span>time<span class=\"ansi-blue-fg\">(</span><span class=\"ansi-blue-fg\">)</span> <span class=\"ansi-blue-fg\">-</span> self<span class=\"ansi-blue-fg\">.</span>_start_time\n",
       "\n",
       "<span class=\"ansi-green-fg\">/databricks/python/lib/python3.7/site-packages/joblib/parallel.py</span> in <span class=\"ansi-cyan-fg\">retrieve</span><span class=\"ansi-blue-fg\">(self)</span>\n",
       "<span class=\"ansi-green-intense-fg ansi-bold\">    907</span>             <span class=\"ansi-green-fg\">try</span><span class=\"ansi-blue-fg\">:</span>\n",
       "<span class=\"ansi-green-intense-fg ansi-bold\">    908</span>                 <span class=\"ansi-green-fg\">if</span> getattr<span class=\"ansi-blue-fg\">(</span>self<span class=\"ansi-blue-fg\">.</span>_backend<span class=\"ansi-blue-fg\">,</span> <span class=\"ansi-blue-fg\">&#39;supports_timeout&#39;</span><span class=\"ansi-blue-fg\">,</span> <span class=\"ansi-green-fg\">False</span><span class=\"ansi-blue-fg\">)</span><span class=\"ansi-blue-fg\">:</span>\n",
       "<span class=\"ansi-green-fg\">--&gt; 909</span><span class=\"ansi-red-fg\">                     </span>self<span class=\"ansi-blue-fg\">.</span>_output<span class=\"ansi-blue-fg\">.</span>extend<span class=\"ansi-blue-fg\">(</span>job<span class=\"ansi-blue-fg\">.</span>get<span class=\"ansi-blue-fg\">(</span>timeout<span class=\"ansi-blue-fg\">=</span>self<span class=\"ansi-blue-fg\">.</span>timeout<span class=\"ansi-blue-fg\">)</span><span class=\"ansi-blue-fg\">)</span>\n",
       "<span class=\"ansi-green-intense-fg ansi-bold\">    910</span>                 <span class=\"ansi-green-fg\">else</span><span class=\"ansi-blue-fg\">:</span>\n",
       "<span class=\"ansi-green-intense-fg ansi-bold\">    911</span>                     self<span class=\"ansi-blue-fg\">.</span>_output<span class=\"ansi-blue-fg\">.</span>extend<span class=\"ansi-blue-fg\">(</span>job<span class=\"ansi-blue-fg\">.</span>get<span class=\"ansi-blue-fg\">(</span><span class=\"ansi-blue-fg\">)</span><span class=\"ansi-blue-fg\">)</span>\n",
       "\n",
       "<span class=\"ansi-green-fg\">/databricks/python/lib/python3.7/site-packages/joblib/_parallel_backends.py</span> in <span class=\"ansi-cyan-fg\">wrap_future_result</span><span class=\"ansi-blue-fg\">(future, timeout)</span>\n",
       "<span class=\"ansi-green-intense-fg ansi-bold\">    560</span>         AsyncResults.get from multiprocessing.&#34;&#34;&#34;\n",
       "<span class=\"ansi-green-intense-fg ansi-bold\">    561</span>         <span class=\"ansi-green-fg\">try</span><span class=\"ansi-blue-fg\">:</span>\n",
       "<span class=\"ansi-green-fg\">--&gt; 562</span><span class=\"ansi-red-fg\">             </span><span class=\"ansi-green-fg\">return</span> future<span class=\"ansi-blue-fg\">.</span>result<span class=\"ansi-blue-fg\">(</span>timeout<span class=\"ansi-blue-fg\">=</span>timeout<span class=\"ansi-blue-fg\">)</span>\n",
       "<span class=\"ansi-green-intense-fg ansi-bold\">    563</span>         <span class=\"ansi-green-fg\">except</span> LokyTimeoutError<span class=\"ansi-blue-fg\">:</span>\n",
       "<span class=\"ansi-green-intense-fg ansi-bold\">    564</span>             <span class=\"ansi-green-fg\">raise</span> TimeoutError<span class=\"ansi-blue-fg\">(</span><span class=\"ansi-blue-fg\">)</span>\n",
       "\n",
       "<span class=\"ansi-green-fg\">/usr/lib/python3.7/concurrent/futures/_base.py</span> in <span class=\"ansi-cyan-fg\">result</span><span class=\"ansi-blue-fg\">(self, timeout)</span>\n",
       "<span class=\"ansi-green-intense-fg ansi-bold\">    428</span>                 <span class=\"ansi-green-fg\">return</span> self<span class=\"ansi-blue-fg\">.</span>__get_result<span class=\"ansi-blue-fg\">(</span><span class=\"ansi-blue-fg\">)</span>\n",
       "<span class=\"ansi-green-intense-fg ansi-bold\">    429</span> \n",
       "<span class=\"ansi-green-fg\">--&gt; 430</span><span class=\"ansi-red-fg\">             </span>self<span class=\"ansi-blue-fg\">.</span>_condition<span class=\"ansi-blue-fg\">.</span>wait<span class=\"ansi-blue-fg\">(</span>timeout<span class=\"ansi-blue-fg\">)</span>\n",
       "<span class=\"ansi-green-intense-fg ansi-bold\">    431</span> \n",
       "<span class=\"ansi-green-intense-fg ansi-bold\">    432</span>             <span class=\"ansi-green-fg\">if</span> self<span class=\"ansi-blue-fg\">.</span>_state <span class=\"ansi-green-fg\">in</span> <span class=\"ansi-blue-fg\">[</span>CANCELLED<span class=\"ansi-blue-fg\">,</span> CANCELLED_AND_NOTIFIED<span class=\"ansi-blue-fg\">]</span><span class=\"ansi-blue-fg\">:</span>\n",
       "\n",
       "<span class=\"ansi-green-fg\">/usr/lib/python3.7/threading.py</span> in <span class=\"ansi-cyan-fg\">wait</span><span class=\"ansi-blue-fg\">(self, timeout)</span>\n",
       "<span class=\"ansi-green-intense-fg ansi-bold\">    294</span>         <span class=\"ansi-green-fg\">try</span><span class=\"ansi-blue-fg\">:</span>    <span class=\"ansi-red-fg\"># restore state no matter what (e.g., KeyboardInterrupt)</span>\n",
       "<span class=\"ansi-green-intense-fg ansi-bold\">    295</span>             <span class=\"ansi-green-fg\">if</span> timeout <span class=\"ansi-green-fg\">is</span> <span class=\"ansi-green-fg\">None</span><span class=\"ansi-blue-fg\">:</span>\n",
       "<span class=\"ansi-green-fg\">--&gt; 296</span><span class=\"ansi-red-fg\">                 </span>waiter<span class=\"ansi-blue-fg\">.</span>acquire<span class=\"ansi-blue-fg\">(</span><span class=\"ansi-blue-fg\">)</span>\n",
       "<span class=\"ansi-green-intense-fg ansi-bold\">    297</span>                 gotit <span class=\"ansi-blue-fg\">=</span> <span class=\"ansi-green-fg\">True</span>\n",
       "<span class=\"ansi-green-intense-fg ansi-bold\">    298</span>             <span class=\"ansi-green-fg\">else</span><span class=\"ansi-blue-fg\">:</span>\n",
       "\n",
       "<span class=\"ansi-red-fg\">KeyboardInterrupt</span>: <span class=\"ansi-red-fg\">---------------------------------------------------------------------------</span>\n",
       "<span class=\"ansi-red-fg\">NameError</span>                                 Traceback (most recent call last)\n",
       "<span class=\"ansi-green-fg\">&lt;command-383115783448527&gt;</span> in <span class=\"ansi-cyan-fg\">&lt;module&gt;</span>\n",
       "<span class=\"ansi-green-fg\">----&gt; 1</span><span class=\"ansi-red-fg\"> </span>scores<span class=\"ansi-blue-fg\">.</span>mean<span class=\"ansi-blue-fg\">(</span><span class=\"ansi-blue-fg\">)</span>\n",
       "\n",
       "<span class=\"ansi-red-fg\">NameError</span>: name &#39;scores&#39; is not defined</div>"
      ]
     },
     "metadata": {
      "application/vnd.databricks.v1+output": {
       "arguments": {},
       "data": "<div class=\"ansiout\"><span class=\"ansi-red-fg\">---------------------------------------------------------------------------</span>\n<span class=\"ansi-red-fg\">KeyboardInterrupt</span>                         Traceback (most recent call last)\n<span class=\"ansi-green-fg\">&lt;command-383115783448525&gt;</span> in <span class=\"ansi-cyan-fg\">&lt;module&gt;</span>\n<span class=\"ansi-green-intense-fg ansi-bold\">      1</span> <span class=\"ansi-red-fg\"># You Will do it on X_train, y_train to save time. It will take too much time, hence not recommended for bigger data</span>\n<span class=\"ansi-green-fg\">----&gt; 2</span><span class=\"ansi-red-fg\"> </span>scores <span class=\"ansi-blue-fg\">=</span> cross_val_score<span class=\"ansi-blue-fg\">(</span>rfm<span class=\"ansi-blue-fg\">,</span> X_train<span class=\"ansi-blue-fg\">,</span> y_train<span class=\"ansi-blue-fg\">,</span> cv<span class=\"ansi-blue-fg\">=</span>LeaveOneOut<span class=\"ansi-blue-fg\">(</span><span class=\"ansi-blue-fg\">)</span><span class=\"ansi-blue-fg\">)</span>\n<span class=\"ansi-green-intense-fg ansi-bold\">      3</span> scores\n\n<span class=\"ansi-green-fg\">/databricks/python/lib/python3.7/site-packages/sklearn/model_selection/_validation.py</span> in <span class=\"ansi-cyan-fg\">cross_val_score</span><span class=\"ansi-blue-fg\">(estimator, X, y, groups, scoring, cv, n_jobs, verbose, fit_params, pre_dispatch, error_score)</span>\n<span class=\"ansi-green-intense-fg ansi-bold\">    388</span>                                 fit_params<span class=\"ansi-blue-fg\">=</span>fit_params<span class=\"ansi-blue-fg\">,</span>\n<span class=\"ansi-green-intense-fg ansi-bold\">    389</span>                                 pre_dispatch<span class=\"ansi-blue-fg\">=</span>pre_dispatch<span class=\"ansi-blue-fg\">,</span>\n<span class=\"ansi-green-fg\">--&gt; 390</span><span class=\"ansi-red-fg\">                                 error_score=error_score)\n</span><span class=\"ansi-green-intense-fg ansi-bold\">    391</span>     <span class=\"ansi-green-fg\">return</span> cv_results<span class=\"ansi-blue-fg\">[</span><span class=\"ansi-blue-fg\">&#39;test_score&#39;</span><span class=\"ansi-blue-fg\">]</span>\n<span class=\"ansi-green-intense-fg ansi-bold\">    392</span> \n\n<span class=\"ansi-green-fg\">/databricks/python/lib/python3.7/site-packages/sklearn/model_selection/_validation.py</span> in <span class=\"ansi-cyan-fg\">cross_validate</span><span class=\"ansi-blue-fg\">(estimator, X, y, groups, scoring, cv, n_jobs, verbose, fit_params, pre_dispatch, return_train_score, return_estimator, error_score)</span>\n<span class=\"ansi-green-intense-fg ansi-bold\">    234</span>             return_times<span class=\"ansi-blue-fg\">=</span><span class=\"ansi-green-fg\">True</span><span class=\"ansi-blue-fg\">,</span> return_estimator<span class=\"ansi-blue-fg\">=</span>return_estimator<span class=\"ansi-blue-fg\">,</span>\n<span class=\"ansi-green-intense-fg ansi-bold\">    235</span>             error_score=error_score)\n<span class=\"ansi-green-fg\">--&gt; 236</span><span class=\"ansi-red-fg\">         for train, test in cv.split(X, y, groups))\n</span><span class=\"ansi-green-intense-fg ansi-bold\">    237</span> \n<span class=\"ansi-green-intense-fg ansi-bold\">    238</span>     zipped_scores <span class=\"ansi-blue-fg\">=</span> list<span class=\"ansi-blue-fg\">(</span>zip<span class=\"ansi-blue-fg\">(</span><span class=\"ansi-blue-fg\">*</span>scores<span class=\"ansi-blue-fg\">)</span><span class=\"ansi-blue-fg\">)</span>\n\n<span class=\"ansi-green-fg\">/databricks/python/lib/python3.7/site-packages/joblib/parallel.py</span> in <span class=\"ansi-cyan-fg\">__call__</span><span class=\"ansi-blue-fg\">(self, iterable)</span>\n<span class=\"ansi-green-intense-fg ansi-bold\">   1005</span>                 self<span class=\"ansi-blue-fg\">.</span>_iterating <span class=\"ansi-blue-fg\">=</span> self<span class=\"ansi-blue-fg\">.</span>_original_iterator <span class=\"ansi-green-fg\">is</span> <span class=\"ansi-green-fg\">not</span> <span class=\"ansi-green-fg\">None</span>\n<span class=\"ansi-green-intense-fg ansi-bold\">   1006</span> \n<span class=\"ansi-green-fg\">-&gt; 1007</span><span class=\"ansi-red-fg\">             </span><span class=\"ansi-green-fg\">while</span> self<span class=\"ansi-blue-fg\">.</span>dispatch_one_batch<span class=\"ansi-blue-fg\">(</span>iterator<span class=\"ansi-blue-fg\">)</span><span class=\"ansi-blue-fg\">:</span>\n<span class=\"ansi-green-intense-fg ansi-bold\">   1008</span>                 <span class=\"ansi-green-fg\">pass</span>\n<span class=\"ansi-green-intense-fg ansi-bold\">   1009</span> \n\n<span class=\"ansi-green-fg\">/databricks/python/lib/python3.7/site-packages/joblib/parallel.py</span> in <span class=\"ansi-cyan-fg\">dispatch_one_batch</span><span class=\"ansi-blue-fg\">(self, iterator)</span>\n<span class=\"ansi-green-intense-fg ansi-bold\">    833</span>                 <span class=\"ansi-green-fg\">return</span> <span class=\"ansi-green-fg\">False</span>\n<span class=\"ansi-green-intense-fg ansi-bold\">    834</span>             <span class=\"ansi-green-fg\">else</span><span class=\"ansi-blue-fg\">:</span>\n<span class=\"ansi-green-fg\">--&gt; 835</span><span class=\"ansi-red-fg\">                 </span>self<span class=\"ansi-blue-fg\">.</span>_dispatch<span class=\"ansi-blue-fg\">(</span>tasks<span class=\"ansi-blue-fg\">)</span>\n<span class=\"ansi-green-intense-fg ansi-bold\">    836</span>                 <span class=\"ansi-green-fg\">return</span> <span class=\"ansi-green-fg\">True</span>\n<span class=\"ansi-green-intense-fg ansi-bold\">    837</span> \n\n<span class=\"ansi-green-fg\">/databricks/python/lib/python3.7/site-packages/joblib/parallel.py</span> in <span class=\"ansi-cyan-fg\">_dispatch</span><span class=\"ansi-blue-fg\">(self, batch)</span>\n<span class=\"ansi-green-intense-fg ansi-bold\">    752</span>         <span class=\"ansi-green-fg\">with</span> self<span class=\"ansi-blue-fg\">.</span>_lock<span class=\"ansi-blue-fg\">:</span>\n<span class=\"ansi-green-intense-fg ansi-bold\">    753</span>             job_idx <span class=\"ansi-blue-fg\">=</span> len<span class=\"ansi-blue-fg\">(</span>self<span class=\"ansi-blue-fg\">.</span>_jobs<span class=\"ansi-blue-fg\">)</span>\n<span class=\"ansi-green-fg\">--&gt; 754</span><span class=\"ansi-red-fg\">             </span>job <span class=\"ansi-blue-fg\">=</span> self<span class=\"ansi-blue-fg\">.</span>_backend<span class=\"ansi-blue-fg\">.</span>apply_async<span class=\"ansi-blue-fg\">(</span>batch<span class=\"ansi-blue-fg\">,</span> callback<span class=\"ansi-blue-fg\">=</span>cb<span class=\"ansi-blue-fg\">)</span>\n<span class=\"ansi-green-intense-fg ansi-bold\">    755</span>             <span class=\"ansi-red-fg\"># A job can complete so quickly than its callback is</span>\n<span class=\"ansi-green-intense-fg ansi-bold\">    756</span>             <span class=\"ansi-red-fg\"># called before we get here, causing self._jobs to</span>\n\n<span class=\"ansi-green-fg\">/databricks/python/lib/python3.7/site-packages/joblib/_parallel_backends.py</span> in <span class=\"ansi-cyan-fg\">apply_async</span><span class=\"ansi-blue-fg\">(self, func, callback)</span>\n<span class=\"ansi-green-intense-fg ansi-bold\">    207</span>     <span class=\"ansi-green-fg\">def</span> apply_async<span class=\"ansi-blue-fg\">(</span>self<span class=\"ansi-blue-fg\">,</span> func<span class=\"ansi-blue-fg\">,</span> callback<span class=\"ansi-blue-fg\">=</span><span class=\"ansi-green-fg\">None</span><span class=\"ansi-blue-fg\">)</span><span class=\"ansi-blue-fg\">:</span>\n<span class=\"ansi-green-intense-fg ansi-bold\">    208</span>         <span class=\"ansi-blue-fg\">&#34;&#34;&#34;Schedule a func to be run&#34;&#34;&#34;</span>\n<span class=\"ansi-green-fg\">--&gt; 209</span><span class=\"ansi-red-fg\">         </span>result <span class=\"ansi-blue-fg\">=</span> ImmediateResult<span class=\"ansi-blue-fg\">(</span>func<span class=\"ansi-blue-fg\">)</span>\n<span class=\"ansi-green-intense-fg ansi-bold\">    210</span>         <span class=\"ansi-green-fg\">if</span> callback<span class=\"ansi-blue-fg\">:</span>\n<span class=\"ansi-green-intense-fg ansi-bold\">    211</span>             callback<span class=\"ansi-blue-fg\">(</span>result<span class=\"ansi-blue-fg\">)</span>\n\n<span class=\"ansi-green-fg\">/databricks/python/lib/python3.7/site-packages/joblib/_parallel_backends.py</span> in <span class=\"ansi-cyan-fg\">__init__</span><span class=\"ansi-blue-fg\">(self, batch)</span>\n<span class=\"ansi-green-intense-fg ansi-bold\">    588</span>         <span class=\"ansi-red-fg\"># Don&#39;t delay the application, to avoid keeping the input</span>\n<span class=\"ansi-green-intense-fg ansi-bold\">    589</span>         <span class=\"ansi-red-fg\"># arguments in memory</span>\n<span class=\"ansi-green-fg\">--&gt; 590</span><span class=\"ansi-red-fg\">         </span>self<span class=\"ansi-blue-fg\">.</span>results <span class=\"ansi-blue-fg\">=</span> batch<span class=\"ansi-blue-fg\">(</span><span class=\"ansi-blue-fg\">)</span>\n<span class=\"ansi-green-intense-fg ansi-bold\">    591</span> \n<span class=\"ansi-green-intense-fg ansi-bold\">    592</span>     <span class=\"ansi-green-fg\">def</span> get<span class=\"ansi-blue-fg\">(</span>self<span class=\"ansi-blue-fg\">)</span><span class=\"ansi-blue-fg\">:</span>\n\n<span class=\"ansi-green-fg\">/databricks/python/lib/python3.7/site-packages/joblib/parallel.py</span> in <span class=\"ansi-cyan-fg\">__call__</span><span class=\"ansi-blue-fg\">(self)</span>\n<span class=\"ansi-green-intense-fg ansi-bold\">    254</span>         <span class=\"ansi-green-fg\">with</span> parallel_backend<span class=\"ansi-blue-fg\">(</span>self<span class=\"ansi-blue-fg\">.</span>_backend<span class=\"ansi-blue-fg\">,</span> n_jobs<span class=\"ansi-blue-fg\">=</span>self<span class=\"ansi-blue-fg\">.</span>_n_jobs<span class=\"ansi-blue-fg\">)</span><span class=\"ansi-blue-fg\">:</span>\n<span class=\"ansi-green-intense-fg ansi-bold\">    255</span>             return [func(*args, **kwargs)\n<span class=\"ansi-green-fg\">--&gt; 256</span><span class=\"ansi-red-fg\">                     for func, args, kwargs in self.items]\n</span><span class=\"ansi-green-intense-fg ansi-bold\">    257</span> \n<span class=\"ansi-green-intense-fg ansi-bold\">    258</span>     <span class=\"ansi-green-fg\">def</span> __len__<span class=\"ansi-blue-fg\">(</span>self<span class=\"ansi-blue-fg\">)</span><span class=\"ansi-blue-fg\">:</span>\n\n<span class=\"ansi-green-fg\">/databricks/python/lib/python3.7/site-packages/joblib/parallel.py</span> in <span class=\"ansi-cyan-fg\">&lt;listcomp&gt;</span><span class=\"ansi-blue-fg\">(.0)</span>\n<span class=\"ansi-green-intense-fg ansi-bold\">    254</span>         <span class=\"ansi-green-fg\">with</span> parallel_backend<span class=\"ansi-blue-fg\">(</span>self<span class=\"ansi-blue-fg\">.</span>_backend<span class=\"ansi-blue-fg\">,</span> n_jobs<span class=\"ansi-blue-fg\">=</span>self<span class=\"ansi-blue-fg\">.</span>_n_jobs<span class=\"ansi-blue-fg\">)</span><span class=\"ansi-blue-fg\">:</span>\n<span class=\"ansi-green-intense-fg ansi-bold\">    255</span>             return [func(*args, **kwargs)\n<span class=\"ansi-green-fg\">--&gt; 256</span><span class=\"ansi-red-fg\">                     for func, args, kwargs in self.items]\n</span><span class=\"ansi-green-intense-fg ansi-bold\">    257</span> \n<span class=\"ansi-green-intense-fg ansi-bold\">    258</span>     <span class=\"ansi-green-fg\">def</span> __len__<span class=\"ansi-blue-fg\">(</span>self<span class=\"ansi-blue-fg\">)</span><span class=\"ansi-blue-fg\">:</span>\n\n<span class=\"ansi-green-fg\">/databricks/python/lib/python3.7/site-packages/sklearn/model_selection/_validation.py</span> in <span class=\"ansi-cyan-fg\">_fit_and_score</span><span class=\"ansi-blue-fg\">(estimator, X, y, scorer, train, test, verbose, parameters, fit_params, return_train_score, return_parameters, return_n_test_samples, return_times, return_estimator, error_score)</span>\n<span class=\"ansi-green-intense-fg ansi-bold\">    513</span>             estimator<span class=\"ansi-blue-fg\">.</span>fit<span class=\"ansi-blue-fg\">(</span>X_train<span class=\"ansi-blue-fg\">,</span> <span class=\"ansi-blue-fg\">**</span>fit_params<span class=\"ansi-blue-fg\">)</span>\n<span class=\"ansi-green-intense-fg ansi-bold\">    514</span>         <span class=\"ansi-green-fg\">else</span><span class=\"ansi-blue-fg\">:</span>\n<span class=\"ansi-green-fg\">--&gt; 515</span><span class=\"ansi-red-fg\">             </span>estimator<span class=\"ansi-blue-fg\">.</span>fit<span class=\"ansi-blue-fg\">(</span>X_train<span class=\"ansi-blue-fg\">,</span> y_train<span class=\"ansi-blue-fg\">,</span> <span class=\"ansi-blue-fg\">**</span>fit_params<span class=\"ansi-blue-fg\">)</span>\n<span class=\"ansi-green-intense-fg ansi-bold\">    516</span> \n<span class=\"ansi-green-intense-fg ansi-bold\">    517</span>     <span class=\"ansi-green-fg\">except</span> Exception <span class=\"ansi-green-fg\">as</span> e<span class=\"ansi-blue-fg\">:</span>\n\n<span class=\"ansi-green-fg\">/databricks/python/lib/python3.7/site-packages/sklearn/ensemble/_forest.py</span> in <span class=\"ansi-cyan-fg\">fit</span><span class=\"ansi-blue-fg\">(self, X, y, sample_weight)</span>\n<span class=\"ansi-green-intense-fg ansi-bold\">    381</span>                     verbose<span class=\"ansi-blue-fg\">=</span>self<span class=\"ansi-blue-fg\">.</span>verbose<span class=\"ansi-blue-fg\">,</span> class_weight<span class=\"ansi-blue-fg\">=</span>self<span class=\"ansi-blue-fg\">.</span>class_weight<span class=\"ansi-blue-fg\">,</span>\n<span class=\"ansi-green-intense-fg ansi-bold\">    382</span>                     n_samples_bootstrap=n_samples_bootstrap)\n<span class=\"ansi-green-fg\">--&gt; 383</span><span class=\"ansi-red-fg\">                 for i, t in enumerate(trees))\n</span><span class=\"ansi-green-intense-fg ansi-bold\">    384</span> \n<span class=\"ansi-green-intense-fg ansi-bold\">    385</span>             <span class=\"ansi-red-fg\"># Collect newly grown trees</span>\n\n<span class=\"ansi-green-fg\">/databricks/python/lib/python3.7/site-packages/joblib/parallel.py</span> in <span class=\"ansi-cyan-fg\">__call__</span><span class=\"ansi-blue-fg\">(self, iterable)</span>\n<span class=\"ansi-green-intense-fg ansi-bold\">   1015</span> \n<span class=\"ansi-green-intense-fg ansi-bold\">   1016</span>             <span class=\"ansi-green-fg\">with</span> self<span class=\"ansi-blue-fg\">.</span>_backend<span class=\"ansi-blue-fg\">.</span>retrieval_context<span class=\"ansi-blue-fg\">(</span><span class=\"ansi-blue-fg\">)</span><span class=\"ansi-blue-fg\">:</span>\n<span class=\"ansi-green-fg\">-&gt; 1017</span><span class=\"ansi-red-fg\">                 </span>self<span class=\"ansi-blue-fg\">.</span>retrieve<span class=\"ansi-blue-fg\">(</span><span class=\"ansi-blue-fg\">)</span>\n<span class=\"ansi-green-intense-fg ansi-bold\">   1018</span>             <span class=\"ansi-red-fg\"># Make sure that we get a last message telling us we are done</span>\n<span class=\"ansi-green-intense-fg ansi-bold\">   1019</span>             elapsed_time <span class=\"ansi-blue-fg\">=</span> time<span class=\"ansi-blue-fg\">.</span>time<span class=\"ansi-blue-fg\">(</span><span class=\"ansi-blue-fg\">)</span> <span class=\"ansi-blue-fg\">-</span> self<span class=\"ansi-blue-fg\">.</span>_start_time\n\n<span class=\"ansi-green-fg\">/databricks/python/lib/python3.7/site-packages/joblib/parallel.py</span> in <span class=\"ansi-cyan-fg\">retrieve</span><span class=\"ansi-blue-fg\">(self)</span>\n<span class=\"ansi-green-intense-fg ansi-bold\">    907</span>             <span class=\"ansi-green-fg\">try</span><span class=\"ansi-blue-fg\">:</span>\n<span class=\"ansi-green-intense-fg ansi-bold\">    908</span>                 <span class=\"ansi-green-fg\">if</span> getattr<span class=\"ansi-blue-fg\">(</span>self<span class=\"ansi-blue-fg\">.</span>_backend<span class=\"ansi-blue-fg\">,</span> <span class=\"ansi-blue-fg\">&#39;supports_timeout&#39;</span><span class=\"ansi-blue-fg\">,</span> <span class=\"ansi-green-fg\">False</span><span class=\"ansi-blue-fg\">)</span><span class=\"ansi-blue-fg\">:</span>\n<span class=\"ansi-green-fg\">--&gt; 909</span><span class=\"ansi-red-fg\">                     </span>self<span class=\"ansi-blue-fg\">.</span>_output<span class=\"ansi-blue-fg\">.</span>extend<span class=\"ansi-blue-fg\">(</span>job<span class=\"ansi-blue-fg\">.</span>get<span class=\"ansi-blue-fg\">(</span>timeout<span class=\"ansi-blue-fg\">=</span>self<span class=\"ansi-blue-fg\">.</span>timeout<span class=\"ansi-blue-fg\">)</span><span class=\"ansi-blue-fg\">)</span>\n<span class=\"ansi-green-intense-fg ansi-bold\">    910</span>                 <span class=\"ansi-green-fg\">else</span><span class=\"ansi-blue-fg\">:</span>\n<span class=\"ansi-green-intense-fg ansi-bold\">    911</span>                     self<span class=\"ansi-blue-fg\">.</span>_output<span class=\"ansi-blue-fg\">.</span>extend<span class=\"ansi-blue-fg\">(</span>job<span class=\"ansi-blue-fg\">.</span>get<span class=\"ansi-blue-fg\">(</span><span class=\"ansi-blue-fg\">)</span><span class=\"ansi-blue-fg\">)</span>\n\n<span class=\"ansi-green-fg\">/databricks/python/lib/python3.7/site-packages/joblib/_parallel_backends.py</span> in <span class=\"ansi-cyan-fg\">wrap_future_result</span><span class=\"ansi-blue-fg\">(future, timeout)</span>\n<span class=\"ansi-green-intense-fg ansi-bold\">    560</span>         AsyncResults.get from multiprocessing.&#34;&#34;&#34;\n<span class=\"ansi-green-intense-fg ansi-bold\">    561</span>         <span class=\"ansi-green-fg\">try</span><span class=\"ansi-blue-fg\">:</span>\n<span class=\"ansi-green-fg\">--&gt; 562</span><span class=\"ansi-red-fg\">             </span><span class=\"ansi-green-fg\">return</span> future<span class=\"ansi-blue-fg\">.</span>result<span class=\"ansi-blue-fg\">(</span>timeout<span class=\"ansi-blue-fg\">=</span>timeout<span class=\"ansi-blue-fg\">)</span>\n<span class=\"ansi-green-intense-fg ansi-bold\">    563</span>         <span class=\"ansi-green-fg\">except</span> LokyTimeoutError<span class=\"ansi-blue-fg\">:</span>\n<span class=\"ansi-green-intense-fg ansi-bold\">    564</span>             <span class=\"ansi-green-fg\">raise</span> TimeoutError<span class=\"ansi-blue-fg\">(</span><span class=\"ansi-blue-fg\">)</span>\n\n<span class=\"ansi-green-fg\">/usr/lib/python3.7/concurrent/futures/_base.py</span> in <span class=\"ansi-cyan-fg\">result</span><span class=\"ansi-blue-fg\">(self, timeout)</span>\n<span class=\"ansi-green-intense-fg ansi-bold\">    428</span>                 <span class=\"ansi-green-fg\">return</span> self<span class=\"ansi-blue-fg\">.</span>__get_result<span class=\"ansi-blue-fg\">(</span><span class=\"ansi-blue-fg\">)</span>\n<span class=\"ansi-green-intense-fg ansi-bold\">    429</span> \n<span class=\"ansi-green-fg\">--&gt; 430</span><span class=\"ansi-red-fg\">             </span>self<span class=\"ansi-blue-fg\">.</span>_condition<span class=\"ansi-blue-fg\">.</span>wait<span class=\"ansi-blue-fg\">(</span>timeout<span class=\"ansi-blue-fg\">)</span>\n<span class=\"ansi-green-intense-fg ansi-bold\">    431</span> \n<span class=\"ansi-green-intense-fg ansi-bold\">    432</span>             <span class=\"ansi-green-fg\">if</span> self<span class=\"ansi-blue-fg\">.</span>_state <span class=\"ansi-green-fg\">in</span> <span class=\"ansi-blue-fg\">[</span>CANCELLED<span class=\"ansi-blue-fg\">,</span> CANCELLED_AND_NOTIFIED<span class=\"ansi-blue-fg\">]</span><span class=\"ansi-blue-fg\">:</span>\n\n<span class=\"ansi-green-fg\">/usr/lib/python3.7/threading.py</span> in <span class=\"ansi-cyan-fg\">wait</span><span class=\"ansi-blue-fg\">(self, timeout)</span>\n<span class=\"ansi-green-intense-fg ansi-bold\">    294</span>         <span class=\"ansi-green-fg\">try</span><span class=\"ansi-blue-fg\">:</span>    <span class=\"ansi-red-fg\"># restore state no matter what (e.g., KeyboardInterrupt)</span>\n<span class=\"ansi-green-intense-fg ansi-bold\">    295</span>             <span class=\"ansi-green-fg\">if</span> timeout <span class=\"ansi-green-fg\">is</span> <span class=\"ansi-green-fg\">None</span><span class=\"ansi-blue-fg\">:</span>\n<span class=\"ansi-green-fg\">--&gt; 296</span><span class=\"ansi-red-fg\">                 </span>waiter<span class=\"ansi-blue-fg\">.</span>acquire<span class=\"ansi-blue-fg\">(</span><span class=\"ansi-blue-fg\">)</span>\n<span class=\"ansi-green-intense-fg ansi-bold\">    297</span>                 gotit <span class=\"ansi-blue-fg\">=</span> <span class=\"ansi-green-fg\">True</span>\n<span class=\"ansi-green-intense-fg ansi-bold\">    298</span>             <span class=\"ansi-green-fg\">else</span><span class=\"ansi-blue-fg\">:</span>\n\n<span class=\"ansi-red-fg\">KeyboardInterrupt</span>: <span class=\"ansi-red-fg\">---------------------------------------------------------------------------</span>\n<span class=\"ansi-red-fg\">NameError</span>                                 Traceback (most recent call last)\n<span class=\"ansi-green-fg\">&lt;command-383115783448527&gt;</span> in <span class=\"ansi-cyan-fg\">&lt;module&gt;</span>\n<span class=\"ansi-green-fg\">----&gt; 1</span><span class=\"ansi-red-fg\"> </span>scores<span class=\"ansi-blue-fg\">.</span>mean<span class=\"ansi-blue-fg\">(</span><span class=\"ansi-blue-fg\">)</span>\n\n<span class=\"ansi-red-fg\">NameError</span>: name &#39;scores&#39; is not defined</div>",
       "errorSummary": "<span class=\"ansi-red-fg\">NameError</span>: name &#39;scores&#39; is not defined",
       "type": "ipynbError"
      }
     },
     "output_type": "display_data"
    }
   ],
   "source": [
    "scores.mean()"
   ]
  },
  {
   "cell_type": "code",
   "execution_count": 0,
   "metadata": {
    "application/vnd.databricks.v1+cell": {
     "inputWidgets": {},
     "nuid": "00987190-9f43-4045-bb2c-55ff2f90fa14",
     "showTitle": false,
     "title": ""
    }
   },
   "outputs": [
    {
     "data": {
      "text/html": [
       "<style scoped>\n",
       "  .ansiout {\n",
       "    display: block;\n",
       "    unicode-bidi: embed;\n",
       "    white-space: pre-wrap;\n",
       "    word-wrap: break-word;\n",
       "    word-break: break-all;\n",
       "    font-family: \"Source Code Pro\", \"Menlo\", monospace;;\n",
       "    font-size: 13px;\n",
       "    color: #555;\n",
       "    margin-left: 4px;\n",
       "    line-height: 19px;\n",
       "  }\n",
       "</style>\n",
       "<div class=\"ansiout\"></div>"
      ]
     },
     "metadata": {
      "application/vnd.databricks.v1+output": {
       "addedWidgets": {},
       "arguments": {},
       "data": "<div class=\"ansiout\"></div>",
       "datasetInfos": [],
       "removedWidgets": [],
       "type": "html"
      }
     },
     "output_type": "display_data"
    },
    {
     "data": {
      "text/html": [
       "<style scoped>\n",
       "  .ansiout {\n",
       "    display: block;\n",
       "    unicode-bidi: embed;\n",
       "    white-space: pre-wrap;\n",
       "    word-wrap: break-word;\n",
       "    word-break: break-all;\n",
       "    font-family: \"Source Code Pro\", \"Menlo\", monospace;;\n",
       "    font-size: 13px;\n",
       "    color: #555;\n",
       "    margin-left: 4px;\n",
       "    line-height: 19px;\n",
       "  }\n",
       "</style>\n",
       "<div class=\"ansiout\"><span class=\"ansi-red-fg\">---------------------------------------------------------------------------</span>\n",
       "<span class=\"ansi-red-fg\">NameError</span>                                 Traceback (most recent call last)\n",
       "<span class=\"ansi-green-fg\">&lt;command-383115783448528&gt;</span> in <span class=\"ansi-cyan-fg\">&lt;module&gt;</span>\n",
       "<span class=\"ansi-green-fg\">----&gt; 1</span><span class=\"ansi-red-fg\"> </span>scores<span class=\"ansi-blue-fg\">.</span>std<span class=\"ansi-blue-fg\">(</span><span class=\"ansi-blue-fg\">)</span>\n",
       "\n",
       "<span class=\"ansi-red-fg\">NameError</span>: name &#39;scores&#39; is not defined</div>"
      ]
     },
     "metadata": {
      "application/vnd.databricks.v1+output": {
       "arguments": {},
       "data": "<div class=\"ansiout\"><span class=\"ansi-red-fg\">---------------------------------------------------------------------------</span>\n<span class=\"ansi-red-fg\">NameError</span>                                 Traceback (most recent call last)\n<span class=\"ansi-green-fg\">&lt;command-383115783448528&gt;</span> in <span class=\"ansi-cyan-fg\">&lt;module&gt;</span>\n<span class=\"ansi-green-fg\">----&gt; 1</span><span class=\"ansi-red-fg\"> </span>scores<span class=\"ansi-blue-fg\">.</span>std<span class=\"ansi-blue-fg\">(</span><span class=\"ansi-blue-fg\">)</span>\n\n<span class=\"ansi-red-fg\">NameError</span>: name &#39;scores&#39; is not defined</div>",
       "errorSummary": "<span class=\"ansi-red-fg\">NameError</span>: name &#39;scores&#39; is not defined",
       "type": "ipynbError"
      }
     },
     "output_type": "display_data"
    }
   ],
   "source": [
    "scores.std()"
   ]
  },
  {
   "cell_type": "markdown",
   "metadata": {
    "application/vnd.databricks.v1+cell": {
     "inputWidgets": {},
     "nuid": "ba957cc0-132c-410a-bf1a-4c98dd5df504",
     "showTitle": false,
     "title": ""
    }
   },
   "source": [
    "# Stratified cross-validation( Bonus)"
   ]
  },
  {
   "cell_type": "markdown",
   "metadata": {
    "application/vnd.databricks.v1+cell": {
     "inputWidgets": {},
     "nuid": "24e69d3d-ac47-40c7-80b3-3614935a92e3",
     "showTitle": false,
     "title": ""
    }
   },
   "source": [
    "k-fold cross validation with stratification"
   ]
  },
  {
   "cell_type": "code",
   "execution_count": 0,
   "metadata": {
    "application/vnd.databricks.v1+cell": {
     "inputWidgets": {},
     "nuid": "7df55ee3-5b2d-4a46-8ade-bee793dac18d",
     "showTitle": false,
     "title": ""
    }
   },
   "outputs": [
    {
     "data": {
      "text/html": [
       "<style scoped>\n",
       "  .ansiout {\n",
       "    display: block;\n",
       "    unicode-bidi: embed;\n",
       "    white-space: pre-wrap;\n",
       "    word-wrap: break-word;\n",
       "    word-break: break-all;\n",
       "    font-family: \"Source Code Pro\", \"Menlo\", monospace;;\n",
       "    font-size: 13px;\n",
       "    color: #555;\n",
       "    margin-left: 4px;\n",
       "    line-height: 19px;\n",
       "  }\n",
       "</style>\n",
       "<div class=\"ansiout\"></div>"
      ]
     },
     "metadata": {
      "application/vnd.databricks.v1+output": {
       "addedWidgets": {},
       "arguments": {},
       "data": "<div class=\"ansiout\"></div>",
       "datasetInfos": [],
       "removedWidgets": [],
       "type": "html"
      }
     },
     "output_type": "display_data"
    }
   ],
   "source": [
    "k = 10\n",
    "from sklearn.model_selection  import StratifiedKFold, cross_val_score\n",
    "stratified_kfold = StratifiedKFold(n_splits = k, random_state = 55)\n",
    "results = cross_val_score(rfm, X, y, cv = stratified_kfold)"
   ]
  },
  {
   "cell_type": "code",
   "execution_count": 0,
   "metadata": {
    "application/vnd.databricks.v1+cell": {
     "inputWidgets": {},
     "nuid": "7425f6bf-a87a-4067-902e-2421aff7dd0c",
     "showTitle": false,
     "title": ""
    }
   },
   "outputs": [
    {
     "data": {
      "text/html": [
       "<style scoped>\n",
       "  .ansiout {\n",
       "    display: block;\n",
       "    unicode-bidi: embed;\n",
       "    white-space: pre-wrap;\n",
       "    word-wrap: break-word;\n",
       "    word-break: break-all;\n",
       "    font-family: \"Source Code Pro\", \"Menlo\", monospace;;\n",
       "    font-size: 13px;\n",
       "    color: #555;\n",
       "    margin-left: 4px;\n",
       "    line-height: 19px;\n",
       "  }\n",
       "</style>\n",
       "<div class=\"ansiout\">Accuracy Score\n",
       "Avearge:  0.759\n",
       "Standard deviation:  0.04085339643163101\n",
       "</div>"
      ]
     },
     "metadata": {
      "application/vnd.databricks.v1+output": {
       "addedWidgets": {},
       "arguments": {},
       "data": "<div class=\"ansiout\">Accuracy Score\nAvearge:  0.759\nStandard deviation:  0.04085339643163101\n</div>",
       "datasetInfos": [],
       "removedWidgets": [],
       "type": "html"
      }
     },
     "output_type": "display_data"
    }
   ],
   "source": [
    "print('Accuracy Score')\n",
    "print('Avearge: ', results.mean())\n",
    "print('Standard deviation: ', results.std())"
   ]
  },
  {
   "cell_type": "markdown",
   "metadata": {
    "application/vnd.databricks.v1+cell": {
     "inputWidgets": {},
     "nuid": "e3eaca93-37ad-4524-bc01-7abd66011cbe",
     "showTitle": false,
     "title": ""
    }
   },
   "source": [
    "# Bootstrapping ( Bonus)"
   ]
  },
  {
   "cell_type": "markdown",
   "metadata": {
    "application/vnd.databricks.v1+cell": {
     "inputWidgets": {},
     "nuid": "0a3a57a7-f114-4f75-b60b-060d6e4720e2",
     "showTitle": false,
     "title": ""
    }
   },
   "source": [
    "Given a dataset of size n, a bootstrap sample is created by sampling n instances uniformly from the data \n",
    "(with/without replacement)\n",
    "\n",
    "Create a model with each bootstrap sample and validate it with the test set\n",
    "\n",
    "Final result is calculated by averaging the accuracy of models"
   ]
  },
  {
   "cell_type": "code",
   "execution_count": 0,
   "metadata": {
    "application/vnd.databricks.v1+cell": {
     "inputWidgets": {},
     "nuid": "dd926457-5589-45b3-854e-538c68bd35d8",
     "showTitle": false,
     "title": ""
    }
   },
   "outputs": [
    {
     "data": {
      "text/html": [
       "<style scoped>\n",
       "  .ansiout {\n",
       "    display: block;\n",
       "    unicode-bidi: embed;\n",
       "    white-space: pre-wrap;\n",
       "    word-wrap: break-word;\n",
       "    word-break: break-all;\n",
       "    font-family: \"Source Code Pro\", \"Menlo\", monospace;;\n",
       "    font-size: 13px;\n",
       "    color: #555;\n",
       "    margin-left: 4px;\n",
       "    line-height: 19px;\n",
       "  }\n",
       "</style>\n",
       "<div class=\"ansiout\"></div>"
      ]
     },
     "metadata": {
      "application/vnd.databricks.v1+output": {
       "addedWidgets": {},
       "arguments": {},
       "data": "<div class=\"ansiout\"></div>",
       "datasetInfos": [],
       "removedWidgets": [],
       "type": "html"
      }
     },
     "output_type": "display_data"
    }
   ],
   "source": [
    "# Number of iterations for bootstrapping\n",
    "bootstrap_iteration = 10\n",
    "accuracy = []"
   ]
  },
  {
   "cell_type": "code",
   "execution_count": 0,
   "metadata": {
    "application/vnd.databricks.v1+cell": {
     "inputWidgets": {},
     "nuid": "33da33f2-e331-4e6f-a565-d2e802dc5f4e",
     "showTitle": false,
     "title": ""
    }
   },
   "outputs": [
    {
     "data": {
      "text/html": [
       "<style scoped>\n",
       "  .ansiout {\n",
       "    display: block;\n",
       "    unicode-bidi: embed;\n",
       "    white-space: pre-wrap;\n",
       "    word-wrap: break-word;\n",
       "    word-break: break-all;\n",
       "    font-family: \"Source Code Pro\", \"Menlo\", monospace;;\n",
       "    font-size: 13px;\n",
       "    color: #555;\n",
       "    margin-left: 4px;\n",
       "    line-height: 19px;\n",
       "  }\n",
       "</style>\n",
       "<div class=\"ansiout\"></div>"
      ]
     },
     "metadata": {
      "application/vnd.databricks.v1+output": {
       "addedWidgets": {},
       "arguments": {},
       "data": "<div class=\"ansiout\"></div>",
       "datasetInfos": [],
       "removedWidgets": [],
       "type": "html"
      }
     },
     "output_type": "display_data"
    },
    {
     "data": {
      "text/html": [
       "<style scoped>\n",
       "  .ansiout {\n",
       "    display: block;\n",
       "    unicode-bidi: embed;\n",
       "    white-space: pre-wrap;\n",
       "    word-wrap: break-word;\n",
       "    word-break: break-all;\n",
       "    font-family: \"Source Code Pro\", \"Menlo\", monospace;;\n",
       "    font-size: 13px;\n",
       "    color: #555;\n",
       "    margin-left: 4px;\n",
       "    line-height: 19px;\n",
       "  }\n",
       "</style>\n",
       "<div class=\"ansiout\"><span class=\"ansi-red-fg\">---------------------------------------------------------------------------</span>\n",
       "<span class=\"ansi-red-fg\">ValueError</span>                                Traceback (most recent call last)\n",
       "<span class=\"ansi-green-fg\">&lt;command-383115783448536&gt;</span> in <span class=\"ansi-cyan-fg\">&lt;module&gt;</span>\n",
       "<span class=\"ansi-green-intense-fg ansi-bold\">      5</span>     X_<span class=\"ansi-blue-fg\">,</span> y_ <span class=\"ansi-blue-fg\">=</span> resample<span class=\"ansi-blue-fg\">(</span>X_train<span class=\"ansi-blue-fg\">,</span> y_train<span class=\"ansi-blue-fg\">)</span>\n",
       "<span class=\"ansi-green-intense-fg ansi-bold\">      6</span>     rfm<span class=\"ansi-blue-fg\">.</span>fit<span class=\"ansi-blue-fg\">(</span>X_<span class=\"ansi-blue-fg\">,</span> y_<span class=\"ansi-blue-fg\">)</span>\n",
       "<span class=\"ansi-green-fg\">----&gt; 7</span><span class=\"ansi-red-fg\">     </span>y_pred <span class=\"ansi-blue-fg\">=</span> rfm<span class=\"ansi-blue-fg\">.</span>predict<span class=\"ansi-blue-fg\">(</span>X_test<span class=\"ansi-blue-fg\">)</span>\n",
       "<span class=\"ansi-green-intense-fg ansi-bold\">      8</span> \n",
       "<span class=\"ansi-green-intense-fg ansi-bold\">      9</span>     acc <span class=\"ansi-blue-fg\">=</span> accuracy_score<span class=\"ansi-blue-fg\">(</span>y_pred<span class=\"ansi-blue-fg\">,</span> y_test<span class=\"ansi-blue-fg\">)</span>\n",
       "\n",
       "<span class=\"ansi-green-fg\">/databricks/python/lib/python3.7/site-packages/sklearn/ensemble/_forest.py</span> in <span class=\"ansi-cyan-fg\">predict</span><span class=\"ansi-blue-fg\">(self, X)</span>\n",
       "<span class=\"ansi-green-intense-fg ansi-bold\">    610</span>             The predicted classes<span class=\"ansi-blue-fg\">.</span>\n",
       "<span class=\"ansi-green-intense-fg ansi-bold\">    611</span>         &#34;&#34;&#34;\n",
       "<span class=\"ansi-green-fg\">--&gt; 612</span><span class=\"ansi-red-fg\">         </span>proba <span class=\"ansi-blue-fg\">=</span> self<span class=\"ansi-blue-fg\">.</span>predict_proba<span class=\"ansi-blue-fg\">(</span>X<span class=\"ansi-blue-fg\">)</span>\n",
       "<span class=\"ansi-green-intense-fg ansi-bold\">    613</span> \n",
       "<span class=\"ansi-green-intense-fg ansi-bold\">    614</span>         <span class=\"ansi-green-fg\">if</span> self<span class=\"ansi-blue-fg\">.</span>n_outputs_ <span class=\"ansi-blue-fg\">==</span> <span class=\"ansi-cyan-fg\">1</span><span class=\"ansi-blue-fg\">:</span>\n",
       "\n",
       "<span class=\"ansi-green-fg\">/databricks/python/lib/python3.7/site-packages/sklearn/ensemble/_forest.py</span> in <span class=\"ansi-cyan-fg\">predict_proba</span><span class=\"ansi-blue-fg\">(self, X)</span>\n",
       "<span class=\"ansi-green-intense-fg ansi-bold\">    654</span>         check_is_fitted<span class=\"ansi-blue-fg\">(</span>self<span class=\"ansi-blue-fg\">)</span>\n",
       "<span class=\"ansi-green-intense-fg ansi-bold\">    655</span>         <span class=\"ansi-red-fg\"># Check data</span>\n",
       "<span class=\"ansi-green-fg\">--&gt; 656</span><span class=\"ansi-red-fg\">         </span>X <span class=\"ansi-blue-fg\">=</span> self<span class=\"ansi-blue-fg\">.</span>_validate_X_predict<span class=\"ansi-blue-fg\">(</span>X<span class=\"ansi-blue-fg\">)</span>\n",
       "<span class=\"ansi-green-intense-fg ansi-bold\">    657</span> \n",
       "<span class=\"ansi-green-intense-fg ansi-bold\">    658</span>         <span class=\"ansi-red-fg\"># Assign chunk of trees to jobs</span>\n",
       "\n",
       "<span class=\"ansi-green-fg\">/databricks/python/lib/python3.7/site-packages/sklearn/ensemble/_forest.py</span> in <span class=\"ansi-cyan-fg\">_validate_X_predict</span><span class=\"ansi-blue-fg\">(self, X)</span>\n",
       "<span class=\"ansi-green-intense-fg ansi-bold\">    410</span>         check_is_fitted<span class=\"ansi-blue-fg\">(</span>self<span class=\"ansi-blue-fg\">)</span>\n",
       "<span class=\"ansi-green-intense-fg ansi-bold\">    411</span> \n",
       "<span class=\"ansi-green-fg\">--&gt; 412</span><span class=\"ansi-red-fg\">         </span><span class=\"ansi-green-fg\">return</span> self<span class=\"ansi-blue-fg\">.</span>estimators_<span class=\"ansi-blue-fg\">[</span><span class=\"ansi-cyan-fg\">0</span><span class=\"ansi-blue-fg\">]</span><span class=\"ansi-blue-fg\">.</span>_validate_X_predict<span class=\"ansi-blue-fg\">(</span>X<span class=\"ansi-blue-fg\">,</span> check_input<span class=\"ansi-blue-fg\">=</span><span class=\"ansi-green-fg\">True</span><span class=\"ansi-blue-fg\">)</span>\n",
       "<span class=\"ansi-green-intense-fg ansi-bold\">    413</span> \n",
       "<span class=\"ansi-green-intense-fg ansi-bold\">    414</span>     <span class=\"ansi-blue-fg\">@</span>property\n",
       "\n",
       "<span class=\"ansi-green-fg\">/databricks/python/lib/python3.7/site-packages/sklearn/tree/_classes.py</span> in <span class=\"ansi-cyan-fg\">_validate_X_predict</span><span class=\"ansi-blue-fg\">(self, X, check_input)</span>\n",
       "<span class=\"ansi-green-intense-fg ansi-bold\">    389</span>                              <span class=\"ansi-blue-fg\">&#34;match the input. Model n_features is %s and &#34;</span>\n",
       "<span class=\"ansi-green-intense-fg ansi-bold\">    390</span>                              <span class=\"ansi-blue-fg\">&#34;input n_features is %s &#34;</span>\n",
       "<span class=\"ansi-green-fg\">--&gt; 391</span><span class=\"ansi-red-fg\">                              % (self.n_features_, n_features))\n",
       "</span><span class=\"ansi-green-intense-fg ansi-bold\">    392</span> \n",
       "<span class=\"ansi-green-intense-fg ansi-bold\">    393</span>         <span class=\"ansi-green-fg\">return</span> X\n",
       "\n",
       "<span class=\"ansi-red-fg\">ValueError</span>: Number of features of the model must match the input. Model n_features is 28 and input n_features is 48 </div>"
      ]
     },
     "metadata": {
      "application/vnd.databricks.v1+output": {
       "arguments": {},
       "data": "<div class=\"ansiout\"><span class=\"ansi-red-fg\">---------------------------------------------------------------------------</span>\n<span class=\"ansi-red-fg\">ValueError</span>                                Traceback (most recent call last)\n<span class=\"ansi-green-fg\">&lt;command-383115783448536&gt;</span> in <span class=\"ansi-cyan-fg\">&lt;module&gt;</span>\n<span class=\"ansi-green-intense-fg ansi-bold\">      5</span>     X_<span class=\"ansi-blue-fg\">,</span> y_ <span class=\"ansi-blue-fg\">=</span> resample<span class=\"ansi-blue-fg\">(</span>X_train<span class=\"ansi-blue-fg\">,</span> y_train<span class=\"ansi-blue-fg\">)</span>\n<span class=\"ansi-green-intense-fg ansi-bold\">      6</span>     rfm<span class=\"ansi-blue-fg\">.</span>fit<span class=\"ansi-blue-fg\">(</span>X_<span class=\"ansi-blue-fg\">,</span> y_<span class=\"ansi-blue-fg\">)</span>\n<span class=\"ansi-green-fg\">----&gt; 7</span><span class=\"ansi-red-fg\">     </span>y_pred <span class=\"ansi-blue-fg\">=</span> rfm<span class=\"ansi-blue-fg\">.</span>predict<span class=\"ansi-blue-fg\">(</span>X_test<span class=\"ansi-blue-fg\">)</span>\n<span class=\"ansi-green-intense-fg ansi-bold\">      8</span> \n<span class=\"ansi-green-intense-fg ansi-bold\">      9</span>     acc <span class=\"ansi-blue-fg\">=</span> accuracy_score<span class=\"ansi-blue-fg\">(</span>y_pred<span class=\"ansi-blue-fg\">,</span> y_test<span class=\"ansi-blue-fg\">)</span>\n\n<span class=\"ansi-green-fg\">/databricks/python/lib/python3.7/site-packages/sklearn/ensemble/_forest.py</span> in <span class=\"ansi-cyan-fg\">predict</span><span class=\"ansi-blue-fg\">(self, X)</span>\n<span class=\"ansi-green-intense-fg ansi-bold\">    610</span>             The predicted classes<span class=\"ansi-blue-fg\">.</span>\n<span class=\"ansi-green-intense-fg ansi-bold\">    611</span>         &#34;&#34;&#34;\n<span class=\"ansi-green-fg\">--&gt; 612</span><span class=\"ansi-red-fg\">         </span>proba <span class=\"ansi-blue-fg\">=</span> self<span class=\"ansi-blue-fg\">.</span>predict_proba<span class=\"ansi-blue-fg\">(</span>X<span class=\"ansi-blue-fg\">)</span>\n<span class=\"ansi-green-intense-fg ansi-bold\">    613</span> \n<span class=\"ansi-green-intense-fg ansi-bold\">    614</span>         <span class=\"ansi-green-fg\">if</span> self<span class=\"ansi-blue-fg\">.</span>n_outputs_ <span class=\"ansi-blue-fg\">==</span> <span class=\"ansi-cyan-fg\">1</span><span class=\"ansi-blue-fg\">:</span>\n\n<span class=\"ansi-green-fg\">/databricks/python/lib/python3.7/site-packages/sklearn/ensemble/_forest.py</span> in <span class=\"ansi-cyan-fg\">predict_proba</span><span class=\"ansi-blue-fg\">(self, X)</span>\n<span class=\"ansi-green-intense-fg ansi-bold\">    654</span>         check_is_fitted<span class=\"ansi-blue-fg\">(</span>self<span class=\"ansi-blue-fg\">)</span>\n<span class=\"ansi-green-intense-fg ansi-bold\">    655</span>         <span class=\"ansi-red-fg\"># Check data</span>\n<span class=\"ansi-green-fg\">--&gt; 656</span><span class=\"ansi-red-fg\">         </span>X <span class=\"ansi-blue-fg\">=</span> self<span class=\"ansi-blue-fg\">.</span>_validate_X_predict<span class=\"ansi-blue-fg\">(</span>X<span class=\"ansi-blue-fg\">)</span>\n<span class=\"ansi-green-intense-fg ansi-bold\">    657</span> \n<span class=\"ansi-green-intense-fg ansi-bold\">    658</span>         <span class=\"ansi-red-fg\"># Assign chunk of trees to jobs</span>\n\n<span class=\"ansi-green-fg\">/databricks/python/lib/python3.7/site-packages/sklearn/ensemble/_forest.py</span> in <span class=\"ansi-cyan-fg\">_validate_X_predict</span><span class=\"ansi-blue-fg\">(self, X)</span>\n<span class=\"ansi-green-intense-fg ansi-bold\">    410</span>         check_is_fitted<span class=\"ansi-blue-fg\">(</span>self<span class=\"ansi-blue-fg\">)</span>\n<span class=\"ansi-green-intense-fg ansi-bold\">    411</span> \n<span class=\"ansi-green-fg\">--&gt; 412</span><span class=\"ansi-red-fg\">         </span><span class=\"ansi-green-fg\">return</span> self<span class=\"ansi-blue-fg\">.</span>estimators_<span class=\"ansi-blue-fg\">[</span><span class=\"ansi-cyan-fg\">0</span><span class=\"ansi-blue-fg\">]</span><span class=\"ansi-blue-fg\">.</span>_validate_X_predict<span class=\"ansi-blue-fg\">(</span>X<span class=\"ansi-blue-fg\">,</span> check_input<span class=\"ansi-blue-fg\">=</span><span class=\"ansi-green-fg\">True</span><span class=\"ansi-blue-fg\">)</span>\n<span class=\"ansi-green-intense-fg ansi-bold\">    413</span> \n<span class=\"ansi-green-intense-fg ansi-bold\">    414</span>     <span class=\"ansi-blue-fg\">@</span>property\n\n<span class=\"ansi-green-fg\">/databricks/python/lib/python3.7/site-packages/sklearn/tree/_classes.py</span> in <span class=\"ansi-cyan-fg\">_validate_X_predict</span><span class=\"ansi-blue-fg\">(self, X, check_input)</span>\n<span class=\"ansi-green-intense-fg ansi-bold\">    389</span>                              <span class=\"ansi-blue-fg\">&#34;match the input. Model n_features is %s and &#34;</span>\n<span class=\"ansi-green-intense-fg ansi-bold\">    390</span>                              <span class=\"ansi-blue-fg\">&#34;input n_features is %s &#34;</span>\n<span class=\"ansi-green-fg\">--&gt; 391</span><span class=\"ansi-red-fg\">                              % (self.n_features_, n_features))\n</span><span class=\"ansi-green-intense-fg ansi-bold\">    392</span> \n<span class=\"ansi-green-intense-fg ansi-bold\">    393</span>         <span class=\"ansi-green-fg\">return</span> X\n\n<span class=\"ansi-red-fg\">ValueError</span>: Number of features of the model must match the input. Model n_features is 28 and input n_features is 48 </div>",
       "errorSummary": "<span class=\"ansi-red-fg\">ValueError</span>: Number of features of the model must match the input. Model n_features is 28 and input n_features is 48 ",
       "type": "ipynbError"
      }
     },
     "output_type": "display_data"
    }
   ],
   "source": [
    "from sklearn.utils import resample\n",
    "from sklearn.metrics import accuracy_score\n",
    "\n",
    "for i in range(bootstrap_iteration):\n",
    "    X_, y_ = resample(X_train, y_train)\n",
    "    rfm.fit(X_, y_)\n",
    "    y_pred = rfm.predict(X_test)\n",
    "    \n",
    "    acc = accuracy_score(y_pred, y_test)\n",
    "    accuracy.append(acc)"
   ]
  },
  {
   "cell_type": "code",
   "execution_count": 0,
   "metadata": {
    "application/vnd.databricks.v1+cell": {
     "inputWidgets": {},
     "nuid": "f0362b6c-5e60-463a-ab20-2e5654d57b0f",
     "showTitle": false,
     "title": ""
    }
   },
   "outputs": [
    {
     "data": {
      "text/html": [
       "<style scoped>\n",
       "  .ansiout {\n",
       "    display: block;\n",
       "    unicode-bidi: embed;\n",
       "    white-space: pre-wrap;\n",
       "    word-wrap: break-word;\n",
       "    word-break: break-all;\n",
       "    font-family: \"Source Code Pro\", \"Menlo\", monospace;;\n",
       "    font-size: 13px;\n",
       "    color: #555;\n",
       "    margin-left: 4px;\n",
       "    line-height: 19px;\n",
       "  }\n",
       "</style>\n",
       "<div class=\"ansiout\">Accuracy Score\n",
       "Avearge:  0.7336666666666666\n",
       "Standard deviation:  0.010999999999999985\n",
       "</div>"
      ]
     },
     "metadata": {
      "application/vnd.databricks.v1+output": {
       "addedWidgets": {},
       "arguments": {},
       "data": "<div class=\"ansiout\">Accuracy Score\nAvearge:  0.7336666666666666\nStandard deviation:  0.010999999999999985\n</div>",
       "datasetInfos": [],
       "removedWidgets": [],
       "type": "html"
      }
     },
     "output_type": "display_data"
    }
   ],
   "source": [
    "accuracy = np.array(accuracy)\n",
    "print('Accuracy Score')\n",
    "print('Avearge: ', accuracy.mean())\n",
    "print('Standard deviation: ', accuracy.std())"
   ]
  },
  {
   "cell_type": "markdown",
   "metadata": {
    "application/vnd.databricks.v1+cell": {
     "inputWidgets": {},
     "nuid": "f3af95f4-99d6-4c6b-a691-8626c020c9fb",
     "showTitle": false,
     "title": ""
    }
   },
   "source": [
    "Inference:\n",
    "\n",
    "Here crossfold validation with stratification gives better result than Bootstrapping."
   ]
  }
 ],
 "metadata": {
  "application/vnd.databricks.v1+notebook": {
   "dashboards": [],
   "language": "python",
   "notebookName": "Feature_Engineering_WK1",
   "notebookOrigID": 383115783448487,
   "widgets": {}
  },
  "kernelspec": {
   "display_name": "Python 3",
   "language": "python",
   "name": "python3"
  },
  "language_info": {
   "codemirror_mode": {
    "name": "ipython",
    "version": 3
   },
   "file_extension": ".py",
   "mimetype": "text/x-python",
   "name": "python",
   "nbconvert_exporter": "python",
   "pygments_lexer": "ipython3",
   "version": "3.7.9"
  }
 },
 "nbformat": 4,
 "nbformat_minor": 1
}
