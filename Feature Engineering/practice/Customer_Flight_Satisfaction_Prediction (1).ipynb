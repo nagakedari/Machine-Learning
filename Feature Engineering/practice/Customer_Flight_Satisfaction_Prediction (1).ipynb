{
 "cells": [
  {
   "cell_type": "markdown",
   "metadata": {
    "application/vnd.databricks.v1+cell": {
     "inputWidgets": {},
     "nuid": "834a2b9f-406b-4e10-ab9d-02df5f0b4458",
     "showTitle": false,
     "title": ""
    }
   },
   "source": [
    "# Context and Defining Problem Statement\n",
    "\n",
    "The data we have at hand is of passengers and their feedback regarding their flight experience. \n",
    "\n",
    "Each row is one passenger. Apart from the  feedback from the customers accross various attributes(15 in total) like food, online_support, cleanliness etc, we have data about the customers' age, loyalty to the airline, gender and class.\n",
    "\n",
    "The target column is a binary variable which tells us if the customer is satisfied or neutral/dissatisfied\n",
    "\n",
    "The task at hand is to analyze the data and build a model to predict customer satisfaction using all or some of the data we have."
   ]
  },
  {
   "cell_type": "markdown",
   "metadata": {
    "application/vnd.databricks.v1+cell": {
     "inputWidgets": {},
     "nuid": "2fbc26b3-fe15-4ed5-ac9c-1f7b7f7712d1",
     "showTitle": false,
     "title": ""
    }
   },
   "source": [
    "# Steps - \n",
    "- Data loading and preprocessing\n",
    "- Exploratory Data Analysis\n",
    "- Model building and evaluation\n",
    "- Model Tuning\n",
    "- Implementing the process through Pipeline"
   ]
  },
  {
   "cell_type": "markdown",
   "metadata": {
    "application/vnd.databricks.v1+cell": {
     "inputWidgets": {},
     "nuid": "daacfee9-7529-40ba-901b-b452ff034a57",
     "showTitle": false,
     "title": ""
    }
   },
   "source": [
    "# Data loading and preprocessing"
   ]
  },
  {
   "cell_type": "markdown",
   "metadata": {
    "application/vnd.databricks.v1+cell": {
     "inputWidgets": {},
     "nuid": "279fea37-e894-495f-950d-154c489acccd",
     "showTitle": false,
     "title": ""
    }
   },
   "source": [
    "### 1. Import Pandas, Numpy, pyplot and seaborn"
   ]
  },
  {
   "cell_type": "code",
   "execution_count": 6,
   "metadata": {
    "application/vnd.databricks.v1+cell": {
     "inputWidgets": {},
     "nuid": "de71a72b-5f72-41f7-975f-19f3cd07ed8d",
     "showTitle": false,
     "title": ""
    }
   },
   "outputs": [],
   "source": [
    "#Import necessary libraries\n",
    "%matplotlib inline\n",
    "import numpy as np\n",
    "import pandas as pd\n",
    "import matplotlib.pyplot as plt\n",
    "import seaborn as sns\n",
    "import warnings\n",
    "warnings.filterwarnings(\"ignore\")  # Not always recommended, but jsut so our notebook looks clean for this activity"
   ]
  },
  {
   "cell_type": "markdown",
   "metadata": {
    "application/vnd.databricks.v1+cell": {
     "inputWidgets": {},
     "nuid": "81ed9b52-584f-44f9-8b3d-ceaadc251eb8",
     "showTitle": false,
     "title": ""
    }
   },
   "source": [
    "### 2. Import the dataframes that are needed\n",
    "- Import \"Flight data_Train.csv\" and \"Surveydata_Train.csv\""
   ]
  },
  {
   "cell_type": "code",
   "execution_count": 7,
   "metadata": {
    "application/vnd.databricks.v1+cell": {
     "inputWidgets": {},
     "nuid": "96cf4065-3e07-401a-a70e-921ff93346e7",
     "showTitle": false,
     "title": ""
    }
   },
   "outputs": [
    {
     "ename": "NameError",
     "evalue": "name 'spark' is not defined",
     "output_type": "error",
     "traceback": [
      "\u001b[0;31m---------------------------------------------------------------------------\u001b[0m",
      "\u001b[0;31mNameError\u001b[0m                                 Traceback (most recent call last)",
      "\u001b[0;32m<ipython-input-7-4037eb102a9a>\u001b[0m in \u001b[0;36m<module>\u001b[0;34m\u001b[0m\n\u001b[1;32m      8\u001b[0m \u001b[0;34m\u001b[0m\u001b[0m\n\u001b[1;32m      9\u001b[0m \u001b[0;31m# The applied options are for CSV files. For other file types, these will be ignored.\u001b[0m\u001b[0;34m\u001b[0m\u001b[0;34m\u001b[0m\u001b[0;34m\u001b[0m\u001b[0m\n\u001b[0;32m---> 10\u001b[0;31m \u001b[0mdata\u001b[0m \u001b[0;34m=\u001b[0m \u001b[0mspark\u001b[0m\u001b[0;34m.\u001b[0m\u001b[0mread\u001b[0m\u001b[0;34m.\u001b[0m\u001b[0mformat\u001b[0m\u001b[0;34m(\u001b[0m\u001b[0mfile_type\u001b[0m\u001b[0;34m)\u001b[0m\u001b[0;31m \u001b[0m\u001b[0;31m\\\u001b[0m\u001b[0;34m\u001b[0m\u001b[0;34m\u001b[0m\u001b[0m\n\u001b[0m\u001b[1;32m     11\u001b[0m   \u001b[0;34m.\u001b[0m\u001b[0moption\u001b[0m\u001b[0;34m(\u001b[0m\u001b[0;34m\"inferSchema\"\u001b[0m\u001b[0;34m,\u001b[0m \u001b[0minfer_schema\u001b[0m\u001b[0;34m)\u001b[0m\u001b[0;31m \u001b[0m\u001b[0;31m\\\u001b[0m\u001b[0;34m\u001b[0m\u001b[0;34m\u001b[0m\u001b[0m\n\u001b[1;32m     12\u001b[0m   \u001b[0;34m.\u001b[0m\u001b[0moption\u001b[0m\u001b[0;34m(\u001b[0m\u001b[0;34m\"header\"\u001b[0m\u001b[0;34m,\u001b[0m \u001b[0mfirst_row_is_header\u001b[0m\u001b[0;34m)\u001b[0m\u001b[0;31m \u001b[0m\u001b[0;31m\\\u001b[0m\u001b[0;34m\u001b[0m\u001b[0;34m\u001b[0m\u001b[0m\n",
      "\u001b[0;31mNameError\u001b[0m: name 'spark' is not defined"
     ]
    }
   ],
   "source": [
    "file_location = \"/FileStore/tables/Flight_data.csv\"\n",
    "file_type = \"csv\"\n",
    "\n",
    "# CSV options\n",
    "infer_schema = \"true\"\n",
    "first_row_is_header = \"true\"\n",
    "delimiter = \",\"\n",
    "\n",
    "# The applied options are for CSV files. For other file types, these will be ignored.\n",
    "data = spark.read.format(file_type) \\\n",
    "  .option(\"inferSchema\", infer_schema) \\\n",
    "  .option(\"header\", first_row_is_header) \\\n",
    "  .option(\"sep\", delimiter) \\\n",
    "  .load(file_location)\n",
    "\n",
    "df1 = data.select(\"*\").toPandas()\n",
    "\n",
    "file_location = \"/FileStore/tables/Survey_data.csv\"\n",
    "file_type = \"csv\"\n",
    "\n",
    "# CSV options\n",
    "infer_schema = \"true\"\n",
    "first_row_is_header = \"true\"\n",
    "delimiter = \",\"\n",
    "\n",
    "# The applied options are for CSV files. For other file types, these will be ignored.\n",
    "data = spark.read.format(file_type) \\\n",
    "  .option(\"inferSchema\", infer_schema) \\\n",
    "  .option(\"header\", first_row_is_header) \\\n",
    "  .option(\"sep\", delimiter) \\\n",
    "  .load(file_location)\n",
    "\n",
    "df2 = data.select(\"*\").toPandas()"
   ]
  },
  {
   "cell_type": "markdown",
   "metadata": {
    "application/vnd.databricks.v1+cell": {
     "inputWidgets": {},
     "nuid": "af94d297-959c-4385-96ba-30c5e5ebabb9",
     "showTitle": false,
     "title": ""
    }
   },
   "source": [
    "### 3. Join the two dataframes using the 'id' column as the primary key\n",
    "- Rename the Id column of one dataframe so that there \"id\" column name becomes same"
   ]
  },
  {
   "cell_type": "code",
   "execution_count": 3,
   "metadata": {
    "application/vnd.databricks.v1+cell": {
     "inputWidgets": {},
     "nuid": "12330b32-c486-4f76-9486-8bf730f12e1a",
     "showTitle": false,
     "title": ""
    }
   },
   "outputs": [
    {
     "ename": "NameError",
     "evalue": "name 'df2' is not defined",
     "output_type": "error",
     "traceback": [
      "\u001b[0;31m---------------------------------------------------------------------------\u001b[0m",
      "\u001b[0;31mNameError\u001b[0m                                 Traceback (most recent call last)",
      "\u001b[0;32m<ipython-input-3-3c4e34c3e4f3>\u001b[0m in \u001b[0;36m<module>\u001b[0;34m\u001b[0m\n\u001b[1;32m      2\u001b[0m \u001b[0;31m#c = a.join(b)  # Joining two dfs on the 'Id' column\u001b[0m\u001b[0;34m\u001b[0m\u001b[0;34m\u001b[0m\u001b[0;34m\u001b[0m\u001b[0m\n\u001b[1;32m      3\u001b[0m \u001b[0;34m\u001b[0m\u001b[0m\n\u001b[0;32m----> 4\u001b[0;31m \u001b[0mdf\u001b[0m \u001b[0;34m=\u001b[0m \u001b[0mdf2\u001b[0m\u001b[0;34m.\u001b[0m\u001b[0mset_index\u001b[0m\u001b[0;34m(\u001b[0m\u001b[0;34m\"Id\"\u001b[0m\u001b[0;34m)\u001b[0m\u001b[0;34m.\u001b[0m\u001b[0mjoin\u001b[0m\u001b[0;34m(\u001b[0m\u001b[0mdf1\u001b[0m\u001b[0;34m.\u001b[0m\u001b[0mset_index\u001b[0m\u001b[0;34m(\u001b[0m\u001b[0;34m\"ID\"\u001b[0m\u001b[0;34m)\u001b[0m\u001b[0;34m)\u001b[0m\u001b[0;34m\u001b[0m\u001b[0;34m\u001b[0m\u001b[0m\n\u001b[0m\u001b[1;32m      5\u001b[0m \u001b[0;34m\u001b[0m\u001b[0m\n\u001b[1;32m      6\u001b[0m \u001b[0;34m\u001b[0m\u001b[0m\n",
      "\u001b[0;31mNameError\u001b[0m: name 'df2' is not defined"
     ]
    }
   ],
   "source": [
    "#Using pandas' Join method\n",
    "#c = a.join(b)  # Joining two dfs on the 'Id' column\n",
    "\n",
    "df = df2.set_index(\"Id\").join(df1.set_index(\"ID\"))\n",
    "\n",
    "\n",
    "print(df.shape)\n",
    "df.head()  # the combined dataframe"
   ]
  },
  {
   "cell_type": "code",
   "execution_count": 4,
   "metadata": {
    "application/vnd.databricks.v1+cell": {
     "inputWidgets": {},
     "nuid": "6cb54491-f417-4897-add5-98c4342ccdf9",
     "showTitle": false,
     "title": ""
    }
   },
   "outputs": [
    {
     "ename": "NameError",
     "evalue": "name 'df' is not defined",
     "output_type": "error",
     "traceback": [
      "\u001b[0;31m---------------------------------------------------------------------------\u001b[0m",
      "\u001b[0;31mNameError\u001b[0m                                 Traceback (most recent call last)",
      "\u001b[0;32m<ipython-input-4-52599dc9c3de>\u001b[0m in \u001b[0;36m<module>\u001b[0;34m\u001b[0m\n\u001b[0;32m----> 1\u001b[0;31m \u001b[0mdf\u001b[0m\u001b[0;34m[\u001b[0m\u001b[0mdf\u001b[0m\u001b[0;34m[\u001b[0m\u001b[0;34m'ArrivalDelayin_Mins'\u001b[0m\u001b[0;34m]\u001b[0m\u001b[0;34m==\u001b[0m\u001b[0;34m'NA'\u001b[0m\u001b[0;34m]\u001b[0m\u001b[0;34m\u001b[0m\u001b[0;34m\u001b[0m\u001b[0m\n\u001b[0m",
      "\u001b[0;31mNameError\u001b[0m: name 'df' is not defined"
     ]
    }
   ],
   "source": [
    "df[df['ArrivalDelayin_Mins']=='NA']"
   ]
  },
  {
   "cell_type": "code",
   "execution_count": 5,
   "metadata": {
    "application/vnd.databricks.v1+cell": {
     "inputWidgets": {},
     "nuid": "11a3b0b5-e99a-4879-8163-4fc2eb25942b",
     "showTitle": false,
     "title": ""
    }
   },
   "outputs": [
    {
     "ename": "NameError",
     "evalue": "name 'df' is not defined",
     "output_type": "error",
     "traceback": [
      "\u001b[0;31m---------------------------------------------------------------------------\u001b[0m",
      "\u001b[0;31mNameError\u001b[0m                                 Traceback (most recent call last)",
      "\u001b[0;32m<ipython-input-5-5cb2c1153405>\u001b[0m in \u001b[0;36m<module>\u001b[0;34m\u001b[0m\n\u001b[0;32m----> 1\u001b[0;31m \u001b[0mdf\u001b[0m\u001b[0;34m=\u001b[0m\u001b[0mdf\u001b[0m\u001b[0;34m[\u001b[0m\u001b[0mdf\u001b[0m\u001b[0;34m[\u001b[0m\u001b[0;34m'ArrivalDelayin_Mins'\u001b[0m\u001b[0;34m]\u001b[0m\u001b[0;34m!=\u001b[0m\u001b[0;34m'NA'\u001b[0m\u001b[0;34m]\u001b[0m\u001b[0;34m\u001b[0m\u001b[0;34m\u001b[0m\u001b[0m\n\u001b[0m",
      "\u001b[0;31mNameError\u001b[0m: name 'df' is not defined"
     ]
    }
   ],
   "source": [
    "df=df[df['ArrivalDelayin_Mins']!='NA']"
   ]
  },
  {
   "cell_type": "markdown",
   "metadata": {
    "application/vnd.databricks.v1+cell": {
     "inputWidgets": {},
     "nuid": "f3089d4d-e794-4621-b216-75960c09c1b0",
     "showTitle": false,
     "title": ""
    }
   },
   "source": [
    "### 4. Print the number of missing values in each of the columns"
   ]
  },
  {
   "cell_type": "code",
   "execution_count": 0,
   "metadata": {
    "application/vnd.databricks.v1+cell": {
     "inputWidgets": {},
     "nuid": "b559f875-8127-4ef6-bacf-25246ef812db",
     "showTitle": false,
     "title": ""
    }
   },
   "outputs": [
    {
     "data": {
      "text/html": [
       "<style scoped>\n",
       "  .ansiout {\n",
       "    display: block;\n",
       "    unicode-bidi: embed;\n",
       "    white-space: pre-wrap;\n",
       "    word-wrap: break-word;\n",
       "    word-break: break-all;\n",
       "    font-family: \"Source Code Pro\", \"Menlo\", monospace;;\n",
       "    font-size: 13px;\n",
       "    color: #555;\n",
       "    margin-left: 4px;\n",
       "    line-height: 19px;\n",
       "  }\n",
       "</style>\n",
       "<div class=\"ansiout\">Out[10]: Satisfaction                            0\n",
       "Seat_comfort                            0\n",
       "Departure.Arrival.time_convenient    8210\n",
       "Food_drink                           8154\n",
       "Gate_location                           0\n",
       "Inflightwifi_service                    0\n",
       "Inflight_entertainment                  0\n",
       "Online_support                          0\n",
       "Ease_of_Onlinebooking                   0\n",
       "Onboard_service                      7157\n",
       "Leg_room_service                        0\n",
       "Baggage_handling                        0\n",
       "Checkin_service                         0\n",
       "Cleanliness                             0\n",
       "Online_boarding                         0\n",
       "Gender                                  0\n",
       "CustomerType                         9073\n",
       "Age                                     0\n",
       "TypeTravel                           9065\n",
       "Class                                   0\n",
       "Flight_Distance                         0\n",
       "DepartureDelayin_Mins                   0\n",
       "ArrivalDelayin_Mins                     0\n",
       "dtype: int64</div>"
      ]
     },
     "metadata": {
      "application/vnd.databricks.v1+output": {
       "addedWidgets": {},
       "arguments": {},
       "data": "<div class=\"ansiout\">Out[10]: Satisfaction                            0\nSeat_comfort                            0\nDeparture.Arrival.time_convenient    8210\nFood_drink                           8154\nGate_location                           0\nInflightwifi_service                    0\nInflight_entertainment                  0\nOnline_support                          0\nEase_of_Onlinebooking                   0\nOnboard_service                      7157\nLeg_room_service                        0\nBaggage_handling                        0\nCheckin_service                         0\nCleanliness                             0\nOnline_boarding                         0\nGender                                  0\nCustomerType                         9073\nAge                                     0\nTypeTravel                           9065\nClass                                   0\nFlight_Distance                         0\nDepartureDelayin_Mins                   0\nArrivalDelayin_Mins                     0\ndtype: int64</div>",
       "datasetInfos": [],
       "removedWidgets": [],
       "type": "html"
      }
     },
     "output_type": "display_data"
    }
   ],
   "source": [
    "df.isna().sum() # Since True is 1 and False is 0, if you do a sum of a boolean dataframe, we get the number of trues in each col"
   ]
  },
  {
   "cell_type": "code",
   "execution_count": 0,
   "metadata": {
    "application/vnd.databricks.v1+cell": {
     "inputWidgets": {},
     "nuid": "e5fc9790-0302-4382-9cad-07f6e575c682",
     "showTitle": false,
     "title": ""
    }
   },
   "outputs": [
    {
     "data": {
      "text/html": [
       "<style scoped>\n",
       "  .ansiout {\n",
       "    display: block;\n",
       "    unicode-bidi: embed;\n",
       "    white-space: pre-wrap;\n",
       "    word-wrap: break-word;\n",
       "    word-break: break-all;\n",
       "    font-family: \"Source Code Pro\", \"Menlo\", monospace;;\n",
       "    font-size: 13px;\n",
       "    color: #555;\n",
       "    margin-left: 4px;\n",
       "    line-height: 19px;\n",
       "  }\n",
       "</style>\n",
       "<div class=\"ansiout\">Out[11]: </div>"
      ]
     },
     "metadata": {
      "application/vnd.databricks.v1+output": {
       "addedWidgets": {},
       "arguments": {},
       "data": "<div class=\"ansiout\">Out[11]: </div>",
       "datasetInfos": [],
       "removedWidgets": [],
       "type": "html"
      }
     },
     "output_type": "display_data"
    },
    {
     "data": {
      "text/html": [
       "<div>\n",
       "<style scoped>\n",
       "    .dataframe tbody tr th:only-of-type {\n",
       "        vertical-align: middle;\n",
       "    }\n",
       "\n",
       "    .dataframe tbody tr th {\n",
       "        vertical-align: top;\n",
       "    }\n",
       "\n",
       "    .dataframe thead th {\n",
       "        text-align: right;\n",
       "    }\n",
       "</style>\n",
       "<table border=\"1\" class=\"dataframe\">\n",
       "  <thead>\n",
       "    <tr style=\"text-align: right;\">\n",
       "      <th></th>\n",
       "      <th>Satisfaction</th>\n",
       "      <th>Seat_comfort</th>\n",
       "      <th>Departure.Arrival.time_convenient</th>\n",
       "      <th>Food_drink</th>\n",
       "      <th>Gate_location</th>\n",
       "      <th>Inflightwifi_service</th>\n",
       "      <th>Inflight_entertainment</th>\n",
       "      <th>Online_support</th>\n",
       "      <th>Ease_of_Onlinebooking</th>\n",
       "      <th>Onboard_service</th>\n",
       "      <th>Leg_room_service</th>\n",
       "      <th>Baggage_handling</th>\n",
       "      <th>Checkin_service</th>\n",
       "      <th>Cleanliness</th>\n",
       "      <th>Online_boarding</th>\n",
       "      <th>Gender</th>\n",
       "      <th>CustomerType</th>\n",
       "      <th>Age</th>\n",
       "      <th>TypeTravel</th>\n",
       "      <th>Class</th>\n",
       "      <th>Flight_Distance</th>\n",
       "      <th>DepartureDelayin_Mins</th>\n",
       "      <th>ArrivalDelayin_Mins</th>\n",
       "    </tr>\n",
       "  </thead>\n",
       "  <tbody>\n",
       "    <tr>\n",
       "      <th>False</th>\n",
       "      <td>90633.0</td>\n",
       "      <td>90633.0</td>\n",
       "      <td>82423</td>\n",
       "      <td>82479</td>\n",
       "      <td>90633.0</td>\n",
       "      <td>90633.0</td>\n",
       "      <td>90633.0</td>\n",
       "      <td>90633.0</td>\n",
       "      <td>90633.0</td>\n",
       "      <td>83476</td>\n",
       "      <td>90633.0</td>\n",
       "      <td>90633.0</td>\n",
       "      <td>90633.0</td>\n",
       "      <td>90633.0</td>\n",
       "      <td>90633.0</td>\n",
       "      <td>90633.0</td>\n",
       "      <td>81560</td>\n",
       "      <td>90633.0</td>\n",
       "      <td>81568</td>\n",
       "      <td>90633.0</td>\n",
       "      <td>90633.0</td>\n",
       "      <td>90633.0</td>\n",
       "      <td>90633.0</td>\n",
       "    </tr>\n",
       "    <tr>\n",
       "      <th>True</th>\n",
       "      <td>NaN</td>\n",
       "      <td>NaN</td>\n",
       "      <td>8210</td>\n",
       "      <td>8154</td>\n",
       "      <td>NaN</td>\n",
       "      <td>NaN</td>\n",
       "      <td>NaN</td>\n",
       "      <td>NaN</td>\n",
       "      <td>NaN</td>\n",
       "      <td>7157</td>\n",
       "      <td>NaN</td>\n",
       "      <td>NaN</td>\n",
       "      <td>NaN</td>\n",
       "      <td>NaN</td>\n",
       "      <td>NaN</td>\n",
       "      <td>NaN</td>\n",
       "      <td>9073</td>\n",
       "      <td>NaN</td>\n",
       "      <td>9065</td>\n",
       "      <td>NaN</td>\n",
       "      <td>NaN</td>\n",
       "      <td>NaN</td>\n",
       "      <td>NaN</td>\n",
       "    </tr>\n",
       "  </tbody>\n",
       "</table>\n",
       "</div>"
      ]
     },
     "metadata": {
      "application/vnd.databricks.v1+output": {
       "addedWidgets": {},
       "arguments": {},
       "data": "<div>\n<style scoped>\n    .dataframe tbody tr th:only-of-type {\n        vertical-align: middle;\n    }\n\n    .dataframe tbody tr th {\n        vertical-align: top;\n    }\n\n    .dataframe thead th {\n        text-align: right;\n    }\n</style>\n<table border=\"1\" class=\"dataframe\">\n  <thead>\n    <tr style=\"text-align: right;\">\n      <th></th>\n      <th>Satisfaction</th>\n      <th>Seat_comfort</th>\n      <th>Departure.Arrival.time_convenient</th>\n      <th>Food_drink</th>\n      <th>Gate_location</th>\n      <th>Inflightwifi_service</th>\n      <th>Inflight_entertainment</th>\n      <th>Online_support</th>\n      <th>Ease_of_Onlinebooking</th>\n      <th>Onboard_service</th>\n      <th>Leg_room_service</th>\n      <th>Baggage_handling</th>\n      <th>Checkin_service</th>\n      <th>Cleanliness</th>\n      <th>Online_boarding</th>\n      <th>Gender</th>\n      <th>CustomerType</th>\n      <th>Age</th>\n      <th>TypeTravel</th>\n      <th>Class</th>\n      <th>Flight_Distance</th>\n      <th>DepartureDelayin_Mins</th>\n      <th>ArrivalDelayin_Mins</th>\n    </tr>\n  </thead>\n  <tbody>\n    <tr>\n      <th>False</th>\n      <td>90633.0</td>\n      <td>90633.0</td>\n      <td>82423</td>\n      <td>82479</td>\n      <td>90633.0</td>\n      <td>90633.0</td>\n      <td>90633.0</td>\n      <td>90633.0</td>\n      <td>90633.0</td>\n      <td>83476</td>\n      <td>90633.0</td>\n      <td>90633.0</td>\n      <td>90633.0</td>\n      <td>90633.0</td>\n      <td>90633.0</td>\n      <td>90633.0</td>\n      <td>81560</td>\n      <td>90633.0</td>\n      <td>81568</td>\n      <td>90633.0</td>\n      <td>90633.0</td>\n      <td>90633.0</td>\n      <td>90633.0</td>\n    </tr>\n    <tr>\n      <th>True</th>\n      <td>NaN</td>\n      <td>NaN</td>\n      <td>8210</td>\n      <td>8154</td>\n      <td>NaN</td>\n      <td>NaN</td>\n      <td>NaN</td>\n      <td>NaN</td>\n      <td>NaN</td>\n      <td>7157</td>\n      <td>NaN</td>\n      <td>NaN</td>\n      <td>NaN</td>\n      <td>NaN</td>\n      <td>NaN</td>\n      <td>NaN</td>\n      <td>9073</td>\n      <td>NaN</td>\n      <td>9065</td>\n      <td>NaN</td>\n      <td>NaN</td>\n      <td>NaN</td>\n      <td>NaN</td>\n    </tr>\n  </tbody>\n</table>\n</div>",
       "datasetInfos": [],
       "removedWidgets": [],
       "textData": null,
       "type": "htmlSandbox"
      }
     },
     "output_type": "display_data"
    }
   ],
   "source": [
    "# you can also find it using the snippet below\n",
    "df.isnull().apply(pd.value_counts)  "
   ]
  },
  {
   "cell_type": "markdown",
   "metadata": {
    "application/vnd.databricks.v1+cell": {
     "inputWidgets": {},
     "nuid": "9cf3202c-4539-433f-8d98-5343c7c31054",
     "showTitle": false,
     "title": ""
    }
   },
   "source": [
    "### 5. Drop all the rows having atleast one missing values and check the shape of the dataframe before and after dropping the rows\n",
    "- Fill null values in ArrivalDelayin_Mins with mean\n",
    "- After that drop all the rows with null values"
   ]
  },
  {
   "cell_type": "code",
   "execution_count": 0,
   "metadata": {
    "application/vnd.databricks.v1+cell": {
     "inputWidgets": {},
     "nuid": "6287be84-0c16-45cc-817c-cbae1975440d",
     "showTitle": false,
     "title": ""
    },
    "scrolled": true
   },
   "outputs": [
    {
     "data": {
      "text/html": [
       "<style scoped>\n",
       "  .ansiout {\n",
       "    display: block;\n",
       "    unicode-bidi: embed;\n",
       "    white-space: pre-wrap;\n",
       "    word-wrap: break-word;\n",
       "    word-break: break-all;\n",
       "    font-family: \"Source Code Pro\", \"Menlo\", monospace;;\n",
       "    font-size: 13px;\n",
       "    color: #555;\n",
       "    margin-left: 4px;\n",
       "    line-height: 19px;\n",
       "  }\n",
       "</style>\n",
       "<div class=\"ansiout\">Out[12]: </div>"
      ]
     },
     "metadata": {
      "application/vnd.databricks.v1+output": {
       "addedWidgets": {},
       "arguments": {},
       "data": "<div class=\"ansiout\">Out[12]: </div>",
       "datasetInfos": [],
       "removedWidgets": [],
       "type": "html"
      }
     },
     "output_type": "display_data"
    },
    {
     "data": {
      "text/html": [
       "<div>\n",
       "<style scoped>\n",
       "    .dataframe tbody tr th:only-of-type {\n",
       "        vertical-align: middle;\n",
       "    }\n",
       "\n",
       "    .dataframe tbody tr th {\n",
       "        vertical-align: top;\n",
       "    }\n",
       "\n",
       "    .dataframe thead th {\n",
       "        text-align: right;\n",
       "    }\n",
       "</style>\n",
       "<table border=\"1\" class=\"dataframe\">\n",
       "  <thead>\n",
       "    <tr style=\"text-align: right;\">\n",
       "      <th></th>\n",
       "      <th>count</th>\n",
       "      <th>mean</th>\n",
       "      <th>std</th>\n",
       "      <th>min</th>\n",
       "      <th>25%</th>\n",
       "      <th>50%</th>\n",
       "      <th>75%</th>\n",
       "      <th>max</th>\n",
       "    </tr>\n",
       "  </thead>\n",
       "  <tbody>\n",
       "    <tr>\n",
       "      <th>Age</th>\n",
       "      <td>90633.0</td>\n",
       "      <td>39.445897</td>\n",
       "      <td>15.128429</td>\n",
       "      <td>7.0</td>\n",
       "      <td>27.0</td>\n",
       "      <td>40.0</td>\n",
       "      <td>51.0</td>\n",
       "      <td>85.0</td>\n",
       "    </tr>\n",
       "    <tr>\n",
       "      <th>Flight_Distance</th>\n",
       "      <td>90633.0</td>\n",
       "      <td>1981.277062</td>\n",
       "      <td>1026.463419</td>\n",
       "      <td>50.0</td>\n",
       "      <td>1360.0</td>\n",
       "      <td>1926.0</td>\n",
       "      <td>2542.0</td>\n",
       "      <td>6950.0</td>\n",
       "    </tr>\n",
       "    <tr>\n",
       "      <th>DepartureDelayin_Mins</th>\n",
       "      <td>90633.0</td>\n",
       "      <td>14.613331</td>\n",
       "      <td>38.527675</td>\n",
       "      <td>0.0</td>\n",
       "      <td>0.0</td>\n",
       "      <td>0.0</td>\n",
       "      <td>12.0</td>\n",
       "      <td>1592.0</td>\n",
       "    </tr>\n",
       "  </tbody>\n",
       "</table>\n",
       "</div>"
      ]
     },
     "metadata": {
      "application/vnd.databricks.v1+output": {
       "addedWidgets": {},
       "arguments": {},
       "data": "<div>\n<style scoped>\n    .dataframe tbody tr th:only-of-type {\n        vertical-align: middle;\n    }\n\n    .dataframe tbody tr th {\n        vertical-align: top;\n    }\n\n    .dataframe thead th {\n        text-align: right;\n    }\n</style>\n<table border=\"1\" class=\"dataframe\">\n  <thead>\n    <tr style=\"text-align: right;\">\n      <th></th>\n      <th>count</th>\n      <th>mean</th>\n      <th>std</th>\n      <th>min</th>\n      <th>25%</th>\n      <th>50%</th>\n      <th>75%</th>\n      <th>max</th>\n    </tr>\n  </thead>\n  <tbody>\n    <tr>\n      <th>Age</th>\n      <td>90633.0</td>\n      <td>39.445897</td>\n      <td>15.128429</td>\n      <td>7.0</td>\n      <td>27.0</td>\n      <td>40.0</td>\n      <td>51.0</td>\n      <td>85.0</td>\n    </tr>\n    <tr>\n      <th>Flight_Distance</th>\n      <td>90633.0</td>\n      <td>1981.277062</td>\n      <td>1026.463419</td>\n      <td>50.0</td>\n      <td>1360.0</td>\n      <td>1926.0</td>\n      <td>2542.0</td>\n      <td>6950.0</td>\n    </tr>\n    <tr>\n      <th>DepartureDelayin_Mins</th>\n      <td>90633.0</td>\n      <td>14.613331</td>\n      <td>38.527675</td>\n      <td>0.0</td>\n      <td>0.0</td>\n      <td>0.0</td>\n      <td>12.0</td>\n      <td>1592.0</td>\n    </tr>\n  </tbody>\n</table>\n</div>",
       "datasetInfos": [],
       "removedWidgets": [],
       "textData": null,
       "type": "htmlSandbox"
      }
     },
     "output_type": "display_data"
    }
   ],
   "source": [
    "df.describe().T"
   ]
  },
  {
   "cell_type": "code",
   "execution_count": 0,
   "metadata": {
    "application/vnd.databricks.v1+cell": {
     "inputWidgets": {},
     "nuid": "3c4ded27-2a89-40fc-bfc1-1185dfe4e3b2",
     "showTitle": false,
     "title": ""
    }
   },
   "outputs": [
    {
     "data": {
      "text/html": [
       "<style scoped>\n",
       "  .ansiout {\n",
       "    display: block;\n",
       "    unicode-bidi: embed;\n",
       "    white-space: pre-wrap;\n",
       "    word-wrap: break-word;\n",
       "    word-break: break-all;\n",
       "    font-family: \"Source Code Pro\", \"Menlo\", monospace;;\n",
       "    font-size: 13px;\n",
       "    color: #555;\n",
       "    margin-left: 4px;\n",
       "    line-height: 19px;\n",
       "  }\n",
       "</style>\n",
       "<div class=\"ansiout\"></div>"
      ]
     },
     "metadata": {
      "application/vnd.databricks.v1+output": {
       "addedWidgets": {},
       "arguments": {},
       "data": "<div class=\"ansiout\"></div>",
       "datasetInfos": [],
       "removedWidgets": [],
       "type": "html"
      }
     },
     "output_type": "display_data"
    }
   ],
   "source": [
    "# Rest other missing values are filled with not_captured.\n",
    "#It can be done in other way also or also can be dropped according to the problem and business context.\n",
    "df.dropna(inplace = True) "
   ]
  },
  {
   "cell_type": "code",
   "execution_count": 0,
   "metadata": {
    "application/vnd.databricks.v1+cell": {
     "inputWidgets": {},
     "nuid": "3befb2db-1bd1-40b2-a75d-65ff33b999df",
     "showTitle": false,
     "title": ""
    }
   },
   "outputs": [
    {
     "data": {
      "text/html": [
       "<style scoped>\n",
       "  .ansiout {\n",
       "    display: block;\n",
       "    unicode-bidi: embed;\n",
       "    white-space: pre-wrap;\n",
       "    word-wrap: break-word;\n",
       "    word-break: break-all;\n",
       "    font-family: \"Source Code Pro\", \"Menlo\", monospace;;\n",
       "    font-size: 13px;\n",
       "    color: #555;\n",
       "    margin-left: 4px;\n",
       "    line-height: 19px;\n",
       "  }\n",
       "</style>\n",
       "<div class=\"ansiout\">(53634, 23)\n",
       "</div>"
      ]
     },
     "metadata": {
      "application/vnd.databricks.v1+output": {
       "addedWidgets": {},
       "arguments": {},
       "data": "<div class=\"ansiout\">(53634, 23)\n</div>",
       "datasetInfos": [],
       "removedWidgets": [],
       "type": "html"
      }
     },
     "output_type": "display_data"
    }
   ],
   "source": [
    "print(df.shape)"
   ]
  },
  {
   "cell_type": "markdown",
   "metadata": {
    "application/vnd.databricks.v1+cell": {
     "inputWidgets": {},
     "nuid": "08807ef3-207d-42c4-b523-c0aad610d7d7",
     "showTitle": false,
     "title": ""
    }
   },
   "source": [
    "# Exploratory Data Analysis"
   ]
  },
  {
   "cell_type": "markdown",
   "metadata": {
    "application/vnd.databricks.v1+cell": {
     "inputWidgets": {},
     "nuid": "60b4e5e3-1a10-4788-bf58-3e47917038e9",
     "showTitle": false,
     "title": ""
    }
   },
   "source": [
    "### 6. Print correlation"
   ]
  },
  {
   "cell_type": "code",
   "execution_count": 0,
   "metadata": {
    "application/vnd.databricks.v1+cell": {
     "inputWidgets": {},
     "nuid": "00b0aed1-efd1-4f09-9521-aa3ba4a0f1ca",
     "showTitle": false,
     "title": ""
    }
   },
   "outputs": [
    {
     "data": {
      "text/html": [
       "<style scoped>\n",
       "  .ansiout {\n",
       "    display: block;\n",
       "    unicode-bidi: embed;\n",
       "    white-space: pre-wrap;\n",
       "    word-wrap: break-word;\n",
       "    word-break: break-all;\n",
       "    font-family: \"Source Code Pro\", \"Menlo\", monospace;;\n",
       "    font-size: 13px;\n",
       "    color: #555;\n",
       "    margin-left: 4px;\n",
       "    line-height: 19px;\n",
       "  }\n",
       "</style>\n",
       "<div class=\"ansiout\"></div>"
      ]
     },
     "metadata": {
      "application/vnd.databricks.v1+output": {
       "addedWidgets": {},
       "arguments": {},
       "data": "<div class=\"ansiout\"></div>",
       "datasetInfos": [],
       "removedWidgets": [],
       "type": "html"
      }
     },
     "output_type": "display_data"
    }
   ],
   "source": [
    "cor = df.corr() # It will show correlation of only numerical variables here. RFE#  Principal component Analysis"
   ]
  },
  {
   "cell_type": "code",
   "execution_count": 0,
   "metadata": {
    "application/vnd.databricks.v1+cell": {
     "inputWidgets": {},
     "nuid": "02f64d4d-2106-4c26-8264-9723ad055b06",
     "showTitle": false,
     "title": ""
    },
    "scrolled": true
   },
   "outputs": [
    {
     "data": {
      "text/html": [
       "<style scoped>\n",
       "  .ansiout {\n",
       "    display: block;\n",
       "    unicode-bidi: embed;\n",
       "    white-space: pre-wrap;\n",
       "    word-wrap: break-word;\n",
       "    word-break: break-all;\n",
       "    font-family: \"Source Code Pro\", \"Menlo\", monospace;;\n",
       "    font-size: 13px;\n",
       "    color: #555;\n",
       "    margin-left: 4px;\n",
       "    line-height: 19px;\n",
       "  }\n",
       "</style>\n",
       "<div class=\"ansiout\">Out[7]: </div>"
      ]
     },
     "metadata": {
      "application/vnd.databricks.v1+output": {
       "addedWidgets": {},
       "arguments": {},
       "data": "<div class=\"ansiout\">Out[7]: </div>",
       "datasetInfos": [],
       "removedWidgets": [],
       "type": "html"
      }
     },
     "output_type": "display_data"
    },
    {
     "data": {
      "text/html": [
       "<div>\n",
       "<style scoped>\n",
       "    .dataframe tbody tr th:only-of-type {\n",
       "        vertical-align: middle;\n",
       "    }\n",
       "\n",
       "    .dataframe tbody tr th {\n",
       "        vertical-align: top;\n",
       "    }\n",
       "\n",
       "    .dataframe thead th {\n",
       "        text-align: right;\n",
       "    }\n",
       "</style>\n",
       "<table border=\"1\" class=\"dataframe\">\n",
       "  <thead>\n",
       "    <tr style=\"text-align: right;\">\n",
       "      <th></th>\n",
       "      <th>Age</th>\n",
       "      <th>Flight_Distance</th>\n",
       "      <th>DepartureDelayin_Mins</th>\n",
       "    </tr>\n",
       "  </thead>\n",
       "  <tbody>\n",
       "    <tr>\n",
       "      <th>Age</th>\n",
       "      <td>1.000000</td>\n",
       "      <td>-0.250635</td>\n",
       "      <td>-0.010161</td>\n",
       "    </tr>\n",
       "    <tr>\n",
       "      <th>Flight_Distance</th>\n",
       "      <td>-0.250635</td>\n",
       "      <td>1.000000</td>\n",
       "      <td>0.110232</td>\n",
       "    </tr>\n",
       "    <tr>\n",
       "      <th>DepartureDelayin_Mins</th>\n",
       "      <td>-0.010161</td>\n",
       "      <td>0.110232</td>\n",
       "      <td>1.000000</td>\n",
       "    </tr>\n",
       "  </tbody>\n",
       "</table>\n",
       "</div>"
      ]
     },
     "metadata": {
      "application/vnd.databricks.v1+output": {
       "addedWidgets": {},
       "arguments": {},
       "data": "<div>\n<style scoped>\n    .dataframe tbody tr th:only-of-type {\n        vertical-align: middle;\n    }\n\n    .dataframe tbody tr th {\n        vertical-align: top;\n    }\n\n    .dataframe thead th {\n        text-align: right;\n    }\n</style>\n<table border=\"1\" class=\"dataframe\">\n  <thead>\n    <tr style=\"text-align: right;\">\n      <th></th>\n      <th>Age</th>\n      <th>Flight_Distance</th>\n      <th>DepartureDelayin_Mins</th>\n    </tr>\n  </thead>\n  <tbody>\n    <tr>\n      <th>Age</th>\n      <td>1.000000</td>\n      <td>-0.250635</td>\n      <td>-0.010161</td>\n    </tr>\n    <tr>\n      <th>Flight_Distance</th>\n      <td>-0.250635</td>\n      <td>1.000000</td>\n      <td>0.110232</td>\n    </tr>\n    <tr>\n      <th>DepartureDelayin_Mins</th>\n      <td>-0.010161</td>\n      <td>0.110232</td>\n      <td>1.000000</td>\n    </tr>\n  </tbody>\n</table>\n</div>",
       "datasetInfos": [],
       "removedWidgets": [],
       "textData": null,
       "type": "htmlSandbox"
      }
     },
     "output_type": "display_data"
    }
   ],
   "source": [
    "cor"
   ]
  },
  {
   "cell_type": "code",
   "execution_count": 0,
   "metadata": {
    "application/vnd.databricks.v1+cell": {
     "inputWidgets": {},
     "nuid": "fa976c51-2fbb-43ad-9f62-67252e4be2ba",
     "showTitle": false,
     "title": ""
    }
   },
   "outputs": [
    {
     "data": {
      "text/html": [
       "<style scoped>\n",
       "  .ansiout {\n",
       "    display: block;\n",
       "    unicode-bidi: embed;\n",
       "    white-space: pre-wrap;\n",
       "    word-wrap: break-word;\n",
       "    word-break: break-all;\n",
       "    font-family: \"Source Code Pro\", \"Menlo\", monospace;;\n",
       "    font-size: 13px;\n",
       "    color: #555;\n",
       "    margin-left: 4px;\n",
       "    line-height: 19px;\n",
       "  }\n",
       "</style>\n",
       "<div class=\"ansiout\"></div>"
      ]
     },
     "metadata": {
      "application/vnd.databricks.v1+output": {
       "addedWidgets": {},
       "arguments": {},
       "data": "<div class=\"ansiout\"></div>",
       "datasetInfos": [],
       "removedWidgets": [],
       "type": "html"
      }
     },
     "output_type": "display_data"
    }
   ],
   "source": [
    "#to_drop = ['DepartureDelayin_Mins']"
   ]
  },
  {
   "cell_type": "markdown",
   "metadata": {
    "application/vnd.databricks.v1+cell": {
     "inputWidgets": {},
     "nuid": "bc1c94dd-f63e-443f-8b1c-f28f8d57eee7",
     "showTitle": false,
     "title": ""
    }
   },
   "source": [
    "### Feedback columns\n",
    "Seat_comfort', 'Departure.Arrival.time_convenient', 'Food_drink', 'Gate_location',\n",
    "'Inflightwifi_service', 'Inflight_entertainment', 'Online_support',\n",
    "'Ease_of_Onlinebooking', 'Onboard_service', 'Leg_room_service',\n",
    "'Baggage_handling', 'Checkin_service', 'Cleanliness', 'Online_boarding'"
   ]
  },
  {
   "cell_type": "markdown",
   "metadata": {
    "application/vnd.databricks.v1+cell": {
     "inputWidgets": {},
     "nuid": "6225b3c7-5dc9-439e-b6a4-abd71e18de4e",
     "showTitle": false,
     "title": ""
    }
   },
   "source": [
    "### 7. Manually encode these variables(printed above) such that they follow an order based on the meaning."
   ]
  },
  {
   "cell_type": "code",
   "execution_count": 0,
   "metadata": {
    "application/vnd.databricks.v1+cell": {
     "inputWidgets": {},
     "nuid": "69949ee6-33bb-4790-9c05-42f4dbfe29f2",
     "showTitle": false,
     "title": ""
    }
   },
   "outputs": [
    {
     "data": {
      "text/html": [
       "<style scoped>\n",
       "  .ansiout {\n",
       "    display: block;\n",
       "    unicode-bidi: embed;\n",
       "    white-space: pre-wrap;\n",
       "    word-wrap: break-word;\n",
       "    word-break: break-all;\n",
       "    font-family: \"Source Code Pro\", \"Menlo\", monospace;;\n",
       "    font-size: 13px;\n",
       "    color: #555;\n",
       "    margin-left: 4px;\n",
       "    line-height: 19px;\n",
       "  }\n",
       "</style>\n",
       "<div class=\"ansiout\"></div>"
      ]
     },
     "metadata": {
      "application/vnd.databricks.v1+output": {
       "addedWidgets": {},
       "arguments": {},
       "data": "<div class=\"ansiout\"></div>",
       "datasetInfos": [],
       "removedWidgets": [],
       "type": "html"
      }
     },
     "output_type": "display_data"
    }
   ],
   "source": [
    "# Manual label encoding\n",
    "df.replace({'extremely poor' : 0, 'poor' : 1, 'need improvement' : 2, 'acceptable' : 3, \n",
    "            'good' : 4, 'excellent' : 5}, inplace = True)  \n",
    "\n",
    "df.replace({'very inconvinient' : 0, 'Inconvinient' : 1, 'need improvement' : 2, 'manageable' : 3,\n",
    "            'Convinient' : 4, 'very convinient' : 5}, inplace = True)"
   ]
  },
  {
   "cell_type": "code",
   "execution_count": 0,
   "metadata": {
    "application/vnd.databricks.v1+cell": {
     "inputWidgets": {},
     "nuid": "5b68e29d-2a4a-45f1-ac64-e21bfdcbedc4",
     "showTitle": false,
     "title": ""
    }
   },
   "outputs": [
    {
     "data": {
      "text/html": [
       "<style scoped>\n",
       "  .ansiout {\n",
       "    display: block;\n",
       "    unicode-bidi: embed;\n",
       "    white-space: pre-wrap;\n",
       "    word-wrap: break-word;\n",
       "    word-break: break-all;\n",
       "    font-family: \"Source Code Pro\", \"Menlo\", monospace;;\n",
       "    font-size: 13px;\n",
       "    color: #555;\n",
       "    margin-left: 4px;\n",
       "    line-height: 19px;\n",
       "  }\n",
       "</style>\n",
       "<div class=\"ansiout\">Out[19]: 4    12131\n",
       "5    11080\n",
       "3     9625\n",
       "2     9523\n",
       "1     8541\n",
       "0     2734\n",
       "Name: Departure.Arrival.time_convenient, dtype: int64</div>"
      ]
     },
     "metadata": {
      "application/vnd.databricks.v1+output": {
       "addedWidgets": {},
       "arguments": {},
       "data": "<div class=\"ansiout\">Out[19]: 4    12131\n5    11080\n3     9625\n2     9523\n1     8541\n0     2734\nName: Departure.Arrival.time_convenient, dtype: int64</div>",
       "datasetInfos": [],
       "removedWidgets": [],
       "type": "html"
      }
     },
     "output_type": "display_data"
    }
   ],
   "source": [
    "# check for encodings\n",
    "df['Departure.Arrival.time_convenient'].value_counts()"
   ]
  },
  {
   "cell_type": "markdown",
   "metadata": {
    "application/vnd.databricks.v1+cell": {
     "inputWidgets": {},
     "nuid": "1bbe9c0c-15e4-4485-9b35-11941ddeae46",
     "showTitle": false,
     "title": ""
    }
   },
   "source": [
    "### 8. Display countplot of every feedback attribute with respect to Customer Satisfaction. \n",
    "\n",
    "You can use sns.countplot and set hue  = 'Satisfaction'"
   ]
  },
  {
   "cell_type": "code",
   "execution_count": 0,
   "metadata": {
    "application/vnd.databricks.v1+cell": {
     "inputWidgets": {},
     "nuid": "ef14b740-114f-4ddd-b3e7-6a14b6eb96d9",
     "showTitle": false,
     "title": ""
    },
    "scrolled": true
   },
   "outputs": [
    {
     "data": {
      "text/html": [
       "<style scoped>\n",
       "  .ansiout {\n",
       "    display: block;\n",
       "    unicode-bidi: embed;\n",
       "    white-space: pre-wrap;\n",
       "    word-wrap: break-word;\n",
       "    word-break: break-all;\n",
       "    font-family: \"Source Code Pro\", \"Menlo\", monospace;;\n",
       "    font-size: 13px;\n",
       "    color: #555;\n",
       "    margin-left: 4px;\n",
       "    line-height: 19px;\n",
       "  }\n",
       "</style>\n",
       "<div class=\"ansiout\">Out[20]: </div>"
      ]
     },
     "metadata": {
      "application/vnd.databricks.v1+output": {
       "addedWidgets": {},
       "arguments": {},
       "data": "<div class=\"ansiout\">Out[20]: </div>",
       "datasetInfos": [],
       "removedWidgets": [],
       "type": "html"
      }
     },
     "output_type": "display_data"
    },
    {
     "data": {
      "image/png": "[encoded data removed]"
     },
     "metadata": {
      "application/vnd.databricks.v1+output": {
       "addedWidgets": {},
       "arguments": {},
       "data": "/plots/1bb20e30-70a1-424a-9fad-60f061b530b9.png",
       "datasetInfos": [],
       "removedWidgets": [],
       "type": "image"
      }
     },
     "output_type": "display_data"
    },
    {
     "data": {
      "text/html": [
       "<style scoped>\n",
       "  .ansiout {\n",
       "    display: block;\n",
       "    unicode-bidi: embed;\n",
       "    white-space: pre-wrap;\n",
       "    word-wrap: break-word;\n",
       "    word-break: break-all;\n",
       "    font-family: \"Source Code Pro\", \"Menlo\", monospace;;\n",
       "    font-size: 13px;\n",
       "    color: #555;\n",
       "    margin-left: 4px;\n",
       "    line-height: 19px;\n",
       "  }\n",
       "</style>\n",
       "<div class=\"ansiout\">&lt;matplotlib.legend.Legend at 0x7f82c72fac90&gt;</div>"
      ]
     },
     "metadata": {
      "application/vnd.databricks.v1+output": {
       "addedWidgets": {},
       "arguments": {},
       "data": "<div class=\"ansiout\">&lt;matplotlib.legend.Legend at 0x7f82c72fac90&gt;</div>",
       "datasetInfos": [],
       "removedWidgets": [],
       "type": "html"
      }
     },
     "output_type": "display_data"
    }
   ],
   "source": [
    "# We can use seaborn's countplot to plot a stacked baatchart\n",
    "sns.countplot(df.Seat_comfort, hue = df.Satisfaction) \n",
    "plt.legend(loc = 'upper right', bbox_to_anchor=(1.45, 1))   # to place the legend in a 'good' position\n",
    "\n"
   ]
  },
  {
   "cell_type": "code",
   "execution_count": 0,
   "metadata": {
    "application/vnd.databricks.v1+cell": {
     "inputWidgets": {},
     "nuid": "80c4398e-7b92-4e47-b828-3bc483e74828",
     "showTitle": false,
     "title": ""
    }
   },
   "outputs": [
    {
     "data": {
      "image/png": "[encoded data removed]"
     },
     "metadata": {
      "application/vnd.databricks.v1+output": {
       "addedWidgets": {},
       "arguments": {},
       "data": "/plots/14148c92-dfce-4752-845c-55927f8ed10b.png",
       "datasetInfos": [],
       "removedWidgets": [],
       "type": "image"
      }
     },
     "output_type": "display_data"
    }
   ],
   "source": [
    "# Since there are a lot of columns that we want to plot, we can put all of them in one plot by using subplot()\n",
    "# Additionally, since there are a lot of subplots that need to be plotted, we can use a for loop\n",
    "\n",
    "plt.figure(figsize= (30,20))  # setting the figure size\n",
    "pos = 1  # we will use this variable to index each of the plots\n",
    "feedback = [ 'Seat_comfort', 'Departure.Arrival.time_convenient', 'Food_drink',\n",
    "           'Gate_location', 'Inflightwifi_service','Inflight_entertainment',\n",
    "           'Online_support', 'Ease_of_Onlinebooking', 'Onboard_service',\n",
    "           'Leg_room_service', 'Baggage_handling','Checkin_service', 'Cleanliness', 'Online_boarding']\n",
    "\n",
    "for i in feedback:\n",
    "    plt.subplot(3, 5, pos)\n",
    "    sns.countplot(df[i], hue = df.Satisfaction,\n",
    "                  palette = {'satisfied':'green','neutral or dissatisfied': 'red'})\n",
    "    plt.legend().remove()  # Remove legend to make the entire plot look 'good'\n",
    "    pos += 1  # to plot over the grid one by one   "
   ]
  },
  {
   "cell_type": "markdown",
   "metadata": {
    "application/vnd.databricks.v1+cell": {
     "inputWidgets": {},
     "nuid": "1fb69ef2-7314-4b4b-ab8a-1a85aea9dfeb",
     "showTitle": false,
     "title": ""
    }
   },
   "source": [
    "# Alternate way\n",
    "# Using sns.barplot()\n",
    "\n",
    "plt.figure(figsize= (30,20))  \n",
    "pos = 1  \n",
    "\n",
    "for i in feedback:\n",
    "    ct = pd.crosstab(df[i], df.Satisfaction)  # Crosstab \n",
    "    stacked =ct.stack().reset_index().rename(columns={0:'value'}) #dataframe with name and count accross satisfaction levels\n",
    "    plt.subplot(3, 5, pos)\n",
    "    sns.barplot(x=stacked[i], y=stacked.value, hue=stacked.Satisfaction,\n",
    "               palette = {'satisfied':'lightgreen','neutral or dissatisfied': 'coral'}) # Barplot\n",
    "    plt.legend().remove()  # Remove legend to make the entire plot look 'good'\n",
    "    pos += 1  # to plot over the grid one by one"
   ]
  },
  {
   "cell_type": "markdown",
   "metadata": {
    "application/vnd.databricks.v1+cell": {
     "inputWidgets": {},
     "nuid": "e95cc8d8-245a-4318-ad97-43e98452e505",
     "showTitle": false,
     "title": ""
    }
   },
   "source": [
    "### 9. Draw all the insights that you can from the plots"
   ]
  },
  {
   "cell_type": "markdown",
   "metadata": {
    "application/vnd.databricks.v1+cell": {
     "inputWidgets": {},
     "nuid": "20cbcd98-1271-448a-8df3-3e06f5375494",
     "showTitle": false,
     "title": ""
    }
   },
   "source": [
    "**Green and orange bars are counts of satisfied and dissatisfied customers respectively. We want to look for areas where there is a visually significant difference between the length of the stacked bars**\n",
    "\n",
    "- From the plots above,\n",
    "    - Seating comfort can cause high levels of satisfaction to customers. Hardly any people who rated highly for seat_comfort were dissatisfied\n",
    "    - A similar case with respect to inflight_entertainment. In this case, having less entertainment seems to have caused far more dissatisfaction compared to bad seating.\n",
    "    - Difference is observed in ease_of_online_booking quiet evidently"
   ]
  },
  {
   "cell_type": "markdown",
   "metadata": {
    "application/vnd.databricks.v1+cell": {
     "inputWidgets": {},
     "nuid": "b8ddca9a-b978-4fe8-bac4-6af715a11e28",
     "showTitle": false,
     "title": ""
    }
   },
   "source": [
    "### 10. Print the average feedback score\n",
    "- When Satisfaction columns equals 'satisfied'\n",
    "- When Satisfaction columns is not equal to 'satisfied'"
   ]
  },
  {
   "cell_type": "code",
   "execution_count": 0,
   "metadata": {
    "application/vnd.databricks.v1+cell": {
     "inputWidgets": {},
     "nuid": "259ed578-fc73-4d2f-9ae4-1e2e03ded5f3",
     "showTitle": false,
     "title": ""
    }
   },
   "outputs": [
    {
     "data": {
      "text/html": [
       "<style scoped>\n",
       "  .ansiout {\n",
       "    display: block;\n",
       "    unicode-bidi: embed;\n",
       "    white-space: pre-wrap;\n",
       "    word-wrap: break-word;\n",
       "    word-break: break-all;\n",
       "    font-family: \"Source Code Pro\", \"Menlo\", monospace;;\n",
       "    font-size: 13px;\n",
       "    color: #555;\n",
       "    margin-left: 4px;\n",
       "    line-height: 19px;\n",
       "  }\n",
       "</style>\n",
       "<div class=\"ansiout\"></div>"
      ]
     },
     "metadata": {
      "application/vnd.databricks.v1+output": {
       "addedWidgets": {},
       "arguments": {},
       "data": "<div class=\"ansiout\"></div>",
       "datasetInfos": [],
       "removedWidgets": [],
       "type": "html"
      }
     },
     "output_type": "display_data"
    }
   ],
   "source": [
    "Feedback_cols = ['Seat_comfort', 'Departure.Arrival.time_convenient',\n",
    "                 'Food_drink', 'Gate_location', 'Inflightwifi_service',\n",
    "                 'Inflight_entertainment', 'Online_support', 'Ease_of_Onlinebooking', \n",
    "                 'Onboard_service', 'Leg_room_service', 'Baggage_handling', 'Checkin_service',\n",
    "                 'Cleanliness', 'Online_boarding']"
   ]
  },
  {
   "cell_type": "code",
   "execution_count": 0,
   "metadata": {
    "application/vnd.databricks.v1+cell": {
     "inputWidgets": {},
     "nuid": "1e064ffc-415c-44ed-9b99-a78c68f66cce",
     "showTitle": false,
     "title": ""
    }
   },
   "outputs": [
    {
     "data": {
      "text/html": [
       "<style scoped>\n",
       "  .ansiout {\n",
       "    display: block;\n",
       "    unicode-bidi: embed;\n",
       "    white-space: pre-wrap;\n",
       "    word-wrap: break-word;\n",
       "    word-break: break-all;\n",
       "    font-family: \"Source Code Pro\", \"Menlo\", monospace;;\n",
       "    font-size: 13px;\n",
       "    color: #555;\n",
       "    margin-left: 4px;\n",
       "    line-height: 19px;\n",
       "  }\n",
       "</style>\n",
       "<div class=\"ansiout\">Out[23]: </div>"
      ]
     },
     "metadata": {
      "application/vnd.databricks.v1+output": {
       "addedWidgets": {},
       "arguments": {},
       "data": "<div class=\"ansiout\">Out[23]: </div>",
       "datasetInfos": [],
       "removedWidgets": [],
       "type": "html"
      }
     },
     "output_type": "display_data"
    },
    {
     "data": {
      "text/html": [
       "<div>\n",
       "<style scoped>\n",
       "    .dataframe tbody tr th:only-of-type {\n",
       "        vertical-align: middle;\n",
       "    }\n",
       "\n",
       "    .dataframe tbody tr th {\n",
       "        vertical-align: top;\n",
       "    }\n",
       "\n",
       "    .dataframe thead th {\n",
       "        text-align: right;\n",
       "    }\n",
       "</style>\n",
       "<table border=\"1\" class=\"dataframe\">\n",
       "  <thead>\n",
       "    <tr style=\"text-align: right;\">\n",
       "      <th></th>\n",
       "      <th>Seat_comfort</th>\n",
       "      <th>Departure.Arrival.time_convenient</th>\n",
       "      <th>Food_drink</th>\n",
       "      <th>Gate_location</th>\n",
       "      <th>Inflightwifi_service</th>\n",
       "      <th>Inflight_entertainment</th>\n",
       "      <th>Online_support</th>\n",
       "      <th>Ease_of_Onlinebooking</th>\n",
       "      <th>Onboard_service</th>\n",
       "      <th>Leg_room_service</th>\n",
       "      <th>Baggage_handling</th>\n",
       "      <th>Checkin_service</th>\n",
       "      <th>Cleanliness</th>\n",
       "      <th>Online_boarding</th>\n",
       "      <th>Age</th>\n",
       "      <th>Flight_Distance</th>\n",
       "      <th>DepartureDelayin_Mins</th>\n",
       "    </tr>\n",
       "    <tr>\n",
       "      <th>Satisfaction</th>\n",
       "      <th></th>\n",
       "      <th></th>\n",
       "      <th></th>\n",
       "      <th></th>\n",
       "      <th></th>\n",
       "      <th></th>\n",
       "      <th></th>\n",
       "      <th></th>\n",
       "      <th></th>\n",
       "      <th></th>\n",
       "      <th></th>\n",
       "      <th></th>\n",
       "      <th></th>\n",
       "      <th></th>\n",
       "      <th></th>\n",
       "      <th></th>\n",
       "      <th></th>\n",
       "    </tr>\n",
       "  </thead>\n",
       "  <tbody>\n",
       "    <tr>\n",
       "      <th>neutral or dissatisfied</th>\n",
       "      <td>2.469331</td>\n",
       "      <td>3.015551</td>\n",
       "      <td>2.659861</td>\n",
       "      <td>3.000454</td>\n",
       "      <td>2.922988</td>\n",
       "      <td>2.618488</td>\n",
       "      <td>2.964361</td>\n",
       "      <td>2.854886</td>\n",
       "      <td>2.971868</td>\n",
       "      <td>3.061131</td>\n",
       "      <td>3.369756</td>\n",
       "      <td>2.971456</td>\n",
       "      <td>3.380275</td>\n",
       "      <td>2.875675</td>\n",
       "      <td>37.444417</td>\n",
       "      <td>2027.542755</td>\n",
       "      <td>17.91544</td>\n",
       "    </tr>\n",
       "    <tr>\n",
       "      <th>satisfied</th>\n",
       "      <td>3.141778</td>\n",
       "      <td>2.969617</td>\n",
       "      <td>3.000442</td>\n",
       "      <td>2.976387</td>\n",
       "      <td>3.529924</td>\n",
       "      <td>4.015821</td>\n",
       "      <td>3.983805</td>\n",
       "      <td>3.997176</td>\n",
       "      <td>3.876255</td>\n",
       "      <td>3.852846</td>\n",
       "      <td>3.972611</td>\n",
       "      <td>3.640876</td>\n",
       "      <td>3.986016</td>\n",
       "      <td>3.749787</td>\n",
       "      <td>41.015345</td>\n",
       "      <td>1944.008098</td>\n",
       "      <td>12.07601</td>\n",
       "    </tr>\n",
       "  </tbody>\n",
       "</table>\n",
       "</div>"
      ]
     },
     "metadata": {
      "application/vnd.databricks.v1+output": {
       "addedWidgets": {},
       "arguments": {},
       "data": "<div>\n<style scoped>\n    .dataframe tbody tr th:only-of-type {\n        vertical-align: middle;\n    }\n\n    .dataframe tbody tr th {\n        vertical-align: top;\n    }\n\n    .dataframe thead th {\n        text-align: right;\n    }\n</style>\n<table border=\"1\" class=\"dataframe\">\n  <thead>\n    <tr style=\"text-align: right;\">\n      <th></th>\n      <th>Seat_comfort</th>\n      <th>Departure.Arrival.time_convenient</th>\n      <th>Food_drink</th>\n      <th>Gate_location</th>\n      <th>Inflightwifi_service</th>\n      <th>Inflight_entertainment</th>\n      <th>Online_support</th>\n      <th>Ease_of_Onlinebooking</th>\n      <th>Onboard_service</th>\n      <th>Leg_room_service</th>\n      <th>Baggage_handling</th>\n      <th>Checkin_service</th>\n      <th>Cleanliness</th>\n      <th>Online_boarding</th>\n      <th>Age</th>\n      <th>Flight_Distance</th>\n      <th>DepartureDelayin_Mins</th>\n    </tr>\n    <tr>\n      <th>Satisfaction</th>\n      <th></th>\n      <th></th>\n      <th></th>\n      <th></th>\n      <th></th>\n      <th></th>\n      <th></th>\n      <th></th>\n      <th></th>\n      <th></th>\n      <th></th>\n      <th></th>\n      <th></th>\n      <th></th>\n      <th></th>\n      <th></th>\n      <th></th>\n    </tr>\n  </thead>\n  <tbody>\n    <tr>\n      <th>neutral or dissatisfied</th>\n      <td>2.469331</td>\n      <td>3.015551</td>\n      <td>2.659861</td>\n      <td>3.000454</td>\n      <td>2.922988</td>\n      <td>2.618488</td>\n      <td>2.964361</td>\n      <td>2.854886</td>\n      <td>2.971868</td>\n      <td>3.061131</td>\n      <td>3.369756</td>\n      <td>2.971456</td>\n      <td>3.380275</td>\n      <td>2.875675</td>\n      <td>37.444417</td>\n      <td>2027.542755</td>\n      <td>17.91544</td>\n    </tr>\n    <tr>\n      <th>satisfied</th>\n      <td>3.141778</td>\n      <td>2.969617</td>\n      <td>3.000442</td>\n      <td>2.976387</td>\n      <td>3.529924</td>\n      <td>4.015821</td>\n      <td>3.983805</td>\n      <td>3.997176</td>\n      <td>3.876255</td>\n      <td>3.852846</td>\n      <td>3.972611</td>\n      <td>3.640876</td>\n      <td>3.986016</td>\n      <td>3.749787</td>\n      <td>41.015345</td>\n      <td>1944.008098</td>\n      <td>12.07601</td>\n    </tr>\n  </tbody>\n</table>\n</div>",
       "datasetInfos": [],
       "removedWidgets": [],
       "textData": null,
       "type": "htmlSandbox"
      }
     },
     "output_type": "display_data"
    }
   ],
   "source": [
    "df.groupby('Satisfaction').mean() # Average rating of individual feedback attributes across satisfaction levels\n"
   ]
  },
  {
   "cell_type": "markdown",
   "metadata": {
    "application/vnd.databricks.v1+cell": {
     "inputWidgets": {},
     "nuid": "ea6deb34-58ea-4c34-b5b6-f7ec715c450b",
     "showTitle": false,
     "title": ""
    }
   },
   "source": [
    "### 11. Draw any insights that you can from the above values"
   ]
  },
  {
   "cell_type": "markdown",
   "metadata": {
    "application/vnd.databricks.v1+cell": {
     "inputWidgets": {},
     "nuid": "125b6e71-7893-4d09-9011-3a56d515b9dd",
     "showTitle": false,
     "title": ""
    }
   },
   "source": [
    "- Observe the Exreme values (lower side for 'dissatisfaction' and higher side for 'satisfaction')\n",
    "- Bad seats are a strong cause for customer dissatisfication\n",
    "- Time convenience doesn't seem to be that big of a deal\n",
    "- Dissatisfied customers had some bad experiences with food but average food seems to satisfy most people\n",
    "- Gate location is totally irrelevant\n",
    "- Wifi is quiet a factor. On an average, having good wifi yeilded customer satisfaction\n",
    "- Easy online booking facility seems to be very important for customer satisfaction\n",
    "- In flight entertainment seems to be a deal breaker"
   ]
  },
  {
   "cell_type": "markdown",
   "metadata": {
    "application/vnd.databricks.v1+cell": {
     "inputWidgets": {},
     "nuid": "aff729ce-61b8-4998-8d67-c430b0d768d8",
     "showTitle": false,
     "title": ""
    }
   },
   "source": [
    "### 12. Create a new column which is the mean of 'Ease_of_Onlinebooking', 'Online_boarding', 'Online_support' and name it \"avg_feedback_of_online_services\". \n",
    "\n",
    "DIY : If online services has a bad ratings then what is the average ratings of other feedback attributes? \n",
    "And how does it impact Final Satisfaction of customers?"
   ]
  },
  {
   "cell_type": "code",
   "execution_count": 0,
   "metadata": {
    "application/vnd.databricks.v1+cell": {
     "inputWidgets": {},
     "nuid": "0b08576a-8b5b-4bc3-a161-388fb314a001",
     "showTitle": false,
     "title": ""
    }
   },
   "outputs": [
    {
     "data": {
      "text/html": [
       "<style scoped>\n",
       "  .ansiout {\n",
       "    display: block;\n",
       "    unicode-bidi: embed;\n",
       "    white-space: pre-wrap;\n",
       "    word-wrap: break-word;\n",
       "    word-break: break-all;\n",
       "    font-family: \"Source Code Pro\", \"Menlo\", monospace;;\n",
       "    font-size: 13px;\n",
       "    color: #555;\n",
       "    margin-left: 4px;\n",
       "    line-height: 19px;\n",
       "  }\n",
       "</style>\n",
       "<div class=\"ansiout\">Out[24]: 4.000000    10865\n",
       "3.000000     7081\n",
       "5.000000     6496\n",
       "4.333333     5441\n",
       "2.000000     5318\n",
       "3.666667     3793\n",
       "1.000000     3690\n",
       "4.666667     3463\n",
       "3.333333     2559\n",
       "2.666667     2122\n",
       "2.333333     1878\n",
       "1.666667      685\n",
       "1.333333      241\n",
       "0.666667        2\n",
       "Name: avg_feedback_of_online_services, dtype: int64</div>"
      ]
     },
     "metadata": {
      "application/vnd.databricks.v1+output": {
       "addedWidgets": {},
       "arguments": {},
       "data": "<div class=\"ansiout\">Out[24]: 4.000000    10865\n3.000000     7081\n5.000000     6496\n4.333333     5441\n2.000000     5318\n3.666667     3793\n1.000000     3690\n4.666667     3463\n3.333333     2559\n2.666667     2122\n2.333333     1878\n1.666667      685\n1.333333      241\n0.666667        2\nName: avg_feedback_of_online_services, dtype: int64</div>",
       "datasetInfos": [],
       "removedWidgets": [],
       "type": "html"
      }
     },
     "output_type": "display_data"
    }
   ],
   "source": [
    "online_df = df.loc[:, ['Ease_of_Onlinebooking', 'Online_boarding', 'Online_support']]\n",
    "online_df['avg_feedback_of_online_services'] = online_df.mean(axis = 1)\n",
    "\n",
    "online_df['avg_feedback_of_online_services'].value_counts()\n"
   ]
  },
  {
   "cell_type": "markdown",
   "metadata": {
    "application/vnd.databricks.v1+cell": {
     "inputWidgets": {},
     "nuid": "9d510357-de55-48f2-af45-f9a7b54574ed",
     "showTitle": false,
     "title": ""
    }
   },
   "source": [
    "# Model building and evaluation"
   ]
  },
  {
   "cell_type": "markdown",
   "metadata": {
    "application/vnd.databricks.v1+cell": {
     "inputWidgets": {},
     "nuid": "b0ee2bd9-bef8-4762-87bd-b63c37b89ac6",
     "showTitle": false,
     "title": ""
    }
   },
   "source": [
    "### 14. Encode the columns \"Gender\", \"CustomerType\", \"TypeTravel\", \"Class\", \"Satisfaction\" \n",
    "- Use manual encoding or other type of encoding"
   ]
  },
  {
   "cell_type": "code",
   "execution_count": 0,
   "metadata": {
    "application/vnd.databricks.v1+cell": {
     "inputWidgets": {},
     "nuid": "07bf1ca9-0a36-40b3-9ac9-d29635837b02",
     "showTitle": false,
     "title": ""
    }
   },
   "outputs": [
    {
     "data": {
      "text/html": [
       "<style scoped>\n",
       "  .ansiout {\n",
       "    display: block;\n",
       "    unicode-bidi: embed;\n",
       "    white-space: pre-wrap;\n",
       "    word-wrap: break-word;\n",
       "    word-break: break-all;\n",
       "    font-family: \"Source Code Pro\", \"Menlo\", monospace;;\n",
       "    font-size: 13px;\n",
       "    color: #555;\n",
       "    margin-left: 4px;\n",
       "    line-height: 19px;\n",
       "  }\n",
       "</style>\n",
       "<div class=\"ansiout\">Satisfaction -&gt; 2\n",
       "Gender -&gt; 2\n",
       "CustomerType -&gt; 2\n",
       "TypeTravel -&gt; 2\n",
       "Class -&gt; 3\n",
       "ArrivalDelayin_Mins -&gt; 401\n",
       "</div>"
      ]
     },
     "metadata": {
      "application/vnd.databricks.v1+output": {
       "addedWidgets": {},
       "arguments": {},
       "data": "<div class=\"ansiout\">Satisfaction -&gt; 2\nGender -&gt; 2\nCustomerType -&gt; 2\nTypeTravel -&gt; 2\nClass -&gt; 3\nArrivalDelayin_Mins -&gt; 401\n</div>",
       "datasetInfos": [],
       "removedWidgets": [],
       "type": "html"
      }
     },
     "output_type": "display_data"
    }
   ],
   "source": [
    "# Number of classes in each of the categorical attributes\n",
    "for i in df.columns:\n",
    "    if df[i].dtype == 'O':\n",
    "        print(i, '->', len(df[i].value_counts()))"
   ]
  },
  {
   "cell_type": "code",
   "execution_count": 0,
   "metadata": {
    "application/vnd.databricks.v1+cell": {
     "inputWidgets": {},
     "nuid": "7b4739fd-3285-44d1-93b3-18490afcf94e",
     "showTitle": false,
     "title": ""
    }
   },
   "outputs": [
    {
     "data": {
      "text/html": [
       "<style scoped>\n",
       "  .ansiout {\n",
       "    display: block;\n",
       "    unicode-bidi: embed;\n",
       "    white-space: pre-wrap;\n",
       "    word-wrap: break-word;\n",
       "    word-break: break-all;\n",
       "    font-family: \"Source Code Pro\", \"Menlo\", monospace;;\n",
       "    font-size: 13px;\n",
       "    color: #555;\n",
       "    margin-left: 4px;\n",
       "    line-height: 19px;\n",
       "  }\n",
       "</style>\n",
       "<div class=\"ansiout\">Out[26]: Business    25647\n",
       "Eco         24078\n",
       "Eco Plus     3909\n",
       "Name: Class, dtype: int64</div>"
      ]
     },
     "metadata": {
      "application/vnd.databricks.v1+output": {
       "addedWidgets": {},
       "arguments": {},
       "data": "<div class=\"ansiout\">Out[26]: Business    25647\nEco         24078\nEco Plus     3909\nName: Class, dtype: int64</div>",
       "datasetInfos": [],
       "removedWidgets": [],
       "type": "html"
      }
     },
     "output_type": "display_data"
    }
   ],
   "source": [
    "df.Class.value_counts()"
   ]
  },
  {
   "cell_type": "code",
   "execution_count": 0,
   "metadata": {
    "application/vnd.databricks.v1+cell": {
     "inputWidgets": {},
     "nuid": "20e3f1be-9503-4d95-9447-056d7edcaaa2",
     "showTitle": false,
     "title": ""
    }
   },
   "outputs": [
    {
     "data": {
      "text/html": [
       "<style scoped>\n",
       "  .ansiout {\n",
       "    display: block;\n",
       "    unicode-bidi: embed;\n",
       "    white-space: pre-wrap;\n",
       "    word-wrap: break-word;\n",
       "    word-break: break-all;\n",
       "    font-family: \"Source Code Pro\", \"Menlo\", monospace;;\n",
       "    font-size: 13px;\n",
       "    color: #555;\n",
       "    margin-left: 4px;\n",
       "    line-height: 19px;\n",
       "  }\n",
       "</style>\n",
       "<div class=\"ansiout\"></div>"
      ]
     },
     "metadata": {
      "application/vnd.databricks.v1+output": {
       "addedWidgets": {},
       "arguments": {},
       "data": "<div class=\"ansiout\"></div>",
       "datasetInfos": [],
       "removedWidgets": [],
       "type": "html"
      }
     },
     "output_type": "display_data"
    }
   ],
   "source": [
    "#Manuanl Encoding\n",
    "df.replace({'Loyal Customer' : 1, 'disloyal Customer' : 0,\n",
    "               'Business travel' : 1, 'Personal Travel' : 0,\n",
    "              'Female' : 0, 'Male' : 1,\n",
    "               'satisfied' : 1, 'neutral or dissatisfied' : 0, 'Eco Plus': 0 , 'Eco': 1, 'Business': 2}, inplace = True)\n",
    "               "
   ]
  },
  {
   "cell_type": "code",
   "execution_count": 0,
   "metadata": {
    "application/vnd.databricks.v1+cell": {
     "inputWidgets": {},
     "nuid": "249b8323-647d-437d-828a-7b923a065863",
     "showTitle": false,
     "title": ""
    }
   },
   "outputs": [],
   "source": []
  },
  {
   "cell_type": "code",
   "execution_count": 0,
   "metadata": {
    "application/vnd.databricks.v1+cell": {
     "inputWidgets": {},
     "nuid": "e30064b4-a797-4112-b80e-468506da81a2",
     "showTitle": false,
     "title": ""
    }
   },
   "outputs": [
    {
     "data": {
      "text/html": [
       "<style scoped>\n",
       "  .ansiout {\n",
       "    display: block;\n",
       "    unicode-bidi: embed;\n",
       "    white-space: pre-wrap;\n",
       "    word-wrap: break-word;\n",
       "    word-break: break-all;\n",
       "    font-family: \"Source Code Pro\", \"Menlo\", monospace;;\n",
       "    font-size: 13px;\n",
       "    color: #555;\n",
       "    margin-left: 4px;\n",
       "    line-height: 19px;\n",
       "  }\n",
       "</style>\n",
       "<div class=\"ansiout\"></div>"
      ]
     },
     "metadata": {
      "application/vnd.databricks.v1+output": {
       "addedWidgets": {},
       "arguments": {},
       "data": "<div class=\"ansiout\"></div>",
       "datasetInfos": [],
       "removedWidgets": [],
       "type": "html"
      }
     },
     "output_type": "display_data"
    }
   ],
   "source": [
    "df['ArrivalDelayin_Mins'] = df['ArrivalDelayin_Mins'].astype(int)"
   ]
  },
  {
   "cell_type": "code",
   "execution_count": 0,
   "metadata": {
    "application/vnd.databricks.v1+cell": {
     "inputWidgets": {},
     "nuid": "b0b959f9-8ca7-4a56-8595-6d6493f6e964",
     "showTitle": false,
     "title": ""
    }
   },
   "outputs": [
    {
     "data": {
      "text/html": [
       "<style scoped>\n",
       "  .ansiout {\n",
       "    display: block;\n",
       "    unicode-bidi: embed;\n",
       "    white-space: pre-wrap;\n",
       "    word-wrap: break-word;\n",
       "    word-break: break-all;\n",
       "    font-family: \"Source Code Pro\", \"Menlo\", monospace;;\n",
       "    font-size: 13px;\n",
       "    color: #555;\n",
       "    margin-left: 4px;\n",
       "    line-height: 19px;\n",
       "  }\n",
       "</style>\n",
       "<div class=\"ansiout\"></div>"
      ]
     },
     "metadata": {
      "application/vnd.databricks.v1+output": {
       "addedWidgets": {},
       "arguments": {},
       "data": "<div class=\"ansiout\"></div>",
       "datasetInfos": [],
       "removedWidgets": [],
       "type": "html"
      }
     },
     "output_type": "display_data"
    }
   ],
   "source": [
    "#onehotencoding\n",
    "df_coded = pd.get_dummies(df)"
   ]
  },
  {
   "cell_type": "code",
   "execution_count": 0,
   "metadata": {
    "application/vnd.databricks.v1+cell": {
     "inputWidgets": {},
     "nuid": "48830bf8-76a1-450c-bb47-0594bad5e086",
     "showTitle": false,
     "title": ""
    }
   },
   "outputs": [
    {
     "data": {
      "text/html": [
       "<style scoped>\n",
       "  .ansiout {\n",
       "    display: block;\n",
       "    unicode-bidi: embed;\n",
       "    white-space: pre-wrap;\n",
       "    word-wrap: break-word;\n",
       "    word-break: break-all;\n",
       "    font-family: \"Source Code Pro\", \"Menlo\", monospace;;\n",
       "    font-size: 13px;\n",
       "    color: #555;\n",
       "    margin-left: 4px;\n",
       "    line-height: 19px;\n",
       "  }\n",
       "</style>\n",
       "<div class=\"ansiout\">Out[30]: </div>"
      ]
     },
     "metadata": {
      "application/vnd.databricks.v1+output": {
       "addedWidgets": {},
       "arguments": {},
       "data": "<div class=\"ansiout\">Out[30]: </div>",
       "datasetInfos": [],
       "removedWidgets": [],
       "type": "html"
      }
     },
     "output_type": "display_data"
    },
    {
     "data": {
      "text/html": [
       "<div>\n",
       "<style scoped>\n",
       "    .dataframe tbody tr th:only-of-type {\n",
       "        vertical-align: middle;\n",
       "    }\n",
       "\n",
       "    .dataframe tbody tr th {\n",
       "        vertical-align: top;\n",
       "    }\n",
       "\n",
       "    .dataframe thead th {\n",
       "        text-align: right;\n",
       "    }\n",
       "</style>\n",
       "<table border=\"1\" class=\"dataframe\">\n",
       "  <thead>\n",
       "    <tr style=\"text-align: right;\">\n",
       "      <th></th>\n",
       "      <th>Satisfaction</th>\n",
       "      <th>Seat_comfort</th>\n",
       "      <th>Departure.Arrival.time_convenient</th>\n",
       "      <th>Food_drink</th>\n",
       "      <th>Gate_location</th>\n",
       "      <th>Inflightwifi_service</th>\n",
       "      <th>Inflight_entertainment</th>\n",
       "      <th>Online_support</th>\n",
       "      <th>Ease_of_Onlinebooking</th>\n",
       "      <th>Onboard_service</th>\n",
       "      <th>Leg_room_service</th>\n",
       "      <th>Baggage_handling</th>\n",
       "      <th>Checkin_service</th>\n",
       "      <th>Cleanliness</th>\n",
       "      <th>Online_boarding</th>\n",
       "      <th>Gender</th>\n",
       "      <th>CustomerType</th>\n",
       "      <th>Age</th>\n",
       "      <th>TypeTravel</th>\n",
       "      <th>Class</th>\n",
       "      <th>Flight_Distance</th>\n",
       "      <th>DepartureDelayin_Mins</th>\n",
       "      <th>ArrivalDelayin_Mins</th>\n",
       "    </tr>\n",
       "    <tr>\n",
       "      <th>Id</th>\n",
       "      <th></th>\n",
       "      <th></th>\n",
       "      <th></th>\n",
       "      <th></th>\n",
       "      <th></th>\n",
       "      <th></th>\n",
       "      <th></th>\n",
       "      <th></th>\n",
       "      <th></th>\n",
       "      <th></th>\n",
       "      <th></th>\n",
       "      <th></th>\n",
       "      <th></th>\n",
       "      <th></th>\n",
       "      <th></th>\n",
       "      <th></th>\n",
       "      <th></th>\n",
       "      <th></th>\n",
       "      <th></th>\n",
       "      <th></th>\n",
       "      <th></th>\n",
       "      <th></th>\n",
       "      <th></th>\n",
       "    </tr>\n",
       "  </thead>\n",
       "  <tbody>\n",
       "    <tr>\n",
       "      <th>198671</th>\n",
       "      <td>0</td>\n",
       "      <td>1</td>\n",
       "      <td>3</td>\n",
       "      <td>3</td>\n",
       "      <td>3</td>\n",
       "      <td>1</td>\n",
       "      <td>2</td>\n",
       "      <td>1</td>\n",
       "      <td>1</td>\n",
       "      <td>3</td>\n",
       "      <td>3</td>\n",
       "      <td>1</td>\n",
       "      <td>2</td>\n",
       "      <td>2</td>\n",
       "      <td>1</td>\n",
       "      <td>1</td>\n",
       "      <td>1</td>\n",
       "      <td>30</td>\n",
       "      <td>1</td>\n",
       "      <td>2</td>\n",
       "      <td>1354</td>\n",
       "      <td>11</td>\n",
       "      <td>8</td>\n",
       "    </tr>\n",
       "    <tr>\n",
       "      <th>191830</th>\n",
       "      <td>1</td>\n",
       "      <td>4</td>\n",
       "      <td>4</td>\n",
       "      <td>4</td>\n",
       "      <td>3</td>\n",
       "      <td>1</td>\n",
       "      <td>4</td>\n",
       "      <td>1</td>\n",
       "      <td>1</td>\n",
       "      <td>1</td>\n",
       "      <td>4</td>\n",
       "      <td>1</td>\n",
       "      <td>3</td>\n",
       "      <td>3</td>\n",
       "      <td>1</td>\n",
       "      <td>1</td>\n",
       "      <td>0</td>\n",
       "      <td>24</td>\n",
       "      <td>1</td>\n",
       "      <td>1</td>\n",
       "      <td>2291</td>\n",
       "      <td>0</td>\n",
       "      <td>0</td>\n",
       "    </tr>\n",
       "    <tr>\n",
       "      <th>228137</th>\n",
       "      <td>1</td>\n",
       "      <td>5</td>\n",
       "      <td>5</td>\n",
       "      <td>5</td>\n",
       "      <td>5</td>\n",
       "      <td>3</td>\n",
       "      <td>5</td>\n",
       "      <td>5</td>\n",
       "      <td>4</td>\n",
       "      <td>4</td>\n",
       "      <td>5</td>\n",
       "      <td>4</td>\n",
       "      <td>3</td>\n",
       "      <td>4</td>\n",
       "      <td>3</td>\n",
       "      <td>1</td>\n",
       "      <td>1</td>\n",
       "      <td>47</td>\n",
       "      <td>1</td>\n",
       "      <td>2</td>\n",
       "      <td>657</td>\n",
       "      <td>0</td>\n",
       "      <td>0</td>\n",
       "    </tr>\n",
       "    <tr>\n",
       "      <th>240081</th>\n",
       "      <td>1</td>\n",
       "      <td>1</td>\n",
       "      <td>1</td>\n",
       "      <td>1</td>\n",
       "      <td>1</td>\n",
       "      <td>5</td>\n",
       "      <td>5</td>\n",
       "      <td>5</td>\n",
       "      <td>4</td>\n",
       "      <td>2</td>\n",
       "      <td>4</td>\n",
       "      <td>4</td>\n",
       "      <td>5</td>\n",
       "      <td>3</td>\n",
       "      <td>5</td>\n",
       "      <td>0</td>\n",
       "      <td>1</td>\n",
       "      <td>30</td>\n",
       "      <td>1</td>\n",
       "      <td>2</td>\n",
       "      <td>5342</td>\n",
       "      <td>140</td>\n",
       "      <td>125</td>\n",
       "    </tr>\n",
       "    <tr>\n",
       "      <th>233692</th>\n",
       "      <td>1</td>\n",
       "      <td>1</td>\n",
       "      <td>1</td>\n",
       "      <td>1</td>\n",
       "      <td>1</td>\n",
       "      <td>2</td>\n",
       "      <td>5</td>\n",
       "      <td>5</td>\n",
       "      <td>5</td>\n",
       "      <td>5</td>\n",
       "      <td>5</td>\n",
       "      <td>5</td>\n",
       "      <td>5</td>\n",
       "      <td>5</td>\n",
       "      <td>3</td>\n",
       "      <td>1</td>\n",
       "      <td>1</td>\n",
       "      <td>58</td>\n",
       "      <td>1</td>\n",
       "      <td>2</td>\n",
       "      <td>351</td>\n",
       "      <td>0</td>\n",
       "      <td>0</td>\n",
       "    </tr>\n",
       "    <tr>\n",
       "      <th>...</th>\n",
       "      <td>...</td>\n",
       "      <td>...</td>\n",
       "      <td>...</td>\n",
       "      <td>...</td>\n",
       "      <td>...</td>\n",
       "      <td>...</td>\n",
       "      <td>...</td>\n",
       "      <td>...</td>\n",
       "      <td>...</td>\n",
       "      <td>...</td>\n",
       "      <td>...</td>\n",
       "      <td>...</td>\n",
       "      <td>...</td>\n",
       "      <td>...</td>\n",
       "      <td>...</td>\n",
       "      <td>...</td>\n",
       "      <td>...</td>\n",
       "      <td>...</td>\n",
       "      <td>...</td>\n",
       "      <td>...</td>\n",
       "      <td>...</td>\n",
       "      <td>...</td>\n",
       "      <td>...</td>\n",
       "    </tr>\n",
       "    <tr>\n",
       "      <th>240287</th>\n",
       "      <td>1</td>\n",
       "      <td>5</td>\n",
       "      <td>5</td>\n",
       "      <td>5</td>\n",
       "      <td>5</td>\n",
       "      <td>5</td>\n",
       "      <td>4</td>\n",
       "      <td>5</td>\n",
       "      <td>5</td>\n",
       "      <td>5</td>\n",
       "      <td>5</td>\n",
       "      <td>5</td>\n",
       "      <td>3</td>\n",
       "      <td>5</td>\n",
       "      <td>4</td>\n",
       "      <td>1</td>\n",
       "      <td>1</td>\n",
       "      <td>78</td>\n",
       "      <td>1</td>\n",
       "      <td>2</td>\n",
       "      <td>2741</td>\n",
       "      <td>0</td>\n",
       "      <td>0</td>\n",
       "    </tr>\n",
       "    <tr>\n",
       "      <th>177814</th>\n",
       "      <td>1</td>\n",
       "      <td>5</td>\n",
       "      <td>5</td>\n",
       "      <td>5</td>\n",
       "      <td>3</td>\n",
       "      <td>3</td>\n",
       "      <td>5</td>\n",
       "      <td>4</td>\n",
       "      <td>4</td>\n",
       "      <td>4</td>\n",
       "      <td>5</td>\n",
       "      <td>2</td>\n",
       "      <td>5</td>\n",
       "      <td>4</td>\n",
       "      <td>3</td>\n",
       "      <td>0</td>\n",
       "      <td>1</td>\n",
       "      <td>67</td>\n",
       "      <td>0</td>\n",
       "      <td>1</td>\n",
       "      <td>306</td>\n",
       "      <td>2</td>\n",
       "      <td>0</td>\n",
       "    </tr>\n",
       "    <tr>\n",
       "      <th>181405</th>\n",
       "      <td>0</td>\n",
       "      <td>2</td>\n",
       "      <td>0</td>\n",
       "      <td>2</td>\n",
       "      <td>4</td>\n",
       "      <td>3</td>\n",
       "      <td>2</td>\n",
       "      <td>3</td>\n",
       "      <td>3</td>\n",
       "      <td>4</td>\n",
       "      <td>2</td>\n",
       "      <td>5</td>\n",
       "      <td>5</td>\n",
       "      <td>4</td>\n",
       "      <td>3</td>\n",
       "      <td>0</td>\n",
       "      <td>0</td>\n",
       "      <td>25</td>\n",
       "      <td>1</td>\n",
       "      <td>2</td>\n",
       "      <td>2070</td>\n",
       "      <td>0</td>\n",
       "      <td>0</td>\n",
       "    </tr>\n",
       "    <tr>\n",
       "      <th>224128</th>\n",
       "      <td>1</td>\n",
       "      <td>4</td>\n",
       "      <td>1</td>\n",
       "      <td>5</td>\n",
       "      <td>5</td>\n",
       "      <td>4</td>\n",
       "      <td>4</td>\n",
       "      <td>4</td>\n",
       "      <td>4</td>\n",
       "      <td>4</td>\n",
       "      <td>3</td>\n",
       "      <td>2</td>\n",
       "      <td>1</td>\n",
       "      <td>3</td>\n",
       "      <td>4</td>\n",
       "      <td>0</td>\n",
       "      <td>1</td>\n",
       "      <td>37</td>\n",
       "      <td>1</td>\n",
       "      <td>1</td>\n",
       "      <td>1027</td>\n",
       "      <td>0</td>\n",
       "      <td>0</td>\n",
       "    </tr>\n",
       "    <tr>\n",
       "      <th>186039</th>\n",
       "      <td>0</td>\n",
       "      <td>3</td>\n",
       "      <td>2</td>\n",
       "      <td>2</td>\n",
       "      <td>3</td>\n",
       "      <td>4</td>\n",
       "      <td>3</td>\n",
       "      <td>4</td>\n",
       "      <td>4</td>\n",
       "      <td>1</td>\n",
       "      <td>5</td>\n",
       "      <td>3</td>\n",
       "      <td>2</td>\n",
       "      <td>4</td>\n",
       "      <td>4</td>\n",
       "      <td>1</td>\n",
       "      <td>0</td>\n",
       "      <td>43</td>\n",
       "      <td>1</td>\n",
       "      <td>2</td>\n",
       "      <td>1491</td>\n",
       "      <td>53</td>\n",
       "      <td>53</td>\n",
       "    </tr>\n",
       "  </tbody>\n",
       "</table>\n",
       "<p>53634 rows × 23 columns</p>\n",
       "</div>"
      ]
     },
     "metadata": {
      "application/vnd.databricks.v1+output": {
       "addedWidgets": {},
       "arguments": {},
       "data": "<div>\n<style scoped>\n    .dataframe tbody tr th:only-of-type {\n        vertical-align: middle;\n    }\n\n    .dataframe tbody tr th {\n        vertical-align: top;\n    }\n\n    .dataframe thead th {\n        text-align: right;\n    }\n</style>\n<table border=\"1\" class=\"dataframe\">\n  <thead>\n    <tr style=\"text-align: right;\">\n      <th></th>\n      <th>Satisfaction</th>\n      <th>Seat_comfort</th>\n      <th>Departure.Arrival.time_convenient</th>\n      <th>Food_drink</th>\n      <th>Gate_location</th>\n      <th>Inflightwifi_service</th>\n      <th>Inflight_entertainment</th>\n      <th>Online_support</th>\n      <th>Ease_of_Onlinebooking</th>\n      <th>Onboard_service</th>\n      <th>Leg_room_service</th>\n      <th>Baggage_handling</th>\n      <th>Checkin_service</th>\n      <th>Cleanliness</th>\n      <th>Online_boarding</th>\n      <th>Gender</th>\n      <th>CustomerType</th>\n      <th>Age</th>\n      <th>TypeTravel</th>\n      <th>Class</th>\n      <th>Flight_Distance</th>\n      <th>DepartureDelayin_Mins</th>\n      <th>ArrivalDelayin_Mins</th>\n    </tr>\n    <tr>\n      <th>Id</th>\n      <th></th>\n      <th></th>\n      <th></th>\n      <th></th>\n      <th></th>\n      <th></th>\n      <th></th>\n      <th></th>\n      <th></th>\n      <th></th>\n      <th></th>\n      <th></th>\n      <th></th>\n      <th></th>\n      <th></th>\n      <th></th>\n      <th></th>\n      <th></th>\n      <th></th>\n      <th></th>\n      <th></th>\n      <th></th>\n      <th></th>\n    </tr>\n  </thead>\n  <tbody>\n    <tr>\n      <th>198671</th>\n      <td>0</td>\n      <td>1</td>\n      <td>3</td>\n      <td>3</td>\n      <td>3</td>\n      <td>1</td>\n      <td>2</td>\n      <td>1</td>\n      <td>1</td>\n      <td>3</td>\n      <td>3</td>\n      <td>1</td>\n      <td>2</td>\n      <td>2</td>\n      <td>1</td>\n      <td>1</td>\n      <td>1</td>\n      <td>30</td>\n      <td>1</td>\n      <td>2</td>\n      <td>1354</td>\n      <td>11</td>\n      <td>8</td>\n    </tr>\n    <tr>\n      <th>191830</th>\n      <td>1</td>\n      <td>4</td>\n      <td>4</td>\n      <td>4</td>\n      <td>3</td>\n      <td>1</td>\n      <td>4</td>\n      <td>1</td>\n      <td>1</td>\n      <td>1</td>\n      <td>4</td>\n      <td>1</td>\n      <td>3</td>\n      <td>3</td>\n      <td>1</td>\n      <td>1</td>\n      <td>0</td>\n      <td>24</td>\n      <td>1</td>\n      <td>1</td>\n      <td>2291</td>\n      <td>0</td>\n      <td>0</td>\n    </tr>\n    <tr>\n      <th>228137</th>\n      <td>1</td>\n      <td>5</td>\n      <td>5</td>\n      <td>5</td>\n      <td>5</td>\n      <td>3</td>\n      <td>5</td>\n      <td>5</td>\n      <td>4</td>\n      <td>4</td>\n      <td>5</td>\n      <td>4</td>\n      <td>3</td>\n      <td>4</td>\n      <td>3</td>\n      <td>1</td>\n      <td>1</td>\n      <td>47</td>\n      <td>1</td>\n      <td>2</td>\n      <td>657</td>\n      <td>0</td>\n      <td>0</td>\n    </tr>\n    <tr>\n      <th>240081</th>\n      <td>1</td>\n      <td>1</td>\n      <td>1</td>\n      <td>1</td>\n      <td>1</td>\n      <td>5</td>\n      <td>5</td>\n      <td>5</td>\n      <td>4</td>\n      <td>2</td>\n      <td>4</td>\n      <td>4</td>\n      <td>5</td>\n      <td>3</td>\n      <td>5</td>\n      <td>0</td>\n      <td>1</td>\n      <td>30</td>\n      <td>1</td>\n      <td>2</td>\n      <td>5342</td>\n      <td>140</td>\n      <td>125</td>\n    </tr>\n    <tr>\n      <th>233692</th>\n      <td>1</td>\n      <td>1</td>\n      <td>1</td>\n      <td>1</td>\n      <td>1</td>\n      <td>2</td>\n      <td>5</td>\n      <td>5</td>\n      <td>5</td>\n      <td>5</td>\n      <td>5</td>\n      <td>5</td>\n      <td>5</td>\n      <td>5</td>\n      <td>3</td>\n      <td>1</td>\n      <td>1</td>\n      <td>58</td>\n      <td>1</td>\n      <td>2</td>\n      <td>351</td>\n      <td>0</td>\n      <td>0</td>\n    </tr>\n    <tr>\n      <th>...</th>\n      <td>...</td>\n      <td>...</td>\n      <td>...</td>\n      <td>...</td>\n      <td>...</td>\n      <td>...</td>\n      <td>...</td>\n      <td>...</td>\n      <td>...</td>\n      <td>...</td>\n      <td>...</td>\n      <td>...</td>\n      <td>...</td>\n      <td>...</td>\n      <td>...</td>\n      <td>...</td>\n      <td>...</td>\n      <td>...</td>\n      <td>...</td>\n      <td>...</td>\n      <td>...</td>\n      <td>...</td>\n      <td>...</td>\n    </tr>\n    <tr>\n      <th>240287</th>\n      <td>1</td>\n      <td>5</td>\n      <td>5</td>\n      <td>5</td>\n      <td>5</td>\n      <td>5</td>\n      <td>4</td>\n      <td>5</td>\n      <td>5</td>\n      <td>5</td>\n      <td>5</td>\n      <td>5</td>\n      <td>3</td>\n      <td>5</td>\n      <td>4</td>\n      <td>1</td>\n      <td>1</td>\n      <td>78</td>\n      <td>1</td>\n      <td>2</td>\n      <td>2741</td>\n      <td>0</td>\n      <td>0</td>\n    </tr>\n    <tr>\n      <th>177814</th>\n      <td>1</td>\n      <td>5</td>\n      <td>5</td>\n      <td>5</td>\n      <td>3</td>\n      <td>3</td>\n      <td>5</td>\n      <td>4</td>\n      <td>4</td>\n      <td>4</td>\n      <td>5</td>\n      <td>2</td>\n      <td>5</td>\n      <td>4</td>\n      <td>3</td>\n      <td>0</td>\n      <td>1</td>\n      <td>67</td>\n      <td>0</td>\n      <td>1</td>\n      <td>306</td>\n      <td>2</td>\n      <td>0</td>\n    </tr>\n    <tr>\n      <th>181405</th>\n      <td>0</td>\n      <td>2</td>\n      <td>0</td>\n      <td>2</td>\n      <td>4</td>\n      <td>3</td>\n      <td>2</td>\n      <td>3</td>\n      <td>3</td>\n      <td>4</td>\n      <td>2</td>\n      <td>5</td>\n      <td>5</td>\n      <td>4</td>\n      <td>3</td>\n      <td>0</td>\n      <td>0</td>\n      <td>25</td>\n      <td>1</td>\n      <td>2</td>\n      <td>2070</td>\n      <td>0</td>\n      <td>0</td>\n    </tr>\n    <tr>\n      <th>224128</th>\n      <td>1</td>\n      <td>4</td>\n      <td>1</td>\n      <td>5</td>\n      <td>5</td>\n      <td>4</td>\n      <td>4</td>\n      <td>4</td>\n      <td>4</td>\n      <td>4</td>\n      <td>3</td>\n      <td>2</td>\n      <td>1</td>\n      <td>3</td>\n      <td>4</td>\n      <td>0</td>\n      <td>1</td>\n      <td>37</td>\n      <td>1</td>\n      <td>1</td>\n      <td>1027</td>\n      <td>0</td>\n      <td>0</td>\n    </tr>\n    <tr>\n      <th>186039</th>\n      <td>0</td>\n      <td>3</td>\n      <td>2</td>\n      <td>2</td>\n      <td>3</td>\n      <td>4</td>\n      <td>3</td>\n      <td>4</td>\n      <td>4</td>\n      <td>1</td>\n      <td>5</td>\n      <td>3</td>\n      <td>2</td>\n      <td>4</td>\n      <td>4</td>\n      <td>1</td>\n      <td>0</td>\n      <td>43</td>\n      <td>1</td>\n      <td>2</td>\n      <td>1491</td>\n      <td>53</td>\n      <td>53</td>\n    </tr>\n  </tbody>\n</table>\n<p>53634 rows × 23 columns</p>\n</div>",
       "datasetInfos": [],
       "removedWidgets": [],
       "textData": null,
       "type": "htmlSandbox"
      }
     },
     "output_type": "display_data"
    }
   ],
   "source": [
    "df_coded"
   ]
  },
  {
   "cell_type": "code",
   "execution_count": 0,
   "metadata": {
    "application/vnd.databricks.v1+cell": {
     "inputWidgets": {},
     "nuid": "4b28cdb3-4233-40fa-91cf-ae9192e03a5a",
     "showTitle": false,
     "title": ""
    }
   },
   "outputs": [
    {
     "data": {
      "text/html": [
       "<style scoped>\n",
       "  .ansiout {\n",
       "    display: block;\n",
       "    unicode-bidi: embed;\n",
       "    white-space: pre-wrap;\n",
       "    word-wrap: break-word;\n",
       "    word-break: break-all;\n",
       "    font-family: \"Source Code Pro\", \"Menlo\", monospace;;\n",
       "    font-size: 13px;\n",
       "    color: #555;\n",
       "    margin-left: 4px;\n",
       "    line-height: 19px;\n",
       "  }\n",
       "</style>\n",
       "<div class=\"ansiout\">Out[31]: Index([&#39;Satisfaction&#39;, &#39;Seat_comfort&#39;, &#39;Departure.Arrival.time_convenient&#39;,\n",
       "       &#39;Food_drink&#39;, &#39;Gate_location&#39;, &#39;Inflightwifi_service&#39;,\n",
       "       &#39;Inflight_entertainment&#39;, &#39;Online_support&#39;, &#39;Ease_of_Onlinebooking&#39;,\n",
       "       &#39;Onboard_service&#39;, &#39;Leg_room_service&#39;, &#39;Baggage_handling&#39;,\n",
       "       &#39;Checkin_service&#39;, &#39;Cleanliness&#39;, &#39;Online_boarding&#39;, &#39;Gender&#39;,\n",
       "       &#39;CustomerType&#39;, &#39;Age&#39;, &#39;TypeTravel&#39;, &#39;Class&#39;, &#39;Flight_Distance&#39;,\n",
       "       &#39;DepartureDelayin_Mins&#39;, &#39;ArrivalDelayin_Mins&#39;],\n",
       "      dtype=&#39;object&#39;)</div>"
      ]
     },
     "metadata": {
      "application/vnd.databricks.v1+output": {
       "addedWidgets": {},
       "arguments": {},
       "data": "<div class=\"ansiout\">Out[31]: Index([&#39;Satisfaction&#39;, &#39;Seat_comfort&#39;, &#39;Departure.Arrival.time_convenient&#39;,\n       &#39;Food_drink&#39;, &#39;Gate_location&#39;, &#39;Inflightwifi_service&#39;,\n       &#39;Inflight_entertainment&#39;, &#39;Online_support&#39;, &#39;Ease_of_Onlinebooking&#39;,\n       &#39;Onboard_service&#39;, &#39;Leg_room_service&#39;, &#39;Baggage_handling&#39;,\n       &#39;Checkin_service&#39;, &#39;Cleanliness&#39;, &#39;Online_boarding&#39;, &#39;Gender&#39;,\n       &#39;CustomerType&#39;, &#39;Age&#39;, &#39;TypeTravel&#39;, &#39;Class&#39;, &#39;Flight_Distance&#39;,\n       &#39;DepartureDelayin_Mins&#39;, &#39;ArrivalDelayin_Mins&#39;],\n      dtype=&#39;object&#39;)</div>",
       "datasetInfos": [],
       "removedWidgets": [],
       "type": "html"
      }
     },
     "output_type": "display_data"
    }
   ],
   "source": [
    "df_coded.columns"
   ]
  },
  {
   "cell_type": "code",
   "execution_count": 0,
   "metadata": {
    "application/vnd.databricks.v1+cell": {
     "inputWidgets": {},
     "nuid": "044c7506-69c8-443b-82b3-a2ccbb6e2682",
     "showTitle": false,
     "title": ""
    },
    "scrolled": true
   },
   "outputs": [
    {
     "data": {
      "text/html": [
       "<style scoped>\n",
       "  .ansiout {\n",
       "    display: block;\n",
       "    unicode-bidi: embed;\n",
       "    white-space: pre-wrap;\n",
       "    word-wrap: break-word;\n",
       "    word-break: break-all;\n",
       "    font-family: \"Source Code Pro\", \"Menlo\", monospace;;\n",
       "    font-size: 13px;\n",
       "    color: #555;\n",
       "    margin-left: 4px;\n",
       "    line-height: 19px;\n",
       "  }\n",
       "</style>\n",
       "<div class=\"ansiout\">Out[32]: </div>"
      ]
     },
     "metadata": {
      "application/vnd.databricks.v1+output": {
       "addedWidgets": {},
       "arguments": {},
       "data": "<div class=\"ansiout\">Out[32]: </div>",
       "datasetInfos": [],
       "removedWidgets": [],
       "type": "html"
      }
     },
     "output_type": "display_data"
    },
    {
     "data": {
      "text/html": [
       "<div>\n",
       "<style scoped>\n",
       "    .dataframe tbody tr th:only-of-type {\n",
       "        vertical-align: middle;\n",
       "    }\n",
       "\n",
       "    .dataframe tbody tr th {\n",
       "        vertical-align: top;\n",
       "    }\n",
       "\n",
       "    .dataframe thead th {\n",
       "        text-align: right;\n",
       "    }\n",
       "</style>\n",
       "<table border=\"1\" class=\"dataframe\">\n",
       "  <thead>\n",
       "    <tr style=\"text-align: right;\">\n",
       "      <th></th>\n",
       "      <th>Satisfaction</th>\n",
       "      <th>Seat_comfort</th>\n",
       "      <th>Departure.Arrival.time_convenient</th>\n",
       "      <th>Food_drink</th>\n",
       "      <th>Gate_location</th>\n",
       "      <th>Inflightwifi_service</th>\n",
       "      <th>Inflight_entertainment</th>\n",
       "      <th>Online_support</th>\n",
       "      <th>Ease_of_Onlinebooking</th>\n",
       "      <th>Onboard_service</th>\n",
       "      <th>Leg_room_service</th>\n",
       "      <th>Baggage_handling</th>\n",
       "      <th>Checkin_service</th>\n",
       "      <th>Cleanliness</th>\n",
       "      <th>Online_boarding</th>\n",
       "      <th>Gender</th>\n",
       "      <th>CustomerType</th>\n",
       "      <th>Age</th>\n",
       "      <th>TypeTravel</th>\n",
       "      <th>Class</th>\n",
       "      <th>Flight_Distance</th>\n",
       "      <th>DepartureDelayin_Mins</th>\n",
       "      <th>ArrivalDelayin_Mins</th>\n",
       "    </tr>\n",
       "    <tr>\n",
       "      <th>Id</th>\n",
       "      <th></th>\n",
       "      <th></th>\n",
       "      <th></th>\n",
       "      <th></th>\n",
       "      <th></th>\n",
       "      <th></th>\n",
       "      <th></th>\n",
       "      <th></th>\n",
       "      <th></th>\n",
       "      <th></th>\n",
       "      <th></th>\n",
       "      <th></th>\n",
       "      <th></th>\n",
       "      <th></th>\n",
       "      <th></th>\n",
       "      <th></th>\n",
       "      <th></th>\n",
       "      <th></th>\n",
       "      <th></th>\n",
       "      <th></th>\n",
       "      <th></th>\n",
       "      <th></th>\n",
       "      <th></th>\n",
       "    </tr>\n",
       "  </thead>\n",
       "  <tbody>\n",
       "    <tr>\n",
       "      <th>198671</th>\n",
       "      <td>0</td>\n",
       "      <td>1</td>\n",
       "      <td>3</td>\n",
       "      <td>3</td>\n",
       "      <td>3</td>\n",
       "      <td>1</td>\n",
       "      <td>2</td>\n",
       "      <td>1</td>\n",
       "      <td>1</td>\n",
       "      <td>3</td>\n",
       "      <td>3</td>\n",
       "      <td>1</td>\n",
       "      <td>2</td>\n",
       "      <td>2</td>\n",
       "      <td>1</td>\n",
       "      <td>1</td>\n",
       "      <td>1</td>\n",
       "      <td>30</td>\n",
       "      <td>1</td>\n",
       "      <td>2</td>\n",
       "      <td>1354</td>\n",
       "      <td>11</td>\n",
       "      <td>8</td>\n",
       "    </tr>\n",
       "    <tr>\n",
       "      <th>191830</th>\n",
       "      <td>1</td>\n",
       "      <td>4</td>\n",
       "      <td>4</td>\n",
       "      <td>4</td>\n",
       "      <td>3</td>\n",
       "      <td>1</td>\n",
       "      <td>4</td>\n",
       "      <td>1</td>\n",
       "      <td>1</td>\n",
       "      <td>1</td>\n",
       "      <td>4</td>\n",
       "      <td>1</td>\n",
       "      <td>3</td>\n",
       "      <td>3</td>\n",
       "      <td>1</td>\n",
       "      <td>1</td>\n",
       "      <td>0</td>\n",
       "      <td>24</td>\n",
       "      <td>1</td>\n",
       "      <td>1</td>\n",
       "      <td>2291</td>\n",
       "      <td>0</td>\n",
       "      <td>0</td>\n",
       "    </tr>\n",
       "    <tr>\n",
       "      <th>228137</th>\n",
       "      <td>1</td>\n",
       "      <td>5</td>\n",
       "      <td>5</td>\n",
       "      <td>5</td>\n",
       "      <td>5</td>\n",
       "      <td>3</td>\n",
       "      <td>5</td>\n",
       "      <td>5</td>\n",
       "      <td>4</td>\n",
       "      <td>4</td>\n",
       "      <td>5</td>\n",
       "      <td>4</td>\n",
       "      <td>3</td>\n",
       "      <td>4</td>\n",
       "      <td>3</td>\n",
       "      <td>1</td>\n",
       "      <td>1</td>\n",
       "      <td>47</td>\n",
       "      <td>1</td>\n",
       "      <td>2</td>\n",
       "      <td>657</td>\n",
       "      <td>0</td>\n",
       "      <td>0</td>\n",
       "    </tr>\n",
       "    <tr>\n",
       "      <th>240081</th>\n",
       "      <td>1</td>\n",
       "      <td>1</td>\n",
       "      <td>1</td>\n",
       "      <td>1</td>\n",
       "      <td>1</td>\n",
       "      <td>5</td>\n",
       "      <td>5</td>\n",
       "      <td>5</td>\n",
       "      <td>4</td>\n",
       "      <td>2</td>\n",
       "      <td>4</td>\n",
       "      <td>4</td>\n",
       "      <td>5</td>\n",
       "      <td>3</td>\n",
       "      <td>5</td>\n",
       "      <td>0</td>\n",
       "      <td>1</td>\n",
       "      <td>30</td>\n",
       "      <td>1</td>\n",
       "      <td>2</td>\n",
       "      <td>5342</td>\n",
       "      <td>140</td>\n",
       "      <td>125</td>\n",
       "    </tr>\n",
       "    <tr>\n",
       "      <th>233692</th>\n",
       "      <td>1</td>\n",
       "      <td>1</td>\n",
       "      <td>1</td>\n",
       "      <td>1</td>\n",
       "      <td>1</td>\n",
       "      <td>2</td>\n",
       "      <td>5</td>\n",
       "      <td>5</td>\n",
       "      <td>5</td>\n",
       "      <td>5</td>\n",
       "      <td>5</td>\n",
       "      <td>5</td>\n",
       "      <td>5</td>\n",
       "      <td>5</td>\n",
       "      <td>3</td>\n",
       "      <td>1</td>\n",
       "      <td>1</td>\n",
       "      <td>58</td>\n",
       "      <td>1</td>\n",
       "      <td>2</td>\n",
       "      <td>351</td>\n",
       "      <td>0</td>\n",
       "      <td>0</td>\n",
       "    </tr>\n",
       "  </tbody>\n",
       "</table>\n",
       "</div>"
      ]
     },
     "metadata": {
      "application/vnd.databricks.v1+output": {
       "addedWidgets": {},
       "arguments": {},
       "data": "<div>\n<style scoped>\n    .dataframe tbody tr th:only-of-type {\n        vertical-align: middle;\n    }\n\n    .dataframe tbody tr th {\n        vertical-align: top;\n    }\n\n    .dataframe thead th {\n        text-align: right;\n    }\n</style>\n<table border=\"1\" class=\"dataframe\">\n  <thead>\n    <tr style=\"text-align: right;\">\n      <th></th>\n      <th>Satisfaction</th>\n      <th>Seat_comfort</th>\n      <th>Departure.Arrival.time_convenient</th>\n      <th>Food_drink</th>\n      <th>Gate_location</th>\n      <th>Inflightwifi_service</th>\n      <th>Inflight_entertainment</th>\n      <th>Online_support</th>\n      <th>Ease_of_Onlinebooking</th>\n      <th>Onboard_service</th>\n      <th>Leg_room_service</th>\n      <th>Baggage_handling</th>\n      <th>Checkin_service</th>\n      <th>Cleanliness</th>\n      <th>Online_boarding</th>\n      <th>Gender</th>\n      <th>CustomerType</th>\n      <th>Age</th>\n      <th>TypeTravel</th>\n      <th>Class</th>\n      <th>Flight_Distance</th>\n      <th>DepartureDelayin_Mins</th>\n      <th>ArrivalDelayin_Mins</th>\n    </tr>\n    <tr>\n      <th>Id</th>\n      <th></th>\n      <th></th>\n      <th></th>\n      <th></th>\n      <th></th>\n      <th></th>\n      <th></th>\n      <th></th>\n      <th></th>\n      <th></th>\n      <th></th>\n      <th></th>\n      <th></th>\n      <th></th>\n      <th></th>\n      <th></th>\n      <th></th>\n      <th></th>\n      <th></th>\n      <th></th>\n      <th></th>\n      <th></th>\n      <th></th>\n    </tr>\n  </thead>\n  <tbody>\n    <tr>\n      <th>198671</th>\n      <td>0</td>\n      <td>1</td>\n      <td>3</td>\n      <td>3</td>\n      <td>3</td>\n      <td>1</td>\n      <td>2</td>\n      <td>1</td>\n      <td>1</td>\n      <td>3</td>\n      <td>3</td>\n      <td>1</td>\n      <td>2</td>\n      <td>2</td>\n      <td>1</td>\n      <td>1</td>\n      <td>1</td>\n      <td>30</td>\n      <td>1</td>\n      <td>2</td>\n      <td>1354</td>\n      <td>11</td>\n      <td>8</td>\n    </tr>\n    <tr>\n      <th>191830</th>\n      <td>1</td>\n      <td>4</td>\n      <td>4</td>\n      <td>4</td>\n      <td>3</td>\n      <td>1</td>\n      <td>4</td>\n      <td>1</td>\n      <td>1</td>\n      <td>1</td>\n      <td>4</td>\n      <td>1</td>\n      <td>3</td>\n      <td>3</td>\n      <td>1</td>\n      <td>1</td>\n      <td>0</td>\n      <td>24</td>\n      <td>1</td>\n      <td>1</td>\n      <td>2291</td>\n      <td>0</td>\n      <td>0</td>\n    </tr>\n    <tr>\n      <th>228137</th>\n      <td>1</td>\n      <td>5</td>\n      <td>5</td>\n      <td>5</td>\n      <td>5</td>\n      <td>3</td>\n      <td>5</td>\n      <td>5</td>\n      <td>4</td>\n      <td>4</td>\n      <td>5</td>\n      <td>4</td>\n      <td>3</td>\n      <td>4</td>\n      <td>3</td>\n      <td>1</td>\n      <td>1</td>\n      <td>47</td>\n      <td>1</td>\n      <td>2</td>\n      <td>657</td>\n      <td>0</td>\n      <td>0</td>\n    </tr>\n    <tr>\n      <th>240081</th>\n      <td>1</td>\n      <td>1</td>\n      <td>1</td>\n      <td>1</td>\n      <td>1</td>\n      <td>5</td>\n      <td>5</td>\n      <td>5</td>\n      <td>4</td>\n      <td>2</td>\n      <td>4</td>\n      <td>4</td>\n      <td>5</td>\n      <td>3</td>\n      <td>5</td>\n      <td>0</td>\n      <td>1</td>\n      <td>30</td>\n      <td>1</td>\n      <td>2</td>\n      <td>5342</td>\n      <td>140</td>\n      <td>125</td>\n    </tr>\n    <tr>\n      <th>233692</th>\n      <td>1</td>\n      <td>1</td>\n      <td>1</td>\n      <td>1</td>\n      <td>1</td>\n      <td>2</td>\n      <td>5</td>\n      <td>5</td>\n      <td>5</td>\n      <td>5</td>\n      <td>5</td>\n      <td>5</td>\n      <td>5</td>\n      <td>5</td>\n      <td>3</td>\n      <td>1</td>\n      <td>1</td>\n      <td>58</td>\n      <td>1</td>\n      <td>2</td>\n      <td>351</td>\n      <td>0</td>\n      <td>0</td>\n    </tr>\n  </tbody>\n</table>\n</div>",
       "datasetInfos": [],
       "removedWidgets": [],
       "textData": null,
       "type": "htmlSandbox"
      }
     },
     "output_type": "display_data"
    }
   ],
   "source": [
    "df_coded.head()"
   ]
  },
  {
   "cell_type": "code",
   "execution_count": 0,
   "metadata": {
    "application/vnd.databricks.v1+cell": {
     "inputWidgets": {},
     "nuid": "7f5c24c7-bdb4-4e68-b13e-1ff7a3220606",
     "showTitle": false,
     "title": ""
    }
   },
   "outputs": [
    {
     "data": {
      "text/html": [
       "<style scoped>\n",
       "  .ansiout {\n",
       "    display: block;\n",
       "    unicode-bidi: embed;\n",
       "    white-space: pre-wrap;\n",
       "    word-wrap: break-word;\n",
       "    word-break: break-all;\n",
       "    font-family: \"Source Code Pro\", \"Menlo\", monospace;;\n",
       "    font-size: 13px;\n",
       "    color: #555;\n",
       "    margin-left: 4px;\n",
       "    line-height: 19px;\n",
       "  }\n",
       "</style>\n",
       "<div class=\"ansiout\">Out[33]: </div>"
      ]
     },
     "metadata": {
      "application/vnd.databricks.v1+output": {
       "addedWidgets": {},
       "arguments": {},
       "data": "<div class=\"ansiout\">Out[33]: </div>",
       "datasetInfos": [],
       "removedWidgets": [],
       "type": "html"
      }
     },
     "output_type": "display_data"
    },
    {
     "data": {
      "text/html": [
       "<div>\n",
       "<style scoped>\n",
       "    .dataframe tbody tr th:only-of-type {\n",
       "        vertical-align: middle;\n",
       "    }\n",
       "\n",
       "    .dataframe tbody tr th {\n",
       "        vertical-align: top;\n",
       "    }\n",
       "\n",
       "    .dataframe thead th {\n",
       "        text-align: right;\n",
       "    }\n",
       "</style>\n",
       "<table border=\"1\" class=\"dataframe\">\n",
       "  <thead>\n",
       "    <tr style=\"text-align: right;\">\n",
       "      <th></th>\n",
       "      <th>count</th>\n",
       "      <th>mean</th>\n",
       "      <th>std</th>\n",
       "      <th>min</th>\n",
       "      <th>25%</th>\n",
       "      <th>50%</th>\n",
       "      <th>75%</th>\n",
       "      <th>max</th>\n",
       "    </tr>\n",
       "  </thead>\n",
       "  <tbody>\n",
       "    <tr>\n",
       "      <th>Satisfaction</th>\n",
       "      <td>53634.0</td>\n",
       "      <td>0.547992</td>\n",
       "      <td>0.497696</td>\n",
       "      <td>0.0</td>\n",
       "      <td>0.0</td>\n",
       "      <td>1.0</td>\n",
       "      <td>1.0</td>\n",
       "      <td>1.0</td>\n",
       "    </tr>\n",
       "    <tr>\n",
       "      <th>Seat_comfort</th>\n",
       "      <td>53634.0</td>\n",
       "      <td>2.837827</td>\n",
       "      <td>1.394414</td>\n",
       "      <td>0.0</td>\n",
       "      <td>2.0</td>\n",
       "      <td>3.0</td>\n",
       "      <td>4.0</td>\n",
       "      <td>5.0</td>\n",
       "    </tr>\n",
       "    <tr>\n",
       "      <th>Departure.Arrival.time_convenient</th>\n",
       "      <td>53634.0</td>\n",
       "      <td>2.990379</td>\n",
       "      <td>1.525054</td>\n",
       "      <td>0.0</td>\n",
       "      <td>2.0</td>\n",
       "      <td>3.0</td>\n",
       "      <td>4.0</td>\n",
       "      <td>5.0</td>\n",
       "    </tr>\n",
       "    <tr>\n",
       "      <th>Food_drink</th>\n",
       "      <td>53634.0</td>\n",
       "      <td>2.846497</td>\n",
       "      <td>1.443142</td>\n",
       "      <td>0.0</td>\n",
       "      <td>2.0</td>\n",
       "      <td>3.0</td>\n",
       "      <td>4.0</td>\n",
       "      <td>5.0</td>\n",
       "    </tr>\n",
       "    <tr>\n",
       "      <th>Gate_location</th>\n",
       "      <td>53634.0</td>\n",
       "      <td>2.987266</td>\n",
       "      <td>1.305900</td>\n",
       "      <td>0.0</td>\n",
       "      <td>2.0</td>\n",
       "      <td>3.0</td>\n",
       "      <td>4.0</td>\n",
       "      <td>5.0</td>\n",
       "    </tr>\n",
       "    <tr>\n",
       "      <th>Inflightwifi_service</th>\n",
       "      <td>53634.0</td>\n",
       "      <td>3.255584</td>\n",
       "      <td>1.320158</td>\n",
       "      <td>0.0</td>\n",
       "      <td>2.0</td>\n",
       "      <td>3.0</td>\n",
       "      <td>4.0</td>\n",
       "      <td>5.0</td>\n",
       "    </tr>\n",
       "    <tr>\n",
       "      <th>Inflight_entertainment</th>\n",
       "      <td>53634.0</td>\n",
       "      <td>3.384215</td>\n",
       "      <td>1.340779</td>\n",
       "      <td>0.0</td>\n",
       "      <td>2.0</td>\n",
       "      <td>4.0</td>\n",
       "      <td>4.0</td>\n",
       "      <td>5.0</td>\n",
       "    </tr>\n",
       "    <tr>\n",
       "      <th>Online_support</th>\n",
       "      <td>53634.0</td>\n",
       "      <td>3.523008</td>\n",
       "      <td>1.307240</td>\n",
       "      <td>1.0</td>\n",
       "      <td>3.0</td>\n",
       "      <td>4.0</td>\n",
       "      <td>5.0</td>\n",
       "      <td>5.0</td>\n",
       "    </tr>\n",
       "    <tr>\n",
       "      <th>Ease_of_Onlinebooking</th>\n",
       "      <td>53634.0</td>\n",
       "      <td>3.480852</td>\n",
       "      <td>1.305118</td>\n",
       "      <td>0.0</td>\n",
       "      <td>2.0</td>\n",
       "      <td>4.0</td>\n",
       "      <td>5.0</td>\n",
       "      <td>5.0</td>\n",
       "    </tr>\n",
       "    <tr>\n",
       "      <th>Onboard_service</th>\n",
       "      <td>53634.0</td>\n",
       "      <td>3.467465</td>\n",
       "      <td>1.270331</td>\n",
       "      <td>0.0</td>\n",
       "      <td>3.0</td>\n",
       "      <td>4.0</td>\n",
       "      <td>4.0</td>\n",
       "      <td>5.0</td>\n",
       "    </tr>\n",
       "    <tr>\n",
       "      <th>Leg_room_service</th>\n",
       "      <td>53634.0</td>\n",
       "      <td>3.494985</td>\n",
       "      <td>1.290524</td>\n",
       "      <td>0.0</td>\n",
       "      <td>2.0</td>\n",
       "      <td>4.0</td>\n",
       "      <td>5.0</td>\n",
       "      <td>5.0</td>\n",
       "    </tr>\n",
       "    <tr>\n",
       "      <th>Baggage_handling</th>\n",
       "      <td>53634.0</td>\n",
       "      <td>3.700116</td>\n",
       "      <td>1.152632</td>\n",
       "      <td>1.0</td>\n",
       "      <td>3.0</td>\n",
       "      <td>4.0</td>\n",
       "      <td>5.0</td>\n",
       "      <td>5.0</td>\n",
       "    </tr>\n",
       "    <tr>\n",
       "      <th>Checkin_service</th>\n",
       "      <td>53634.0</td>\n",
       "      <td>3.338293</td>\n",
       "      <td>1.259321</td>\n",
       "      <td>1.0</td>\n",
       "      <td>3.0</td>\n",
       "      <td>3.0</td>\n",
       "      <td>4.0</td>\n",
       "      <td>5.0</td>\n",
       "    </tr>\n",
       "    <tr>\n",
       "      <th>Cleanliness</th>\n",
       "      <td>53634.0</td>\n",
       "      <td>3.712216</td>\n",
       "      <td>1.145935</td>\n",
       "      <td>0.0</td>\n",
       "      <td>3.0</td>\n",
       "      <td>4.0</td>\n",
       "      <td>5.0</td>\n",
       "      <td>5.0</td>\n",
       "    </tr>\n",
       "    <tr>\n",
       "      <th>Online_boarding</th>\n",
       "      <td>53634.0</td>\n",
       "      <td>3.354682</td>\n",
       "      <td>1.298049</td>\n",
       "      <td>0.0</td>\n",
       "      <td>2.0</td>\n",
       "      <td>4.0</td>\n",
       "      <td>4.0</td>\n",
       "      <td>5.0</td>\n",
       "    </tr>\n",
       "    <tr>\n",
       "      <th>Gender</th>\n",
       "      <td>53634.0</td>\n",
       "      <td>0.489689</td>\n",
       "      <td>0.499898</td>\n",
       "      <td>0.0</td>\n",
       "      <td>0.0</td>\n",
       "      <td>0.0</td>\n",
       "      <td>1.0</td>\n",
       "      <td>1.0</td>\n",
       "    </tr>\n",
       "    <tr>\n",
       "      <th>CustomerType</th>\n",
       "      <td>53634.0</td>\n",
       "      <td>0.818380</td>\n",
       "      <td>0.385535</td>\n",
       "      <td>0.0</td>\n",
       "      <td>1.0</td>\n",
       "      <td>1.0</td>\n",
       "      <td>1.0</td>\n",
       "      <td>1.0</td>\n",
       "    </tr>\n",
       "    <tr>\n",
       "      <th>Age</th>\n",
       "      <td>53634.0</td>\n",
       "      <td>39.401257</td>\n",
       "      <td>15.085143</td>\n",
       "      <td>7.0</td>\n",
       "      <td>27.0</td>\n",
       "      <td>40.0</td>\n",
       "      <td>51.0</td>\n",
       "      <td>85.0</td>\n",
       "    </tr>\n",
       "    <tr>\n",
       "      <th>TypeTravel</th>\n",
       "      <td>53634.0</td>\n",
       "      <td>0.689525</td>\n",
       "      <td>0.462692</td>\n",
       "      <td>0.0</td>\n",
       "      <td>0.0</td>\n",
       "      <td>1.0</td>\n",
       "      <td>1.0</td>\n",
       "      <td>1.0</td>\n",
       "    </tr>\n",
       "    <tr>\n",
       "      <th>Class</th>\n",
       "      <td>53634.0</td>\n",
       "      <td>1.405303</td>\n",
       "      <td>0.621937</td>\n",
       "      <td>0.0</td>\n",
       "      <td>1.0</td>\n",
       "      <td>1.0</td>\n",
       "      <td>2.0</td>\n",
       "      <td>2.0</td>\n",
       "    </tr>\n",
       "    <tr>\n",
       "      <th>Flight_Distance</th>\n",
       "      <td>53634.0</td>\n",
       "      <td>1981.766435</td>\n",
       "      <td>1027.590557</td>\n",
       "      <td>50.0</td>\n",
       "      <td>1360.0</td>\n",
       "      <td>1928.0</td>\n",
       "      <td>2540.0</td>\n",
       "      <td>6950.0</td>\n",
       "    </tr>\n",
       "    <tr>\n",
       "      <th>DepartureDelayin_Mins</th>\n",
       "      <td>53634.0</td>\n",
       "      <td>14.715479</td>\n",
       "      <td>38.702286</td>\n",
       "      <td>0.0</td>\n",
       "      <td>0.0</td>\n",
       "      <td>0.0</td>\n",
       "      <td>12.0</td>\n",
       "      <td>1128.0</td>\n",
       "    </tr>\n",
       "    <tr>\n",
       "      <th>ArrivalDelayin_Mins</th>\n",
       "      <td>53634.0</td>\n",
       "      <td>15.144852</td>\n",
       "      <td>39.176333</td>\n",
       "      <td>0.0</td>\n",
       "      <td>0.0</td>\n",
       "      <td>0.0</td>\n",
       "      <td>13.0</td>\n",
       "      <td>1115.0</td>\n",
       "    </tr>\n",
       "  </tbody>\n",
       "</table>\n",
       "</div>"
      ]
     },
     "metadata": {
      "application/vnd.databricks.v1+output": {
       "addedWidgets": {},
       "arguments": {},
       "data": "<div>\n<style scoped>\n    .dataframe tbody tr th:only-of-type {\n        vertical-align: middle;\n    }\n\n    .dataframe tbody tr th {\n        vertical-align: top;\n    }\n\n    .dataframe thead th {\n        text-align: right;\n    }\n</style>\n<table border=\"1\" class=\"dataframe\">\n  <thead>\n    <tr style=\"text-align: right;\">\n      <th></th>\n      <th>count</th>\n      <th>mean</th>\n      <th>std</th>\n      <th>min</th>\n      <th>25%</th>\n      <th>50%</th>\n      <th>75%</th>\n      <th>max</th>\n    </tr>\n  </thead>\n  <tbody>\n    <tr>\n      <th>Satisfaction</th>\n      <td>53634.0</td>\n      <td>0.547992</td>\n      <td>0.497696</td>\n      <td>0.0</td>\n      <td>0.0</td>\n      <td>1.0</td>\n      <td>1.0</td>\n      <td>1.0</td>\n    </tr>\n    <tr>\n      <th>Seat_comfort</th>\n      <td>53634.0</td>\n      <td>2.837827</td>\n      <td>1.394414</td>\n      <td>0.0</td>\n      <td>2.0</td>\n      <td>3.0</td>\n      <td>4.0</td>\n      <td>5.0</td>\n    </tr>\n    <tr>\n      <th>Departure.Arrival.time_convenient</th>\n      <td>53634.0</td>\n      <td>2.990379</td>\n      <td>1.525054</td>\n      <td>0.0</td>\n      <td>2.0</td>\n      <td>3.0</td>\n      <td>4.0</td>\n      <td>5.0</td>\n    </tr>\n    <tr>\n      <th>Food_drink</th>\n      <td>53634.0</td>\n      <td>2.846497</td>\n      <td>1.443142</td>\n      <td>0.0</td>\n      <td>2.0</td>\n      <td>3.0</td>\n      <td>4.0</td>\n      <td>5.0</td>\n    </tr>\n    <tr>\n      <th>Gate_location</th>\n      <td>53634.0</td>\n      <td>2.987266</td>\n      <td>1.305900</td>\n      <td>0.0</td>\n      <td>2.0</td>\n      <td>3.0</td>\n      <td>4.0</td>\n      <td>5.0</td>\n    </tr>\n    <tr>\n      <th>Inflightwifi_service</th>\n      <td>53634.0</td>\n      <td>3.255584</td>\n      <td>1.320158</td>\n      <td>0.0</td>\n      <td>2.0</td>\n      <td>3.0</td>\n      <td>4.0</td>\n      <td>5.0</td>\n    </tr>\n    <tr>\n      <th>Inflight_entertainment</th>\n      <td>53634.0</td>\n      <td>3.384215</td>\n      <td>1.340779</td>\n      <td>0.0</td>\n      <td>2.0</td>\n      <td>4.0</td>\n      <td>4.0</td>\n      <td>5.0</td>\n    </tr>\n    <tr>\n      <th>Online_support</th>\n      <td>53634.0</td>\n      <td>3.523008</td>\n      <td>1.307240</td>\n      <td>1.0</td>\n      <td>3.0</td>\n      <td>4.0</td>\n      <td>5.0</td>\n      <td>5.0</td>\n    </tr>\n    <tr>\n      <th>Ease_of_Onlinebooking</th>\n      <td>53634.0</td>\n      <td>3.480852</td>\n      <td>1.305118</td>\n      <td>0.0</td>\n      <td>2.0</td>\n      <td>4.0</td>\n      <td>5.0</td>\n      <td>5.0</td>\n    </tr>\n    <tr>\n      <th>Onboard_service</th>\n      <td>53634.0</td>\n      <td>3.467465</td>\n      <td>1.270331</td>\n      <td>0.0</td>\n      <td>3.0</td>\n      <td>4.0</td>\n      <td>4.0</td>\n      <td>5.0</td>\n    </tr>\n    <tr>\n      <th>Leg_room_service</th>\n      <td>53634.0</td>\n      <td>3.494985</td>\n      <td>1.290524</td>\n      <td>0.0</td>\n      <td>2.0</td>\n      <td>4.0</td>\n      <td>5.0</td>\n      <td>5.0</td>\n    </tr>\n    <tr>\n      <th>Baggage_handling</th>\n      <td>53634.0</td>\n      <td>3.700116</td>\n      <td>1.152632</td>\n      <td>1.0</td>\n      <td>3.0</td>\n      <td>4.0</td>\n      <td>5.0</td>\n      <td>5.0</td>\n    </tr>\n    <tr>\n      <th>Checkin_service</th>\n      <td>53634.0</td>\n      <td>3.338293</td>\n      <td>1.259321</td>\n      <td>1.0</td>\n      <td>3.0</td>\n      <td>3.0</td>\n      <td>4.0</td>\n      <td>5.0</td>\n    </tr>\n    <tr>\n      <th>Cleanliness</th>\n      <td>53634.0</td>\n      <td>3.712216</td>\n      <td>1.145935</td>\n      <td>0.0</td>\n      <td>3.0</td>\n      <td>4.0</td>\n      <td>5.0</td>\n      <td>5.0</td>\n    </tr>\n    <tr>\n      <th>Online_boarding</th>\n      <td>53634.0</td>\n      <td>3.354682</td>\n      <td>1.298049</td>\n      <td>0.0</td>\n      <td>2.0</td>\n      <td>4.0</td>\n      <td>4.0</td>\n      <td>5.0</td>\n    </tr>\n    <tr>\n      <th>Gender</th>\n      <td>53634.0</td>\n      <td>0.489689</td>\n      <td>0.499898</td>\n      <td>0.0</td>\n      <td>0.0</td>\n      <td>0.0</td>\n      <td>1.0</td>\n      <td>1.0</td>\n    </tr>\n    <tr>\n      <th>CustomerType</th>\n      <td>53634.0</td>\n      <td>0.818380</td>\n      <td>0.385535</td>\n      <td>0.0</td>\n      <td>1.0</td>\n      <td>1.0</td>\n      <td>1.0</td>\n      <td>1.0</td>\n    </tr>\n    <tr>\n      <th>Age</th>\n      <td>53634.0</td>\n      <td>39.401257</td>\n      <td>15.085143</td>\n      <td>7.0</td>\n      <td>27.0</td>\n      <td>40.0</td>\n      <td>51.0</td>\n      <td>85.0</td>\n    </tr>\n    <tr>\n      <th>TypeTravel</th>\n      <td>53634.0</td>\n      <td>0.689525</td>\n      <td>0.462692</td>\n      <td>0.0</td>\n      <td>0.0</td>\n      <td>1.0</td>\n      <td>1.0</td>\n      <td>1.0</td>\n    </tr>\n    <tr>\n      <th>Class</th>\n      <td>53634.0</td>\n      <td>1.405303</td>\n      <td>0.621937</td>\n      <td>0.0</td>\n      <td>1.0</td>\n      <td>1.0</td>\n      <td>2.0</td>\n      <td>2.0</td>\n    </tr>\n    <tr>\n      <th>Flight_Distance</th>\n      <td>53634.0</td>\n      <td>1981.766435</td>\n      <td>1027.590557</td>\n      <td>50.0</td>\n      <td>1360.0</td>\n      <td>1928.0</td>\n      <td>2540.0</td>\n      <td>6950.0</td>\n    </tr>\n    <tr>\n      <th>DepartureDelayin_Mins</th>\n      <td>53634.0</td>\n      <td>14.715479</td>\n      <td>38.702286</td>\n      <td>0.0</td>\n      <td>0.0</td>\n      <td>0.0</td>\n      <td>12.0</td>\n      <td>1128.0</td>\n    </tr>\n    <tr>\n      <th>ArrivalDelayin_Mins</th>\n      <td>53634.0</td>\n      <td>15.144852</td>\n      <td>39.176333</td>\n      <td>0.0</td>\n      <td>0.0</td>\n      <td>0.0</td>\n      <td>13.0</td>\n      <td>1115.0</td>\n    </tr>\n  </tbody>\n</table>\n</div>",
       "datasetInfos": [],
       "removedWidgets": [],
       "textData": null,
       "type": "htmlSandbox"
      }
     },
     "output_type": "display_data"
    }
   ],
   "source": [
    "df.describe().T\n"
   ]
  },
  {
   "cell_type": "markdown",
   "metadata": {
    "application/vnd.databricks.v1+cell": {
     "inputWidgets": {},
     "nuid": "691e5812-bd21-49f6-a799-9cd5c17460b4",
     "showTitle": false,
     "title": ""
    }
   },
   "source": [
    "# Scaling"
   ]
  },
  {
   "cell_type": "markdown",
   "metadata": {
    "application/vnd.databricks.v1+cell": {
     "inputWidgets": {},
     "nuid": "45e15093-a95a-42f9-b58c-ff0b7943e8ac",
     "showTitle": false,
     "title": ""
    }
   },
   "source": [
    "#MinMax Scaling - scales the data set such that all feature values are in the range [0, 1].\n",
    "#StandardScaler - removes the mean and scales the data to unit variance\n",
    "\n",
    "\n",
    "You can learn about other scalers here -\n",
    "https://scikit-learn.org/stable/auto_examples/preprocessing/plot_all_scaling.html"
   ]
  },
  {
   "cell_type": "code",
   "execution_count": 0,
   "metadata": {
    "application/vnd.databricks.v1+cell": {
     "inputWidgets": {},
     "nuid": "c8022d29-9043-4b99-8a1a-885e5d41ad5f",
     "showTitle": false,
     "title": ""
    },
    "scrolled": true
   },
   "outputs": [
    {
     "data": {
      "text/html": [
       "<style scoped>\n",
       "  .ansiout {\n",
       "    display: block;\n",
       "    unicode-bidi: embed;\n",
       "    white-space: pre-wrap;\n",
       "    word-wrap: break-word;\n",
       "    word-break: break-all;\n",
       "    font-family: \"Source Code Pro\", \"Menlo\", monospace;;\n",
       "    font-size: 13px;\n",
       "    color: #555;\n",
       "    margin-left: 4px;\n",
       "    line-height: 19px;\n",
       "  }\n",
       "</style>\n",
       "<div class=\"ansiout\">Out[34]: Index([&#39;Satisfaction&#39;, &#39;Seat_comfort&#39;, &#39;Departure.Arrival.time_convenient&#39;,\n",
       "       &#39;Food_drink&#39;, &#39;Gate_location&#39;, &#39;Inflightwifi_service&#39;,\n",
       "       &#39;Inflight_entertainment&#39;, &#39;Online_support&#39;, &#39;Ease_of_Onlinebooking&#39;,\n",
       "       &#39;Onboard_service&#39;, &#39;Leg_room_service&#39;, &#39;Baggage_handling&#39;,\n",
       "       &#39;Checkin_service&#39;, &#39;Cleanliness&#39;, &#39;Online_boarding&#39;, &#39;Gender&#39;,\n",
       "       &#39;CustomerType&#39;, &#39;Age&#39;, &#39;TypeTravel&#39;, &#39;Class&#39;, &#39;Flight_Distance&#39;,\n",
       "       &#39;DepartureDelayin_Mins&#39;, &#39;ArrivalDelayin_Mins&#39;],\n",
       "      dtype=&#39;object&#39;)</div>"
      ]
     },
     "metadata": {
      "application/vnd.databricks.v1+output": {
       "addedWidgets": {},
       "arguments": {},
       "data": "<div class=\"ansiout\">Out[34]: Index([&#39;Satisfaction&#39;, &#39;Seat_comfort&#39;, &#39;Departure.Arrival.time_convenient&#39;,\n       &#39;Food_drink&#39;, &#39;Gate_location&#39;, &#39;Inflightwifi_service&#39;,\n       &#39;Inflight_entertainment&#39;, &#39;Online_support&#39;, &#39;Ease_of_Onlinebooking&#39;,\n       &#39;Onboard_service&#39;, &#39;Leg_room_service&#39;, &#39;Baggage_handling&#39;,\n       &#39;Checkin_service&#39;, &#39;Cleanliness&#39;, &#39;Online_boarding&#39;, &#39;Gender&#39;,\n       &#39;CustomerType&#39;, &#39;Age&#39;, &#39;TypeTravel&#39;, &#39;Class&#39;, &#39;Flight_Distance&#39;,\n       &#39;DepartureDelayin_Mins&#39;, &#39;ArrivalDelayin_Mins&#39;],\n      dtype=&#39;object&#39;)</div>",
       "datasetInfos": [],
       "removedWidgets": [],
       "type": "html"
      }
     },
     "output_type": "display_data"
    }
   ],
   "source": [
    "df_coded.columns"
   ]
  },
  {
   "cell_type": "code",
   "execution_count": 0,
   "metadata": {
    "application/vnd.databricks.v1+cell": {
     "inputWidgets": {},
     "nuid": "fee0a0b6-0387-4611-9be0-9d79cb06805c",
     "showTitle": false,
     "title": ""
    }
   },
   "outputs": [
    {
     "data": {
      "text/html": [
       "<style scoped>\n",
       "  .ansiout {\n",
       "    display: block;\n",
       "    unicode-bidi: embed;\n",
       "    white-space: pre-wrap;\n",
       "    word-wrap: break-word;\n",
       "    word-break: break-all;\n",
       "    font-family: \"Source Code Pro\", \"Menlo\", monospace;;\n",
       "    font-size: 13px;\n",
       "    color: #555;\n",
       "    margin-left: 4px;\n",
       "    line-height: 19px;\n",
       "  }\n",
       "</style>\n",
       "<div class=\"ansiout\">Out[35]: Id\n",
       "198671      8\n",
       "191830      0\n",
       "228137      0\n",
       "240081    125\n",
       "233692      0\n",
       "         ... \n",
       "240287      0\n",
       "177814      0\n",
       "181405      0\n",
       "224128      0\n",
       "186039     53\n",
       "Name: ArrivalDelayin_Mins, Length: 53634, dtype: int64</div>"
      ]
     },
     "metadata": {
      "application/vnd.databricks.v1+output": {
       "addedWidgets": {},
       "arguments": {},
       "data": "<div class=\"ansiout\">Out[35]: Id\n198671      8\n191830      0\n228137      0\n240081    125\n233692      0\n         ... \n240287      0\n177814      0\n181405      0\n224128      0\n186039     53\nName: ArrivalDelayin_Mins, Length: 53634, dtype: int64</div>",
       "datasetInfos": [],
       "removedWidgets": [],
       "type": "html"
      }
     },
     "output_type": "display_data"
    }
   ],
   "source": [
    "df_coded['ArrivalDelayin_Mins']"
   ]
  },
  {
   "cell_type": "code",
   "execution_count": 0,
   "metadata": {
    "application/vnd.databricks.v1+cell": {
     "inputWidgets": {},
     "nuid": "d0434741-3a9d-4769-ad33-2c25b353998e",
     "showTitle": false,
     "title": ""
    }
   },
   "outputs": [
    {
     "data": {
      "text/html": [
       "<style scoped>\n",
       "  .ansiout {\n",
       "    display: block;\n",
       "    unicode-bidi: embed;\n",
       "    white-space: pre-wrap;\n",
       "    word-wrap: break-word;\n",
       "    word-break: break-all;\n",
       "    font-family: \"Source Code Pro\", \"Menlo\", monospace;;\n",
       "    font-size: 13px;\n",
       "    color: #555;\n",
       "    margin-left: 4px;\n",
       "    line-height: 19px;\n",
       "  }\n",
       "</style>\n",
       "<div class=\"ansiout\"></div>"
      ]
     },
     "metadata": {
      "application/vnd.databricks.v1+output": {
       "addedWidgets": {},
       "arguments": {},
       "data": "<div class=\"ansiout\"></div>",
       "datasetInfos": [],
       "removedWidgets": [],
       "type": "html"
      }
     },
     "output_type": "display_data"
    }
   ],
   "source": [
    "#Here we are going to use StandardScaler to scale our data.\n",
    "from sklearn.preprocessing import StandardScaler\n",
    "\n",
    "scaler = StandardScaler()\n",
    "#What all columns to scale? I have preferred all columns except onehotencoded columns and target columns as\n",
    "#scaling of target feature will not change anything as they already have values like 0 and 1 only.\n",
    "#You may only scale numerical features and leave categorical features as required according to business problem need and results.\n",
    "cols_to_scale = ['Seat_comfort', 'Departure.Arrival.time_convenient',\n",
    "       'Food_drink', 'Gate_location', 'Inflightwifi_service',\n",
    "       'Inflight_entertainment', 'Online_support', 'Ease_of_Onlinebooking',\n",
    "       'Onboard_service', 'Leg_room_service', 'Baggage_handling',\n",
    "       'Checkin_service', 'Cleanliness', 'Online_boarding',\n",
    "       'Age', 'Flight_Distance','DepartureDelayin_Mins', 'ArrivalDelayin_Mins']\n",
    "\n",
    "df_coded[cols_to_scale] = scaler.fit_transform(df_coded[cols_to_scale].to_numpy())"
   ]
  },
  {
   "cell_type": "code",
   "execution_count": 0,
   "metadata": {
    "application/vnd.databricks.v1+cell": {
     "inputWidgets": {},
     "nuid": "61d9da24-3aac-445a-9668-85fd0dbf6d17",
     "showTitle": false,
     "title": ""
    },
    "scrolled": true
   },
   "outputs": [
    {
     "data": {
      "text/html": [
       "<style scoped>\n",
       "  .ansiout {\n",
       "    display: block;\n",
       "    unicode-bidi: embed;\n",
       "    white-space: pre-wrap;\n",
       "    word-wrap: break-word;\n",
       "    word-break: break-all;\n",
       "    font-family: \"Source Code Pro\", \"Menlo\", monospace;;\n",
       "    font-size: 13px;\n",
       "    color: #555;\n",
       "    margin-left: 4px;\n",
       "    line-height: 19px;\n",
       "  }\n",
       "</style>\n",
       "<div class=\"ansiout\">Out[37]: </div>"
      ]
     },
     "metadata": {
      "application/vnd.databricks.v1+output": {
       "addedWidgets": {},
       "arguments": {},
       "data": "<div class=\"ansiout\">Out[37]: </div>",
       "datasetInfos": [],
       "removedWidgets": [],
       "type": "html"
      }
     },
     "output_type": "display_data"
    },
    {
     "data": {
      "text/html": [
       "<div>\n",
       "<style scoped>\n",
       "    .dataframe tbody tr th:only-of-type {\n",
       "        vertical-align: middle;\n",
       "    }\n",
       "\n",
       "    .dataframe tbody tr th {\n",
       "        vertical-align: top;\n",
       "    }\n",
       "\n",
       "    .dataframe thead th {\n",
       "        text-align: right;\n",
       "    }\n",
       "</style>\n",
       "<table border=\"1\" class=\"dataframe\">\n",
       "  <thead>\n",
       "    <tr style=\"text-align: right;\">\n",
       "      <th></th>\n",
       "      <th>Satisfaction</th>\n",
       "      <th>Seat_comfort</th>\n",
       "      <th>Departure.Arrival.time_convenient</th>\n",
       "      <th>Food_drink</th>\n",
       "      <th>Gate_location</th>\n",
       "      <th>Inflightwifi_service</th>\n",
       "      <th>Inflight_entertainment</th>\n",
       "      <th>Online_support</th>\n",
       "      <th>Ease_of_Onlinebooking</th>\n",
       "      <th>Onboard_service</th>\n",
       "      <th>Leg_room_service</th>\n",
       "      <th>Baggage_handling</th>\n",
       "      <th>Checkin_service</th>\n",
       "      <th>Cleanliness</th>\n",
       "      <th>Online_boarding</th>\n",
       "      <th>Gender</th>\n",
       "      <th>CustomerType</th>\n",
       "      <th>Age</th>\n",
       "      <th>TypeTravel</th>\n",
       "      <th>Class</th>\n",
       "      <th>Flight_Distance</th>\n",
       "      <th>DepartureDelayin_Mins</th>\n",
       "      <th>ArrivalDelayin_Mins</th>\n",
       "    </tr>\n",
       "  </thead>\n",
       "  <tbody>\n",
       "    <tr>\n",
       "      <th>count</th>\n",
       "      <td>53634.000000</td>\n",
       "      <td>5.363400e+04</td>\n",
       "      <td>5.363400e+04</td>\n",
       "      <td>5.363400e+04</td>\n",
       "      <td>5.363400e+04</td>\n",
       "      <td>5.363400e+04</td>\n",
       "      <td>5.363400e+04</td>\n",
       "      <td>5.363400e+04</td>\n",
       "      <td>5.363400e+04</td>\n",
       "      <td>5.363400e+04</td>\n",
       "      <td>5.363400e+04</td>\n",
       "      <td>5.363400e+04</td>\n",
       "      <td>5.363400e+04</td>\n",
       "      <td>5.363400e+04</td>\n",
       "      <td>5.363400e+04</td>\n",
       "      <td>53634.000000</td>\n",
       "      <td>53634.000000</td>\n",
       "      <td>5.363400e+04</td>\n",
       "      <td>53634.000000</td>\n",
       "      <td>53634.000000</td>\n",
       "      <td>5.363400e+04</td>\n",
       "      <td>5.363400e+04</td>\n",
       "      <td>5.363400e+04</td>\n",
       "    </tr>\n",
       "    <tr>\n",
       "      <th>mean</th>\n",
       "      <td>0.547992</td>\n",
       "      <td>1.677196e-16</td>\n",
       "      <td>-1.090310e-16</td>\n",
       "      <td>1.499673e-16</td>\n",
       "      <td>5.166716e-18</td>\n",
       "      <td>-2.503870e-17</td>\n",
       "      <td>-9.512057e-17</td>\n",
       "      <td>-7.511611e-17</td>\n",
       "      <td>5.948348e-17</td>\n",
       "      <td>-1.269820e-16</td>\n",
       "      <td>-8.876154e-17</td>\n",
       "      <td>-2.043834e-16</td>\n",
       "      <td>-1.438069e-16</td>\n",
       "      <td>-9.657785e-17</td>\n",
       "      <td>-1.034668e-16</td>\n",
       "      <td>0.489689</td>\n",
       "      <td>0.818380</td>\n",
       "      <td>-1.793778e-16</td>\n",
       "      <td>0.689525</td>\n",
       "      <td>1.405303</td>\n",
       "      <td>1.171122e-16</td>\n",
       "      <td>1.324799e-17</td>\n",
       "      <td>-1.603007e-17</td>\n",
       "    </tr>\n",
       "    <tr>\n",
       "      <th>std</th>\n",
       "      <td>0.497696</td>\n",
       "      <td>1.000009e+00</td>\n",
       "      <td>1.000009e+00</td>\n",
       "      <td>1.000009e+00</td>\n",
       "      <td>1.000009e+00</td>\n",
       "      <td>1.000009e+00</td>\n",
       "      <td>1.000009e+00</td>\n",
       "      <td>1.000009e+00</td>\n",
       "      <td>1.000009e+00</td>\n",
       "      <td>1.000009e+00</td>\n",
       "      <td>1.000009e+00</td>\n",
       "      <td>1.000009e+00</td>\n",
       "      <td>1.000009e+00</td>\n",
       "      <td>1.000009e+00</td>\n",
       "      <td>1.000009e+00</td>\n",
       "      <td>0.499898</td>\n",
       "      <td>0.385535</td>\n",
       "      <td>1.000009e+00</td>\n",
       "      <td>0.462692</td>\n",
       "      <td>0.621937</td>\n",
       "      <td>1.000009e+00</td>\n",
       "      <td>1.000009e+00</td>\n",
       "      <td>1.000009e+00</td>\n",
       "    </tr>\n",
       "    <tr>\n",
       "      <th>min</th>\n",
       "      <td>0.000000</td>\n",
       "      <td>-2.035159e+00</td>\n",
       "      <td>-1.960854e+00</td>\n",
       "      <td>-1.972449e+00</td>\n",
       "      <td>-2.287537e+00</td>\n",
       "      <td>-2.466080e+00</td>\n",
       "      <td>-2.524089e+00</td>\n",
       "      <td>-1.930045e+00</td>\n",
       "      <td>-2.667103e+00</td>\n",
       "      <td>-2.729602e+00</td>\n",
       "      <td>-2.708216e+00</td>\n",
       "      <td>-2.342587e+00</td>\n",
       "      <td>-1.856806e+00</td>\n",
       "      <td>-3.239496e+00</td>\n",
       "      <td>-2.584427e+00</td>\n",
       "      <td>0.000000</td>\n",
       "      <td>0.000000</td>\n",
       "      <td>-2.147912e+00</td>\n",
       "      <td>0.000000</td>\n",
       "      <td>0.000000</td>\n",
       "      <td>-1.879917e+00</td>\n",
       "      <td>-3.802260e-01</td>\n",
       "      <td>-3.865853e-01</td>\n",
       "    </tr>\n",
       "    <tr>\n",
       "      <th>25%</th>\n",
       "      <td>0.000000</td>\n",
       "      <td>-6.008509e-01</td>\n",
       "      <td>-6.494122e-01</td>\n",
       "      <td>-5.865706e-01</td>\n",
       "      <td>-7.560113e-01</td>\n",
       "      <td>-9.510954e-01</td>\n",
       "      <td>-1.032406e+00</td>\n",
       "      <td>-4.000894e-01</td>\n",
       "      <td>-1.134660e+00</td>\n",
       "      <td>-3.679900e-01</td>\n",
       "      <td>-1.158443e+00</td>\n",
       "      <td>-6.074118e-01</td>\n",
       "      <td>-2.686337e-01</td>\n",
       "      <td>-6.215212e-01</td>\n",
       "      <td>-1.043639e+00</td>\n",
       "      <td>0.000000</td>\n",
       "      <td>1.000000</td>\n",
       "      <td>-8.220918e-01</td>\n",
       "      <td>0.000000</td>\n",
       "      <td>1.000000</td>\n",
       "      <td>-6.050778e-01</td>\n",
       "      <td>-3.802260e-01</td>\n",
       "      <td>-3.865853e-01</td>\n",
       "    </tr>\n",
       "    <tr>\n",
       "      <th>50%</th>\n",
       "      <td>1.000000</td>\n",
       "      <td>1.163032e-01</td>\n",
       "      <td>6.308534e-03</td>\n",
       "      <td>1.063685e-01</td>\n",
       "      <td>9.751576e-03</td>\n",
       "      <td>-1.936030e-01</td>\n",
       "      <td>4.592780e-01</td>\n",
       "      <td>3.648885e-01</td>\n",
       "      <td>3.977826e-01</td>\n",
       "      <td>4.192139e-01</td>\n",
       "      <td>3.913297e-01</td>\n",
       "      <td>2.601761e-01</td>\n",
       "      <td>-2.686337e-01</td>\n",
       "      <td>2.511369e-01</td>\n",
       "      <td>4.971495e-01</td>\n",
       "      <td>0.000000</td>\n",
       "      <td>1.000000</td>\n",
       "      <td>3.969130e-02</td>\n",
       "      <td>1.000000</td>\n",
       "      <td>1.000000</td>\n",
       "      <td>-5.232331e-02</td>\n",
       "      <td>-3.802260e-01</td>\n",
       "      <td>-3.865853e-01</td>\n",
       "    </tr>\n",
       "    <tr>\n",
       "      <th>75%</th>\n",
       "      <td>1.000000</td>\n",
       "      <td>8.334573e-01</td>\n",
       "      <td>6.620292e-01</td>\n",
       "      <td>7.993076e-01</td>\n",
       "      <td>7.755144e-01</td>\n",
       "      <td>5.638893e-01</td>\n",
       "      <td>4.592780e-01</td>\n",
       "      <td>1.129866e+00</td>\n",
       "      <td>1.164004e+00</td>\n",
       "      <td>4.192139e-01</td>\n",
       "      <td>1.166216e+00</td>\n",
       "      <td>1.127764e+00</td>\n",
       "      <td>5.254524e-01</td>\n",
       "      <td>1.123795e+00</td>\n",
       "      <td>4.971495e-01</td>\n",
       "      <td>1.000000</td>\n",
       "      <td>1.000000</td>\n",
       "      <td>7.688924e-01</td>\n",
       "      <td>1.000000</td>\n",
       "      <td>2.000000</td>\n",
       "      <td>5.432502e-01</td>\n",
       "      <td>-7.016393e-02</td>\n",
       "      <td>-5.474918e-02</td>\n",
       "    </tr>\n",
       "    <tr>\n",
       "      <th>max</th>\n",
       "      <td>1.000000</td>\n",
       "      <td>1.550611e+00</td>\n",
       "      <td>1.317750e+00</td>\n",
       "      <td>1.492247e+00</td>\n",
       "      <td>1.541277e+00</td>\n",
       "      <td>1.321382e+00</td>\n",
       "      <td>1.205120e+00</td>\n",
       "      <td>1.129866e+00</td>\n",
       "      <td>1.164004e+00</td>\n",
       "      <td>1.206418e+00</td>\n",
       "      <td>1.166216e+00</td>\n",
       "      <td>1.127764e+00</td>\n",
       "      <td>1.319538e+00</td>\n",
       "      <td>1.123795e+00</td>\n",
       "      <td>1.267544e+00</td>\n",
       "      <td>1.000000</td>\n",
       "      <td>1.000000</td>\n",
       "      <td>3.022787e+00</td>\n",
       "      <td>1.000000</td>\n",
       "      <td>2.000000</td>\n",
       "      <td>4.834883e+00</td>\n",
       "      <td>2.876561e+01</td>\n",
       "      <td>2.807474e+01</td>\n",
       "    </tr>\n",
       "  </tbody>\n",
       "</table>\n",
       "</div>"
      ]
     },
     "metadata": {
      "application/vnd.databricks.v1+output": {
       "addedWidgets": {},
       "arguments": {},
       "data": "<div>\n<style scoped>\n    .dataframe tbody tr th:only-of-type {\n        vertical-align: middle;\n    }\n\n    .dataframe tbody tr th {\n        vertical-align: top;\n    }\n\n    .dataframe thead th {\n        text-align: right;\n    }\n</style>\n<table border=\"1\" class=\"dataframe\">\n  <thead>\n    <tr style=\"text-align: right;\">\n      <th></th>\n      <th>Satisfaction</th>\n      <th>Seat_comfort</th>\n      <th>Departure.Arrival.time_convenient</th>\n      <th>Food_drink</th>\n      <th>Gate_location</th>\n      <th>Inflightwifi_service</th>\n      <th>Inflight_entertainment</th>\n      <th>Online_support</th>\n      <th>Ease_of_Onlinebooking</th>\n      <th>Onboard_service</th>\n      <th>Leg_room_service</th>\n      <th>Baggage_handling</th>\n      <th>Checkin_service</th>\n      <th>Cleanliness</th>\n      <th>Online_boarding</th>\n      <th>Gender</th>\n      <th>CustomerType</th>\n      <th>Age</th>\n      <th>TypeTravel</th>\n      <th>Class</th>\n      <th>Flight_Distance</th>\n      <th>DepartureDelayin_Mins</th>\n      <th>ArrivalDelayin_Mins</th>\n    </tr>\n  </thead>\n  <tbody>\n    <tr>\n      <th>count</th>\n      <td>53634.000000</td>\n      <td>5.363400e+04</td>\n      <td>5.363400e+04</td>\n      <td>5.363400e+04</td>\n      <td>5.363400e+04</td>\n      <td>5.363400e+04</td>\n      <td>5.363400e+04</td>\n      <td>5.363400e+04</td>\n      <td>5.363400e+04</td>\n      <td>5.363400e+04</td>\n      <td>5.363400e+04</td>\n      <td>5.363400e+04</td>\n      <td>5.363400e+04</td>\n      <td>5.363400e+04</td>\n      <td>5.363400e+04</td>\n      <td>53634.000000</td>\n      <td>53634.000000</td>\n      <td>5.363400e+04</td>\n      <td>53634.000000</td>\n      <td>53634.000000</td>\n      <td>5.363400e+04</td>\n      <td>5.363400e+04</td>\n      <td>5.363400e+04</td>\n    </tr>\n    <tr>\n      <th>mean</th>\n      <td>0.547992</td>\n      <td>1.677196e-16</td>\n      <td>-1.090310e-16</td>\n      <td>1.499673e-16</td>\n      <td>5.166716e-18</td>\n      <td>-2.503870e-17</td>\n      <td>-9.512057e-17</td>\n      <td>-7.511611e-17</td>\n      <td>5.948348e-17</td>\n      <td>-1.269820e-16</td>\n      <td>-8.876154e-17</td>\n      <td>-2.043834e-16</td>\n      <td>-1.438069e-16</td>\n      <td>-9.657785e-17</td>\n      <td>-1.034668e-16</td>\n      <td>0.489689</td>\n      <td>0.818380</td>\n      <td>-1.793778e-16</td>\n      <td>0.689525</td>\n      <td>1.405303</td>\n      <td>1.171122e-16</td>\n      <td>1.324799e-17</td>\n      <td>-1.603007e-17</td>\n    </tr>\n    <tr>\n      <th>std</th>\n      <td>0.497696</td>\n      <td>1.000009e+00</td>\n      <td>1.000009e+00</td>\n      <td>1.000009e+00</td>\n      <td>1.000009e+00</td>\n      <td>1.000009e+00</td>\n      <td>1.000009e+00</td>\n      <td>1.000009e+00</td>\n      <td>1.000009e+00</td>\n      <td>1.000009e+00</td>\n      <td>1.000009e+00</td>\n      <td>1.000009e+00</td>\n      <td>1.000009e+00</td>\n      <td>1.000009e+00</td>\n      <td>1.000009e+00</td>\n      <td>0.499898</td>\n      <td>0.385535</td>\n      <td>1.000009e+00</td>\n      <td>0.462692</td>\n      <td>0.621937</td>\n      <td>1.000009e+00</td>\n      <td>1.000009e+00</td>\n      <td>1.000009e+00</td>\n    </tr>\n    <tr>\n      <th>min</th>\n      <td>0.000000</td>\n      <td>-2.035159e+00</td>\n      <td>-1.960854e+00</td>\n      <td>-1.972449e+00</td>\n      <td>-2.287537e+00</td>\n      <td>-2.466080e+00</td>\n      <td>-2.524089e+00</td>\n      <td>-1.930045e+00</td>\n      <td>-2.667103e+00</td>\n      <td>-2.729602e+00</td>\n      <td>-2.708216e+00</td>\n      <td>-2.342587e+00</td>\n      <td>-1.856806e+00</td>\n      <td>-3.239496e+00</td>\n      <td>-2.584427e+00</td>\n      <td>0.000000</td>\n      <td>0.000000</td>\n      <td>-2.147912e+00</td>\n      <td>0.000000</td>\n      <td>0.000000</td>\n      <td>-1.879917e+00</td>\n      <td>-3.802260e-01</td>\n      <td>-3.865853e-01</td>\n    </tr>\n    <tr>\n      <th>25%</th>\n      <td>0.000000</td>\n      <td>-6.008509e-01</td>\n      <td>-6.494122e-01</td>\n      <td>-5.865706e-01</td>\n      <td>-7.560113e-01</td>\n      <td>-9.510954e-01</td>\n      <td>-1.032406e+00</td>\n      <td>-4.000894e-01</td>\n      <td>-1.134660e+00</td>\n      <td>-3.679900e-01</td>\n      <td>-1.158443e+00</td>\n      <td>-6.074118e-01</td>\n      <td>-2.686337e-01</td>\n      <td>-6.215212e-01</td>\n      <td>-1.043639e+00</td>\n      <td>0.000000</td>\n      <td>1.000000</td>\n      <td>-8.220918e-01</td>\n      <td>0.000000</td>\n      <td>1.000000</td>\n      <td>-6.050778e-01</td>\n      <td>-3.802260e-01</td>\n      <td>-3.865853e-01</td>\n    </tr>\n    <tr>\n      <th>50%</th>\n      <td>1.000000</td>\n      <td>1.163032e-01</td>\n      <td>6.308534e-03</td>\n      <td>1.063685e-01</td>\n      <td>9.751576e-03</td>\n      <td>-1.936030e-01</td>\n      <td>4.592780e-01</td>\n      <td>3.648885e-01</td>\n      <td>3.977826e-01</td>\n      <td>4.192139e-01</td>\n      <td>3.913297e-01</td>\n      <td>2.601761e-01</td>\n      <td>-2.686337e-01</td>\n      <td>2.511369e-01</td>\n      <td>4.971495e-01</td>\n      <td>0.000000</td>\n      <td>1.000000</td>\n      <td>3.969130e-02</td>\n      <td>1.000000</td>\n      <td>1.000000</td>\n      <td>-5.232331e-02</td>\n      <td>-3.802260e-01</td>\n      <td>-3.865853e-01</td>\n    </tr>\n    <tr>\n      <th>75%</th>\n      <td>1.000000</td>\n      <td>8.334573e-01</td>\n      <td>6.620292e-01</td>\n      <td>7.993076e-01</td>\n      <td>7.755144e-01</td>\n      <td>5.638893e-01</td>\n      <td>4.592780e-01</td>\n      <td>1.129866e+00</td>\n      <td>1.164004e+00</td>\n      <td>4.192139e-01</td>\n      <td>1.166216e+00</td>\n      <td>1.127764e+00</td>\n      <td>5.254524e-01</td>\n      <td>1.123795e+00</td>\n      <td>4.971495e-01</td>\n      <td>1.000000</td>\n      <td>1.000000</td>\n      <td>7.688924e-01</td>\n      <td>1.000000</td>\n      <td>2.000000</td>\n      <td>5.432502e-01</td>\n      <td>-7.016393e-02</td>\n      <td>-5.474918e-02</td>\n    </tr>\n    <tr>\n      <th>max</th>\n      <td>1.000000</td>\n      <td>1.550611e+00</td>\n      <td>1.317750e+00</td>\n      <td>1.492247e+00</td>\n      <td>1.541277e+00</td>\n      <td>1.321382e+00</td>\n      <td>1.205120e+00</td>\n      <td>1.129866e+00</td>\n      <td>1.164004e+00</td>\n      <td>1.206418e+00</td>\n      <td>1.166216e+00</td>\n      <td>1.127764e+00</td>\n      <td>1.319538e+00</td>\n      <td>1.123795e+00</td>\n      <td>1.267544e+00</td>\n      <td>1.000000</td>\n      <td>1.000000</td>\n      <td>3.022787e+00</td>\n      <td>1.000000</td>\n      <td>2.000000</td>\n      <td>4.834883e+00</td>\n      <td>2.876561e+01</td>\n      <td>2.807474e+01</td>\n    </tr>\n  </tbody>\n</table>\n</div>",
       "datasetInfos": [],
       "removedWidgets": [],
       "textData": null,
       "type": "htmlSandbox"
      }
     },
     "output_type": "display_data"
    }
   ],
   "source": [
    "df_coded.describe()"
   ]
  },
  {
   "cell_type": "code",
   "execution_count": 0,
   "metadata": {
    "application/vnd.databricks.v1+cell": {
     "inputWidgets": {},
     "nuid": "967f3a4e-5d56-4416-a7bc-51a5a533c76b",
     "showTitle": false,
     "title": ""
    }
   },
   "outputs": [
    {
     "data": {
      "text/html": [
       "<style scoped>\n",
       "  .ansiout {\n",
       "    display: block;\n",
       "    unicode-bidi: embed;\n",
       "    white-space: pre-wrap;\n",
       "    word-wrap: break-word;\n",
       "    word-break: break-all;\n",
       "    font-family: \"Source Code Pro\", \"Menlo\", monospace;;\n",
       "    font-size: 13px;\n",
       "    color: #555;\n",
       "    margin-left: 4px;\n",
       "    line-height: 19px;\n",
       "  }\n",
       "</style>\n",
       "<div class=\"ansiout\">Out[38]: </div>"
      ]
     },
     "metadata": {
      "application/vnd.databricks.v1+output": {
       "addedWidgets": {},
       "arguments": {},
       "data": "<div class=\"ansiout\">Out[38]: </div>",
       "datasetInfos": [],
       "removedWidgets": [],
       "type": "html"
      }
     },
     "output_type": "display_data"
    },
    {
     "data": {
      "text/html": [
       "<div>\n",
       "<style scoped>\n",
       "    .dataframe tbody tr th:only-of-type {\n",
       "        vertical-align: middle;\n",
       "    }\n",
       "\n",
       "    .dataframe tbody tr th {\n",
       "        vertical-align: top;\n",
       "    }\n",
       "\n",
       "    .dataframe thead th {\n",
       "        text-align: right;\n",
       "    }\n",
       "</style>\n",
       "<table border=\"1\" class=\"dataframe\">\n",
       "  <thead>\n",
       "    <tr style=\"text-align: right;\">\n",
       "      <th></th>\n",
       "      <th>Satisfaction</th>\n",
       "      <th>Seat_comfort</th>\n",
       "      <th>Departure.Arrival.time_convenient</th>\n",
       "      <th>Food_drink</th>\n",
       "      <th>Gate_location</th>\n",
       "      <th>Inflightwifi_service</th>\n",
       "      <th>Inflight_entertainment</th>\n",
       "      <th>Online_support</th>\n",
       "      <th>Ease_of_Onlinebooking</th>\n",
       "      <th>Onboard_service</th>\n",
       "      <th>Leg_room_service</th>\n",
       "      <th>Baggage_handling</th>\n",
       "      <th>Checkin_service</th>\n",
       "      <th>Cleanliness</th>\n",
       "      <th>Online_boarding</th>\n",
       "      <th>Gender</th>\n",
       "      <th>CustomerType</th>\n",
       "      <th>Age</th>\n",
       "      <th>TypeTravel</th>\n",
       "      <th>Class</th>\n",
       "      <th>Flight_Distance</th>\n",
       "      <th>DepartureDelayin_Mins</th>\n",
       "      <th>ArrivalDelayin_Mins</th>\n",
       "    </tr>\n",
       "    <tr>\n",
       "      <th>Id</th>\n",
       "      <th></th>\n",
       "      <th></th>\n",
       "      <th></th>\n",
       "      <th></th>\n",
       "      <th></th>\n",
       "      <th></th>\n",
       "      <th></th>\n",
       "      <th></th>\n",
       "      <th></th>\n",
       "      <th></th>\n",
       "      <th></th>\n",
       "      <th></th>\n",
       "      <th></th>\n",
       "      <th></th>\n",
       "      <th></th>\n",
       "      <th></th>\n",
       "      <th></th>\n",
       "      <th></th>\n",
       "      <th></th>\n",
       "      <th></th>\n",
       "      <th></th>\n",
       "      <th></th>\n",
       "      <th></th>\n",
       "    </tr>\n",
       "  </thead>\n",
       "  <tbody>\n",
       "    <tr>\n",
       "      <th>198671</th>\n",
       "      <td>0</td>\n",
       "      <td>-1.318005</td>\n",
       "      <td>0.006309</td>\n",
       "      <td>0.106368</td>\n",
       "      <td>0.009752</td>\n",
       "      <td>-1.708588</td>\n",
       "      <td>-1.032406</td>\n",
       "      <td>-1.930045</td>\n",
       "      <td>-1.900882</td>\n",
       "      <td>-0.367990</td>\n",
       "      <td>-0.383557</td>\n",
       "      <td>-2.342587</td>\n",
       "      <td>-1.062720</td>\n",
       "      <td>-1.494179</td>\n",
       "      <td>-1.814033</td>\n",
       "      <td>1</td>\n",
       "      <td>1</td>\n",
       "      <td>-0.623219</td>\n",
       "      <td>1</td>\n",
       "      <td>2</td>\n",
       "      <td>-0.610917</td>\n",
       "      <td>-0.096002</td>\n",
       "      <td>-0.182378</td>\n",
       "    </tr>\n",
       "    <tr>\n",
       "      <th>191830</th>\n",
       "      <td>1</td>\n",
       "      <td>0.833457</td>\n",
       "      <td>0.662029</td>\n",
       "      <td>0.799308</td>\n",
       "      <td>0.009752</td>\n",
       "      <td>-1.708588</td>\n",
       "      <td>0.459278</td>\n",
       "      <td>-1.930045</td>\n",
       "      <td>-1.900882</td>\n",
       "      <td>-1.942398</td>\n",
       "      <td>0.391330</td>\n",
       "      <td>-2.342587</td>\n",
       "      <td>-0.268634</td>\n",
       "      <td>-0.621521</td>\n",
       "      <td>-1.814033</td>\n",
       "      <td>1</td>\n",
       "      <td>0</td>\n",
       "      <td>-1.020965</td>\n",
       "      <td>1</td>\n",
       "      <td>1</td>\n",
       "      <td>0.300934</td>\n",
       "      <td>-0.380226</td>\n",
       "      <td>-0.386585</td>\n",
       "    </tr>\n",
       "    <tr>\n",
       "      <th>228137</th>\n",
       "      <td>1</td>\n",
       "      <td>1.550611</td>\n",
       "      <td>1.317750</td>\n",
       "      <td>1.492247</td>\n",
       "      <td>1.541277</td>\n",
       "      <td>-0.193603</td>\n",
       "      <td>1.205120</td>\n",
       "      <td>1.129866</td>\n",
       "      <td>0.397783</td>\n",
       "      <td>0.419214</td>\n",
       "      <td>1.166216</td>\n",
       "      <td>0.260176</td>\n",
       "      <td>-0.268634</td>\n",
       "      <td>0.251137</td>\n",
       "      <td>-0.273245</td>\n",
       "      <td>1</td>\n",
       "      <td>1</td>\n",
       "      <td>0.503728</td>\n",
       "      <td>1</td>\n",
       "      <td>2</td>\n",
       "      <td>-1.289209</td>\n",
       "      <td>-0.380226</td>\n",
       "      <td>-0.386585</td>\n",
       "    </tr>\n",
       "    <tr>\n",
       "      <th>240081</th>\n",
       "      <td>1</td>\n",
       "      <td>-1.318005</td>\n",
       "      <td>-1.305133</td>\n",
       "      <td>-1.279510</td>\n",
       "      <td>-1.521774</td>\n",
       "      <td>1.321382</td>\n",
       "      <td>1.205120</td>\n",
       "      <td>1.129866</td>\n",
       "      <td>0.397783</td>\n",
       "      <td>-1.155194</td>\n",
       "      <td>0.391330</td>\n",
       "      <td>0.260176</td>\n",
       "      <td>1.319538</td>\n",
       "      <td>-0.621521</td>\n",
       "      <td>1.267544</td>\n",
       "      <td>0</td>\n",
       "      <td>1</td>\n",
       "      <td>-0.623219</td>\n",
       "      <td>1</td>\n",
       "      <td>2</td>\n",
       "      <td>3.270043</td>\n",
       "      <td>3.237165</td>\n",
       "      <td>2.804146</td>\n",
       "    </tr>\n",
       "    <tr>\n",
       "      <th>233692</th>\n",
       "      <td>1</td>\n",
       "      <td>-1.318005</td>\n",
       "      <td>-1.305133</td>\n",
       "      <td>-1.279510</td>\n",
       "      <td>-1.521774</td>\n",
       "      <td>-0.951095</td>\n",
       "      <td>1.205120</td>\n",
       "      <td>1.129866</td>\n",
       "      <td>1.164004</td>\n",
       "      <td>1.206418</td>\n",
       "      <td>1.166216</td>\n",
       "      <td>1.127764</td>\n",
       "      <td>1.319538</td>\n",
       "      <td>1.123795</td>\n",
       "      <td>-0.273245</td>\n",
       "      <td>1</td>\n",
       "      <td>1</td>\n",
       "      <td>1.232929</td>\n",
       "      <td>1</td>\n",
       "      <td>2</td>\n",
       "      <td>-1.586996</td>\n",
       "      <td>-0.380226</td>\n",
       "      <td>-0.386585</td>\n",
       "    </tr>\n",
       "  </tbody>\n",
       "</table>\n",
       "</div>"
      ]
     },
     "metadata": {
      "application/vnd.databricks.v1+output": {
       "addedWidgets": {},
       "arguments": {},
       "data": "<div>\n<style scoped>\n    .dataframe tbody tr th:only-of-type {\n        vertical-align: middle;\n    }\n\n    .dataframe tbody tr th {\n        vertical-align: top;\n    }\n\n    .dataframe thead th {\n        text-align: right;\n    }\n</style>\n<table border=\"1\" class=\"dataframe\">\n  <thead>\n    <tr style=\"text-align: right;\">\n      <th></th>\n      <th>Satisfaction</th>\n      <th>Seat_comfort</th>\n      <th>Departure.Arrival.time_convenient</th>\n      <th>Food_drink</th>\n      <th>Gate_location</th>\n      <th>Inflightwifi_service</th>\n      <th>Inflight_entertainment</th>\n      <th>Online_support</th>\n      <th>Ease_of_Onlinebooking</th>\n      <th>Onboard_service</th>\n      <th>Leg_room_service</th>\n      <th>Baggage_handling</th>\n      <th>Checkin_service</th>\n      <th>Cleanliness</th>\n      <th>Online_boarding</th>\n      <th>Gender</th>\n      <th>CustomerType</th>\n      <th>Age</th>\n      <th>TypeTravel</th>\n      <th>Class</th>\n      <th>Flight_Distance</th>\n      <th>DepartureDelayin_Mins</th>\n      <th>ArrivalDelayin_Mins</th>\n    </tr>\n    <tr>\n      <th>Id</th>\n      <th></th>\n      <th></th>\n      <th></th>\n      <th></th>\n      <th></th>\n      <th></th>\n      <th></th>\n      <th></th>\n      <th></th>\n      <th></th>\n      <th></th>\n      <th></th>\n      <th></th>\n      <th></th>\n      <th></th>\n      <th></th>\n      <th></th>\n      <th></th>\n      <th></th>\n      <th></th>\n      <th></th>\n      <th></th>\n      <th></th>\n    </tr>\n  </thead>\n  <tbody>\n    <tr>\n      <th>198671</th>\n      <td>0</td>\n      <td>-1.318005</td>\n      <td>0.006309</td>\n      <td>0.106368</td>\n      <td>0.009752</td>\n      <td>-1.708588</td>\n      <td>-1.032406</td>\n      <td>-1.930045</td>\n      <td>-1.900882</td>\n      <td>-0.367990</td>\n      <td>-0.383557</td>\n      <td>-2.342587</td>\n      <td>-1.062720</td>\n      <td>-1.494179</td>\n      <td>-1.814033</td>\n      <td>1</td>\n      <td>1</td>\n      <td>-0.623219</td>\n      <td>1</td>\n      <td>2</td>\n      <td>-0.610917</td>\n      <td>-0.096002</td>\n      <td>-0.182378</td>\n    </tr>\n    <tr>\n      <th>191830</th>\n      <td>1</td>\n      <td>0.833457</td>\n      <td>0.662029</td>\n      <td>0.799308</td>\n      <td>0.009752</td>\n      <td>-1.708588</td>\n      <td>0.459278</td>\n      <td>-1.930045</td>\n      <td>-1.900882</td>\n      <td>-1.942398</td>\n      <td>0.391330</td>\n      <td>-2.342587</td>\n      <td>-0.268634</td>\n      <td>-0.621521</td>\n      <td>-1.814033</td>\n      <td>1</td>\n      <td>0</td>\n      <td>-1.020965</td>\n      <td>1</td>\n      <td>1</td>\n      <td>0.300934</td>\n      <td>-0.380226</td>\n      <td>-0.386585</td>\n    </tr>\n    <tr>\n      <th>228137</th>\n      <td>1</td>\n      <td>1.550611</td>\n      <td>1.317750</td>\n      <td>1.492247</td>\n      <td>1.541277</td>\n      <td>-0.193603</td>\n      <td>1.205120</td>\n      <td>1.129866</td>\n      <td>0.397783</td>\n      <td>0.419214</td>\n      <td>1.166216</td>\n      <td>0.260176</td>\n      <td>-0.268634</td>\n      <td>0.251137</td>\n      <td>-0.273245</td>\n      <td>1</td>\n      <td>1</td>\n      <td>0.503728</td>\n      <td>1</td>\n      <td>2</td>\n      <td>-1.289209</td>\n      <td>-0.380226</td>\n      <td>-0.386585</td>\n    </tr>\n    <tr>\n      <th>240081</th>\n      <td>1</td>\n      <td>-1.318005</td>\n      <td>-1.305133</td>\n      <td>-1.279510</td>\n      <td>-1.521774</td>\n      <td>1.321382</td>\n      <td>1.205120</td>\n      <td>1.129866</td>\n      <td>0.397783</td>\n      <td>-1.155194</td>\n      <td>0.391330</td>\n      <td>0.260176</td>\n      <td>1.319538</td>\n      <td>-0.621521</td>\n      <td>1.267544</td>\n      <td>0</td>\n      <td>1</td>\n      <td>-0.623219</td>\n      <td>1</td>\n      <td>2</td>\n      <td>3.270043</td>\n      <td>3.237165</td>\n      <td>2.804146</td>\n    </tr>\n    <tr>\n      <th>233692</th>\n      <td>1</td>\n      <td>-1.318005</td>\n      <td>-1.305133</td>\n      <td>-1.279510</td>\n      <td>-1.521774</td>\n      <td>-0.951095</td>\n      <td>1.205120</td>\n      <td>1.129866</td>\n      <td>1.164004</td>\n      <td>1.206418</td>\n      <td>1.166216</td>\n      <td>1.127764</td>\n      <td>1.319538</td>\n      <td>1.123795</td>\n      <td>-0.273245</td>\n      <td>1</td>\n      <td>1</td>\n      <td>1.232929</td>\n      <td>1</td>\n      <td>2</td>\n      <td>-1.586996</td>\n      <td>-0.380226</td>\n      <td>-0.386585</td>\n    </tr>\n  </tbody>\n</table>\n</div>",
       "datasetInfos": [],
       "removedWidgets": [],
       "textData": null,
       "type": "htmlSandbox"
      }
     },
     "output_type": "display_data"
    }
   ],
   "source": [
    "df_coded.head()"
   ]
  },
  {
   "cell_type": "code",
   "execution_count": 0,
   "metadata": {
    "application/vnd.databricks.v1+cell": {
     "inputWidgets": {},
     "nuid": "8bea5bb4-281b-42ae-9bda-05a032867a63",
     "showTitle": false,
     "title": ""
    }
   },
   "outputs": [
    {
     "data": {
      "text/html": [
       "<style scoped>\n",
       "  .ansiout {\n",
       "    display: block;\n",
       "    unicode-bidi: embed;\n",
       "    white-space: pre-wrap;\n",
       "    word-wrap: break-word;\n",
       "    word-break: break-all;\n",
       "    font-family: \"Source Code Pro\", \"Menlo\", monospace;;\n",
       "    font-size: 13px;\n",
       "    color: #555;\n",
       "    margin-left: 4px;\n",
       "    line-height: 19px;\n",
       "  }\n",
       "</style>\n",
       "<div class=\"ansiout\"></div>"
      ]
     },
     "metadata": {
      "application/vnd.databricks.v1+output": {
       "addedWidgets": {},
       "arguments": {},
       "data": "<div class=\"ansiout\"></div>",
       "datasetInfos": [],
       "removedWidgets": [],
       "type": "html"
      }
     },
     "output_type": "display_data"
    }
   ],
   "source": [
    "df = df_coded"
   ]
  },
  {
   "cell_type": "markdown",
   "metadata": {
    "application/vnd.databricks.v1+cell": {
     "inputWidgets": {},
     "nuid": "2a44884c-9027-47d0-8f07-a0b37abcb08d",
     "showTitle": false,
     "title": ""
    }
   },
   "source": [
    "### 15. Seperate the column \"Satisfaction\" from the rest of the columns\n",
    "- Create X and y"
   ]
  },
  {
   "cell_type": "code",
   "execution_count": 0,
   "metadata": {
    "application/vnd.databricks.v1+cell": {
     "inputWidgets": {},
     "nuid": "1b523ae5-7233-41ce-9de2-4024bea30535",
     "showTitle": false,
     "title": ""
    }
   },
   "outputs": [
    {
     "data": {
      "text/html": [
       "<style scoped>\n",
       "  .ansiout {\n",
       "    display: block;\n",
       "    unicode-bidi: embed;\n",
       "    white-space: pre-wrap;\n",
       "    word-wrap: break-word;\n",
       "    word-break: break-all;\n",
       "    font-family: \"Source Code Pro\", \"Menlo\", monospace;;\n",
       "    font-size: 13px;\n",
       "    color: #555;\n",
       "    margin-left: 4px;\n",
       "    line-height: 19px;\n",
       "  }\n",
       "</style>\n",
       "<div class=\"ansiout\"></div>"
      ]
     },
     "metadata": {
      "application/vnd.databricks.v1+output": {
       "addedWidgets": {},
       "arguments": {},
       "data": "<div class=\"ansiout\"></div>",
       "datasetInfos": [],
       "removedWidgets": [],
       "type": "html"
      }
     },
     "output_type": "display_data"
    }
   ],
   "source": [
    "X = df.drop(columns= ['Satisfaction'])  # Seperating the target and the rest\n",
    "#X = df.drop(columns= ['Satisfaction'])\n",
    "y = df.Satisfaction"
   ]
  },
  {
   "cell_type": "markdown",
   "metadata": {
    "application/vnd.databricks.v1+cell": {
     "inputWidgets": {},
     "nuid": "8178b96e-4aa7-4608-9200-b26d231ac593",
     "showTitle": false,
     "title": ""
    }
   },
   "source": [
    "### 16. Create train and test datasets\n",
    "- Use train_test_split"
   ]
  },
  {
   "cell_type": "code",
   "execution_count": 0,
   "metadata": {
    "application/vnd.databricks.v1+cell": {
     "inputWidgets": {},
     "nuid": "e8a6bbbd-aa7c-4f82-a94c-0a6d8be9c886",
     "showTitle": false,
     "title": ""
    }
   },
   "outputs": [
    {
     "data": {
      "text/html": [
       "<style scoped>\n",
       "  .ansiout {\n",
       "    display: block;\n",
       "    unicode-bidi: embed;\n",
       "    white-space: pre-wrap;\n",
       "    word-wrap: break-word;\n",
       "    word-break: break-all;\n",
       "    font-family: \"Source Code Pro\", \"Menlo\", monospace;;\n",
       "    font-size: 13px;\n",
       "    color: #555;\n",
       "    margin-left: 4px;\n",
       "    line-height: 19px;\n",
       "  }\n",
       "</style>\n",
       "<div class=\"ansiout\"></div>"
      ]
     },
     "metadata": {
      "application/vnd.databricks.v1+output": {
       "addedWidgets": {},
       "arguments": {},
       "data": "<div class=\"ansiout\"></div>",
       "datasetInfos": [],
       "removedWidgets": [],
       "type": "html"
      }
     },
     "output_type": "display_data"
    }
   ],
   "source": [
    "from sklearn.model_selection import train_test_split # Splitting the data for training and testing out model\n",
    "\n",
    "X_train, X_test, y_train, y_test = train_test_split(X,y, random_state = 1, stratify = y)"
   ]
  },
  {
   "cell_type": "code",
   "execution_count": 0,
   "metadata": {
    "application/vnd.databricks.v1+cell": {
     "inputWidgets": {},
     "nuid": "119c8ba8-e3d8-4a59-82e1-e455bc9f12a8",
     "showTitle": false,
     "title": ""
    }
   },
   "outputs": [
    {
     "data": {
      "text/html": [
       "<style scoped>\n",
       "  .ansiout {\n",
       "    display: block;\n",
       "    unicode-bidi: embed;\n",
       "    white-space: pre-wrap;\n",
       "    word-wrap: break-word;\n",
       "    word-break: break-all;\n",
       "    font-family: \"Source Code Pro\", \"Menlo\", monospace;;\n",
       "    font-size: 13px;\n",
       "    color: #555;\n",
       "    margin-left: 4px;\n",
       "    line-height: 19px;\n",
       "  }\n",
       "</style>\n",
       "<div class=\"ansiout\">Out[43]: 1    22043\n",
       "0    18182\n",
       "Name: Satisfaction, dtype: int64</div>"
      ]
     },
     "metadata": {
      "application/vnd.databricks.v1+output": {
       "addedWidgets": {},
       "arguments": {},
       "data": "<div class=\"ansiout\">Out[43]: 1    22043\n0    18182\nName: Satisfaction, dtype: int64</div>",
       "datasetInfos": [],
       "removedWidgets": [],
       "type": "html"
      }
     },
     "output_type": "display_data"
    }
   ],
   "source": [
    "y_train.value_counts()"
   ]
  },
  {
   "cell_type": "code",
   "execution_count": 0,
   "metadata": {
    "application/vnd.databricks.v1+cell": {
     "inputWidgets": {},
     "nuid": "1edb1abd-67b0-4e21-8649-27c25e4af4a5",
     "showTitle": false,
     "title": ""
    }
   },
   "outputs": [
    {
     "data": {
      "text/html": [
       "<style scoped>\n",
       "  .ansiout {\n",
       "    display: block;\n",
       "    unicode-bidi: embed;\n",
       "    white-space: pre-wrap;\n",
       "    word-wrap: break-word;\n",
       "    word-break: break-all;\n",
       "    font-family: \"Source Code Pro\", \"Menlo\", monospace;;\n",
       "    font-size: 13px;\n",
       "    color: #555;\n",
       "    margin-left: 4px;\n",
       "    line-height: 19px;\n",
       "  }\n",
       "</style>\n",
       "<div class=\"ansiout\">Out[44]: 1    7348\n",
       "0    6061\n",
       "Name: Satisfaction, dtype: int64</div>"
      ]
     },
     "metadata": {
      "application/vnd.databricks.v1+output": {
       "addedWidgets": {},
       "arguments": {},
       "data": "<div class=\"ansiout\">Out[44]: 1    7348\n0    6061\nName: Satisfaction, dtype: int64</div>",
       "datasetInfos": [],
       "removedWidgets": [],
       "type": "html"
      }
     },
     "output_type": "display_data"
    }
   ],
   "source": [
    "y_test.value_counts()"
   ]
  },
  {
   "cell_type": "code",
   "execution_count": 0,
   "metadata": {
    "application/vnd.databricks.v1+cell": {
     "inputWidgets": {},
     "nuid": "a16ab7e3-2cc3-4caf-9873-0e484d63964c",
     "showTitle": false,
     "title": ""
    }
   },
   "outputs": [
    {
     "data": {
      "text/html": [
       "<style scoped>\n",
       "  .ansiout {\n",
       "    display: block;\n",
       "    unicode-bidi: embed;\n",
       "    white-space: pre-wrap;\n",
       "    word-wrap: break-word;\n",
       "    word-break: break-all;\n",
       "    font-family: \"Source Code Pro\", \"Menlo\", monospace;;\n",
       "    font-size: 13px;\n",
       "    color: #555;\n",
       "    margin-left: 4px;\n",
       "    line-height: 19px;\n",
       "  }\n",
       "</style>\n",
       "<div class=\"ansiout\">Out[45]: Seat_comfort                         float64\n",
       "Departure.Arrival.time_convenient    float64\n",
       "Food_drink                           float64\n",
       "Gate_location                        float64\n",
       "Inflightwifi_service                 float64\n",
       "Inflight_entertainment               float64\n",
       "Online_support                       float64\n",
       "Ease_of_Onlinebooking                float64\n",
       "Onboard_service                      float64\n",
       "Leg_room_service                     float64\n",
       "Baggage_handling                     float64\n",
       "Checkin_service                      float64\n",
       "Cleanliness                          float64\n",
       "Online_boarding                      float64\n",
       "Gender                                 int64\n",
       "CustomerType                           int64\n",
       "Age                                  float64\n",
       "TypeTravel                             int64\n",
       "Class                                  int64\n",
       "Flight_Distance                      float64\n",
       "ArrivalDelayin_Mins                  float64\n",
       "dtype: object</div>"
      ]
     },
     "metadata": {
      "application/vnd.databricks.v1+output": {
       "addedWidgets": {},
       "arguments": {},
       "data": "<div class=\"ansiout\">Out[45]: Seat_comfort                         float64\nDeparture.Arrival.time_convenient    float64\nFood_drink                           float64\nGate_location                        float64\nInflightwifi_service                 float64\nInflight_entertainment               float64\nOnline_support                       float64\nEase_of_Onlinebooking                float64\nOnboard_service                      float64\nLeg_room_service                     float64\nBaggage_handling                     float64\nCheckin_service                      float64\nCleanliness                          float64\nOnline_boarding                      float64\nGender                                 int64\nCustomerType                           int64\nAge                                  float64\nTypeTravel                             int64\nClass                                  int64\nFlight_Distance                      float64\nArrivalDelayin_Mins                  float64\ndtype: object</div>",
       "datasetInfos": [],
       "removedWidgets": [],
       "type": "html"
      }
     },
     "output_type": "display_data"
    }
   ],
   "source": [
    "X_train.dtypes"
   ]
  },
  {
   "cell_type": "markdown",
   "metadata": {
    "application/vnd.databricks.v1+cell": {
     "inputWidgets": {},
     "nuid": "9fbc5e22-bb77-4afb-baf0-7ff8353777d8",
     "showTitle": false,
     "title": ""
    }
   },
   "source": [
    "### 17. Print accuracy\n",
    "- Print accuracy on test data using below models\n",
    "- Logistic regression model trained using all the attributes\n",
    "- Logistic regression model trained using only the feedback columns\n",
    "- Decision tree model trained using all the attributes\n",
    "- Random forest model trained using all the attributes"
   ]
  },
  {
   "cell_type": "markdown",
   "metadata": {
    "application/vnd.databricks.v1+cell": {
     "inputWidgets": {},
     "nuid": "dafdf11f-f79c-4a12-b664-240c6db3cfac",
     "showTitle": false,
     "title": ""
    }
   },
   "source": [
    "Logistic Regression"
   ]
  },
  {
   "cell_type": "code",
   "execution_count": 0,
   "metadata": {
    "application/vnd.databricks.v1+cell": {
     "inputWidgets": {},
     "nuid": "3758aa13-7395-4eac-bfca-46478a56d67b",
     "showTitle": false,
     "title": ""
    }
   },
   "outputs": [
    {
     "data": {
      "text/html": [
       "<style scoped>\n",
       "  .ansiout {\n",
       "    display: block;\n",
       "    unicode-bidi: embed;\n",
       "    white-space: pre-wrap;\n",
       "    word-wrap: break-word;\n",
       "    word-break: break-all;\n",
       "    font-family: \"Source Code Pro\", \"Menlo\", monospace;;\n",
       "    font-size: 13px;\n",
       "    color: #555;\n",
       "    margin-left: 4px;\n",
       "    line-height: 19px;\n",
       "  }\n",
       "</style>\n",
       "<div class=\"ansiout\">Out[16]: 0.8367514356029533</div>"
      ]
     },
     "metadata": {
      "application/vnd.databricks.v1+output": {
       "addedWidgets": {},
       "arguments": {},
       "data": "<div class=\"ansiout\">Out[16]: 0.8367514356029533</div>",
       "datasetInfos": [],
       "removedWidgets": [],
       "type": "html"
      }
     },
     "output_type": "display_data"
    }
   ],
   "source": [
    "#Logistic Regression with only feedback columns\n",
    "from sklearn.linear_model import LogisticRegression #importing logistic regression\n",
    "\n",
    "lr = LogisticRegression()\n",
    "\n",
    "lr.fit(X_train, y_train)\n",
    "\n",
    "pred = lr.predict(X_test)  # Predictions from logistic regression\n",
    "score1 = lr.score(X_test, y_test)\n",
    "score1"
   ]
  },
  {
   "cell_type": "markdown",
   "metadata": {
    "application/vnd.databricks.v1+cell": {
     "inputWidgets": {},
     "nuid": "a60dffc6-0049-4a62-aad7-40534466a4d2",
     "showTitle": false,
     "title": ""
    }
   },
   "source": [
    "Predicting customer satisfaction solely based on the feedback"
   ]
  },
  {
   "cell_type": "code",
   "execution_count": 0,
   "metadata": {
    "application/vnd.databricks.v1+cell": {
     "inputWidgets": {},
     "nuid": "2cf84ee7-84c2-4623-b541-84f353c89d1a",
     "showTitle": false,
     "title": ""
    }
   },
   "outputs": [
    {
     "data": {
      "text/html": [
       "<style scoped>\n",
       "  .ansiout {\n",
       "    display: block;\n",
       "    unicode-bidi: embed;\n",
       "    white-space: pre-wrap;\n",
       "    word-wrap: break-word;\n",
       "    word-break: break-all;\n",
       "    font-family: \"Source Code Pro\", \"Menlo\", monospace;;\n",
       "    font-size: 13px;\n",
       "    color: #555;\n",
       "    margin-left: 4px;\n",
       "    line-height: 19px;\n",
       "  }\n",
       "</style>\n",
       "<div class=\"ansiout\"></div>"
      ]
     },
     "metadata": {
      "application/vnd.databricks.v1+output": {
       "addedWidgets": {},
       "arguments": {},
       "data": "<div class=\"ansiout\"></div>",
       "datasetInfos": [],
       "removedWidgets": [],
       "type": "html"
      }
     },
     "output_type": "display_data"
    }
   ],
   "source": [
    "feedback = ['Seat_comfort',\n",
    " 'Departure.Arrival.time_convenient',\n",
    " 'Food_drink',\n",
    " 'Gate_location',\n",
    " 'Inflightwifi_service',\n",
    " 'Inflight_entertainment',\n",
    " 'Online_support',\n",
    " 'Ease_of_Onlinebooking',\n",
    " 'Onboard_service',\n",
    " 'Leg_room_service',\n",
    " 'Baggage_handling',\n",
    " 'Checkin_service',\n",
    " 'Cleanliness',\n",
    " 'Online_boarding']"
   ]
  },
  {
   "cell_type": "code",
   "execution_count": 0,
   "metadata": {
    "application/vnd.databricks.v1+cell": {
     "inputWidgets": {},
     "nuid": "218aa320-3ae0-49b3-9d9e-e0409ff59ad3",
     "showTitle": false,
     "title": ""
    }
   },
   "outputs": [
    {
     "data": {
      "text/html": [
       "<style scoped>\n",
       "  .ansiout {\n",
       "    display: block;\n",
       "    unicode-bidi: embed;\n",
       "    white-space: pre-wrap;\n",
       "    word-wrap: break-word;\n",
       "    word-break: break-all;\n",
       "    font-family: \"Source Code Pro\", \"Menlo\", monospace;;\n",
       "    font-size: 13px;\n",
       "    color: #555;\n",
       "    margin-left: 4px;\n",
       "    line-height: 19px;\n",
       "  }\n",
       "</style>\n",
       "<div class=\"ansiout\">Number of features used = 14\n",
       "Accuracy in predicting customer satisfaction solely based on the feedback = 0.8049071519128943\n",
       "</div>"
      ]
     },
     "metadata": {
      "application/vnd.databricks.v1+output": {
       "addedWidgets": {},
       "arguments": {},
       "data": "<div class=\"ansiout\">Number of features used = 14\nAccuracy in predicting customer satisfaction solely based on the feedback = 0.8049071519128943\n</div>",
       "datasetInfos": [],
       "removedWidgets": [],
       "type": "html"
      }
     },
     "output_type": "display_data"
    }
   ],
   "source": [
    "#Logistic Regression with only feedback columns\n",
    "X_train, X_test, y_train, y_test = train_test_split(X.loc[:,feedback], y, random_state = 1, stratify = y)\n",
    "\n",
    "lr = LogisticRegression()\n",
    "\n",
    "lr.fit(X_train, y_train)\n",
    "\n",
    "pred = lr.predict(X_test)\n",
    "\n",
    "score2 = lr.score(X_test, y_test)\n",
    "\n",
    "print(f'Number of features used = {len(X_train.columns)}')\n",
    "print(f'Accuracy in predicting customer satisfaction solely based on the feedback = {score2}')"
   ]
  },
  {
   "cell_type": "markdown",
   "metadata": {
    "application/vnd.databricks.v1+cell": {
     "inputWidgets": {},
     "nuid": "15243d83-e6d1-4c5b-bd5a-e01e26e886e7",
     "showTitle": false,
     "title": ""
    }
   },
   "source": [
    "Decision Tree"
   ]
  },
  {
   "cell_type": "code",
   "execution_count": 0,
   "metadata": {
    "application/vnd.databricks.v1+cell": {
     "inputWidgets": {},
     "nuid": "915247c2-f0f5-43c0-9499-72ceb462b5c1",
     "showTitle": false,
     "title": ""
    }
   },
   "outputs": [
    {
     "data": {
      "text/html": [
       "<style scoped>\n",
       "  .ansiout {\n",
       "    display: block;\n",
       "    unicode-bidi: embed;\n",
       "    white-space: pre-wrap;\n",
       "    word-wrap: break-word;\n",
       "    word-break: break-all;\n",
       "    font-family: \"Source Code Pro\", \"Menlo\", monospace;;\n",
       "    font-size: 13px;\n",
       "    color: #555;\n",
       "    margin-left: 4px;\n",
       "    line-height: 19px;\n",
       "  }\n",
       "</style>\n",
       "<div class=\"ansiout\">Decision tree acccuracy score: 0.9332537847714222\n",
       "</div>"
      ]
     },
     "metadata": {
      "application/vnd.databricks.v1+output": {
       "addedWidgets": {},
       "arguments": {},
       "data": "<div class=\"ansiout\">Decision tree acccuracy score: 0.9332537847714222\n</div>",
       "datasetInfos": [],
       "removedWidgets": [],
       "type": "html"
      }
     },
     "output_type": "display_data"
    }
   ],
   "source": [
    "from sklearn.tree import DecisionTreeClassifier\n",
    "\n",
    "X_train, X_test, y_train, y_test = train_test_split(X, y, random_state = 1)\n",
    "\n",
    "dt = DecisionTreeClassifier()\n",
    "\n",
    "dt.fit(X_train, y_train)\n",
    "\n",
    "score3 = dt.score(X_test, y_test)\n",
    "pred = dt.predict(X_test)\n",
    "\n",
    "print(f\"Decision tree acccuracy score: {score3}\")"
   ]
  },
  {
   "cell_type": "markdown",
   "metadata": {
    "application/vnd.databricks.v1+cell": {
     "inputWidgets": {},
     "nuid": "f065d87b-6342-4d77-9565-99c407ca7e10",
     "showTitle": false,
     "title": ""
    }
   },
   "source": [
    "Random Forest"
   ]
  },
  {
   "cell_type": "code",
   "execution_count": 0,
   "metadata": {
    "application/vnd.databricks.v1+cell": {
     "inputWidgets": {},
     "nuid": "55d8e18b-1e7f-4074-81cd-dc9154df5267",
     "showTitle": false,
     "title": ""
    }
   },
   "outputs": [
    {
     "data": {
      "text/html": [
       "<style scoped>\n",
       "  .ansiout {\n",
       "    display: block;\n",
       "    unicode-bidi: embed;\n",
       "    white-space: pre-wrap;\n",
       "    word-wrap: break-word;\n",
       "    word-break: break-all;\n",
       "    font-family: \"Source Code Pro\", \"Menlo\", monospace;;\n",
       "    font-size: 13px;\n",
       "    color: #555;\n",
       "    margin-left: 4px;\n",
       "    line-height: 19px;\n",
       "  }\n",
       "</style>\n",
       "<div class=\"ansiout\">Random Forest accuracy score = 0.9528674770676412\n",
       "</div>"
      ]
     },
     "metadata": {
      "application/vnd.databricks.v1+output": {
       "addedWidgets": {},
       "arguments": {},
       "data": "<div class=\"ansiout\">Random Forest accuracy score = 0.9528674770676412\n</div>",
       "datasetInfos": [],
       "removedWidgets": [],
       "type": "html"
      }
     },
     "output_type": "display_data"
    }
   ],
   "source": [
    "from sklearn.ensemble import RandomForestClassifier\n",
    "\n",
    "rf = RandomForestClassifier()\n",
    "\n",
    "rf.fit(X_train, y_train)\n",
    "\n",
    "score4 = rf.score(X_test, y_test)\n",
    "\n",
    "print(f'Random Forest accuracy score = {score4}')"
   ]
  },
  {
   "cell_type": "markdown",
   "metadata": {
    "application/vnd.databricks.v1+cell": {
     "inputWidgets": {},
     "nuid": "194cd5df-5cb4-49fb-bd59-0ad94172f57a",
     "showTitle": false,
     "title": ""
    }
   },
   "source": [
    "### 18. Print feature importance\n",
    "- Print feature importance of Random Forest"
   ]
  },
  {
   "cell_type": "code",
   "execution_count": 0,
   "metadata": {
    "application/vnd.databricks.v1+cell": {
     "inputWidgets": {},
     "nuid": "7ad117ee-7db3-4370-8a98-a2eb51bb47f0",
     "showTitle": false,
     "title": ""
    }
   },
   "outputs": [
    {
     "data": {
      "text/html": [
       "<style scoped>\n",
       "  .ansiout {\n",
       "    display: block;\n",
       "    unicode-bidi: embed;\n",
       "    white-space: pre-wrap;\n",
       "    word-wrap: break-word;\n",
       "    word-break: break-all;\n",
       "    font-family: \"Source Code Pro\", \"Menlo\", monospace;;\n",
       "    font-size: 13px;\n",
       "    color: #555;\n",
       "    margin-left: 4px;\n",
       "    line-height: 19px;\n",
       "  }\n",
       "</style>\n",
       "<div class=\"ansiout\">Out[22]: Inflight_entertainment               0.383040\n",
       "Seat_comfort                         0.178324\n",
       "Ease_of_Onlinebooking                0.069749\n",
       "CustomerType                         0.044152\n",
       "TypeTravel                           0.038245\n",
       "Flight_Distance                      0.030243\n",
       "Gate_location                        0.026084\n",
       "Class                                0.024860\n",
       "Age                                  0.024360\n",
       "Checkin_service                      0.024026\n",
       "Departure.Arrival.time_convenient    0.020813\n",
       "Leg_room_service                     0.017573\n",
       "Cleanliness                          0.014509\n",
       "Baggage_handling                     0.014433\n",
       "Online_support                       0.013815\n",
       "Gender                               0.013353\n",
       "Online_boarding                      0.012941\n",
       "ArrivalDelayin_Mins                  0.012687\n",
       "DepartureDelayin_Mins                0.011426\n",
       "Onboard_service                      0.011169\n",
       "Food_drink                           0.008434\n",
       "Inflightwifi_service                 0.005767\n",
       "dtype: float64</div>"
      ]
     },
     "metadata": {
      "application/vnd.databricks.v1+output": {
       "addedWidgets": {},
       "arguments": {},
       "data": "<div class=\"ansiout\">Out[22]: Inflight_entertainment               0.383040\nSeat_comfort                         0.178324\nEase_of_Onlinebooking                0.069749\nCustomerType                         0.044152\nTypeTravel                           0.038245\nFlight_Distance                      0.030243\nGate_location                        0.026084\nClass                                0.024860\nAge                                  0.024360\nCheckin_service                      0.024026\nDeparture.Arrival.time_convenient    0.020813\nLeg_room_service                     0.017573\nCleanliness                          0.014509\nBaggage_handling                     0.014433\nOnline_support                       0.013815\nGender                               0.013353\nOnline_boarding                      0.012941\nArrivalDelayin_Mins                  0.012687\nDepartureDelayin_Mins                0.011426\nOnboard_service                      0.011169\nFood_drink                           0.008434\nInflightwifi_service                 0.005767\ndtype: float64</div>",
       "datasetInfos": [],
       "removedWidgets": [],
       "type": "html"
      }
     },
     "output_type": "display_data"
    }
   ],
   "source": [
    "#Decision Tree \n",
    "pd.Series(dt.feature_importances_, X_train.columns ).sort_values(ascending= False)"
   ]
  },
  {
   "cell_type": "code",
   "execution_count": 0,
   "metadata": {
    "application/vnd.databricks.v1+cell": {
     "inputWidgets": {},
     "nuid": "ad793d3b-5414-4275-a286-7e50bc6eb6f0",
     "showTitle": false,
     "title": ""
    },
    "scrolled": true
   },
   "outputs": [
    {
     "data": {
      "text/html": [
       "<style scoped>\n",
       "  .ansiout {\n",
       "    display: block;\n",
       "    unicode-bidi: embed;\n",
       "    white-space: pre-wrap;\n",
       "    word-wrap: break-word;\n",
       "    word-break: break-all;\n",
       "    font-family: \"Source Code Pro\", \"Menlo\", monospace;;\n",
       "    font-size: 13px;\n",
       "    color: #555;\n",
       "    margin-left: 4px;\n",
       "    line-height: 19px;\n",
       "  }\n",
       "</style>\n",
       "<div class=\"ansiout\">Out[52]: Inflight_entertainment               0.209677\n",
       "Seat_comfort                         0.127059\n",
       "Ease_of_Onlinebooking                0.075331\n",
       "Online_support                       0.067763\n",
       "Onboard_service                      0.049782\n",
       "Food_drink                           0.041761\n",
       "Flight_Distance                      0.040996\n",
       "CustomerType                         0.040418\n",
       "Class                                0.034949\n",
       "Leg_room_service                     0.034589\n",
       "Age                                  0.033690\n",
       "Online_boarding                      0.029859\n",
       "Gender                               0.028571\n",
       "Cleanliness                          0.028469\n",
       "Checkin_service                      0.025547\n",
       "Baggage_handling                     0.024365\n",
       "Departure.Arrival.time_convenient    0.023960\n",
       "TypeTravel                           0.023702\n",
       "Gate_location                        0.020524\n",
       "ArrivalDelayin_Mins                  0.019960\n",
       "Inflightwifi_service                 0.019027\n",
       "dtype: float64</div>"
      ]
     },
     "metadata": {
      "application/vnd.databricks.v1+output": {
       "addedWidgets": {},
       "arguments": {},
       "data": "<div class=\"ansiout\">Out[52]: Inflight_entertainment               0.209677\nSeat_comfort                         0.127059\nEase_of_Onlinebooking                0.075331\nOnline_support                       0.067763\nOnboard_service                      0.049782\nFood_drink                           0.041761\nFlight_Distance                      0.040996\nCustomerType                         0.040418\nClass                                0.034949\nLeg_room_service                     0.034589\nAge                                  0.033690\nOnline_boarding                      0.029859\nGender                               0.028571\nCleanliness                          0.028469\nCheckin_service                      0.025547\nBaggage_handling                     0.024365\nDeparture.Arrival.time_convenient    0.023960\nTypeTravel                           0.023702\nGate_location                        0.020524\nArrivalDelayin_Mins                  0.019960\nInflightwifi_service                 0.019027\ndtype: float64</div>",
       "datasetInfos": [],
       "removedWidgets": [],
       "type": "html"
      }
     },
     "output_type": "display_data"
    }
   ],
   "source": [
    "#RandomForest\n",
    "pd.Series(rf.feature_importances_, X_train.columns).sort_values(ascending= False)\n",
    "## Alternate Way\n",
    "##pd.DataFrame({'Attribute': X_train.columns, 'Importance': rf.feature_importances_}) "
   ]
  },
  {
   "cell_type": "markdown",
   "metadata": {
    "application/vnd.databricks.v1+cell": {
     "inputWidgets": {},
     "nuid": "d85318a2-12df-4a70-90fd-2e2486480170",
     "showTitle": false,
     "title": ""
    }
   },
   "source": [
    "# Model Tuning"
   ]
  },
  {
   "cell_type": "markdown",
   "metadata": {
    "application/vnd.databricks.v1+cell": {
     "inputWidgets": {},
     "nuid": "26a9767b-3d0f-4af5-9493-cd8ec1479110",
     "showTitle": false,
     "title": ""
    }
   },
   "source": [
    "### 19. Print cross validation score\n",
    "- Decision tree model trained using all the attributes\n",
    "- Random Forest model trained using all the attributes\n",
    "- Fine tuned (using Grid Search or Random Search) Random Forest model\n",
    "\n",
    "**Display all the scores above with their respective models in a single dataframe**"
   ]
  },
  {
   "cell_type": "markdown",
   "metadata": {
    "application/vnd.databricks.v1+cell": {
     "inputWidgets": {},
     "nuid": "8d23534e-3dcf-4351-9f46-8c0676b4ebf0",
     "showTitle": false,
     "title": ""
    }
   },
   "source": [
    "Cross Validation Score"
   ]
  },
  {
   "cell_type": "code",
   "execution_count": 0,
   "metadata": {
    "application/vnd.databricks.v1+cell": {
     "inputWidgets": {},
     "nuid": "d733c20b-db2e-46f1-8feb-594991094448",
     "showTitle": false,
     "title": ""
    }
   },
   "outputs": [
    {
     "data": {
      "text/html": [
       "<style scoped>\n",
       "  .ansiout {\n",
       "    display: block;\n",
       "    unicode-bidi: embed;\n",
       "    white-space: pre-wrap;\n",
       "    word-wrap: break-word;\n",
       "    word-break: break-all;\n",
       "    font-family: \"Source Code Pro\", \"Menlo\", monospace;;\n",
       "    font-size: 13px;\n",
       "    color: #555;\n",
       "    margin-left: 4px;\n",
       "    line-height: 19px;\n",
       "  }\n",
       "</style>\n",
       "<div class=\"ansiout\">Cross validation score of Decision tree = 0.9352461517540226\n",
       "</div>"
      ]
     },
     "metadata": {
      "application/vnd.databricks.v1+output": {
       "addedWidgets": {},
       "arguments": {},
       "data": "<div class=\"ansiout\">Cross validation score of Decision tree = 0.9352461517540226\n</div>",
       "datasetInfos": [],
       "removedWidgets": [],
       "type": "html"
      }
     },
     "output_type": "display_data"
    }
   ],
   "source": [
    "from sklearn.model_selection import cross_val_score\n",
    "#For Decision Tree dt\n",
    "score5 = cross_val_score(dt, X, y, cv = 10).mean()\n",
    "print(f'Cross validation score of Decision tree = {score5}')"
   ]
  },
  {
   "cell_type": "code",
   "execution_count": 0,
   "metadata": {
    "application/vnd.databricks.v1+cell": {
     "inputWidgets": {},
     "nuid": "f7320151-492b-4de0-aa73-8822693f5cc0",
     "showTitle": false,
     "title": ""
    }
   },
   "outputs": [
    {
     "data": {
      "text/html": [
       "<style scoped>\n",
       "  .ansiout {\n",
       "    display: block;\n",
       "    unicode-bidi: embed;\n",
       "    white-space: pre-wrap;\n",
       "    word-wrap: break-word;\n",
       "    word-break: break-all;\n",
       "    font-family: \"Source Code Pro\", \"Menlo\", monospace;;\n",
       "    font-size: 13px;\n",
       "    color: #555;\n",
       "    margin-left: 4px;\n",
       "    line-height: 19px;\n",
       "  }\n",
       "</style>\n",
       "<div class=\"ansiout\">Cross validation score of Random forest = 0.9546369620718534\n",
       "</div>"
      ]
     },
     "metadata": {
      "application/vnd.databricks.v1+output": {
       "addedWidgets": {},
       "arguments": {},
       "data": "<div class=\"ansiout\">Cross validation score of Random forest = 0.9546369620718534\n</div>",
       "datasetInfos": [],
       "removedWidgets": [],
       "type": "html"
      }
     },
     "output_type": "display_data"
    }
   ],
   "source": [
    "#Random Forest rf\n",
    "score6 = cross_val_score(rf, X, y, cv = 10).mean()\n",
    "print(f'Cross validation score of Random forest = {score6}')"
   ]
  },
  {
   "cell_type": "markdown",
   "metadata": {
    "application/vnd.databricks.v1+cell": {
     "inputWidgets": {},
     "nuid": "e4c52202-2f3a-4794-81a0-a28790b3c398",
     "showTitle": false,
     "title": ""
    }
   },
   "source": [
    "Parameter Tuning Using GridDSearch\n",
    "\n",
    "Doing it only for RandomForest as the mean CV score is better."
   ]
  },
  {
   "cell_type": "code",
   "execution_count": 0,
   "metadata": {
    "application/vnd.databricks.v1+cell": {
     "inputWidgets": {},
     "nuid": "930d17e1-c0ba-44f6-aa06-9ed4b086e541",
     "showTitle": false,
     "title": ""
    }
   },
   "outputs": [
    {
     "data": {
      "text/html": [
       "<style scoped>\n",
       "  .ansiout {\n",
       "    display: block;\n",
       "    unicode-bidi: embed;\n",
       "    white-space: pre-wrap;\n",
       "    word-wrap: break-word;\n",
       "    word-break: break-all;\n",
       "    font-family: \"Source Code Pro\", \"Menlo\", monospace;;\n",
       "    font-size: 13px;\n",
       "    color: #555;\n",
       "    margin-left: 4px;\n",
       "    line-height: 19px;\n",
       "  }\n",
       "</style>\n",
       "<div class=\"ansiout\">Fitting 5 folds for each of 40 candidates, totalling 200 fits\n",
       "[Parallel(n_jobs=4)]: Using backend LokyBackend with 4 concurrent workers.\n",
       "[Parallel(n_jobs=4)]: Done  33 tasks      | elapsed:  2.0min\n",
       "[Parallel(n_jobs=4)]: Done 154 tasks      | elapsed: 10.4min\n",
       "[Parallel(n_jobs=4)]: Done 200 out of 200 | elapsed: 13.4min finished\n",
       "Out[23]: {&#39;bootstrap&#39;: True,\n",
       " &#39;max_depth&#39;: 30,\n",
       " &#39;max_features&#39;: &#39;sqrt&#39;,\n",
       " &#39;min_samples_leaf&#39;: 1,\n",
       " &#39;n_estimators&#39;: 100}</div>"
      ]
     },
     "metadata": {
      "application/vnd.databricks.v1+output": {
       "addedWidgets": {},
       "arguments": {},
       "data": "<div class=\"ansiout\">Fitting 5 folds for each of 40 candidates, totalling 200 fits\n[Parallel(n_jobs=4)]: Using backend LokyBackend with 4 concurrent workers.\n[Parallel(n_jobs=4)]: Done  33 tasks      | elapsed:  2.0min\n[Parallel(n_jobs=4)]: Done 154 tasks      | elapsed: 10.4min\n[Parallel(n_jobs=4)]: Done 200 out of 200 | elapsed: 13.4min finished\nOut[23]: {&#39;bootstrap&#39;: True,\n &#39;max_depth&#39;: 30,\n &#39;max_features&#39;: &#39;sqrt&#39;,\n &#39;min_samples_leaf&#39;: 1,\n &#39;n_estimators&#39;: 100}</div>",
       "datasetInfos": [],
       "removedWidgets": [],
       "type": "html"
      }
     },
     "output_type": "display_data"
    }
   ],
   "source": [
    "from sklearn.model_selection import GridSearchCV\n",
    "\n",
    "parameters = {'bootstrap': [True],\n",
    " 'max_depth': [10, 20, 30, 40, 50],\n",
    " 'max_features': ['auto', 'sqrt'],\n",
    " 'min_samples_leaf': [1, 2, 4, 8],\n",
    " 'n_estimators': [100]}\n",
    "\n",
    "# 1*5*2*4*1*5 = 200 #\n",
    "# 100%--total data...80%train 20%test..(50% test 50% validation)\n",
    "clf = GridSearchCV(RandomForestClassifier(), parameters, cv = 5, verbose = 2, n_jobs= 4)\n",
    "clf.fit(X, y)\n",
    "\n",
    "clf.best_params_\n",
    "\n",
    "\n",
    "# Best parameters\n",
    "#{'bootstrap': True,\n",
    "# 'max_depth': 30,\n",
    "# 'max_features': 'sqrt',\n",
    "# 'min_samples_leaf': 1,\n",
    "#  'n_estimators': 100} \n"
   ]
  },
  {
   "cell_type": "code",
   "execution_count": 0,
   "metadata": {
    "application/vnd.databricks.v1+cell": {
     "inputWidgets": {},
     "nuid": "c499433b-7c0d-410b-a5ef-c51ff8bce059",
     "showTitle": false,
     "title": ""
    }
   },
   "outputs": [
    {
     "data": {
      "text/html": [
       "<style scoped>\n",
       "  .ansiout {\n",
       "    display: block;\n",
       "    unicode-bidi: embed;\n",
       "    white-space: pre-wrap;\n",
       "    word-wrap: break-word;\n",
       "    word-break: break-all;\n",
       "    font-family: \"Source Code Pro\", \"Menlo\", monospace;;\n",
       "    font-size: 13px;\n",
       "    color: #555;\n",
       "    margin-left: 4px;\n",
       "    line-height: 19px;\n",
       "  }\n",
       "</style>\n",
       "<div class='ansiout'>0.9546451108106604</div>"
      ]
     },
     "metadata": {
      "application/vnd.databricks.v1+output": {
       "addedWidgets": {},
       "arguments": {},
       "data": "<div class='ansiout'>0.9546451108106604</div>",
       "datasetInfos": [],
       "removedWidgets": [],
       "type": "html"
      }
     },
     "output_type": "display_data"
    }
   ],
   "source": [
    "rf = RandomForestClassifier(bootstrap= True,\n",
    " max_depth= 30,\n",
    " max_features= 'auto',\n",
    " min_samples_leaf= 1,\n",
    " n_estimators= 100)\n",
    "\n",
    "\n",
    "score7 = cross_val_score(rf, X, y, cv = 5).mean()\n",
    "\n",
    "\n",
    "score7\n",
    "    "
   ]
  },
  {
   "cell_type": "code",
   "execution_count": 0,
   "metadata": {
    "application/vnd.databricks.v1+cell": {
     "inputWidgets": {},
     "nuid": "89a85aa1-5f76-46dd-af8f-22ef5cad07d9",
     "showTitle": false,
     "title": ""
    }
   },
   "outputs": [],
   "source": [
    "data = {'Technique' : ['Logistic Regression', \"LR with only feedback columns \", 'Decision tree',\n",
    "                       'Random forest', 'DT CV','RF CV','Tuned RF CV'],\n",
    "       'Score' : [score1, score2, score3, score4, score5, score6, score7] }\n",
    "\n",
    "result = pd.DataFrame(data)"
   ]
  },
  {
   "cell_type": "code",
   "execution_count": 0,
   "metadata": {
    "application/vnd.databricks.v1+cell": {
     "inputWidgets": {},
     "nuid": "38d32a49-9f60-40c0-9670-57e95bde07c6",
     "showTitle": false,
     "title": ""
    }
   },
   "outputs": [
    {
     "data": {
      "text/html": [
       "<div>\n",
       "<style scoped>\n",
       "    .dataframe tbody tr th:only-of-type {\n",
       "        vertical-align: middle;\n",
       "    }\n",
       "\n",
       "    .dataframe tbody tr th {\n",
       "        vertical-align: top;\n",
       "    }\n",
       "\n",
       "    .dataframe thead th {\n",
       "        text-align: right;\n",
       "    }\n",
       "</style>\n",
       "<table border=\"1\" class=\"dataframe\">\n",
       "  <thead>\n",
       "    <tr style=\"text-align: right;\">\n",
       "      <th></th>\n",
       "      <th>Technique</th>\n",
       "      <th>Score</th>\n",
       "    </tr>\n",
       "  </thead>\n",
       "  <tbody>\n",
       "    <tr>\n",
       "      <th>0</th>\n",
       "      <td>Logistic Regression</td>\n",
       "      <td>0.835985</td>\n",
       "    </tr>\n",
       "    <tr>\n",
       "      <th>1</th>\n",
       "      <td>LR with only feedback columns</td>\n",
       "      <td>0.805056</td>\n",
       "    </tr>\n",
       "    <tr>\n",
       "      <th>2</th>\n",
       "      <td>Decision tree</td>\n",
       "      <td>0.931599</td>\n",
       "    </tr>\n",
       "    <tr>\n",
       "      <th>3</th>\n",
       "      <td>Random forest</td>\n",
       "      <td>0.952714</td>\n",
       "    </tr>\n",
       "    <tr>\n",
       "      <th>4</th>\n",
       "      <td>DT CV</td>\n",
       "      <td>0.935890</td>\n",
       "    </tr>\n",
       "    <tr>\n",
       "      <th>5</th>\n",
       "      <td>RF CV</td>\n",
       "      <td>0.954050</td>\n",
       "    </tr>\n",
       "    <tr>\n",
       "      <th>6</th>\n",
       "      <td>Tuned RF CV</td>\n",
       "      <td>0.954645</td>\n",
       "    </tr>\n",
       "  </tbody>\n",
       "</table>\n",
       "</div>"
      ]
     },
     "metadata": {
      "application/vnd.databricks.v1+output": {
       "addedWidgets": {},
       "arguments": {},
       "data": "<div>\n<style scoped>\n    .dataframe tbody tr th:only-of-type {\n        vertical-align: middle;\n    }\n\n    .dataframe tbody tr th {\n        vertical-align: top;\n    }\n\n    .dataframe thead th {\n        text-align: right;\n    }\n</style>\n<table border=\"1\" class=\"dataframe\">\n  <thead>\n    <tr style=\"text-align: right;\">\n      <th></th>\n      <th>Technique</th>\n      <th>Score</th>\n    </tr>\n  </thead>\n  <tbody>\n    <tr>\n      <th>0</th>\n      <td>Logistic Regression</td>\n      <td>0.835985</td>\n    </tr>\n    <tr>\n      <th>1</th>\n      <td>LR with only feedback columns</td>\n      <td>0.805056</td>\n    </tr>\n    <tr>\n      <th>2</th>\n      <td>Decision tree</td>\n      <td>0.931599</td>\n    </tr>\n    <tr>\n      <th>3</th>\n      <td>Random forest</td>\n      <td>0.952714</td>\n    </tr>\n    <tr>\n      <th>4</th>\n      <td>DT CV</td>\n      <td>0.935890</td>\n    </tr>\n    <tr>\n      <th>5</th>\n      <td>RF CV</td>\n      <td>0.954050</td>\n    </tr>\n    <tr>\n      <th>6</th>\n      <td>Tuned RF CV</td>\n      <td>0.954645</td>\n    </tr>\n  </tbody>\n</table>\n</div>",
       "datasetInfos": [],
       "removedWidgets": [],
       "textData": null,
       "type": "htmlSandbox"
      }
     },
     "output_type": "display_data"
    }
   ],
   "source": [
    "result"
   ]
  },
  {
   "cell_type": "markdown",
   "metadata": {
    "application/vnd.databricks.v1+cell": {
     "inputWidgets": {},
     "nuid": "d1418e1d-f8a3-4be9-8c03-e3172fcfedf5",
     "showTitle": false,
     "title": ""
    }
   },
   "source": [
    "# Pipeline - Automate and Simplify the process"
   ]
  },
  {
   "cell_type": "code",
   "execution_count": 0,
   "metadata": {
    "application/vnd.databricks.v1+cell": {
     "inputWidgets": {},
     "nuid": "0afb6b16-ae7e-4545-be95-247d50797683",
     "showTitle": false,
     "title": ""
    }
   },
   "outputs": [
    {
     "data": {
      "text/html": [
       "<style scoped>\n",
       "  .ansiout {\n",
       "    display: block;\n",
       "    unicode-bidi: embed;\n",
       "    white-space: pre-wrap;\n",
       "    word-wrap: break-word;\n",
       "    word-break: break-all;\n",
       "    font-family: \"Source Code Pro\", \"Menlo\", monospace;;\n",
       "    font-size: 13px;\n",
       "    color: #555;\n",
       "    margin-left: 4px;\n",
       "    line-height: 19px;\n",
       "  }\n",
       "</style>\n",
       "<div class='ansiout'>Collecting category_encoders\n",
       "  Downloading https://files.pythonhosted.org/packages/44/57/fcef41c248701ee62e8325026b90c432adea35555cbc870aff9cfba23727/category_encoders-2.2.2-py2.py3-none-any.whl (80kB)\n",
       "Requirement already satisfied: numpy&gt;=1.14.0 in c:\\programdata\\anaconda3\\lib\\site-packages (from category_encoders) (1.16.2)\n",
       "Requirement already satisfied: scikit-learn&gt;=0.20.0 in c:\\users\\it10\\appdata\\roaming\\python\\python37\\site-packages (from category_encoders) (0.22.1)\n",
       "Requirement already satisfied: pandas&gt;=0.21.1 in c:\\programdata\\anaconda3\\lib\\site-packages (from category_encoders) (0.24.2)\n",
       "Requirement already satisfied: statsmodels&gt;=0.9.0 in c:\\programdata\\anaconda3\\lib\\site-packages (from category_encoders) (0.9.0)\n",
       "Requirement already satisfied: patsy&gt;=0.5.1 in c:\\programdata\\anaconda3\\lib\\site-packages (from category_encoders) (0.5.1)\n",
       "Requirement already satisfied: scipy&gt;=1.0.0 in c:\\programdata\\anaconda3\\lib\\site-packages (from category_encoders) (1.2.1)\n",
       "Requirement already satisfied: joblib&gt;=0.11 in c:\\programdata\\anaconda3\\lib\\site-packages (from scikit-learn&gt;=0.20.0-&gt;category_encoders) (0.14.1)\n",
       "Requirement already satisfied: pytz&gt;=2011k in c:\\programdata\\anaconda3\\lib\\site-packages (from pandas&gt;=0.21.1-&gt;category_encoders) (2018.9)\n",
       "Requirement already satisfied: python-dateutil&gt;=2.5.0 in c:\\programdata\\anaconda3\\lib\\site-packages (from pandas&gt;=0.21.1-&gt;category_encoders) (2.8.0)\n",
       "Requirement already satisfied: six in c:\\programdata\\anaconda3\\lib\\site-packages (from patsy&gt;=0.5.1-&gt;category_encoders) (1.12.0)\n",
       "Installing collected packages: category-encoders\n",
       "Successfully installed category-encoders-2.2.2\n",
       "</div>"
      ]
     },
     "metadata": {
      "application/vnd.databricks.v1+output": {
       "addedWidgets": {},
       "arguments": {},
       "data": "<div class='ansiout'>Collecting category_encoders\n  Downloading https://files.pythonhosted.org/packages/44/57/fcef41c248701ee62e8325026b90c432adea35555cbc870aff9cfba23727/category_encoders-2.2.2-py2.py3-none-any.whl (80kB)\nRequirement already satisfied: numpy&gt;=1.14.0 in c:\\programdata\\anaconda3\\lib\\site-packages (from category_encoders) (1.16.2)\nRequirement already satisfied: scikit-learn&gt;=0.20.0 in c:\\users\\it10\\appdata\\roaming\\python\\python37\\site-packages (from category_encoders) (0.22.1)\nRequirement already satisfied: pandas&gt;=0.21.1 in c:\\programdata\\anaconda3\\lib\\site-packages (from category_encoders) (0.24.2)\nRequirement already satisfied: statsmodels&gt;=0.9.0 in c:\\programdata\\anaconda3\\lib\\site-packages (from category_encoders) (0.9.0)\nRequirement already satisfied: patsy&gt;=0.5.1 in c:\\programdata\\anaconda3\\lib\\site-packages (from category_encoders) (0.5.1)\nRequirement already satisfied: scipy&gt;=1.0.0 in c:\\programdata\\anaconda3\\lib\\site-packages (from category_encoders) (1.2.1)\nRequirement already satisfied: joblib&gt;=0.11 in c:\\programdata\\anaconda3\\lib\\site-packages (from scikit-learn&gt;=0.20.0-&gt;category_encoders) (0.14.1)\nRequirement already satisfied: pytz&gt;=2011k in c:\\programdata\\anaconda3\\lib\\site-packages (from pandas&gt;=0.21.1-&gt;category_encoders) (2018.9)\nRequirement already satisfied: python-dateutil&gt;=2.5.0 in c:\\programdata\\anaconda3\\lib\\site-packages (from pandas&gt;=0.21.1-&gt;category_encoders) (2.8.0)\nRequirement already satisfied: six in c:\\programdata\\anaconda3\\lib\\site-packages (from patsy&gt;=0.5.1-&gt;category_encoders) (1.12.0)\nInstalling collected packages: category-encoders\nSuccessfully installed category-encoders-2.2.2\n</div>",
       "datasetInfos": [],
       "removedWidgets": [],
       "type": "html"
      }
     },
     "output_type": "display_data"
    }
   ],
   "source": [
    "!pip install category_encoders"
   ]
  },
  {
   "cell_type": "code",
   "execution_count": 0,
   "metadata": {
    "application/vnd.databricks.v1+cell": {
     "inputWidgets": {},
     "nuid": "0a89e39f-a9a2-4e4f-ac11-f18748dddf47",
     "showTitle": false,
     "title": ""
    }
   },
   "outputs": [],
   "source": [
    "import pandas as pd\n",
    "import numpy as np\n",
    "\n",
    "from sklearn.compose import ColumnTransformer\n",
    "from sklearn.pipeline import Pipeline\n",
    "from sklearn.impute import SimpleImputer\n",
    "from sklearn.preprocessing import StandardScaler,LabelEncoder, OneHotEncoder\n",
    "from sklearn.linear_model import LogisticRegression\n",
    "from sklearn.model_selection import train_test_split, GridSearchCV\n",
    "from category_encoders import OrdinalEncoder\n",
    "\n",
    "\n",
    "\n",
    "numeric_features = ['Age', 'Flight_Distance', 'DepartureDelayin_Mins'\n",
    "       ]\n",
    "\n",
    "feedback_features = ['Seat_comfort', 'Departure.Arrival.time_convenient', 'Food_drink',\n",
    "       'Gate_location', 'Inflightwifi_service', 'Inflight_entertainment',\n",
    "       'Online_support', 'Ease_of_Onlinebooking', 'Onboard_service',\n",
    "       'Leg_room_service', 'Baggage_handling', 'Checkin_service',\n",
    "       'Cleanliness', 'Online_boarding']\n",
    "\n",
    "other_cat_cols =  ['Gender', 'CustomerType', 'TypeTravel', 'Class']\n",
    "\n",
    "\n",
    "#TRANSFORMERS\n",
    "\n",
    "#C1: 0-10,000, 0-2\n",
    "#C2: 0-200, 0-1\n",
    "\n",
    "numeric_transformer = Pipeline(steps=[\n",
    "    ('imputer', SimpleImputer(strategy='median')),\n",
    "    ('scaler', StandardScaler())])\n",
    "\n",
    "\n",
    "feedback_feature_transformer = Pipeline(steps=[\n",
    "    ('imputer', SimpleImputer(strategy='constant', fill_value='not_captured')),\n",
    "    ('label_encoder', OrdinalEncoder()),\n",
    "    ('scaler', StandardScaler())])\n",
    "\n",
    "\n",
    "other_cat_transformer = Pipeline(steps=[\n",
    "    ('imputer', SimpleImputer(strategy='constant', fill_value='not_captured')),\n",
    "    ('onehot', OneHotEncoder(handle_unknown='ignore'))])\n",
    "\n",
    "\n",
    "preprocessor = ColumnTransformer(\n",
    "    transformers=[\n",
    "        ('num', numeric_transformer, numeric_features),\n",
    "        ('feed_col', feedback_feature_transformer, feedback_features),\n",
    "        ('other_cat_col', other_cat_transformer, other_cat_cols )\n",
    "    ])"
   ]
  },
  {
   "cell_type": "code",
   "execution_count": 0,
   "metadata": {
    "application/vnd.databricks.v1+cell": {
     "inputWidgets": {},
     "nuid": "d68c4262-2060-4230-b386-229157ad4238",
     "showTitle": false,
     "title": ""
    }
   },
   "outputs": [],
   "source": [
    "#Adding into Pipeline\n",
    "clf = Pipeline(steps=[('preprocessor', preprocessor),\n",
    "                      ('classifier', RandomForestClassifier(bootstrap= True,max_depth= 30,max_features= 'auto',min_samples_leaf= 1,n_estimators= 100))])"
   ]
  },
  {
   "cell_type": "code",
   "execution_count": 0,
   "metadata": {
    "application/vnd.databricks.v1+cell": {
     "inputWidgets": {},
     "nuid": "7addd94a-66aa-4f84-9047-731be17bc328",
     "showTitle": false,
     "title": ""
    }
   },
   "outputs": [],
   "source": [
    "#Taking the raw data\n",
    "data = df2.set_index(\"Id\").join(df1.set_index(\"ID\"))\n"
   ]
  },
  {
   "cell_type": "code",
   "execution_count": 0,
   "metadata": {
    "application/vnd.databricks.v1+cell": {
     "inputWidgets": {},
     "nuid": "c87c61ae-017d-4bb3-836f-f5277de7dc9c",
     "showTitle": false,
     "title": ""
    }
   },
   "outputs": [],
   "source": [
    "#Getting X and y\n",
    "X_pipe = data.drop(['Satisfaction', 'ArrivalDelayin_Mins'], axis = 1)\n",
    "y_pipe = data['Satisfaction']"
   ]
  },
  {
   "cell_type": "code",
   "execution_count": 0,
   "metadata": {
    "application/vnd.databricks.v1+cell": {
     "inputWidgets": {},
     "nuid": "2765c959-9aeb-4d0b-a3e5-03d41ea9a59e",
     "showTitle": false,
     "title": ""
    }
   },
   "outputs": [],
   "source": [
    "#Data SPlit\n",
    "X_trains, X_tests, y_trains, y_tests = train_test_split(X_pipe,y_pipe, stratify = y_pipe)"
   ]
  },
  {
   "cell_type": "code",
   "execution_count": 0,
   "metadata": {
    "application/vnd.databricks.v1+cell": {
     "inputWidgets": {},
     "nuid": "ae057b91-1e17-47dc-945b-23c9d9e40a14",
     "showTitle": false,
     "title": ""
    }
   },
   "outputs": [
    {
     "data": {
      "text/html": [
       "<style scoped>\n",
       "  .ansiout {\n",
       "    display: block;\n",
       "    unicode-bidi: embed;\n",
       "    white-space: pre-wrap;\n",
       "    word-wrap: break-word;\n",
       "    word-break: break-all;\n",
       "    font-family: \"Source Code Pro\", \"Menlo\", monospace;;\n",
       "    font-size: 13px;\n",
       "    color: #555;\n",
       "    margin-left: 4px;\n",
       "    line-height: 19px;\n",
       "  }\n",
       "</style>\n",
       "<div class='ansiout'>Pipeline(memory=None,\n",
       "         steps=[('preprocessor',\n",
       "                 ColumnTransformer(n_jobs=None, remainder='drop',\n",
       "                                   sparse_threshold=0.3,\n",
       "                                   transformer_weights=None,\n",
       "                                   transformers=[('num',\n",
       "                                                  Pipeline(memory=None,\n",
       "                                                           steps=[('imputer',\n",
       "                                                                   SimpleImputer(add_indicator=False,\n",
       "                                                                                 copy=True,\n",
       "                                                                                 fill_value=None,\n",
       "                                                                                 missing_values=nan,\n",
       "                                                                                 strategy='median',\n",
       "                                                                                 verbose=0)),\n",
       "                                                                  ('scaler',\n",
       "                                                                   StandardScaler(copy=True,\n",
       "                                                                                  with_mean...\n",
       "                 RandomForestClassifier(bootstrap=True, ccp_alpha=0.0,\n",
       "                                        class_weight=None, criterion='gini',\n",
       "                                        max_depth=30, max_features='auto',\n",
       "                                        max_leaf_nodes=None, max_samples=None,\n",
       "                                        min_impurity_decrease=0.0,\n",
       "                                        min_impurity_split=None,\n",
       "                                        min_samples_leaf=1, min_samples_split=2,\n",
       "                                        min_weight_fraction_leaf=0.0,\n",
       "                                        n_estimators=100, n_jobs=None,\n",
       "                                        oob_score=False, random_state=None,\n",
       "                                        verbose=0, warm_start=False))],\n",
       "         verbose=False)</div>"
      ]
     },
     "metadata": {
      "application/vnd.databricks.v1+output": {
       "addedWidgets": {},
       "arguments": {},
       "data": "<div class='ansiout'>Pipeline(memory=None,\n         steps=[('preprocessor',\n                 ColumnTransformer(n_jobs=None, remainder='drop',\n                                   sparse_threshold=0.3,\n                                   transformer_weights=None,\n                                   transformers=[('num',\n                                                  Pipeline(memory=None,\n                                                           steps=[('imputer',\n                                                                   SimpleImputer(add_indicator=False,\n                                                                                 copy=True,\n                                                                                 fill_value=None,\n                                                                                 missing_values=nan,\n                                                                                 strategy='median',\n                                                                                 verbose=0)),\n                                                                  ('scaler',\n                                                                   StandardScaler(copy=True,\n                                                                                  with_mean...\n                 RandomForestClassifier(bootstrap=True, ccp_alpha=0.0,\n                                        class_weight=None, criterion='gini',\n                                        max_depth=30, max_features='auto',\n                                        max_leaf_nodes=None, max_samples=None,\n                                        min_impurity_decrease=0.0,\n                                        min_impurity_split=None,\n                                        min_samples_leaf=1, min_samples_split=2,\n                                        min_weight_fraction_leaf=0.0,\n                                        n_estimators=100, n_jobs=None,\n                                        oob_score=False, random_state=None,\n                                        verbose=0, warm_start=False))],\n         verbose=False)</div>",
       "datasetInfos": [],
       "removedWidgets": [],
       "type": "html"
      }
     },
     "output_type": "display_data"
    }
   ],
   "source": [
    "#Fitting Pipeline \n",
    "clf.fit(X_trains, y_trains)"
   ]
  },
  {
   "cell_type": "code",
   "execution_count": 0,
   "metadata": {
    "application/vnd.databricks.v1+cell": {
     "inputWidgets": {},
     "nuid": "3114f4dd-b141-4c5c-a3eb-06d519b97ad5",
     "showTitle": false,
     "title": ""
    }
   },
   "outputs": [
    {
     "data": {
      "text/html": [
       "<style scoped>\n",
       "  .ansiout {\n",
       "    display: block;\n",
       "    unicode-bidi: embed;\n",
       "    white-space: pre-wrap;\n",
       "    word-wrap: break-word;\n",
       "    word-break: break-all;\n",
       "    font-family: \"Source Code Pro\", \"Menlo\", monospace;;\n",
       "    font-size: 13px;\n",
       "    color: #555;\n",
       "    margin-left: 4px;\n",
       "    line-height: 19px;\n",
       "  }\n",
       "</style>\n",
       "<div class='ansiout'>0.9512538495380555</div>"
      ]
     },
     "metadata": {
      "application/vnd.databricks.v1+output": {
       "addedWidgets": {},
       "arguments": {},
       "data": "<div class='ansiout'>0.9512538495380555</div>",
       "datasetInfos": [],
       "removedWidgets": [],
       "type": "html"
      }
     },
     "output_type": "display_data"
    }
   ],
   "source": [
    "#Getting score \n",
    "clf.score(X_tests, y_tests)"
   ]
  },
  {
   "cell_type": "markdown",
   "metadata": {
    "application/vnd.databricks.v1+cell": {
     "inputWidgets": {},
     "nuid": "1eecc5b9-1e64-4a23-8668-be7c890b74e3",
     "showTitle": false,
     "title": ""
    }
   },
   "source": [
    "# Conclusion:\n",
    "\n",
    "- Given some data, we have seen how to perform EDA for that dataset\n",
    "- The data that we had was not entirely continuous or categorical. Hence we improvised the analysis to draw insights\n",
    "- We used the same old bar-charts but the way we interpreted is unique to this problem\n",
    "- Beyond EDA, we have seen how to preprocess data and train Supervised Models with it\n",
    "- We finally put all the steps in one place and built a pipeline using the Sklearn's Pipeline function\n",
    "\n",
    "# Explore:\n",
    "\n",
    "- You can cluster different segments of customer to get more insights about their behaviours.\n",
    "- Create new features and select the best features to improve your model further."
   ]
  },
  {
   "cell_type": "code",
   "execution_count": 0,
   "metadata": {
    "application/vnd.databricks.v1+cell": {
     "inputWidgets": {},
     "nuid": "27f42728-1347-4cc5-8b8e-c197b6c8107e",
     "showTitle": false,
     "title": ""
    }
   },
   "outputs": [],
   "source": []
  }
 ],
 "metadata": {
  "application/vnd.databricks.v1+notebook": {
   "dashboards": [],
   "language": "python",
   "notebookName": "Customer_Flight_Satisfaction_Prediction",
   "notebookOrigID": 3845063504971053,
   "widgets": {}
  },
  "kernelspec": {
   "display_name": "Python 3",
   "language": "python",
   "name": "python3"
  },
  "language_info": {
   "codemirror_mode": {
    "name": "ipython",
    "version": 3
   },
   "file_extension": ".py",
   "mimetype": "text/x-python",
   "name": "python",
   "nbconvert_exporter": "python",
   "pygments_lexer": "ipython3",
   "version": "3.7.9"
  }
 },
 "nbformat": 4,
 "nbformat_minor": 1
}
