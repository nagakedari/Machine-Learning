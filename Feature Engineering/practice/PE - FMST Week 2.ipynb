{
 "cells": [
  {
   "cell_type": "markdown",
   "metadata": {},
   "source": [
    "# Model Performance Measures, ML Pipeline and Hyperparameter Tuning"
   ]
  },
  {
   "cell_type": "markdown",
   "metadata": {},
   "source": [
    "## Can you correctly identify glass type?"
   ]
  },
  {
   "cell_type": "markdown",
   "metadata": {},
   "source": [
    "## Context:\n",
    "    \n",
    "This is a Glass Identification Data Set from UCI. It contains 10 attributes including id. The response is glass type(discrete 7 \n",
    "values)"
   ]
  },
  {
   "cell_type": "markdown",
   "metadata": {},
   "source": [
    "# Content\n",
    "\n",
    "Attribute Information:\n",
    "\n",
    "Id number: 1 to 214\n",
    "\n",
    "RI: refractive index\n",
    "\n",
    "Na: Sodium (unit measurement: weight percent in corresponding oxide, as are attributes 4-10)\n",
    "\n",
    "Mg: Magnesium\n",
    "\n",
    "Al: Aluminum\n",
    "\n",
    "Si: Silicon\n",
    "\n",
    "K: Potassium\n",
    "\n",
    "Ca: Calcium\n",
    "\n",
    "Ba: Barium\n",
    "\n",
    "Fe: Iron\n",
    "\n",
    "Type of glass: (class attribute) \n",
    "    -- 1 building_windows_float_processed \n",
    "    -- 2 building_windows_non_float_processed \n",
    "    -- 3 vehicle_windows_float_processed \n",
    "    -- 4 vehicle_windows_non_float_processed (none in this database) \n",
    "    -- 5 containers \n",
    "    -- 6 tableware \n",
    "    -- 7 headlamps"
   ]
  },
  {
   "cell_type": "markdown",
   "metadata": {},
   "source": [
    "## Source:\n",
    "https://archive.ics.uci.edu/ml/datasets/Glass+Identification"
   ]
  },
  {
   "cell_type": "markdown",
   "metadata": {},
   "source": [
    "# 1.  Import necessary libraries and load the data"
   ]
  },
  {
   "cell_type": "code",
   "execution_count": 78,
   "metadata": {},
   "outputs": [],
   "source": [
    "import warnings\n",
    "warnings.filterwarnings('ignore')\n",
    "import numpy as np\n",
    "import pandas as pd\n",
    "import matplotlib.pyplot as plt\n",
    "import seaborn as sns\n",
    "from sklearn.model_selection import train_test_split, cross_val_score, GridSearchCV, RandomizedSearchCV\n",
    "from sklearn.preprocessing import StandardScaler, LabelEncoder\n",
    "from sklearn.tree import DecisionTreeClassifier\n",
    "from sklearn.decomposition import PCA\n",
    "from sklearn.ensemble import RandomForestClassifier, GradientBoostingClassifier\n",
    "from sklearn.pipeline import make_pipeline\n",
    "from sklearn.metrics import accuracy_score, precision_score, recall_score, confusion_matrix,classification_report\n",
    "from sklearn.linear_model import LogisticRegression"
   ]
  },
  {
   "cell_type": "code",
   "execution_count": 79,
   "metadata": {},
   "outputs": [
    {
     "data": {
      "text/html": [
       "<div>\n",
       "<style scoped>\n",
       "    .dataframe tbody tr th:only-of-type {\n",
       "        vertical-align: middle;\n",
       "    }\n",
       "\n",
       "    .dataframe tbody tr th {\n",
       "        vertical-align: top;\n",
       "    }\n",
       "\n",
       "    .dataframe thead th {\n",
       "        text-align: right;\n",
       "    }\n",
       "</style>\n",
       "<table border=\"1\" class=\"dataframe\">\n",
       "  <thead>\n",
       "    <tr style=\"text-align: right;\">\n",
       "      <th></th>\n",
       "      <th>ID</th>\n",
       "      <th>refractive index</th>\n",
       "      <th>Sodium</th>\n",
       "      <th>Magnesium</th>\n",
       "      <th>Aluminum</th>\n",
       "      <th>Silicon</th>\n",
       "      <th>Potassium</th>\n",
       "      <th>Calcium</th>\n",
       "      <th>Barium</th>\n",
       "      <th>Iron</th>\n",
       "      <th>Type</th>\n",
       "    </tr>\n",
       "  </thead>\n",
       "  <tbody>\n",
       "    <tr>\n",
       "      <th>0</th>\n",
       "      <td>1</td>\n",
       "      <td>1.52101</td>\n",
       "      <td>13.64</td>\n",
       "      <td>4.49</td>\n",
       "      <td>1.10</td>\n",
       "      <td>71.78</td>\n",
       "      <td>0.06</td>\n",
       "      <td>8.75</td>\n",
       "      <td>0.0</td>\n",
       "      <td>0.0</td>\n",
       "      <td>building_windows_float_processed</td>\n",
       "    </tr>\n",
       "    <tr>\n",
       "      <th>1</th>\n",
       "      <td>2</td>\n",
       "      <td>1.51761</td>\n",
       "      <td>13.89</td>\n",
       "      <td>3.60</td>\n",
       "      <td>1.36</td>\n",
       "      <td>72.73</td>\n",
       "      <td>0.48</td>\n",
       "      <td>7.83</td>\n",
       "      <td>0.0</td>\n",
       "      <td>0.0</td>\n",
       "      <td>building_windows_float_processed</td>\n",
       "    </tr>\n",
       "    <tr>\n",
       "      <th>2</th>\n",
       "      <td>3</td>\n",
       "      <td>1.51618</td>\n",
       "      <td>13.53</td>\n",
       "      <td>3.55</td>\n",
       "      <td>1.54</td>\n",
       "      <td>72.99</td>\n",
       "      <td>0.39</td>\n",
       "      <td>7.78</td>\n",
       "      <td>0.0</td>\n",
       "      <td>0.0</td>\n",
       "      <td>building_windows_float_processed</td>\n",
       "    </tr>\n",
       "    <tr>\n",
       "      <th>3</th>\n",
       "      <td>4</td>\n",
       "      <td>1.51766</td>\n",
       "      <td>13.21</td>\n",
       "      <td>3.69</td>\n",
       "      <td>1.29</td>\n",
       "      <td>72.61</td>\n",
       "      <td>0.57</td>\n",
       "      <td>8.22</td>\n",
       "      <td>0.0</td>\n",
       "      <td>0.0</td>\n",
       "      <td>building_windows_float_processed</td>\n",
       "    </tr>\n",
       "    <tr>\n",
       "      <th>4</th>\n",
       "      <td>5</td>\n",
       "      <td>1.51742</td>\n",
       "      <td>13.27</td>\n",
       "      <td>3.62</td>\n",
       "      <td>1.24</td>\n",
       "      <td>73.08</td>\n",
       "      <td>0.55</td>\n",
       "      <td>8.07</td>\n",
       "      <td>0.0</td>\n",
       "      <td>0.0</td>\n",
       "      <td>building_windows_float_processed</td>\n",
       "    </tr>\n",
       "  </tbody>\n",
       "</table>\n",
       "</div>"
      ],
      "text/plain": [
       "   ID  refractive index  Sodium  Magnesium  Aluminum  Silicon  Potassium  \\\n",
       "0   1           1.52101   13.64       4.49      1.10    71.78       0.06   \n",
       "1   2           1.51761   13.89       3.60      1.36    72.73       0.48   \n",
       "2   3           1.51618   13.53       3.55      1.54    72.99       0.39   \n",
       "3   4           1.51766   13.21       3.69      1.29    72.61       0.57   \n",
       "4   5           1.51742   13.27       3.62      1.24    73.08       0.55   \n",
       "\n",
       "   Calcium  Barium  Iron                              Type  \n",
       "0     8.75     0.0   0.0  building_windows_float_processed  \n",
       "1     7.83     0.0   0.0  building_windows_float_processed  \n",
       "2     7.78     0.0   0.0  building_windows_float_processed  \n",
       "3     8.22     0.0   0.0  building_windows_float_processed  \n",
       "4     8.07     0.0   0.0  building_windows_float_processed  "
      ]
     },
     "execution_count": 79,
     "metadata": {},
     "output_type": "execute_result"
    }
   ],
   "source": [
    "glass_data = pd.read_csv('glass-1.csv')\n",
    "glass_data.head()"
   ]
  },
  {
   "cell_type": "code",
   "execution_count": 80,
   "metadata": {},
   "outputs": [
    {
     "data": {
      "text/plain": [
       "(214, 11)"
      ]
     },
     "execution_count": 80,
     "metadata": {},
     "output_type": "execute_result"
    }
   ],
   "source": [
    "glass_data.shape"
   ]
  },
  {
   "cell_type": "code",
   "execution_count": 81,
   "metadata": {},
   "outputs": [
    {
     "data": {
      "text/plain": [
       "ID                  0\n",
       "refractive index    0\n",
       "Sodium              0\n",
       "Magnesium           0\n",
       "Aluminum            0\n",
       "Silicon             0\n",
       "Potassium           0\n",
       "Calcium             0\n",
       "Barium              0\n",
       "Iron                0\n",
       "Type                0\n",
       "dtype: int64"
      ]
     },
     "execution_count": 81,
     "metadata": {},
     "output_type": "execute_result"
    }
   ],
   "source": [
    "glass_data.isnull().sum()"
   ]
  },
  {
   "cell_type": "code",
   "execution_count": 82,
   "metadata": {},
   "outputs": [
    {
     "data": {
      "text/html": [
       "<div>\n",
       "<style scoped>\n",
       "    .dataframe tbody tr th:only-of-type {\n",
       "        vertical-align: middle;\n",
       "    }\n",
       "\n",
       "    .dataframe tbody tr th {\n",
       "        vertical-align: top;\n",
       "    }\n",
       "\n",
       "    .dataframe thead th {\n",
       "        text-align: right;\n",
       "    }\n",
       "</style>\n",
       "<table border=\"1\" class=\"dataframe\">\n",
       "  <thead>\n",
       "    <tr style=\"text-align: right;\">\n",
       "      <th></th>\n",
       "      <th>count</th>\n",
       "      <th>mean</th>\n",
       "      <th>std</th>\n",
       "      <th>min</th>\n",
       "      <th>25%</th>\n",
       "      <th>50%</th>\n",
       "      <th>75%</th>\n",
       "      <th>max</th>\n",
       "    </tr>\n",
       "  </thead>\n",
       "  <tbody>\n",
       "    <tr>\n",
       "      <th>ID</th>\n",
       "      <td>214.0</td>\n",
       "      <td>107.500000</td>\n",
       "      <td>61.920648</td>\n",
       "      <td>1.00000</td>\n",
       "      <td>54.250000</td>\n",
       "      <td>107.50000</td>\n",
       "      <td>160.750000</td>\n",
       "      <td>214.00000</td>\n",
       "    </tr>\n",
       "    <tr>\n",
       "      <th>refractive index</th>\n",
       "      <td>214.0</td>\n",
       "      <td>1.518365</td>\n",
       "      <td>0.003037</td>\n",
       "      <td>1.51115</td>\n",
       "      <td>1.516523</td>\n",
       "      <td>1.51768</td>\n",
       "      <td>1.519157</td>\n",
       "      <td>1.53393</td>\n",
       "    </tr>\n",
       "    <tr>\n",
       "      <th>Sodium</th>\n",
       "      <td>214.0</td>\n",
       "      <td>13.407850</td>\n",
       "      <td>0.816604</td>\n",
       "      <td>10.73000</td>\n",
       "      <td>12.907500</td>\n",
       "      <td>13.30000</td>\n",
       "      <td>13.825000</td>\n",
       "      <td>17.38000</td>\n",
       "    </tr>\n",
       "    <tr>\n",
       "      <th>Magnesium</th>\n",
       "      <td>214.0</td>\n",
       "      <td>2.684533</td>\n",
       "      <td>1.442408</td>\n",
       "      <td>0.00000</td>\n",
       "      <td>2.115000</td>\n",
       "      <td>3.48000</td>\n",
       "      <td>3.600000</td>\n",
       "      <td>4.49000</td>\n",
       "    </tr>\n",
       "    <tr>\n",
       "      <th>Aluminum</th>\n",
       "      <td>214.0</td>\n",
       "      <td>1.444907</td>\n",
       "      <td>0.499270</td>\n",
       "      <td>0.29000</td>\n",
       "      <td>1.190000</td>\n",
       "      <td>1.36000</td>\n",
       "      <td>1.630000</td>\n",
       "      <td>3.50000</td>\n",
       "    </tr>\n",
       "    <tr>\n",
       "      <th>Silicon</th>\n",
       "      <td>214.0</td>\n",
       "      <td>72.650935</td>\n",
       "      <td>0.774546</td>\n",
       "      <td>69.81000</td>\n",
       "      <td>72.280000</td>\n",
       "      <td>72.79000</td>\n",
       "      <td>73.087500</td>\n",
       "      <td>75.41000</td>\n",
       "    </tr>\n",
       "    <tr>\n",
       "      <th>Potassium</th>\n",
       "      <td>214.0</td>\n",
       "      <td>0.497056</td>\n",
       "      <td>0.652192</td>\n",
       "      <td>0.00000</td>\n",
       "      <td>0.122500</td>\n",
       "      <td>0.55500</td>\n",
       "      <td>0.610000</td>\n",
       "      <td>6.21000</td>\n",
       "    </tr>\n",
       "    <tr>\n",
       "      <th>Calcium</th>\n",
       "      <td>214.0</td>\n",
       "      <td>8.956963</td>\n",
       "      <td>1.423153</td>\n",
       "      <td>5.43000</td>\n",
       "      <td>8.240000</td>\n",
       "      <td>8.60000</td>\n",
       "      <td>9.172500</td>\n",
       "      <td>16.19000</td>\n",
       "    </tr>\n",
       "    <tr>\n",
       "      <th>Barium</th>\n",
       "      <td>214.0</td>\n",
       "      <td>0.175047</td>\n",
       "      <td>0.497219</td>\n",
       "      <td>0.00000</td>\n",
       "      <td>0.000000</td>\n",
       "      <td>0.00000</td>\n",
       "      <td>0.000000</td>\n",
       "      <td>3.15000</td>\n",
       "    </tr>\n",
       "    <tr>\n",
       "      <th>Iron</th>\n",
       "      <td>214.0</td>\n",
       "      <td>0.057009</td>\n",
       "      <td>0.097439</td>\n",
       "      <td>0.00000</td>\n",
       "      <td>0.000000</td>\n",
       "      <td>0.00000</td>\n",
       "      <td>0.100000</td>\n",
       "      <td>0.51000</td>\n",
       "    </tr>\n",
       "  </tbody>\n",
       "</table>\n",
       "</div>"
      ],
      "text/plain": [
       "                  count        mean        std       min        25%  \\\n",
       "ID                214.0  107.500000  61.920648   1.00000  54.250000   \n",
       "refractive index  214.0    1.518365   0.003037   1.51115   1.516523   \n",
       "Sodium            214.0   13.407850   0.816604  10.73000  12.907500   \n",
       "Magnesium         214.0    2.684533   1.442408   0.00000   2.115000   \n",
       "Aluminum          214.0    1.444907   0.499270   0.29000   1.190000   \n",
       "Silicon           214.0   72.650935   0.774546  69.81000  72.280000   \n",
       "Potassium         214.0    0.497056   0.652192   0.00000   0.122500   \n",
       "Calcium           214.0    8.956963   1.423153   5.43000   8.240000   \n",
       "Barium            214.0    0.175047   0.497219   0.00000   0.000000   \n",
       "Iron              214.0    0.057009   0.097439   0.00000   0.000000   \n",
       "\n",
       "                        50%         75%        max  \n",
       "ID                107.50000  160.750000  214.00000  \n",
       "refractive index    1.51768    1.519157    1.53393  \n",
       "Sodium             13.30000   13.825000   17.38000  \n",
       "Magnesium           3.48000    3.600000    4.49000  \n",
       "Aluminum            1.36000    1.630000    3.50000  \n",
       "Silicon            72.79000   73.087500   75.41000  \n",
       "Potassium           0.55500    0.610000    6.21000  \n",
       "Calcium             8.60000    9.172500   16.19000  \n",
       "Barium              0.00000    0.000000    3.15000  \n",
       "Iron                0.00000    0.100000    0.51000  "
      ]
     },
     "execution_count": 82,
     "metadata": {},
     "output_type": "execute_result"
    }
   ],
   "source": [
    "glass_data.describe().transpose()"
   ]
  },
  {
   "cell_type": "code",
   "execution_count": 83,
   "metadata": {},
   "outputs": [
    {
     "data": {
      "text/plain": [
       "ID                    int64\n",
       "refractive index    float64\n",
       "Sodium              float64\n",
       "Magnesium           float64\n",
       "Aluminum            float64\n",
       "Silicon             float64\n",
       "Potassium           float64\n",
       "Calcium             float64\n",
       "Barium              float64\n",
       "Iron                float64\n",
       "Type                 object\n",
       "dtype: object"
      ]
     },
     "execution_count": 83,
     "metadata": {},
     "output_type": "execute_result"
    }
   ],
   "source": [
    "glass_data.dtypes"
   ]
  },
  {
   "cell_type": "markdown",
   "metadata": {},
   "source": [
    "# Univariate Analysis"
   ]
  },
  {
   "cell_type": "code",
   "execution_count": 84,
   "metadata": {},
   "outputs": [
    {
     "data": {
      "text/plain": [
       "<Figure size 720x504 with 0 Axes>"
      ]
     },
     "metadata": {},
     "output_type": "display_data"
    },
    {
     "data": {
      "image/png": "[encoded data removed]",
      "text/plain": [
       "<Figure size 360x360 with 1 Axes>"
      ]
     },
     "metadata": {
      "needs_background": "light"
     },
     "output_type": "display_data"
    },
    {
     "data": {
      "image/png": "[encoded data removed]",
      "text/plain": [
       "<Figure size 360x360 with 1 Axes>"
      ]
     },
     "metadata": {
      "needs_background": "light"
     },
     "output_type": "display_data"
    },
    {
     "data": {
      "image/png": "[encoded data removed]",
      "text/plain": [
       "<Figure size 360x360 with 1 Axes>"
      ]
     },
     "metadata": {
      "needs_background": "light"
     },
     "output_type": "display_data"
    },
    {
     "data": {
      "image/png": "[encoded data removed]",
      "text/plain": [
       "<Figure size 360x360 with 1 Axes>"
      ]
     },
     "metadata": {
      "needs_background": "light"
     },
     "output_type": "display_data"
    },
    {
     "data": {
      "image/png": "[encoded data removed]",
      "text/plain": [
       "<Figure size 360x360 with 1 Axes>"
      ]
     },
     "metadata": {
      "needs_background": "light"
     },
     "output_type": "display_data"
    },
    {
     "data": {
      "image/png": "[encoded data removed]",
      "text/plain": [
       "<Figure size 360x360 with 1 Axes>"
      ]
     },
     "metadata": {
      "needs_background": "light"
     },
     "output_type": "display_data"
    },
    {
     "data": {
      "image/png": "[encoded data removed]",
      "text/plain": [
       "<Figure size 360x360 with 1 Axes>"
      ]
     },
     "metadata": {
      "needs_background": "light"
     },
     "output_type": "display_data"
    },
    {
     "data": {
      "image/png": "[encoded data removed]",
      "text/plain": [
       "<Figure size 360x360 with 1 Axes>"
      ]
     },
     "metadata": {
      "needs_background": "light"
     },
     "output_type": "display_data"
    },
    {
     "data": {
      "image/png": "[encoded data removed]",
      "text/plain": [
       "<Figure size 360x360 with 1 Axes>"
      ]
     },
     "metadata": {
      "needs_background": "light"
     },
     "output_type": "display_data"
    },
    {
     "data": {
      "image/png": "[encoded data removed]",
      "text/plain": [
       "<Figure size 360x360 with 1 Axes>"
      ]
     },
     "metadata": {
      "needs_background": "light"
     },
     "output_type": "display_data"
    }
   ],
   "source": [
    "def plot_distributions(data):\n",
    "    plt.figure(figsize=(10,7))\n",
    "    for col in data.columns:\n",
    "        if col == 'Type':\n",
    "            continue\n",
    "        sns.displot(data[col], kind='kde')\n",
    "        plt.show()\n",
    "plot_distributions(glass_data)"
   ]
  },
  {
   "cell_type": "code",
   "execution_count": 85,
   "metadata": {},
   "outputs": [],
   "source": [
    "glass_data.drop('ID', axis=1, inplace=True)"
   ]
  },
  {
   "cell_type": "code",
   "execution_count": 86,
   "metadata": {},
   "outputs": [
    {
     "data": {
      "text/plain": [
       "building_windows_non_float_processed    76\n",
       "building_windows_float_processed        70\n",
       "headlamps                               29\n",
       "vehicle_windows_float_processed         17\n",
       "containers                              13\n",
       "tableware                                9\n",
       "Name: Type, dtype: int64"
      ]
     },
     "execution_count": 86,
     "metadata": {},
     "output_type": "execute_result"
    }
   ],
   "source": [
    "glass_data.Type.value_counts()"
   ]
  },
  {
   "cell_type": "markdown",
   "metadata": {},
   "source": [
    "# 2. Split the data into dependent and independent variables. Also see how the looks like\n",
    "\n",
    "Hint: you can make use of nay method(iloc or drop method)"
   ]
  },
  {
   "cell_type": "code",
   "execution_count": 87,
   "metadata": {},
   "outputs": [],
   "source": [
    "X = glass_data.drop('Type', axis=1)\n",
    "y = glass_data['Type']"
   ]
  },
  {
   "cell_type": "markdown",
   "metadata": {},
   "source": [
    "# 3. Convert Target variable into numerical"
   ]
  },
  {
   "cell_type": "code",
   "execution_count": 88,
   "metadata": {},
   "outputs": [],
   "source": [
    "label_encoder = LabelEncoder()\n",
    "y = pd.Series(label_encoder.fit_transform(y))\n"
   ]
  },
  {
   "cell_type": "markdown",
   "metadata": {},
   "source": [
    "# 4. Split the dataset into train and test set "
   ]
  },
  {
   "cell_type": "code",
   "execution_count": 89,
   "metadata": {},
   "outputs": [],
   "source": [
    "X_rem, X_test, y_rem, y_test = train_test_split(X,y, test_size=0.2, random_state=7, stratify=y)\n",
    "X_train,X_val, y_train, y_val = train_test_split(X_rem, y_rem, test_size=0.2, random_state=7)"
   ]
  },
  {
   "cell_type": "code",
   "execution_count": 90,
   "metadata": {},
   "outputs": [
    {
     "name": "stdout",
     "output_type": "stream",
     "text": [
      "[3 1 5 0 2 4]\n",
      "[5 3 0 1 2 4]\n",
      "[1 3 0 5 2 4]\n"
     ]
    }
   ],
   "source": [
    "print(y_train.unique())\n",
    "print(y_val.unique())\n",
    "print(y_test.unique())"
   ]
  },
  {
   "cell_type": "markdown",
   "metadata": {},
   "source": [
    "# 5. Build the pipeline\n",
    "Steps:\n",
    "\n",
    "Instantiate the pipeline, as first defining standard scaler and on the scaled data run the PCA and then feed it to the logistic regression(or any other algo)\n",
    "\n",
    "Hint:\n",
    "\n",
    "Import standard scaler to standardize the data\n",
    "\n",
    "You can take an algorithm of choice and build a pipeline"
   ]
  },
  {
   "cell_type": "code",
   "execution_count": 91,
   "metadata": {},
   "outputs": [],
   "source": [
    "pipeline = make_pipeline(\n",
    "            StandardScaler(),\n",
    "            PCA(),\n",
    "            LogisticRegression(solver='liblinear', random_state=7)\n",
    "            )"
   ]
  },
  {
   "cell_type": "markdown",
   "metadata": {},
   "source": [
    "# 6.Follow the above steps and check if you can tweak the logistic regression parameters above and make use of Grid search"
   ]
  },
  {
   "cell_type": "code",
   "execution_count": 92,
   "metadata": {},
   "outputs": [
    {
     "data": {
      "text/plain": [
       "{'memory': None,\n",
       " 'steps': [('standardscaler', StandardScaler()),\n",
       "  ('pca', PCA()),\n",
       "  ('logisticregression',\n",
       "   LogisticRegression(random_state=7, solver='liblinear'))],\n",
       " 'verbose': False,\n",
       " 'standardscaler': StandardScaler(),\n",
       " 'pca': PCA(),\n",
       " 'logisticregression': LogisticRegression(random_state=7, solver='liblinear'),\n",
       " 'standardscaler__copy': True,\n",
       " 'standardscaler__with_mean': True,\n",
       " 'standardscaler__with_std': True,\n",
       " 'pca__copy': True,\n",
       " 'pca__iterated_power': 'auto',\n",
       " 'pca__n_components': None,\n",
       " 'pca__random_state': None,\n",
       " 'pca__svd_solver': 'auto',\n",
       " 'pca__tol': 0.0,\n",
       " 'pca__whiten': False,\n",
       " 'logisticregression__C': 1.0,\n",
       " 'logisticregression__class_weight': None,\n",
       " 'logisticregression__dual': False,\n",
       " 'logisticregression__fit_intercept': True,\n",
       " 'logisticregression__intercept_scaling': 1,\n",
       " 'logisticregression__l1_ratio': None,\n",
       " 'logisticregression__max_iter': 100,\n",
       " 'logisticregression__multi_class': 'auto',\n",
       " 'logisticregression__n_jobs': None,\n",
       " 'logisticregression__penalty': 'l2',\n",
       " 'logisticregression__random_state': 7,\n",
       " 'logisticregression__solver': 'liblinear',\n",
       " 'logisticregression__tol': 0.0001,\n",
       " 'logisticregression__verbose': 0,\n",
       " 'logisticregression__warm_start': False}"
      ]
     },
     "execution_count": 92,
     "metadata": {},
     "output_type": "execute_result"
    }
   ],
   "source": [
    "pipeline.get_params()"
   ]
  },
  {
   "cell_type": "code",
   "execution_count": 108,
   "metadata": {},
   "outputs": [],
   "source": [
    "grid_param = {\n",
    "    'pca__n_components':[5,8],\n",
    "    'logisticregression__C': [0.001, 0.01,0.5, 0.8, 0.9, 1, 10],\n",
    "    'logisticregression__fit_intercept': [True, False],\n",
    "    'logisticregression__penalty': ['l1', 'l2', 'elasticnet'],\n",
    "    'logisticregression__solver': ['newton-cg', 'lbfgs', 'liblinear', 'sag']\n",
    "}\n",
    "gs = GridSearchCV(pipeline, param_grid=grid_param, cv=5, n_jobs=5)"
   ]
  },
  {
   "cell_type": "code",
   "execution_count": 109,
   "metadata": {},
   "outputs": [
    {
     "data": {
      "text/plain": [
       "GridSearchCV(cv=5,\n",
       "             estimator=Pipeline(steps=[('standardscaler', StandardScaler()),\n",
       "                                       ('pca', PCA()),\n",
       "                                       ('logisticregression',\n",
       "                                        LogisticRegression(random_state=7,\n",
       "                                                           solver='liblinear'))]),\n",
       "             n_jobs=5,\n",
       "             param_grid={'logisticregression__C': [0.001, 0.01, 0.5, 0.8, 0.9,\n",
       "                                                   1, 10],\n",
       "                         'logisticregression__fit_intercept': [True, False],\n",
       "                         'logisticregression__penalty': ['l1', 'l2',\n",
       "                                                         'elasticnet'],\n",
       "                         'logisticregression__solver': ['newton-cg', 'lbfgs',\n",
       "                                                        'liblinear', 'sag'],\n",
       "                         'pca__n_components': [5, 8]})"
      ]
     },
     "execution_count": 109,
     "metadata": {},
     "output_type": "execute_result"
    }
   ],
   "source": [
    "gs.fit(X_train, y_train)"
   ]
  },
  {
   "cell_type": "code",
   "execution_count": 110,
   "metadata": {},
   "outputs": [
    {
     "data": {
      "text/plain": [
       "{'logisticregression__C': 10,\n",
       " 'logisticregression__fit_intercept': True,\n",
       " 'logisticregression__penalty': 'l2',\n",
       " 'logisticregression__solver': 'newton-cg',\n",
       " 'pca__n_components': 8}"
      ]
     },
     "execution_count": 110,
     "metadata": {},
     "output_type": "execute_result"
    }
   ],
   "source": [
    "gs.best_params_"
   ]
  },
  {
   "cell_type": "code",
   "execution_count": 111,
   "metadata": {},
   "outputs": [
    {
     "name": "stdout",
     "output_type": "stream",
     "text": [
      "Validation Score: 0.5714285714285714\n"
     ]
    }
   ],
   "source": [
    "print('Validation Score: {}'.format(gs.score(X_val, y_val)))"
   ]
  },
  {
   "cell_type": "code",
   "execution_count": 112,
   "metadata": {},
   "outputs": [
    {
     "data": {
      "text/plain": [
       "array([0, 3, 1, 0, 1, 0, 1, 1, 3, 0, 1, 0, 0, 0, 3, 2, 0, 1, 5, 1, 1, 0,\n",
       "       0, 1, 3, 3, 1, 1, 0, 1, 2, 1, 3, 1, 0, 0, 1, 0, 3, 0, 3, 0, 1])"
      ]
     },
     "execution_count": 112,
     "metadata": {},
     "output_type": "execute_result"
    }
   ],
   "source": [
    "y_predict = gs.predict(X_test)\n",
    "y_predict"
   ]
  },
  {
   "cell_type": "code",
   "execution_count": 113,
   "metadata": {},
   "outputs": [
    {
     "data": {
      "text/plain": [
       "array([[9, 5, 0, 0, 0, 0],\n",
       "       [5, 9, 0, 1, 0, 0],\n",
       "       [0, 0, 2, 1, 0, 0],\n",
       "       [0, 0, 0, 6, 0, 0],\n",
       "       [0, 2, 0, 0, 0, 0],\n",
       "       [2, 0, 0, 0, 0, 1]])"
      ]
     },
     "execution_count": 113,
     "metadata": {},
     "output_type": "execute_result"
    }
   ],
   "source": [
    "confusion_matrix(y_test, y_predict)"
   ]
  },
  {
   "cell_type": "code",
   "execution_count": 114,
   "metadata": {},
   "outputs": [
    {
     "name": "stdout",
     "output_type": "stream",
     "text": [
      "              precision    recall  f1-score   support\n",
      "\n",
      "           0       0.56      0.64      0.60        14\n",
      "           1       0.56      0.60      0.58        15\n",
      "           2       1.00      0.67      0.80         3\n",
      "           3       0.75      1.00      0.86         6\n",
      "           4       0.00      0.00      0.00         2\n",
      "           5       1.00      0.33      0.50         3\n",
      "\n",
      "    accuracy                           0.63        43\n",
      "   macro avg       0.65      0.54      0.56        43\n",
      "weighted avg       0.62      0.63      0.61        43\n",
      "\n"
     ]
    }
   ],
   "source": [
    "print(classification_report(y_test, y_predict))"
   ]
  },
  {
   "cell_type": "code",
   "execution_count": 115,
   "metadata": {},
   "outputs": [
    {
     "name": "stdout",
     "output_type": "stream",
     "text": [
      "Train Score: 0.7426470588235294\n",
      "Validation Score: 0.5714285714285714\n",
      "Test Score: 0.627906976744186\n"
     ]
    }
   ],
   "source": [
    "print('Train Score: {}'.format(gs.score(X_train, y_train)))\n",
    "print('Validation Score: {}'.format(gs.score(X_val, y_val)))\n",
    "print('Test Score: {}'.format(gs.score(X_test, y_test)))"
   ]
  },
  {
   "cell_type": "code",
   "execution_count": 116,
   "metadata": {},
   "outputs": [
    {
     "data": {
      "text/plain": [
       "array([0.00746188, 0.00824037, 0.00631189, 0.00603204, 0.00799088,\n",
       "       0.00866299, 0.00543938, 0.00546718, 0.03473907, 0.03615122,\n",
       "       0.03604536, 0.03126998, 0.01389894, 0.01142473, 0.01183281,\n",
       "       0.01022635, 0.00726805, 0.00635419, 0.00507021, 0.00701704,\n",
       "       0.00549259, 0.00556183, 0.00557575, 0.00559268, 0.00553255,\n",
       "       0.00549192, 0.00549469, 0.00564075, 0.00647993, 0.00764852,\n",
       "       0.00555696, 0.00558329, 0.0110774 , 0.01122499, 0.0095048 ,\n",
       "       0.01040287, 0.01229124, 0.00796037, 0.0074904 , 0.00935664,\n",
       "       0.00847654, 0.00542521, 0.00561728, 0.00561509, 0.00554457,\n",
       "       0.00548773, 0.00559816, 0.00551362, 0.00530915, 0.0055625 ,\n",
       "       0.00566592, 0.00595083, 0.00667458, 0.00784941, 0.00576348,\n",
       "       0.00561128, 0.03294029, 0.02601328, 0.020193  , 0.02216196,\n",
       "       0.01192455, 0.00905733, 0.01005077, 0.00879874, 0.00744953,\n",
       "       0.00558224, 0.00811338, 0.00555625, 0.00551114, 0.00585523,\n",
       "       0.00546279, 0.00555463, 0.00578084, 0.00637398, 0.005653  ,\n",
       "       0.00560608, 0.00727067, 0.00620699, 0.00588779, 0.0055675 ,\n",
       "       0.01331768, 0.01543703, 0.01400795, 0.01363044, 0.00675139,\n",
       "       0.00669746, 0.0087616 , 0.00979748, 0.0056592 , 0.00563836,\n",
       "       0.00543623, 0.00552583, 0.00555668, 0.00560007, 0.00548363,\n",
       "       0.00660305, 0.005971  , 0.0057354 , 0.00801759, 0.00623922,\n",
       "       0.00705457, 0.01242642, 0.00675626, 0.00559678, 0.03219662,\n",
       "       0.0306077 , 0.02485719, 0.03192163, 0.00862389, 0.00824623,\n",
       "       0.01351285, 0.01453185, 0.00542164, 0.00546155, 0.00548725,\n",
       "       0.00551343, 0.00547137, 0.00558362, 0.00552707, 0.00694447,\n",
       "       0.00561876, 0.00572004, 0.00582705, 0.00573421, 0.00705824,\n",
       "       0.00894022, 0.00581784, 0.00586996, 0.0271699 , 0.02288656,\n",
       "       0.01887336, 0.01936331, 0.00900655, 0.01251345, 0.01002035,\n",
       "       0.01090846, 0.00671177, 0.00547404, 0.00531864, 0.00534692,\n",
       "       0.00561037, 0.00554113, 0.00562396, 0.00562792, 0.00631142,\n",
       "       0.00577412, 0.00733342, 0.00552535, 0.00714645, 0.01079583,\n",
       "       0.0068326 , 0.00550046, 0.02940021, 0.02812457, 0.02814803,\n",
       "       0.03439574, 0.01006417, 0.01100197, 0.01056662, 0.01420712,\n",
       "       0.00555325, 0.00567451, 0.00557652, 0.00555806, 0.00569081,\n",
       "       0.00590763, 0.00566797, 0.0055531 , 0.00552254, 0.00547581,\n",
       "       0.00551853, 0.00551748, 0.00688505, 0.00848398, 0.00564327,\n",
       "       0.00551643, 0.0305079 , 0.02268682, 0.02363539, 0.01726279,\n",
       "       0.00858684, 0.00987802, 0.01143761, 0.0126657 , 0.00861688,\n",
       "       0.00587106, 0.00549612, 0.00763578, 0.00550418, 0.00541515,\n",
       "       0.00547833, 0.0057766 , 0.00568104, 0.00557055, 0.00557003,\n",
       "       0.00610662, 0.00855713, 0.00966959, 0.00873184, 0.00748477,\n",
       "       0.0275713 , 0.03411393, 0.02622976, 0.03882642, 0.00818167,\n",
       "       0.01177311, 0.01206155, 0.01862555, 0.00558457, 0.00540514,\n",
       "       0.00779591, 0.0055481 , 0.00562863, 0.00539274, 0.00553894,\n",
       "       0.00560822, 0.00545278, 0.00571313, 0.00652637, 0.00763741,\n",
       "       0.00778317, 0.00860472, 0.00558276, 0.00579123, 0.02118039,\n",
       "       0.02656732, 0.01980224, 0.02075896, 0.00868282, 0.01065478,\n",
       "       0.01188459, 0.01432962, 0.00607266, 0.0055625 , 0.00542493,\n",
       "       0.00545321, 0.0053102 , 0.00558319, 0.00560637, 0.00512762,\n",
       "       0.00539699, 0.00559382, 0.00605021, 0.00569048, 0.00713401,\n",
       "       0.00735388, 0.00718818, 0.00542746, 0.02634387, 0.03292103,\n",
       "       0.02761903, 0.03010383, 0.0070991 , 0.00931106, 0.01579404,\n",
       "       0.0141953 , 0.00568218, 0.00575366, 0.00549278, 0.00542536,\n",
       "       0.00585351, 0.00578685, 0.00555434, 0.00558195, 0.00576959,\n",
       "       0.00572739, 0.00552936, 0.00567155, 0.00659924, 0.00819583,\n",
       "       0.00551014, 0.00560141, 0.02379818, 0.03084497, 0.01380401,\n",
       "       0.03482265, 0.01153078, 0.01073108, 0.02323871, 0.01301403,\n",
       "       0.00574436, 0.00563865, 0.00554581, 0.00549607, 0.00559931,\n",
       "       0.00559058, 0.00559292, 0.00627437, 0.0068047 , 0.0053741 ,\n",
       "       0.00543218, 0.00534883, 0.01136327, 0.01193342, 0.00677361,\n",
       "       0.00559459, 0.03439994, 0.05041561, 0.04963999, 0.07828317,\n",
       "       0.00727191, 0.00788355, 0.01699953, 0.02090406, 0.00562291,\n",
       "       0.00555501, 0.00543137, 0.00551281, 0.0056273 , 0.00579081,\n",
       "       0.0055675 , 0.00575361, 0.00549698, 0.00541782, 0.0054544 ,\n",
       "       0.00575352, 0.00794597, 0.01068621, 0.00521164, 0.00566087,\n",
       "       0.02330632, 0.03743982, 0.01706367, 0.03983998, 0.01160641,\n",
       "       0.01199756, 0.01669993, 0.02563076, 0.00611601, 0.0058002 ,\n",
       "       0.00506029, 0.00567946, 0.00599747, 0.00595331, 0.00587778,\n",
       "       0.00572295])"
      ]
     },
     "execution_count": 116,
     "metadata": {},
     "output_type": "execute_result"
    }
   ],
   "source": [
    "gs.cv_results_['mean_fit_time']"
   ]
  },
  {
   "cell_type": "code",
   "execution_count": 117,
   "metadata": {},
   "outputs": [
    {
     "data": {
      "text/plain": [
       "array([0.        , 0.        , 0.        , 0.        , 0.01169515,\n",
       "       0.00299344, 0.        , 0.        , 0.00290437, 0.0027142 ,\n",
       "       0.00504813, 0.00265322, 0.00274692, 0.0026195 , 0.00508337,\n",
       "       0.00500851, 0.        , 0.        , 0.        , 0.        ,\n",
       "       0.        , 0.        , 0.        , 0.        , 0.        ,\n",
       "       0.        , 0.        , 0.        , 0.00307746, 0.00531893,\n",
       "       0.        , 0.        , 0.00270958, 0.00266342, 0.0026998 ,\n",
       "       0.00351644, 0.00259233, 0.00259423, 0.00262589, 0.00282741,\n",
       "       0.        , 0.        , 0.        , 0.        , 0.        ,\n",
       "       0.        , 0.        , 0.        , 0.        , 0.        ,\n",
       "       0.        , 0.        , 0.00436583, 0.00268126, 0.        ,\n",
       "       0.        , 0.003828  , 0.00264416, 0.00348358, 0.00279984,\n",
       "       0.00320959, 0.00260739, 0.00271325, 0.00698504, 0.        ,\n",
       "       0.        , 0.        , 0.        , 0.        , 0.        ,\n",
       "       0.        , 0.        , 0.        , 0.        , 0.        ,\n",
       "       0.        , 0.00259299, 0.00254178, 0.        , 0.        ,\n",
       "       0.00242052, 0.00319777, 0.00405765, 0.00325017, 0.00314698,\n",
       "       0.00407529, 0.00332437, 0.0033978 , 0.        , 0.        ,\n",
       "       0.        , 0.        , 0.        , 0.        , 0.        ,\n",
       "       0.        , 0.        , 0.        , 0.        , 0.        ,\n",
       "       0.00265002, 0.0042017 , 0.        , 0.        , 0.00262599,\n",
       "       0.00268435, 0.00277419, 0.00272093, 0.00269651, 0.00526695,\n",
       "       0.0027204 , 0.00264525, 0.        , 0.        , 0.        ,\n",
       "       0.        , 0.        , 0.        , 0.        , 0.        ,\n",
       "       0.        , 0.        , 0.        , 0.        , 0.00482407,\n",
       "       0.00677476, 0.        , 0.        , 0.0040484 , 0.00381985,\n",
       "       0.00279579, 0.00412092, 0.0026371 , 0.00288925, 0.0036037 ,\n",
       "       0.00380964, 0.        , 0.        , 0.        , 0.        ,\n",
       "       0.        , 0.        , 0.        , 0.        , 0.        ,\n",
       "       0.        , 0.        , 0.        , 0.00288186, 0.00266972,\n",
       "       0.        , 0.        , 0.00278544, 0.00420218, 0.00315537,\n",
       "       0.00271759, 0.00283537, 0.00255895, 0.00276818, 0.00249205,\n",
       "       0.        , 0.        , 0.        , 0.        , 0.        ,\n",
       "       0.        , 0.        , 0.        , 0.        , 0.        ,\n",
       "       0.        , 0.        , 0.00309958, 0.00625362, 0.        ,\n",
       "       0.        , 0.00307484, 0.00371432, 0.00285993, 0.00297737,\n",
       "       0.00400963, 0.00279226, 0.00397468, 0.00371861, 0.        ,\n",
       "       0.        , 0.        , 0.        , 0.        , 0.        ,\n",
       "       0.        , 0.        , 0.        , 0.        , 0.        ,\n",
       "       0.        , 0.00353198, 0.00265255, 0.        , 0.        ,\n",
       "       0.00282407, 0.00379429, 0.00264673, 0.00305219, 0.0039742 ,\n",
       "       0.00413737, 0.00295601, 0.00266862, 0.        , 0.        ,\n",
       "       0.        , 0.        , 0.        , 0.        , 0.        ,\n",
       "       0.        , 0.        , 0.        , 0.        , 0.        ,\n",
       "       0.00754356, 0.00269213, 0.        , 0.        , 0.00276179,\n",
       "       0.00373564, 0.00382795, 0.00497303, 0.00309014, 0.00267744,\n",
       "       0.00453653, 0.00617542, 0.        , 0.        , 0.        ,\n",
       "       0.        , 0.        , 0.        , 0.        , 0.        ,\n",
       "       0.        , 0.        , 0.        , 0.        , 0.00265446,\n",
       "       0.00371828, 0.        , 0.        , 0.0026144 , 0.0026114 ,\n",
       "       0.00285797, 0.00270925, 0.00252614, 0.00256362, 0.00293179,\n",
       "       0.00268207, 0.        , 0.        , 0.        , 0.        ,\n",
       "       0.        , 0.        , 0.        , 0.        , 0.        ,\n",
       "       0.        , 0.        , 0.        , 0.00268059, 0.00276227,\n",
       "       0.        , 0.        , 0.00269084, 0.00287285, 0.00253515,\n",
       "       0.00463376, 0.00376124, 0.0052145 , 0.00499263, 0.00378022,\n",
       "       0.        , 0.        , 0.        , 0.        , 0.        ,\n",
       "       0.        , 0.        , 0.        , 0.        , 0.        ,\n",
       "       0.        , 0.        , 0.00285621, 0.00316067, 0.        ,\n",
       "       0.        , 0.00314331, 0.00436215, 0.00300264, 0.00451384,\n",
       "       0.00261946, 0.0026082 , 0.00363269, 0.0031158 , 0.        ,\n",
       "       0.        , 0.        , 0.        , 0.        , 0.        ,\n",
       "       0.        , 0.        , 0.        , 0.        , 0.        ,\n",
       "       0.        , 0.00258765, 0.00334096, 0.        , 0.        ,\n",
       "       0.00273023, 0.00689435, 0.00274782, 0.00272493, 0.00323377,\n",
       "       0.00260682, 0.00273247, 0.00399961, 0.        , 0.        ,\n",
       "       0.        , 0.        , 0.        , 0.        , 0.        ,\n",
       "       0.        ])"
      ]
     },
     "execution_count": 117,
     "metadata": {},
     "output_type": "execute_result"
    }
   ],
   "source": [
    "gs.cv_results_['mean_score_time']"
   ]
  },
  {
   "cell_type": "code",
   "execution_count": 118,
   "metadata": {},
   "outputs": [
    {
     "data": {
      "text/plain": [
       "array([       nan,        nan,        nan,        nan, 0.3457672 ,\n",
       "       0.3457672 ,        nan,        nan, 0.36772487, 0.36031746,\n",
       "       0.36772487, 0.36031746, 0.5       , 0.5       , 0.36772487,\n",
       "       0.36772487,        nan,        nan,        nan,        nan,\n",
       "              nan,        nan,        nan,        nan,        nan,\n",
       "              nan,        nan,        nan, 0.3457672 , 0.3457672 ,\n",
       "              nan,        nan, 0.49973545, 0.52936508, 0.49973545,\n",
       "       0.52936508, 0.49973545, 0.52195767, 0.49973545, 0.52936508,\n",
       "              nan,        nan,        nan,        nan,        nan,\n",
       "              nan,        nan,        nan,        nan,        nan,\n",
       "              nan,        nan, 0.3457672 , 0.3457672 ,        nan,\n",
       "              nan, 0.52857143, 0.54312169, 0.52857143, 0.54312169,\n",
       "       0.48518519, 0.49259259, 0.52857143, 0.54312169,        nan,\n",
       "              nan,        nan,        nan,        nan,        nan,\n",
       "              nan,        nan,        nan,        nan,        nan,\n",
       "              nan, 0.3457672 , 0.3457672 ,        nan,        nan,\n",
       "       0.49973545, 0.52936508, 0.49973545, 0.52936508, 0.48518519,\n",
       "       0.52222222, 0.49973545, 0.52936508,        nan,        nan,\n",
       "              nan,        nan,        nan,        nan,        nan,\n",
       "              nan,        nan,        nan,        nan,        nan,\n",
       "       0.5505291 , 0.55      ,        nan,        nan, 0.53544974,\n",
       "       0.57222222, 0.53544974, 0.57222222, 0.54338624, 0.55740741,\n",
       "       0.53544974, 0.57222222,        nan,        nan,        nan,\n",
       "              nan,        nan,        nan,        nan,        nan,\n",
       "              nan,        nan,        nan,        nan, 0.50687831,\n",
       "       0.52936508,        nan,        nan, 0.55873016, 0.54338624,\n",
       "       0.55873016, 0.54338624, 0.51455026, 0.54365079, 0.55873016,\n",
       "       0.54338624,        nan,        nan,        nan,        nan,\n",
       "              nan,        nan,        nan,        nan,        nan,\n",
       "              nan,        nan,        nan, 0.53597884, 0.54973545,\n",
       "              nan,        nan, 0.55767196, 0.57195767, 0.55767196,\n",
       "       0.57195767, 0.53597884, 0.56481481, 0.55767196, 0.57195767,\n",
       "              nan,        nan,        nan,        nan,        nan,\n",
       "              nan,        nan,        nan,        nan,        nan,\n",
       "              nan,        nan, 0.51428571, 0.55079365,        nan,\n",
       "              nan, 0.56587302, 0.57248677, 0.56587302, 0.57248677,\n",
       "       0.52169312, 0.54391534, 0.56587302, 0.57248677,        nan,\n",
       "              nan,        nan,        nan,        nan,        nan,\n",
       "              nan,        nan,        nan,        nan,        nan,\n",
       "              nan, 0.52857143, 0.54973545,        nan,        nan,\n",
       "       0.55740741, 0.57936508, 0.55740741, 0.57936508, 0.53597884,\n",
       "       0.55740741, 0.55740741, 0.57936508,        nan,        nan,\n",
       "              nan,        nan,        nan,        nan,        nan,\n",
       "              nan,        nan,        nan,        nan,        nan,\n",
       "       0.51428571, 0.55079365,        nan,        nan, 0.56587302,\n",
       "       0.57222222, 0.56587302, 0.57222222, 0.52169312, 0.54391534,\n",
       "       0.56587302, 0.57222222,        nan,        nan,        nan,\n",
       "              nan,        nan,        nan,        nan,        nan,\n",
       "              nan,        nan,        nan,        nan, 0.53597884,\n",
       "       0.55714286,        nan,        nan, 0.55740741, 0.57936508,\n",
       "       0.55740741, 0.57936508, 0.53597884, 0.55      , 0.55740741,\n",
       "       0.57936508,        nan,        nan,        nan,        nan,\n",
       "              nan,        nan,        nan,        nan,        nan,\n",
       "              nan,        nan,        nan, 0.51428571, 0.55820106,\n",
       "              nan,        nan, 0.55873016, 0.56481481, 0.55873016,\n",
       "       0.56481481, 0.52169312, 0.54391534, 0.55873016, 0.56481481,\n",
       "              nan,        nan,        nan,        nan,        nan,\n",
       "              nan,        nan,        nan,        nan,        nan,\n",
       "              nan,        nan, 0.54312169, 0.56428571,        nan,\n",
       "              nan, 0.59444444, 0.61666667, 0.59444444, 0.61666667,\n",
       "       0.54312169, 0.56455026, 0.59444444, 0.60925926,        nan,\n",
       "              nan,        nan,        nan,        nan,        nan,\n",
       "              nan,        nan,        nan,        nan,        nan,\n",
       "              nan, 0.52883598, 0.5510582 ,        nan,        nan,\n",
       "       0.53624339, 0.60185185, 0.53624339, 0.60185185, 0.51428571,\n",
       "       0.5510582 , 0.53624339, 0.60185185,        nan,        nan,\n",
       "              nan,        nan,        nan,        nan,        nan,\n",
       "              nan])"
      ]
     },
     "execution_count": 118,
     "metadata": {},
     "output_type": "execute_result"
    }
   ],
   "source": [
    "gs.cv_results_['mean_test_score']"
   ]
  },
  {
   "cell_type": "markdown",
   "metadata": {},
   "source": [
    "# 7. Optimize the model parameters(can make use of any algorithm)\n",
    "Make use of Grid search for hyper parameter\n",
    "\n",
    "Steps:\n",
    "Split the dataset into train and test set\n",
    "\n",
    "Make use of any algorithm , from the list of hyper parameters you get apply param grid \n",
    "\n",
    "Once hyper parameter grid is defined, import grid search CV and fit x_train and y_train\n",
    "\n",
    "Find the best params and mean test score\n"
   ]
  },
  {
   "cell_type": "code",
   "execution_count": 119,
   "metadata": {},
   "outputs": [],
   "source": [
    "pipeline = make_pipeline(\n",
    "            StandardScaler(),\n",
    "            PCA(),\n",
    "            DecisionTreeClassifier()\n",
    "            )"
   ]
  },
  {
   "cell_type": "code",
   "execution_count": 120,
   "metadata": {},
   "outputs": [
    {
     "data": {
      "text/plain": [
       "{'memory': None,\n",
       " 'steps': [('standardscaler', StandardScaler()),\n",
       "  ('pca', PCA()),\n",
       "  ('decisiontreeclassifier', DecisionTreeClassifier())],\n",
       " 'verbose': False,\n",
       " 'standardscaler': StandardScaler(),\n",
       " 'pca': PCA(),\n",
       " 'decisiontreeclassifier': DecisionTreeClassifier(),\n",
       " 'standardscaler__copy': True,\n",
       " 'standardscaler__with_mean': True,\n",
       " 'standardscaler__with_std': True,\n",
       " 'pca__copy': True,\n",
       " 'pca__iterated_power': 'auto',\n",
       " 'pca__n_components': None,\n",
       " 'pca__random_state': None,\n",
       " 'pca__svd_solver': 'auto',\n",
       " 'pca__tol': 0.0,\n",
       " 'pca__whiten': False,\n",
       " 'decisiontreeclassifier__ccp_alpha': 0.0,\n",
       " 'decisiontreeclassifier__class_weight': None,\n",
       " 'decisiontreeclassifier__criterion': 'gini',\n",
       " 'decisiontreeclassifier__max_depth': None,\n",
       " 'decisiontreeclassifier__max_features': None,\n",
       " 'decisiontreeclassifier__max_leaf_nodes': None,\n",
       " 'decisiontreeclassifier__min_impurity_decrease': 0.0,\n",
       " 'decisiontreeclassifier__min_impurity_split': None,\n",
       " 'decisiontreeclassifier__min_samples_leaf': 1,\n",
       " 'decisiontreeclassifier__min_samples_split': 2,\n",
       " 'decisiontreeclassifier__min_weight_fraction_leaf': 0.0,\n",
       " 'decisiontreeclassifier__presort': 'deprecated',\n",
       " 'decisiontreeclassifier__random_state': None,\n",
       " 'decisiontreeclassifier__splitter': 'best'}"
      ]
     },
     "execution_count": 120,
     "metadata": {},
     "output_type": "execute_result"
    }
   ],
   "source": [
    "pipeline.get_params()"
   ]
  },
  {
   "cell_type": "code",
   "execution_count": 122,
   "metadata": {},
   "outputs": [],
   "source": [
    "param_grid = {\n",
    "    'pca__n_components': [2,3,5,9],\n",
    "    'pca__svd_solver': ['auto', 'full', 'arpack', 'randomized'],\n",
    "    'decisiontreeclassifier__ccp_alpha': [0.001,0.005, 0.01, 0.05, 0.1, 0.5, 1],\n",
    "    'decisiontreeclassifier__criterion': ['gini', 'entropy'],\n",
    "    'decisiontreeclassifier__max_depth': [3,4,5],\n",
    "    'decisiontreeclassifier__min_samples_split': [5,10]\n",
    "}"
   ]
  },
  {
   "cell_type": "code",
   "execution_count": 124,
   "metadata": {},
   "outputs": [
    {
     "data": {
      "text/plain": [
       "GridSearchCV(cv=5,\n",
       "             estimator=Pipeline(steps=[('standardscaler', StandardScaler()),\n",
       "                                       ('pca', PCA()),\n",
       "                                       ('decisiontreeclassifier',\n",
       "                                        DecisionTreeClassifier())]),\n",
       "             n_jobs=5,\n",
       "             param_grid={'decisiontreeclassifier__ccp_alpha': [0.001, 0.005,\n",
       "                                                               0.01, 0.05, 0.1,\n",
       "                                                               0.5, 1],\n",
       "                         'decisiontreeclassifier__criterion': ['gini',\n",
       "                                                               'entropy'],\n",
       "                         'decisiontreeclassifier__max_depth': [3, 4, 5],\n",
       "                         'decisiontreeclassifier__min_samples_split': [5, 10],\n",
       "                         'pca__n_components': [2, 3, 5, 9],\n",
       "                         'pca__svd_solver': ['auto', 'full', 'arpack',\n",
       "                                             'randomized']})"
      ]
     },
     "execution_count": 124,
     "metadata": {},
     "output_type": "execute_result"
    }
   ],
   "source": [
    "gs = GridSearchCV(pipeline, param_grid=param_grid, cv=5, n_jobs=5)\n",
    "gs.fit(X_train, y_train)"
   ]
  },
  {
   "cell_type": "code",
   "execution_count": 125,
   "metadata": {},
   "outputs": [
    {
     "data": {
      "text/plain": [
       "{'decisiontreeclassifier__ccp_alpha': 0.001,\n",
       " 'decisiontreeclassifier__criterion': 'gini',\n",
       " 'decisiontreeclassifier__max_depth': 5,\n",
       " 'decisiontreeclassifier__min_samples_split': 5,\n",
       " 'pca__n_components': 2,\n",
       " 'pca__svd_solver': 'arpack'}"
      ]
     },
     "execution_count": 125,
     "metadata": {},
     "output_type": "execute_result"
    }
   ],
   "source": [
    "gs.best_params_"
   ]
  },
  {
   "cell_type": "code",
   "execution_count": 126,
   "metadata": {},
   "outputs": [
    {
     "data": {
      "text/plain": [
       "array([0.60291005, 0.60291005, 0.60291005, ..., 0.36772487,        nan,\n",
       "       0.36772487])"
      ]
     },
     "execution_count": 126,
     "metadata": {},
     "output_type": "execute_result"
    }
   ],
   "source": [
    "gs.cv_results_['mean_test_score']"
   ]
  },
  {
   "cell_type": "code",
   "execution_count": 127,
   "metadata": {},
   "outputs": [
    {
     "name": "stdout",
     "output_type": "stream",
     "text": [
      "Train Score: 0.7867647058823529\n",
      "Validation Score: 0.6857142857142857\n",
      "Test Score: 0.6511627906976745\n"
     ]
    }
   ],
   "source": [
    "print('Train Score: {}'.format(gs.score(X_train, y_train)))\n",
    "print('Validation Score: {}'.format(gs.score(X_val, y_val)))\n",
    "print('Test Score: {}'.format(gs.score(X_test, y_test)))"
   ]
  },
  {
   "cell_type": "code",
   "execution_count": 128,
   "metadata": {},
   "outputs": [
    {
     "data": {
      "text/plain": [
       "array([[12,  2,  0,  0,  0,  0],\n",
       "       [ 3, 11,  0,  1,  0,  0],\n",
       "       [ 1,  1,  0,  1,  0,  0],\n",
       "       [ 0,  0,  0,  5,  1,  0],\n",
       "       [ 1,  1,  0,  0,  0,  0],\n",
       "       [ 3,  0,  0,  0,  0,  0]])"
      ]
     },
     "execution_count": 128,
     "metadata": {},
     "output_type": "execute_result"
    }
   ],
   "source": [
    "y_predict = gs.predict(X_test)\n",
    "confusion_matrix(y_test, y_predict)"
   ]
  },
  {
   "cell_type": "code",
   "execution_count": 130,
   "metadata": {},
   "outputs": [
    {
     "name": "stdout",
     "output_type": "stream",
     "text": [
      "              precision    recall  f1-score   support\n",
      "\n",
      "           0       0.60      0.86      0.71        14\n",
      "           1       0.73      0.73      0.73        15\n",
      "           2       0.00      0.00      0.00         3\n",
      "           3       0.71      0.83      0.77         6\n",
      "           4       0.00      0.00      0.00         2\n",
      "           5       0.00      0.00      0.00         3\n",
      "\n",
      "    accuracy                           0.65        43\n",
      "   macro avg       0.34      0.40      0.37        43\n",
      "weighted avg       0.55      0.65      0.59        43\n",
      "\n"
     ]
    }
   ],
   "source": [
    "print(classification_report(y_test, y_predict))"
   ]
  },
  {
   "cell_type": "code",
   "execution_count": 133,
   "metadata": {},
   "outputs": [],
   "source": [
    "pipeline = make_pipeline(\n",
    "            StandardScaler(),\n",
    "            PCA(),\n",
    "            GradientBoostingClassifier(random_state=7)\n",
    "            )"
   ]
  },
  {
   "cell_type": "code",
   "execution_count": 134,
   "metadata": {},
   "outputs": [
    {
     "data": {
      "text/plain": [
       "{'memory': None,\n",
       " 'steps': [('standardscaler', StandardScaler()),\n",
       "  ('pca', PCA()),\n",
       "  ('gradientboostingclassifier', GradientBoostingClassifier(random_state=7))],\n",
       " 'verbose': False,\n",
       " 'standardscaler': StandardScaler(),\n",
       " 'pca': PCA(),\n",
       " 'gradientboostingclassifier': GradientBoostingClassifier(random_state=7),\n",
       " 'standardscaler__copy': True,\n",
       " 'standardscaler__with_mean': True,\n",
       " 'standardscaler__with_std': True,\n",
       " 'pca__copy': True,\n",
       " 'pca__iterated_power': 'auto',\n",
       " 'pca__n_components': None,\n",
       " 'pca__random_state': None,\n",
       " 'pca__svd_solver': 'auto',\n",
       " 'pca__tol': 0.0,\n",
       " 'pca__whiten': False,\n",
       " 'gradientboostingclassifier__ccp_alpha': 0.0,\n",
       " 'gradientboostingclassifier__criterion': 'friedman_mse',\n",
       " 'gradientboostingclassifier__init': None,\n",
       " 'gradientboostingclassifier__learning_rate': 0.1,\n",
       " 'gradientboostingclassifier__loss': 'deviance',\n",
       " 'gradientboostingclassifier__max_depth': 3,\n",
       " 'gradientboostingclassifier__max_features': None,\n",
       " 'gradientboostingclassifier__max_leaf_nodes': None,\n",
       " 'gradientboostingclassifier__min_impurity_decrease': 0.0,\n",
       " 'gradientboostingclassifier__min_impurity_split': None,\n",
       " 'gradientboostingclassifier__min_samples_leaf': 1,\n",
       " 'gradientboostingclassifier__min_samples_split': 2,\n",
       " 'gradientboostingclassifier__min_weight_fraction_leaf': 0.0,\n",
       " 'gradientboostingclassifier__n_estimators': 100,\n",
       " 'gradientboostingclassifier__n_iter_no_change': None,\n",
       " 'gradientboostingclassifier__presort': 'deprecated',\n",
       " 'gradientboostingclassifier__random_state': 7,\n",
       " 'gradientboostingclassifier__subsample': 1.0,\n",
       " 'gradientboostingclassifier__tol': 0.0001,\n",
       " 'gradientboostingclassifier__validation_fraction': 0.1,\n",
       " 'gradientboostingclassifier__verbose': 0,\n",
       " 'gradientboostingclassifier__warm_start': False}"
      ]
     },
     "execution_count": 134,
     "metadata": {},
     "output_type": "execute_result"
    }
   ],
   "source": [
    "pipeline.get_params()"
   ]
  },
  {
   "cell_type": "code",
   "execution_count": 136,
   "metadata": {},
   "outputs": [],
   "source": [
    "param_dist = {\n",
    "    'pca__n_components': range(2,9),\n",
    "    'pca__svd_solver': ['auto', 'full', 'arpack', 'randomized'],\n",
    "    'gradientboostingclassifier__ccp_alpha': np.linspace(0.0001, 100.0),\n",
    "    'gradientboostingclassifier__loss': ['deviance', 'exponential'],\n",
    "    'gradientboostingclassifier__n_estimators': range(50,150),\n",
    "    'gradientboostingclassifier__learning_rate': np.linspace(0.0001, 1.0)\n",
    "}"
   ]
  },
  {
   "cell_type": "code",
   "execution_count": 138,
   "metadata": {},
   "outputs": [],
   "source": [
    "rs = RandomizedSearchCV(pipeline, param_distributions=param_dist, n_iter=50, cv=5)"
   ]
  },
  {
   "cell_type": "code",
   "execution_count": 139,
   "metadata": {},
   "outputs": [
    {
     "data": {
      "text/plain": [
       "RandomizedSearchCV(cv=5,\n",
       "                   estimator=Pipeline(steps=[('standardscaler',\n",
       "                                              StandardScaler()),\n",
       "                                             ('pca', PCA()),\n",
       "                                             ('gradientboostingclassifier',\n",
       "                                              GradientBoostingClassifier(random_state=7))]),\n",
       "                   n_iter=50,\n",
       "                   param_distributions={'gradientboostingclassifier__ccp_alpha': array([1.00000000e-04, 2.04091429e+00, 4.08172857e+00, 6.12254286e+00,\n",
       "       8.16335714e+00, 1.02041714e+01, 1.2244...\n",
       "       8.16344898e-01, 8.36751020e-01, 8.57157143e-01, 8.77563265e-01,\n",
       "       8.97969388e-01, 9.18375510e-01, 9.38781633e-01, 9.59187755e-01,\n",
       "       9.79593878e-01, 1.00000000e+00]),\n",
       "                                        'gradientboostingclassifier__loss': ['deviance',\n",
       "                                                                             'exponential'],\n",
       "                                        'gradientboostingclassifier__n_estimators': range(50, 150),\n",
       "                                        'pca__n_components': range(2, 9),\n",
       "                                        'pca__svd_solver': ['auto', 'full',\n",
       "                                                            'arpack',\n",
       "                                                            'randomized']})"
      ]
     },
     "execution_count": 139,
     "metadata": {},
     "output_type": "execute_result"
    }
   ],
   "source": [
    "rs.fit(X_train,y_train)"
   ]
  },
  {
   "cell_type": "code",
   "execution_count": 140,
   "metadata": {},
   "outputs": [
    {
     "data": {
      "text/plain": [
       "{'pca__svd_solver': 'arpack',\n",
       " 'pca__n_components': 2,\n",
       " 'gradientboostingclassifier__n_estimators': 94,\n",
       " 'gradientboostingclassifier__loss': 'deviance',\n",
       " 'gradientboostingclassifier__learning_rate': 0.30619183673469386,\n",
       " 'gradientboostingclassifier__ccp_alpha': 0.0001}"
      ]
     },
     "execution_count": 140,
     "metadata": {},
     "output_type": "execute_result"
    }
   ],
   "source": [
    "rs.best_params_"
   ]
  },
  {
   "cell_type": "code",
   "execution_count": 144,
   "metadata": {},
   "outputs": [
    {
     "name": "stdout",
     "output_type": "stream",
     "text": [
      "Train Score: 1.0\n",
      "Validation Score: 0.5714285714285714\n",
      "Test Score: 0.5813953488372093\n"
     ]
    }
   ],
   "source": [
    "print('Train Score: {}'.format(rs.score(X_train, y_train)))\n",
    "print('Validation Score: {}'.format(rs.score(X_val, y_val)))\n",
    "print('Test Score: {}'.format(rs.score(X_test, y_test)))"
   ]
  },
  {
   "cell_type": "code",
   "execution_count": 142,
   "metadata": {},
   "outputs": [
    {
     "data": {
      "text/plain": [
       "array([[ 7,  2,  0,  0,  0,  5],\n",
       "       [ 1, 12,  0,  1,  0,  1],\n",
       "       [ 1,  1,  0,  1,  0,  0],\n",
       "       [ 0,  1,  0,  5,  0,  0],\n",
       "       [ 1,  1,  0,  0,  0,  0],\n",
       "       [ 1,  0,  0,  0,  1,  1]])"
      ]
     },
     "execution_count": 142,
     "metadata": {},
     "output_type": "execute_result"
    }
   ],
   "source": [
    "y_predict = rs.predict(X_test)\n",
    "confusion_matrix(y_test, y_predict)"
   ]
  },
  {
   "cell_type": "code",
   "execution_count": 143,
   "metadata": {},
   "outputs": [
    {
     "name": "stdout",
     "output_type": "stream",
     "text": [
      "              precision    recall  f1-score   support\n",
      "\n",
      "           0       0.64      0.50      0.56        14\n",
      "           1       0.71      0.80      0.75        15\n",
      "           2       0.00      0.00      0.00         3\n",
      "           3       0.71      0.83      0.77         6\n",
      "           4       0.00      0.00      0.00         2\n",
      "           5       0.14      0.33      0.20         3\n",
      "\n",
      "    accuracy                           0.58        43\n",
      "   macro avg       0.37      0.41      0.38        43\n",
      "weighted avg       0.56      0.58      0.57        43\n",
      "\n"
     ]
    }
   ],
   "source": [
    "print(classification_report(y_test, y_predict))"
   ]
  },
  {
   "cell_type": "code",
   "execution_count": null,
   "metadata": {},
   "outputs": [],
   "source": []
  }
 ],
 "metadata": {
  "kernelspec": {
   "display_name": "Python 3",
   "language": "python",
   "name": "python3"
  },
  "language_info": {
   "codemirror_mode": {
    "name": "ipython",
    "version": 3
   },
   "file_extension": ".py",
   "mimetype": "text/x-python",
   "name": "python",
   "nbconvert_exporter": "python",
   "pygments_lexer": "ipython3",
   "version": "3.7.9"
  }
 },
 "nbformat": 4,
 "nbformat_minor": 2
}
